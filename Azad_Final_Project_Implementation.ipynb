{
  "cells": [
    {
      "cell_type": "markdown",
      "metadata": {
        "id": "view-in-github",
        "colab_type": "text"
      },
      "source": [
        "<a href=\"https://colab.research.google.com/github/AzadSing/AniketTheGreat.github.io/blob/main/Azad_Final_Project_Implementation.ipynb\" target=\"_parent\"><img src=\"https://colab.research.google.com/assets/colab-badge.svg\" alt=\"Open In Colab\"/></a>"
      ]
    },
    {
      "cell_type": "code",
      "execution_count": null,
      "metadata": {
        "id": "0nilyeJKq7F1"
      },
      "outputs": [],
      "source": [
        "import hashlib\n",
        "import random\n",
        "import string\n",
        "import json\n",
        "import binascii\n",
        "import numpy as np \n",
        "import pandas as pd\n",
        "import pylab as pl\n",
        "import logging\n",
        "import datetime\n",
        "import collections"
      ]
    },
    {
      "cell_type": "code",
      "execution_count": null,
      "metadata": {
        "colab": {
          "base_uri": "https://localhost:8080/"
        },
        "id": "yILWdLgstJIS",
        "outputId": "3fe36444-016c-4510-cf87-71262d745ce1"
      },
      "outputs": [
        {
          "name": "stdout",
          "output_type": "stream",
          "text": [
            "Requirement already satisfied: Crypto in /usr/local/lib/python3.7/dist-packages (1.4.1)\n",
            "Requirement already satisfied: shellescape in /usr/local/lib/python3.7/dist-packages (from Crypto) (3.8.1)\n",
            "Requirement already satisfied: Naked in /usr/local/lib/python3.7/dist-packages (from Crypto) (0.1.31)\n",
            "Requirement already satisfied: requests in /usr/local/lib/python3.7/dist-packages (from Naked->Crypto) (2.23.0)\n",
            "Requirement already satisfied: pyyaml in /usr/local/lib/python3.7/dist-packages (from Naked->Crypto) (3.13)\n",
            "Requirement already satisfied: chardet<4,>=3.0.2 in /usr/local/lib/python3.7/dist-packages (from requests->Naked->Crypto) (3.0.4)\n",
            "Requirement already satisfied: certifi>=2017.4.17 in /usr/local/lib/python3.7/dist-packages (from requests->Naked->Crypto) (2021.5.30)\n",
            "Requirement already satisfied: urllib3!=1.25.0,!=1.25.1,<1.26,>=1.21.1 in /usr/local/lib/python3.7/dist-packages (from requests->Naked->Crypto) (1.24.3)\n",
            "Requirement already satisfied: idna<3,>=2.5 in /usr/local/lib/python3.7/dist-packages (from requests->Naked->Crypto) (2.10)\n",
            "Requirement already satisfied: crypto in /usr/local/lib/python3.7/dist-packages (1.4.1)\n",
            "Requirement already satisfied: shellescape in /usr/local/lib/python3.7/dist-packages (from crypto) (3.8.1)\n",
            "Requirement already satisfied: Naked in /usr/local/lib/python3.7/dist-packages (from crypto) (0.1.31)\n",
            "Requirement already satisfied: pyyaml in /usr/local/lib/python3.7/dist-packages (from Naked->crypto) (3.13)\n",
            "Requirement already satisfied: requests in /usr/local/lib/python3.7/dist-packages (from Naked->crypto) (2.23.0)\n",
            "Requirement already satisfied: idna<3,>=2.5 in /usr/local/lib/python3.7/dist-packages (from requests->Naked->crypto) (2.10)\n",
            "Requirement already satisfied: chardet<4,>=3.0.2 in /usr/local/lib/python3.7/dist-packages (from requests->Naked->crypto) (3.0.4)\n",
            "Requirement already satisfied: urllib3!=1.25.0,!=1.25.1,<1.26,>=1.21.1 in /usr/local/lib/python3.7/dist-packages (from requests->Naked->crypto) (1.24.3)\n",
            "Requirement already satisfied: certifi>=2017.4.17 in /usr/local/lib/python3.7/dist-packages (from requests->Naked->crypto) (2021.5.30)\n",
            "Requirement already satisfied: pycrypto in /usr/local/lib/python3.7/dist-packages (2.6.1)\n"
          ]
        }
      ],
      "source": [
        "!pip install Crypto\n",
        "!pip install crypto\n",
        "!pip install pycrypto"
      ]
    },
    {
      "cell_type": "markdown",
      "metadata": {
        "id": "gX-GVyevJgdi"
      },
      "source": [
        "# New Section"
      ]
    },
    {
      "cell_type": "code",
      "execution_count": null,
      "metadata": {
        "colab": {
          "base_uri": "https://localhost:8080/"
        },
        "id": "p5LVVNKL8lA4",
        "outputId": "105b642a-a3cf-4ada-e087-5c5e244d28fd"
      },
      "outputs": [
        {
          "name": "stdout",
          "output_type": "stream",
          "text": [
            "Requirement already satisfied: ecpy in /usr/local/lib/python3.7/dist-packages (1.2.5)\n"
          ]
        }
      ],
      "source": [
        "!pip install ecpy"
      ]
    },
    {
      "cell_type": "code",
      "execution_count": null,
      "metadata": {
        "id": "WIr9GnEysjWK"
      },
      "outputs": [],
      "source": [
        "import Crypto\n",
        "import Crypto.Random\n",
        "\n",
        "from Crypto.Hash import SHA\n",
        "from Crypto.PublicKey import RSA\n",
        "from Crypto.Signature import PKCS1_v1_5\n",
        "from ecpy.curves import Curve\n",
        "from ecpy.keys import ECPrivateKey\n",
        "from ecpy.ecdsa      import ECDSA\n",
        "import secrets, binascii\n"
      ]
    },
    {
      "cell_type": "code",
      "execution_count": null,
      "metadata": {
        "id": "Q36-jC_gs3x8"
      },
      "outputs": [],
      "source": [
        "\n",
        "class Client:\n",
        "    def __init__(self):\n",
        "      random = Crypto.Random.new().read\n",
        "      self._private_key = RSA.generate(1024, random)\n",
        "      self._public_key = self._private_key.publickey()\n",
        "      self._signer = PKCS1_v1_5.new(self._private_key)\n",
        "\n",
        "    @property\n",
        "    def identity(self):\n",
        "      return binascii.hexlify(self._public_key.exportKey(format='DER')).decode('ascii')\n",
        "    \n"
      ]
    },
    {
      "cell_type": "code",
      "execution_count": null,
      "metadata": {
        "id": "xkKlW1m-KfKA"
      },
      "outputs": [],
      "source": [
        "## Extended Euclidean Algo for Integers\n",
        "from fractions import Fraction as frac\n",
        "from operator import add\n",
        "from operator import neg\n",
        "from operator import mod\n",
        "\n",
        "\n",
        "#Necessary Helper functions for NTRU\n",
        "\n",
        "\n",
        "\n",
        "def modPoly(c,k):\n",
        "  if(k==0):\n",
        "    print(\"Error in modPoly(c,k). Integer k must be non-zero\")\n",
        "  else:\n",
        "    return [fracMod(x,k) for x in c]\n",
        "\n",
        "def subPoly(c1,c2):\n",
        "  [c1,c2]=resize(c1,c2) \n",
        "  c2=list(map(neg,c2))\n",
        "  out=list(map(add, c1, c2))\n",
        "  return trim(out)\n",
        "\n",
        "def multPoly(c1,c2):\n",
        "  order=(len(c1)-1+len(c2)-1)\n",
        "  out=[0]*(order+1)\n",
        "  for i in range(0,len(c1)):\n",
        "    for j in range(0,len(c2)):\n",
        "      out[j+i]=out[j+i]+c1[i]*c2[j]\n",
        "  return trim(out)\n",
        "\n",
        "def resize(c1,c2):\n",
        "  if(len(c1)>len(c2)):\n",
        "      c2=c2+[0]*(len(c1)-len(c2))\n",
        "  if(len(c1)<len(c2)):\n",
        "      c1=c1+[0]*(len(c2)-len(c1))\n",
        "  return [c1,c2]\n",
        "\n",
        "def trim(seq):\n",
        "  if len(seq) == 0:\n",
        "      return seq\n",
        "  else:\n",
        "      for i in range(len(seq) - 1, -1, -1):\n",
        "          if seq[i] != 0:\n",
        "              break\n",
        "  return seq[0:i+1]\n",
        "\n",
        "def extEuclidPoly(a,b):\n",
        "  switch = False\n",
        "  a=trim(a)\n",
        "  b=trim(b)\n",
        "  if len(a)>=len(b):\n",
        "    a1, b1 = a, b\n",
        "  else:\n",
        "    a1, b1 = b, a\n",
        "    switch = True\n",
        "  Q,R=[],[]\n",
        "  while b1 != [0]:\n",
        "    [q,r]=divPoly(a1,b1)\n",
        "    Q.append(q)\n",
        "    R.append(r)\n",
        "    a1=b1\n",
        "    b1=r\n",
        "  S=[0]*(len(Q)+2)\n",
        "  T=[0]*(len(Q)+2)\n",
        "\n",
        "  S[0],S[1],T[0],T[1] = [1],[0],[0],[1]\n",
        "\n",
        "  for x in range(2, len(S)):\n",
        "    S[x]=subPoly(S[x-2],multPoly(Q[x-2],S[x-1]))\n",
        "    T[x]=subPoly(T[x-2],multPoly(Q[x-2],T[x-1]))\n",
        "\n",
        "  gcdVal=R[len(R)-2]\n",
        "  s_out=S[len(S)-2]\n",
        "  t_out=T[len(T)-2]\n",
        "    ### ADDITIONAL STEPS TO SCALE GCD SUCH THAT LEADING TERM AS COEF OF 1:\n",
        "  scaleFactor=gcdVal[len(gcdVal)-1]\n",
        "  gcdVal=[x/scaleFactor for x in gcdVal]\n",
        "  s_out=[x/scaleFactor for x in s_out]\n",
        "  t_out=[x/scaleFactor for x in t_out]\n",
        "    \n",
        "  if switch:\n",
        "    return [gcdVal,t_out,s_out]\n",
        "  else:\n",
        "    return [gcdVal,s_out,t_out]\n",
        "\n",
        "def divPoly(N,D):\n",
        "    N, D = list(map(frac,trim(N))), list(map(frac,trim(D)))\n",
        "    degN, degD = len(N)-1, len(D)-1\n",
        "    if(degN>=degD):\n",
        "        q=[0]*(degN-degD+1)\n",
        "        while(degN>=degD and N!=[0]):\n",
        "            d=list(D)\n",
        "            [d.insert(0,frac(0,1)) for i in range(degN-degD)]\n",
        "            q[degN-degD]=N[degN]/d[len(d)-1]\n",
        "            d=[x*q[degN-degD] for x in d]\n",
        "            N=subPoly(N,d)\n",
        "            degN=len(N)-1\n",
        "        r=N \n",
        "    else:\n",
        "        q=[0]\n",
        "        r=N\n",
        "    return [trim(q),trim(r)]\n",
        "\n",
        "def addPoly(c1,c2):\n",
        "    [c1,c2]=resize(c1,c2)\n",
        "    out=list(map(add, c1, c2))\n",
        "    return trim(out)\n",
        "\n",
        "def cenPoly(c,q):\n",
        "    u=float(q)/float(2)\n",
        "    l=-u\n",
        "    c=modPoly(c,q)\n",
        "    c=[mod(x,-q) if x>u else x for x in c]\n",
        "    c=[mod(x,q) if x<=l else x for x in c]\n",
        "    return c\n",
        "\n",
        "def reModulo(num,div,modby):\n",
        "    [_,remain]=divPoly(num,div)\n",
        "    return modPoly(remain,modby)\n",
        "\n",
        "def egcd(a, b):\n",
        "    x,y, u,v = 0,1, 1,0\n",
        "    while a != 0:\n",
        "        q, r = b//a, b % a\n",
        "        m, n = x-u * q, y-v * q\n",
        "        b,a, x,y, u,v = a,r, u,v, m,n\n",
        "    gcdVal = b\n",
        "    return gcdVal, x, y\n",
        "\n",
        "\n",
        "#Modular inverse\n",
        "#An application of extended GCD algorithm to finding modular inverses:\n",
        "def modinv(a, m):\n",
        "    gcdVal, x, y = egcd(a, m)\n",
        "    if gcdVal != 1:\n",
        "        return None  # modular inverse does not exist\n",
        "    else:\n",
        "        return x % m\n",
        "\n",
        "#Modulus Function which handles Fractions aswell\n",
        "def fracMod(f,m):\n",
        "    [tmp,t1,t2]=egcd(f.denominator,m)\n",
        "    if tmp!=1:\n",
        "        print (\"ERROR GCD of denominator and m is not 1\")\n",
        "        1/0\n",
        "    else:\n",
        "        out=modinv(f.denominator,m)*f.numerator % m\n",
        "        return out"
      ]
    },
    {
      "cell_type": "code",
      "execution_count": null,
      "metadata": {
        "colab": {
          "base_uri": "https://localhost:8080/"
        },
        "id": "hl2OO6YpLrT3",
        "outputId": "7b6f9eac-c931-4a58-db72-8fe045b031ce"
      },
      "outputs": [
        {
          "name": "stdout",
          "output_type": "stream",
          "text": [
            "==== Bob generates public key =====\n",
            "Values used:\n",
            " N= 11\n",
            " p= 3\n",
            " q= 32\n",
            "========\n",
            "\n",
            "Bob picks two polynomials (g and f):\n",
            "f(x)=  [-1, 1, 1, 0, -1, 0, 1, 0, 0, 1, -1]\n",
            "g(x)=  [-1, 0, 1, 1, 0, 1, 0, 0, -1, 0, -1]\n",
            "\n",
            "====Now we determine F_p and F_q ===\n",
            "F_p: [1, 2, 0, 2, 2, 1, 0, 2, 1, 2, 0]\n",
            "F_q: [5, 9, 6, 16, 4, 15, 16, 22, 20, 18, 30]\n",
            "\n",
            "====And finally h====\n",
            "f_q x g:  [-5, -9, -1, -2, 11, 12, 13, 3, 22, 15, 16, 29, 60, 19, -2, -7, -36, -40, -50, -18, -30]\n",
            "H (Bob's Public Key):  [24, 19, 18, 28, 4, 8, 5, 17, 4, 17, 16]\n"
          ]
        }
      ],
      "source": [
        "##NTRU operations\n",
        "N=11\n",
        "p=3\n",
        "q=32\n",
        "\n",
        "f=[-1,1,1,0,-1,0,1,0,0,1,-1]\n",
        "g=[-1,0,1,1,0,1,0,0,-1,0,-1]\n",
        "\n",
        "\n",
        "print(\"==== Bob generates public key =====\")\n",
        "print(\"Values used:\")\n",
        "print(\" N=\",N)\n",
        "print(\" p=\",p)\n",
        "print(\" q=\",q)\n",
        "print(\"========\")\n",
        "print(\"\\nBob picks two polynomials (g and f):\")\n",
        "\n",
        "\n",
        "#f=[-1,0,1,1,-1,0,-1]\n",
        "#g=[0,-1,-1,0,1,0,1]\n",
        "\n",
        "\n",
        "print(\"f(x)= \",f)\n",
        "print(\"g(x)= \",g)\n",
        "\n",
        "\n",
        "\n",
        "D=[0]*(N+1)\n",
        "D[0]=-1\n",
        "D[N]=1\n",
        "\n",
        "\n",
        "print(\"\\n====Now we determine F_p and F_q ===\")\n",
        "[gcd_f,s_f,t_f]=extEuclidPoly(f,D)\n",
        "\n",
        "f_p=modPoly(s_f,p)\n",
        "f_q=modPoly(s_f,q)\n",
        "print(\"F_p:\",f_p)\n",
        "print(\"F_q:\",f_q)\n",
        "\n",
        "x=multPoly(f_q,g)\n",
        "h=reModulo(x,D,q)\n",
        "\n",
        "print(\"\\n====And finally h====\")\n",
        "print(\"f_q x g: \",x)\n",
        "print(\"H (Bob's Public Key): \",h)\n",
        "\n"
      ]
    },
    {
      "cell_type": "code",
      "execution_count": null,
      "metadata": {
        "colab": {
          "base_uri": "https://localhost:8080/"
        },
        "id": "8ojQpH2jMen7",
        "outputId": "134f1b5d-0396-4c25-8ca7-c3949b7d0b19"
      },
      "outputs": [
        {
          "name": "stdout",
          "output_type": "stream",
          "text": [
            "\n",
            "====Let's encrypt====\n",
            "Random:\t\t\t [-1, -1, 1, 1]\n",
            " Enter the message to be Encrypted  \n",
            "nitw\n",
            "Original message is: \t  [[0, 1, 1, 1, 0, 1, 1], [1, 0, 0, 1, 0, 1, 1], [0, 0, 1, 0, 1, 1, 1], [1, 1, 1, 0, 1, 1, 1]]\n",
            "Encrypted message:\t [[7, 3, 10, 24, 15, 7, 26, 2, 8, 3, 28], [8, 2, 9, 24, 15, 7, 26, 2, 8, 3, 28], [7, 2, 10, 23, 16, 7, 26, 2, 8, 3, 28], [8, 3, 10, 23, 16, 7, 26, 2, 8, 3, 28]]\n",
            "\n",
            "====Let's decrypt====\n",
            "Decrypted message:\t [[0, 1, 1, 1, 0, 1, 1, 0, 0, 0, 0], [1, 0, 0, 1, 0, 1, 1, 0, 0, 0, 0], [0, 0, 1, 0, 1, 1, 1, 0, 0, 0, 0], [1, 1, 1, 0, 1, 1, 1, 0, 0, 0]]\n",
            "Decrypted String:\t nitw\n"
          ]
        }
      ],
      "source": [
        "##NTRU Encryption and Decryption\n",
        "\n",
        "\n",
        "print(\"\\n====Let's encrypt====\")\n",
        "#msg=[1,0,1,0,1,1,1]\n",
        "randPol=[-1,-1,1,1]\n",
        "\n",
        "#print(\"Alice's Message:\\t\",msg)\n",
        "print(\"Random:\\t\\t\\t\",randPol)\n",
        "#####################################################################\n",
        "\n",
        "print(\" Enter the message to be Encrypted  \")\n",
        "data = input()\n",
        "\n",
        "\n",
        "def NTRUEncryption(data, h, N, p, q, D):\n",
        "  plaintext = []\n",
        "  ciphertext = []\n",
        "\n",
        "  for i in data:\n",
        "    element = (format(ord(i),'b'))\n",
        "    element = element[::-1]\n",
        "    res = [int(x) for x in str(element)]\n",
        "    plaintext.append(res)\n",
        "    e_tilda=addPoly(multPoly(multPoly([p],randPol),h),res)\n",
        "    e = reModulo(e_tilda,D,q)\n",
        "    ciphertext.append(e)\n",
        "  print(\"Original message is: \\t \",plaintext)\n",
        "  return ciphertext\n",
        "\n",
        "ciphertext = NTRUEncryption(data, h, N, p, q, D)\n",
        "\n",
        "\n",
        "print(\"Encrypted message:\\t\",ciphertext)\n",
        "\n",
        "\n",
        "\n",
        "######################################################################\n",
        "print(\"\\n====Let's decrypt====\")\n",
        "\n",
        "recovered = []\n",
        "\n",
        "def convertToBinary(l):\n",
        "  l = [str(i) for i in l]\n",
        "  binaryString = \"\"\n",
        "  for i in l:\n",
        "    binaryString += i\n",
        "  return int(binaryString, 2)\n",
        "\n",
        "def removeZeroes(l):\n",
        "  for i in range(len(l)):\n",
        "    if l[i] != 0:\n",
        "      l = l[i:]\n",
        "      break\n",
        "  return l\n",
        "\n",
        "\n",
        "def NTRUDecryption(ciphertext, f, f_p, N, p, q, D):\n",
        "  decrypted_msg = ''\n",
        "  for e in ciphertext:\n",
        "    tmp=reModulo(multPoly(f,e),D,q)\n",
        "    centered=cenPoly(tmp,q)\n",
        "    m1=multPoly(f_p,centered)\n",
        "    tmp=reModulo(m1,D,p)\n",
        "    recovered.append(tmp)\n",
        "    tmp= tmp[::-1]\n",
        "    decrypted_msg += chr(convertToBinary(removeZeroes(tmp)))\n",
        "  print(\"Decrypted message:\\t\",recovered)\n",
        "  return decrypted_msg\n",
        "\t\n",
        "\n",
        "    \n",
        "\n",
        "\n",
        "print(\"Decrypted String:\\t\", NTRUDecryption(ciphertext, f, f_p, N, p, q, D))"
      ]
    },
    {
      "cell_type": "code",
      "execution_count": null,
      "metadata": {
        "id": "odwzFbFEO3zy"
      },
      "outputs": [],
      "source": [
        "class ClientNTRU:\n",
        "  def __init__(self):\n",
        "    N=11\n",
        "    p=3\n",
        "    q=32\n",
        "    f=[-1,1,1,0,-1,0,1,0,0,1,-1]\n",
        "    g=[-1,0,1,1,0,1,0,0,-1,0,-1]\n",
        "    D=[0]*(N+1)\n",
        "    D[0]=-1\n",
        "    D[N]=1\n",
        "    [gcd_f,s_f,t_f]=extEuclidPoly(f,D)\n",
        "    f_p=modPoly(s_f,p)\n",
        "    f_q=modPoly(s_f,q)\n",
        "    self._public_key = (f, f_p, N, p, q, D)\n",
        "    x=multPoly(f_q,g)\n",
        "    h=reModulo(x,D,q)\n",
        "    self._private_key = (h, N, p, q, D)\n",
        "\n",
        "  @property\n",
        "  def identity(self):\n",
        "    return self._public_key\n",
        "  \n",
        "      "
      ]
    },
    {
      "cell_type": "code",
      "execution_count": null,
      "metadata": {
        "id": "ZE8VTZdC7bQ0"
      },
      "outputs": [],
      "source": [
        "class ClientECDSA:\n",
        "    def __init__(self):\n",
        "      curve = Curve.get_curve('secp256k1')\n",
        "      signer = ECDSA()\n",
        "      self._private_key = ECPrivateKey(secrets.randbits(32*8), curve)\n",
        "      self._public_key = self._private_key.get_public_key()\n",
        "\n",
        "    @property\n",
        "    def identity(self):\n",
        "      return binascii.hexlify((hex(self._public_key.W.x) + hex(self._public_key.W.y)).encode()).decode('ascii')"
      ]
    },
    {
      "cell_type": "code",
      "execution_count": null,
      "metadata": {
        "colab": {
          "base_uri": "https://localhost:8080/"
        },
        "id": "0qBRt3M-wqsl",
        "outputId": "44c3a3b6-6e46-4814-d6b1-ed73e1bf1508"
      },
      "outputs": [
        {
          "name": "stdout",
          "output_type": "stream",
          "text": [
            "Using RSA CryptoSystem\n",
            "shiv's public key is : 30819f300d06092a864886f70d010101050003818d0030818902818100efb7b5eebfd3071da29b6f64d93239153be56a70d8f4749004f762e052042ae712a43db98a8a3e6a07149afb1d917618f7c091b40113c4a99b6705bfc6070101e533c6e3d574ac1c36b6103caa7b8739c2ae58e67a1c2beddf72a1b73bb0616ca3f87ddba495ef0c9bc3b842ff3f835f139cee81305323a81f439f90e88a3b910203010001\n",
            "vishnu's public key is : 30819f300d06092a864886f70d010101050003818d0030818902818100ac8dc6df693765d63d16f88e17d9f778e4810357ae242e119246ae56f199dc0a661a98b3ef48dd48cd13897f3b8e0bf1509addce97b20aa550417454b2b206b823b92cbc7ed5bda7caad0802fb669c95d39971357732a31c56e1a0814eec8f2146b2728d788fcd569a45c1894a17e901e9597aab2ca038de0504ae2f9002fc830203010001\n",
            "Using ECC Cryptosystem\n",
            "Ravi's public key is : 307863393034386461333866346561666132333038656531353636643838633561636235623834613736353431353134633137663033376463346535653037333865307863393663313138376662386162646464333562636439336539643731626130353964366434663265663131663433323032616434656365383561316138623661\n",
            "Azad's public key is : 307866323030653565306534336435376639653736336334333266383566373933633463343330616464333265363334316338303661376533386566613132626461307864316531333462356136643836336533613535663230356366356135666239613466663337616162666330303139643664326466383131643662346332653331\n",
            "Using NTRU Cryptosystem\n",
            "Ram's public key is : ([-1, 1, 1, 0, -1, 0, 1, 0, 0, 1, -1], [1, 2, 0, 2, 2, 1, 0, 2, 1, 2, 0], 11, 3, 32, [-1, 0, 0, 0, 0, 0, 0, 0, 0, 0, 0, 1])\n",
            "Shyam's public key is : ([-1, 1, 1, 0, -1, 0, 1, 0, 0, 1, -1], [1, 2, 0, 2, 2, 1, 0, 2, 1, 2, 0], 11, 3, 32, [-1, 0, 0, 0, 0, 0, 0, 0, 0, 0, 0, 1])\n"
          ]
        }
      ],
      "source": [
        "print(\"Using RSA CryptoSystem\")\n",
        "shiv= Client()\n",
        "vishnu= Client()\n",
        "print(\"shiv's public key is :\",shiv.identity)\n",
        "print(\"vishnu's public key is :\",vishnu.identity)\n",
        "\n",
        "print(\"Using ECC Cryptosystem\")\n",
        "Ravi = ClientECDSA()\n",
        "Azad = ClientECDSA()\n",
        "print(\"Ravi's public key is :\",Ravi.identity)\n",
        "print(\"Azad's public key is :\",Azad.identity)\n",
        "\n",
        "print(\"Using NTRU Cryptosystem\")\n",
        "ram = ClientNTRU()\n",
        "shyam = ClientNTRU()\n",
        "print(\"Ram's public key is :\",ram.identity)\n",
        "print(\"Shyam's public key is :\",shyam.identity)"
      ]
    },
    {
      "cell_type": "code",
      "execution_count": null,
      "metadata": {
        "id": "tNEuDCw8xmwk"
      },
      "outputs": [],
      "source": [
        "class Transaction:\n",
        "  def __init__(self, sender, recipient, value):\n",
        "    self.sender= sender\n",
        "    self.recipient = recipient\n",
        "    self.value= value\n",
        "    self.time = datetime.datetime.now()\n",
        "  \n",
        "  def to_dict(self):\n",
        "    if self.sender == \"Genesis\":\n",
        "      identity = \"Genesis\"\n",
        "    else:\n",
        "      identity = self.sender.identity\n",
        "    \n",
        "    return collections.OrderedDict({\n",
        "        'sender' : identity,\n",
        "        'recipient' : self.recipient,\n",
        "        'value' : self.value,\n",
        "        'time' : self.time\n",
        "    })\n",
        "\n",
        "  def sign_transaction(self):\n",
        "    private_key = self.sender._private_key\n",
        "    signer = PKCS1_v1_5.new(private_key)\n",
        "    h = SHA.new(str(self.to_dict()).encode('utf8'))\n",
        "    return binascii.hexlify(signer.sign(h)).decode('ascii')\n",
        "  \n",
        "  def sign_transactionECDSA(self):\n",
        "    h = SHA.new(str(self.to_dict()).encode('utf8'))\n",
        "    # print(type(h.hexdigest()))\n",
        "    signer = ECDSA()\n",
        "    return binascii.hexlify(signer.sign(h.digest(), self.sender._private_key)).decode('ascii')\n",
        "\n",
        "  def sign_transactionNTRU(self):\n",
        "    hash = SHA.new(str(self.to_dict()).encode('utf8'))\n",
        "    private_key = self.sender._private_key\n",
        "    (h, N, p, q, D) = private_key\n",
        "    return NTRUEncryption(str(hash.digest()), h, N, p, q, D)\n",
        "\n",
        "\n",
        "\n"
      ]
    },
    {
      "cell_type": "markdown",
      "metadata": {
        "id": "cuTybx13_tLj"
      },
      "source": [
        "\n",
        "\n",
        "\n",
        "#testing the transaction class"
      ]
    },
    {
      "cell_type": "code",
      "execution_count": null,
      "metadata": {
        "colab": {
          "base_uri": "https://localhost:8080/"
        },
        "id": "WjoBRRu6_4CU",
        "outputId": "e50a8d12-25bf-4374-ee7c-3a553896376e"
      },
      "outputs": [
        {
          "name": "stdout",
          "output_type": "stream",
          "text": [
            "100 loops, best of 5: 2.92 ms per loop\n",
            "100 loops, best of 5: 5.17 ms per loop\n",
            "Original message is: \t  [[0, 1, 0, 0, 0, 1, 1], [1, 1, 1, 0, 0, 1], [0, 0, 1, 1, 1, 0, 1], [0, 0, 0, 1, 1, 1, 1], [1, 0, 0, 1, 1, 1], [1, 0, 0, 0, 1, 1], [0, 1, 1, 0, 0, 1], [0, 0, 1, 1, 1, 0, 1], [0, 0, 0, 1, 1, 1, 1], [1, 0, 0, 1, 1, 1], [1, 0, 0, 0, 1, 1], [0, 0, 1, 1, 1, 0, 1], [0, 0, 0, 1, 1, 1, 1], [0, 0, 1, 0, 0, 1, 1], [1, 0, 1, 0, 1, 1], [0, 0, 1, 1, 1, 0, 1], [0, 0, 0, 1, 1, 1, 1], [0, 1, 1, 0, 0, 1, 1], [1, 0, 0, 1, 1, 1], [1, 0, 1, 0, 1, 1, 1], [0, 1, 0, 1, 1, 1], [0, 0, 1, 1, 1, 0, 1], [0, 0, 0, 1, 1, 1, 1], [1, 0, 0, 0, 0, 1, 1], [0, 0, 1, 0, 0, 1, 1], [1, 1, 0, 1, 1, 1, 1], [0, 0, 1, 1, 1, 0, 1], [0, 0, 0, 1, 1, 1, 1], [0, 1, 1, 0, 0, 1, 1], [1, 0, 1, 0, 0, 1, 1], [0, 0, 1, 1, 1, 0, 1], [0, 0, 0, 1, 1, 1, 1], [0, 1, 1, 0, 0, 1, 1], [1, 0, 1, 0, 1, 1], [0, 0, 1, 1, 1, 0, 1], [0, 0, 0, 1, 1, 1, 1], [0, 0, 1, 0, 0, 1, 1], [1, 0, 0, 0, 0, 1, 1], [0, 0, 1, 1, 1, 0, 1], [0, 0, 0, 1, 1, 1, 1], [1, 0, 0, 0, 1, 1], [0, 0, 0, 0, 1, 1], [0, 0, 1, 1, 1, 0, 1], [0, 0, 0, 1, 1, 1, 1], [0, 1, 1, 0, 0, 1, 1], [1, 0, 0, 1, 1, 1], [0, 0, 1, 1, 1, 0, 1], [0, 0, 0, 1, 1, 1, 1], [1, 1, 0, 0, 0, 1, 1], [0, 1, 0, 0, 0, 1, 1], [0, 0, 1, 1, 1, 0, 1], [0, 0, 0, 1, 1, 1, 1], [1, 0, 1, 0, 0, 1, 1], [0, 0, 1, 0, 1, 1], [0, 1, 0, 1, 1, 1, 1], [0, 0, 1, 1, 1, 0, 1], [0, 0, 0, 1, 1, 1, 1], [1, 0, 0, 0, 0, 1, 1], [0, 1, 1, 0, 0, 1, 1], [1, 0, 1, 1, 0, 0, 1], [0, 0, 1, 1, 1, 0, 1], [0, 0, 0, 1, 1, 1, 1], [0, 1, 0, 0, 0, 1, 1], [0, 1, 1, 0, 0, 1, 1], [1, 1, 1, 0, 0, 1]]\n",
            "Original message is: \t  [[0, 1, 0, 0, 0, 1, 1], [1, 1, 1, 0, 0, 1], [0, 0, 1, 1, 1, 0, 1], [0, 0, 0, 1, 1, 1, 1], [1, 0, 0, 1, 1, 1], [1, 0, 0, 0, 1, 1], [0, 1, 1, 0, 0, 1], [0, 0, 1, 1, 1, 0, 1], [0, 0, 0, 1, 1, 1, 1], [1, 0, 0, 1, 1, 1], [1, 0, 0, 0, 1, 1], [0, 0, 1, 1, 1, 0, 1], [0, 0, 0, 1, 1, 1, 1], [0, 0, 1, 0, 0, 1, 1], [1, 0, 1, 0, 1, 1], [0, 0, 1, 1, 1, 0, 1], [0, 0, 0, 1, 1, 1, 1], [0, 1, 1, 0, 0, 1, 1], [1, 0, 0, 1, 1, 1], [1, 0, 1, 0, 1, 1, 1], [0, 1, 0, 1, 1, 1], [0, 0, 1, 1, 1, 0, 1], [0, 0, 0, 1, 1, 1, 1], [1, 0, 0, 0, 0, 1, 1], [0, 0, 1, 0, 0, 1, 1], [1, 1, 0, 1, 1, 1, 1], [0, 0, 1, 1, 1, 0, 1], [0, 0, 0, 1, 1, 1, 1], [0, 1, 1, 0, 0, 1, 1], [1, 0, 1, 0, 0, 1, 1], [0, 0, 1, 1, 1, 0, 1], [0, 0, 0, 1, 1, 1, 1], [0, 1, 1, 0, 0, 1, 1], [1, 0, 1, 0, 1, 1], [0, 0, 1, 1, 1, 0, 1], [0, 0, 0, 1, 1, 1, 1], [0, 0, 1, 0, 0, 1, 1], [1, 0, 0, 0, 0, 1, 1], [0, 0, 1, 1, 1, 0, 1], [0, 0, 0, 1, 1, 1, 1], [1, 0, 0, 0, 1, 1], [0, 0, 0, 0, 1, 1], [0, 0, 1, 1, 1, 0, 1], [0, 0, 0, 1, 1, 1, 1], [0, 1, 1, 0, 0, 1, 1], [1, 0, 0, 1, 1, 1], [0, 0, 1, 1, 1, 0, 1], [0, 0, 0, 1, 1, 1, 1], [1, 1, 0, 0, 0, 1, 1], [0, 1, 0, 0, 0, 1, 1], [0, 0, 1, 1, 1, 0, 1], [0, 0, 0, 1, 1, 1, 1], [1, 0, 1, 0, 0, 1, 1], [0, 0, 1, 0, 1, 1], [0, 1, 0, 1, 1, 1, 1], [0, 0, 1, 1, 1, 0, 1], [0, 0, 0, 1, 1, 1, 1], [1, 0, 0, 0, 0, 1, 1], [0, 1, 1, 0, 0, 1, 1], [1, 0, 1, 1, 0, 0, 1], [0, 0, 1, 1, 1, 0, 1], [0, 0, 0, 1, 1, 1, 1], [0, 1, 0, 0, 0, 1, 1], [0, 1, 1, 0, 0, 1, 1], [1, 1, 1, 0, 0, 1]]\n",
            "Original message is: \t  [[0, 1, 0, 0, 0, 1, 1], [1, 1, 1, 0, 0, 1], [0, 0, 1, 1, 1, 0, 1], [0, 0, 0, 1, 1, 1, 1], [1, 0, 0, 1, 1, 1], [1, 0, 0, 0, 1, 1], [0, 1, 1, 0, 0, 1], [0, 0, 1, 1, 1, 0, 1], [0, 0, 0, 1, 1, 1, 1], [1, 0, 0, 1, 1, 1], [1, 0, 0, 0, 1, 1], [0, 0, 1, 1, 1, 0, 1], [0, 0, 0, 1, 1, 1, 1], [0, 0, 1, 0, 0, 1, 1], [1, 0, 1, 0, 1, 1], [0, 0, 1, 1, 1, 0, 1], [0, 0, 0, 1, 1, 1, 1], [0, 1, 1, 0, 0, 1, 1], [1, 0, 0, 1, 1, 1], [1, 0, 1, 0, 1, 1, 1], [0, 1, 0, 1, 1, 1], [0, 0, 1, 1, 1, 0, 1], [0, 0, 0, 1, 1, 1, 1], [1, 0, 0, 0, 0, 1, 1], [0, 0, 1, 0, 0, 1, 1], [1, 1, 0, 1, 1, 1, 1], [0, 0, 1, 1, 1, 0, 1], [0, 0, 0, 1, 1, 1, 1], [0, 1, 1, 0, 0, 1, 1], [1, 0, 1, 0, 0, 1, 1], [0, 0, 1, 1, 1, 0, 1], [0, 0, 0, 1, 1, 1, 1], [0, 1, 1, 0, 0, 1, 1], [1, 0, 1, 0, 1, 1], [0, 0, 1, 1, 1, 0, 1], [0, 0, 0, 1, 1, 1, 1], [0, 0, 1, 0, 0, 1, 1], [1, 0, 0, 0, 0, 1, 1], [0, 0, 1, 1, 1, 0, 1], [0, 0, 0, 1, 1, 1, 1], [1, 0, 0, 0, 1, 1], [0, 0, 0, 0, 1, 1], [0, 0, 1, 1, 1, 0, 1], [0, 0, 0, 1, 1, 1, 1], [0, 1, 1, 0, 0, 1, 1], [1, 0, 0, 1, 1, 1], [0, 0, 1, 1, 1, 0, 1], [0, 0, 0, 1, 1, 1, 1], [1, 1, 0, 0, 0, 1, 1], [0, 1, 0, 0, 0, 1, 1], [0, 0, 1, 1, 1, 0, 1], [0, 0, 0, 1, 1, 1, 1], [1, 0, 1, 0, 0, 1, 1], [0, 0, 1, 0, 1, 1], [0, 1, 0, 1, 1, 1, 1], [0, 0, 1, 1, 1, 0, 1], [0, 0, 0, 1, 1, 1, 1], [1, 0, 0, 0, 0, 1, 1], [0, 1, 1, 0, 0, 1, 1], [1, 0, 1, 1, 0, 0, 1], [0, 0, 1, 1, 1, 0, 1], [0, 0, 0, 1, 1, 1, 1], [0, 1, 0, 0, 0, 1, 1], [0, 1, 1, 0, 0, 1, 1], [1, 1, 1, 0, 0, 1]]\n",
            "Original message is: \t  [[0, 1, 0, 0, 0, 1, 1], [1, 1, 1, 0, 0, 1], [0, 0, 1, 1, 1, 0, 1], [0, 0, 0, 1, 1, 1, 1], [1, 0, 0, 1, 1, 1], [1, 0, 0, 0, 1, 1], [0, 1, 1, 0, 0, 1], [0, 0, 1, 1, 1, 0, 1], [0, 0, 0, 1, 1, 1, 1], [1, 0, 0, 1, 1, 1], [1, 0, 0, 0, 1, 1], [0, 0, 1, 1, 1, 0, 1], [0, 0, 0, 1, 1, 1, 1], [0, 0, 1, 0, 0, 1, 1], [1, 0, 1, 0, 1, 1], [0, 0, 1, 1, 1, 0, 1], [0, 0, 0, 1, 1, 1, 1], [0, 1, 1, 0, 0, 1, 1], [1, 0, 0, 1, 1, 1], [1, 0, 1, 0, 1, 1, 1], [0, 1, 0, 1, 1, 1], [0, 0, 1, 1, 1, 0, 1], [0, 0, 0, 1, 1, 1, 1], [1, 0, 0, 0, 0, 1, 1], [0, 0, 1, 0, 0, 1, 1], [1, 1, 0, 1, 1, 1, 1], [0, 0, 1, 1, 1, 0, 1], [0, 0, 0, 1, 1, 1, 1], [0, 1, 1, 0, 0, 1, 1], [1, 0, 1, 0, 0, 1, 1], [0, 0, 1, 1, 1, 0, 1], [0, 0, 0, 1, 1, 1, 1], [0, 1, 1, 0, 0, 1, 1], [1, 0, 1, 0, 1, 1], [0, 0, 1, 1, 1, 0, 1], [0, 0, 0, 1, 1, 1, 1], [0, 0, 1, 0, 0, 1, 1], [1, 0, 0, 0, 0, 1, 1], [0, 0, 1, 1, 1, 0, 1], [0, 0, 0, 1, 1, 1, 1], [1, 0, 0, 0, 1, 1], [0, 0, 0, 0, 1, 1], [0, 0, 1, 1, 1, 0, 1], [0, 0, 0, 1, 1, 1, 1], [0, 1, 1, 0, 0, 1, 1], [1, 0, 0, 1, 1, 1], [0, 0, 1, 1, 1, 0, 1], [0, 0, 0, 1, 1, 1, 1], [1, 1, 0, 0, 0, 1, 1], [0, 1, 0, 0, 0, 1, 1], [0, 0, 1, 1, 1, 0, 1], [0, 0, 0, 1, 1, 1, 1], [1, 0, 1, 0, 0, 1, 1], [0, 0, 1, 0, 1, 1], [0, 1, 0, 1, 1, 1, 1], [0, 0, 1, 1, 1, 0, 1], [0, 0, 0, 1, 1, 1, 1], [1, 0, 0, 0, 0, 1, 1], [0, 1, 1, 0, 0, 1, 1], [1, 0, 1, 1, 0, 0, 1], [0, 0, 1, 1, 1, 0, 1], [0, 0, 0, 1, 1, 1, 1], [0, 1, 0, 0, 0, 1, 1], [0, 1, 1, 0, 0, 1, 1], [1, 1, 1, 0, 0, 1]]\n",
            "Original message is: \t  [[0, 1, 0, 0, 0, 1, 1], [1, 1, 1, 0, 0, 1], [0, 0, 1, 1, 1, 0, 1], [0, 0, 0, 1, 1, 1, 1], [1, 0, 0, 1, 1, 1], [1, 0, 0, 0, 1, 1], [0, 1, 1, 0, 0, 1], [0, 0, 1, 1, 1, 0, 1], [0, 0, 0, 1, 1, 1, 1], [1, 0, 0, 1, 1, 1], [1, 0, 0, 0, 1, 1], [0, 0, 1, 1, 1, 0, 1], [0, 0, 0, 1, 1, 1, 1], [0, 0, 1, 0, 0, 1, 1], [1, 0, 1, 0, 1, 1], [0, 0, 1, 1, 1, 0, 1], [0, 0, 0, 1, 1, 1, 1], [0, 1, 1, 0, 0, 1, 1], [1, 0, 0, 1, 1, 1], [1, 0, 1, 0, 1, 1, 1], [0, 1, 0, 1, 1, 1], [0, 0, 1, 1, 1, 0, 1], [0, 0, 0, 1, 1, 1, 1], [1, 0, 0, 0, 0, 1, 1], [0, 0, 1, 0, 0, 1, 1], [1, 1, 0, 1, 1, 1, 1], [0, 0, 1, 1, 1, 0, 1], [0, 0, 0, 1, 1, 1, 1], [0, 1, 1, 0, 0, 1, 1], [1, 0, 1, 0, 0, 1, 1], [0, 0, 1, 1, 1, 0, 1], [0, 0, 0, 1, 1, 1, 1], [0, 1, 1, 0, 0, 1, 1], [1, 0, 1, 0, 1, 1], [0, 0, 1, 1, 1, 0, 1], [0, 0, 0, 1, 1, 1, 1], [0, 0, 1, 0, 0, 1, 1], [1, 0, 0, 0, 0, 1, 1], [0, 0, 1, 1, 1, 0, 1], [0, 0, 0, 1, 1, 1, 1], [1, 0, 0, 0, 1, 1], [0, 0, 0, 0, 1, 1], [0, 0, 1, 1, 1, 0, 1], [0, 0, 0, 1, 1, 1, 1], [0, 1, 1, 0, 0, 1, 1], [1, 0, 0, 1, 1, 1], [0, 0, 1, 1, 1, 0, 1], [0, 0, 0, 1, 1, 1, 1], [1, 1, 0, 0, 0, 1, 1], [0, 1, 0, 0, 0, 1, 1], [0, 0, 1, 1, 1, 0, 1], [0, 0, 0, 1, 1, 1, 1], [1, 0, 1, 0, 0, 1, 1], [0, 0, 1, 0, 1, 1], [0, 1, 0, 1, 1, 1, 1], [0, 0, 1, 1, 1, 0, 1], [0, 0, 0, 1, 1, 1, 1], [1, 0, 0, 0, 0, 1, 1], [0, 1, 1, 0, 0, 1, 1], [1, 0, 1, 1, 0, 0, 1], [0, 0, 1, 1, 1, 0, 1], [0, 0, 0, 1, 1, 1, 1], [0, 1, 0, 0, 0, 1, 1], [0, 1, 1, 0, 0, 1, 1], [1, 1, 1, 0, 0, 1]]\n",
            "Original message is: \t  [[0, 1, 0, 0, 0, 1, 1], [1, 1, 1, 0, 0, 1], [0, 0, 1, 1, 1, 0, 1], [0, 0, 0, 1, 1, 1, 1], [1, 0, 0, 1, 1, 1], [1, 0, 0, 0, 1, 1], [0, 1, 1, 0, 0, 1], [0, 0, 1, 1, 1, 0, 1], [0, 0, 0, 1, 1, 1, 1], [1, 0, 0, 1, 1, 1], [1, 0, 0, 0, 1, 1], [0, 0, 1, 1, 1, 0, 1], [0, 0, 0, 1, 1, 1, 1], [0, 0, 1, 0, 0, 1, 1], [1, 0, 1, 0, 1, 1], [0, 0, 1, 1, 1, 0, 1], [0, 0, 0, 1, 1, 1, 1], [0, 1, 1, 0, 0, 1, 1], [1, 0, 0, 1, 1, 1], [1, 0, 1, 0, 1, 1, 1], [0, 1, 0, 1, 1, 1], [0, 0, 1, 1, 1, 0, 1], [0, 0, 0, 1, 1, 1, 1], [1, 0, 0, 0, 0, 1, 1], [0, 0, 1, 0, 0, 1, 1], [1, 1, 0, 1, 1, 1, 1], [0, 0, 1, 1, 1, 0, 1], [0, 0, 0, 1, 1, 1, 1], [0, 1, 1, 0, 0, 1, 1], [1, 0, 1, 0, 0, 1, 1], [0, 0, 1, 1, 1, 0, 1], [0, 0, 0, 1, 1, 1, 1], [0, 1, 1, 0, 0, 1, 1], [1, 0, 1, 0, 1, 1], [0, 0, 1, 1, 1, 0, 1], [0, 0, 0, 1, 1, 1, 1], [0, 0, 1, 0, 0, 1, 1], [1, 0, 0, 0, 0, 1, 1], [0, 0, 1, 1, 1, 0, 1], [0, 0, 0, 1, 1, 1, 1], [1, 0, 0, 0, 1, 1], [0, 0, 0, 0, 1, 1], [0, 0, 1, 1, 1, 0, 1], [0, 0, 0, 1, 1, 1, 1], [0, 1, 1, 0, 0, 1, 1], [1, 0, 0, 1, 1, 1], [0, 0, 1, 1, 1, 0, 1], [0, 0, 0, 1, 1, 1, 1], [1, 1, 0, 0, 0, 1, 1], [0, 1, 0, 0, 0, 1, 1], [0, 0, 1, 1, 1, 0, 1], [0, 0, 0, 1, 1, 1, 1], [1, 0, 1, 0, 0, 1, 1], [0, 0, 1, 0, 1, 1], [0, 1, 0, 1, 1, 1, 1], [0, 0, 1, 1, 1, 0, 1], [0, 0, 0, 1, 1, 1, 1], [1, 0, 0, 0, 0, 1, 1], [0, 1, 1, 0, 0, 1, 1], [1, 0, 1, 1, 0, 0, 1], [0, 0, 1, 1, 1, 0, 1], [0, 0, 0, 1, 1, 1, 1], [0, 1, 0, 0, 0, 1, 1], [0, 1, 1, 0, 0, 1, 1], [1, 1, 1, 0, 0, 1]]\n",
            "Original message is: \t  [[0, 1, 0, 0, 0, 1, 1], [1, 1, 1, 0, 0, 1], [0, 0, 1, 1, 1, 0, 1], [0, 0, 0, 1, 1, 1, 1], [1, 0, 0, 1, 1, 1], [1, 0, 0, 0, 1, 1], [0, 1, 1, 0, 0, 1], [0, 0, 1, 1, 1, 0, 1], [0, 0, 0, 1, 1, 1, 1], [1, 0, 0, 1, 1, 1], [1, 0, 0, 0, 1, 1], [0, 0, 1, 1, 1, 0, 1], [0, 0, 0, 1, 1, 1, 1], [0, 0, 1, 0, 0, 1, 1], [1, 0, 1, 0, 1, 1], [0, 0, 1, 1, 1, 0, 1], [0, 0, 0, 1, 1, 1, 1], [0, 1, 1, 0, 0, 1, 1], [1, 0, 0, 1, 1, 1], [1, 0, 1, 0, 1, 1, 1], [0, 1, 0, 1, 1, 1], [0, 0, 1, 1, 1, 0, 1], [0, 0, 0, 1, 1, 1, 1], [1, 0, 0, 0, 0, 1, 1], [0, 0, 1, 0, 0, 1, 1], [1, 1, 0, 1, 1, 1, 1], [0, 0, 1, 1, 1, 0, 1], [0, 0, 0, 1, 1, 1, 1], [0, 1, 1, 0, 0, 1, 1], [1, 0, 1, 0, 0, 1, 1], [0, 0, 1, 1, 1, 0, 1], [0, 0, 0, 1, 1, 1, 1], [0, 1, 1, 0, 0, 1, 1], [1, 0, 1, 0, 1, 1], [0, 0, 1, 1, 1, 0, 1], [0, 0, 0, 1, 1, 1, 1], [0, 0, 1, 0, 0, 1, 1], [1, 0, 0, 0, 0, 1, 1], [0, 0, 1, 1, 1, 0, 1], [0, 0, 0, 1, 1, 1, 1], [1, 0, 0, 0, 1, 1], [0, 0, 0, 0, 1, 1], [0, 0, 1, 1, 1, 0, 1], [0, 0, 0, 1, 1, 1, 1], [0, 1, 1, 0, 0, 1, 1], [1, 0, 0, 1, 1, 1], [0, 0, 1, 1, 1, 0, 1], [0, 0, 0, 1, 1, 1, 1], [1, 1, 0, 0, 0, 1, 1], [0, 1, 0, 0, 0, 1, 1], [0, 0, 1, 1, 1, 0, 1], [0, 0, 0, 1, 1, 1, 1], [1, 0, 1, 0, 0, 1, 1], [0, 0, 1, 0, 1, 1], [0, 1, 0, 1, 1, 1, 1], [0, 0, 1, 1, 1, 0, 1], [0, 0, 0, 1, 1, 1, 1], [1, 0, 0, 0, 0, 1, 1], [0, 1, 1, 0, 0, 1, 1], [1, 0, 1, 1, 0, 0, 1], [0, 0, 1, 1, 1, 0, 1], [0, 0, 0, 1, 1, 1, 1], [0, 1, 0, 0, 0, 1, 1], [0, 1, 1, 0, 0, 1, 1], [1, 1, 1, 0, 0, 1]]\n",
            "Original message is: \t  [[0, 1, 0, 0, 0, 1, 1], [1, 1, 1, 0, 0, 1], [0, 0, 1, 1, 1, 0, 1], [0, 0, 0, 1, 1, 1, 1], [1, 0, 0, 1, 1, 1], [1, 0, 0, 0, 1, 1], [0, 1, 1, 0, 0, 1], [0, 0, 1, 1, 1, 0, 1], [0, 0, 0, 1, 1, 1, 1], [1, 0, 0, 1, 1, 1], [1, 0, 0, 0, 1, 1], [0, 0, 1, 1, 1, 0, 1], [0, 0, 0, 1, 1, 1, 1], [0, 0, 1, 0, 0, 1, 1], [1, 0, 1, 0, 1, 1], [0, 0, 1, 1, 1, 0, 1], [0, 0, 0, 1, 1, 1, 1], [0, 1, 1, 0, 0, 1, 1], [1, 0, 0, 1, 1, 1], [1, 0, 1, 0, 1, 1, 1], [0, 1, 0, 1, 1, 1], [0, 0, 1, 1, 1, 0, 1], [0, 0, 0, 1, 1, 1, 1], [1, 0, 0, 0, 0, 1, 1], [0, 0, 1, 0, 0, 1, 1], [1, 1, 0, 1, 1, 1, 1], [0, 0, 1, 1, 1, 0, 1], [0, 0, 0, 1, 1, 1, 1], [0, 1, 1, 0, 0, 1, 1], [1, 0, 1, 0, 0, 1, 1], [0, 0, 1, 1, 1, 0, 1], [0, 0, 0, 1, 1, 1, 1], [0, 1, 1, 0, 0, 1, 1], [1, 0, 1, 0, 1, 1], [0, 0, 1, 1, 1, 0, 1], [0, 0, 0, 1, 1, 1, 1], [0, 0, 1, 0, 0, 1, 1], [1, 0, 0, 0, 0, 1, 1], [0, 0, 1, 1, 1, 0, 1], [0, 0, 0, 1, 1, 1, 1], [1, 0, 0, 0, 1, 1], [0, 0, 0, 0, 1, 1], [0, 0, 1, 1, 1, 0, 1], [0, 0, 0, 1, 1, 1, 1], [0, 1, 1, 0, 0, 1, 1], [1, 0, 0, 1, 1, 1], [0, 0, 1, 1, 1, 0, 1], [0, 0, 0, 1, 1, 1, 1], [1, 1, 0, 0, 0, 1, 1], [0, 1, 0, 0, 0, 1, 1], [0, 0, 1, 1, 1, 0, 1], [0, 0, 0, 1, 1, 1, 1], [1, 0, 1, 0, 0, 1, 1], [0, 0, 1, 0, 1, 1], [0, 1, 0, 1, 1, 1, 1], [0, 0, 1, 1, 1, 0, 1], [0, 0, 0, 1, 1, 1, 1], [1, 0, 0, 0, 0, 1, 1], [0, 1, 1, 0, 0, 1, 1], [1, 0, 1, 1, 0, 0, 1], [0, 0, 1, 1, 1, 0, 1], [0, 0, 0, 1, 1, 1, 1], [0, 1, 0, 0, 0, 1, 1], [0, 1, 1, 0, 0, 1, 1], [1, 1, 1, 0, 0, 1]]\n",
            "Original message is: \t  [[0, 1, 0, 0, 0, 1, 1], [1, 1, 1, 0, 0, 1], [0, 0, 1, 1, 1, 0, 1], [0, 0, 0, 1, 1, 1, 1], [1, 0, 0, 1, 1, 1], [1, 0, 0, 0, 1, 1], [0, 1, 1, 0, 0, 1], [0, 0, 1, 1, 1, 0, 1], [0, 0, 0, 1, 1, 1, 1], [1, 0, 0, 1, 1, 1], [1, 0, 0, 0, 1, 1], [0, 0, 1, 1, 1, 0, 1], [0, 0, 0, 1, 1, 1, 1], [0, 0, 1, 0, 0, 1, 1], [1, 0, 1, 0, 1, 1], [0, 0, 1, 1, 1, 0, 1], [0, 0, 0, 1, 1, 1, 1], [0, 1, 1, 0, 0, 1, 1], [1, 0, 0, 1, 1, 1], [1, 0, 1, 0, 1, 1, 1], [0, 1, 0, 1, 1, 1], [0, 0, 1, 1, 1, 0, 1], [0, 0, 0, 1, 1, 1, 1], [1, 0, 0, 0, 0, 1, 1], [0, 0, 1, 0, 0, 1, 1], [1, 1, 0, 1, 1, 1, 1], [0, 0, 1, 1, 1, 0, 1], [0, 0, 0, 1, 1, 1, 1], [0, 1, 1, 0, 0, 1, 1], [1, 0, 1, 0, 0, 1, 1], [0, 0, 1, 1, 1, 0, 1], [0, 0, 0, 1, 1, 1, 1], [0, 1, 1, 0, 0, 1, 1], [1, 0, 1, 0, 1, 1], [0, 0, 1, 1, 1, 0, 1], [0, 0, 0, 1, 1, 1, 1], [0, 0, 1, 0, 0, 1, 1], [1, 0, 0, 0, 0, 1, 1], [0, 0, 1, 1, 1, 0, 1], [0, 0, 0, 1, 1, 1, 1], [1, 0, 0, 0, 1, 1], [0, 0, 0, 0, 1, 1], [0, 0, 1, 1, 1, 0, 1], [0, 0, 0, 1, 1, 1, 1], [0, 1, 1, 0, 0, 1, 1], [1, 0, 0, 1, 1, 1], [0, 0, 1, 1, 1, 0, 1], [0, 0, 0, 1, 1, 1, 1], [1, 1, 0, 0, 0, 1, 1], [0, 1, 0, 0, 0, 1, 1], [0, 0, 1, 1, 1, 0, 1], [0, 0, 0, 1, 1, 1, 1], [1, 0, 1, 0, 0, 1, 1], [0, 0, 1, 0, 1, 1], [0, 1, 0, 1, 1, 1, 1], [0, 0, 1, 1, 1, 0, 1], [0, 0, 0, 1, 1, 1, 1], [1, 0, 0, 0, 0, 1, 1], [0, 1, 1, 0, 0, 1, 1], [1, 0, 1, 1, 0, 0, 1], [0, 0, 1, 1, 1, 0, 1], [0, 0, 0, 1, 1, 1, 1], [0, 1, 0, 0, 0, 1, 1], [0, 1, 1, 0, 0, 1, 1], [1, 1, 1, 0, 0, 1]]\n",
            "Original message is: \t  [[0, 1, 0, 0, 0, 1, 1], [1, 1, 1, 0, 0, 1], [0, 0, 1, 1, 1, 0, 1], [0, 0, 0, 1, 1, 1, 1], [1, 0, 0, 1, 1, 1], [1, 0, 0, 0, 1, 1], [0, 1, 1, 0, 0, 1], [0, 0, 1, 1, 1, 0, 1], [0, 0, 0, 1, 1, 1, 1], [1, 0, 0, 1, 1, 1], [1, 0, 0, 0, 1, 1], [0, 0, 1, 1, 1, 0, 1], [0, 0, 0, 1, 1, 1, 1], [0, 0, 1, 0, 0, 1, 1], [1, 0, 1, 0, 1, 1], [0, 0, 1, 1, 1, 0, 1], [0, 0, 0, 1, 1, 1, 1], [0, 1, 1, 0, 0, 1, 1], [1, 0, 0, 1, 1, 1], [1, 0, 1, 0, 1, 1, 1], [0, 1, 0, 1, 1, 1], [0, 0, 1, 1, 1, 0, 1], [0, 0, 0, 1, 1, 1, 1], [1, 0, 0, 0, 0, 1, 1], [0, 0, 1, 0, 0, 1, 1], [1, 1, 0, 1, 1, 1, 1], [0, 0, 1, 1, 1, 0, 1], [0, 0, 0, 1, 1, 1, 1], [0, 1, 1, 0, 0, 1, 1], [1, 0, 1, 0, 0, 1, 1], [0, 0, 1, 1, 1, 0, 1], [0, 0, 0, 1, 1, 1, 1], [0, 1, 1, 0, 0, 1, 1], [1, 0, 1, 0, 1, 1], [0, 0, 1, 1, 1, 0, 1], [0, 0, 0, 1, 1, 1, 1], [0, 0, 1, 0, 0, 1, 1], [1, 0, 0, 0, 0, 1, 1], [0, 0, 1, 1, 1, 0, 1], [0, 0, 0, 1, 1, 1, 1], [1, 0, 0, 0, 1, 1], [0, 0, 0, 0, 1, 1], [0, 0, 1, 1, 1, 0, 1], [0, 0, 0, 1, 1, 1, 1], [0, 1, 1, 0, 0, 1, 1], [1, 0, 0, 1, 1, 1], [0, 0, 1, 1, 1, 0, 1], [0, 0, 0, 1, 1, 1, 1], [1, 1, 0, 0, 0, 1, 1], [0, 1, 0, 0, 0, 1, 1], [0, 0, 1, 1, 1, 0, 1], [0, 0, 0, 1, 1, 1, 1], [1, 0, 1, 0, 0, 1, 1], [0, 0, 1, 0, 1, 1], [0, 1, 0, 1, 1, 1, 1], [0, 0, 1, 1, 1, 0, 1], [0, 0, 0, 1, 1, 1, 1], [1, 0, 0, 0, 0, 1, 1], [0, 1, 1, 0, 0, 1, 1], [1, 0, 1, 1, 0, 0, 1], [0, 0, 1, 1, 1, 0, 1], [0, 0, 0, 1, 1, 1, 1], [0, 1, 0, 0, 0, 1, 1], [0, 1, 1, 0, 0, 1, 1], [1, 1, 1, 0, 0, 1]]\n",
            "Original message is: \t  [[0, 1, 0, 0, 0, 1, 1], [1, 1, 1, 0, 0, 1], [0, 0, 1, 1, 1, 0, 1], [0, 0, 0, 1, 1, 1, 1], [1, 0, 0, 1, 1, 1], [1, 0, 0, 0, 1, 1], [0, 1, 1, 0, 0, 1], [0, 0, 1, 1, 1, 0, 1], [0, 0, 0, 1, 1, 1, 1], [1, 0, 0, 1, 1, 1], [1, 0, 0, 0, 1, 1], [0, 0, 1, 1, 1, 0, 1], [0, 0, 0, 1, 1, 1, 1], [0, 0, 1, 0, 0, 1, 1], [1, 0, 1, 0, 1, 1], [0, 0, 1, 1, 1, 0, 1], [0, 0, 0, 1, 1, 1, 1], [0, 1, 1, 0, 0, 1, 1], [1, 0, 0, 1, 1, 1], [1, 0, 1, 0, 1, 1, 1], [0, 1, 0, 1, 1, 1], [0, 0, 1, 1, 1, 0, 1], [0, 0, 0, 1, 1, 1, 1], [1, 0, 0, 0, 0, 1, 1], [0, 0, 1, 0, 0, 1, 1], [1, 1, 0, 1, 1, 1, 1], [0, 0, 1, 1, 1, 0, 1], [0, 0, 0, 1, 1, 1, 1], [0, 1, 1, 0, 0, 1, 1], [1, 0, 1, 0, 0, 1, 1], [0, 0, 1, 1, 1, 0, 1], [0, 0, 0, 1, 1, 1, 1], [0, 1, 1, 0, 0, 1, 1], [1, 0, 1, 0, 1, 1], [0, 0, 1, 1, 1, 0, 1], [0, 0, 0, 1, 1, 1, 1], [0, 0, 1, 0, 0, 1, 1], [1, 0, 0, 0, 0, 1, 1], [0, 0, 1, 1, 1, 0, 1], [0, 0, 0, 1, 1, 1, 1], [1, 0, 0, 0, 1, 1], [0, 0, 0, 0, 1, 1], [0, 0, 1, 1, 1, 0, 1], [0, 0, 0, 1, 1, 1, 1], [0, 1, 1, 0, 0, 1, 1], [1, 0, 0, 1, 1, 1], [0, 0, 1, 1, 1, 0, 1], [0, 0, 0, 1, 1, 1, 1], [1, 1, 0, 0, 0, 1, 1], [0, 1, 0, 0, 0, 1, 1], [0, 0, 1, 1, 1, 0, 1], [0, 0, 0, 1, 1, 1, 1], [1, 0, 1, 0, 0, 1, 1], [0, 0, 1, 0, 1, 1], [0, 1, 0, 1, 1, 1, 1], [0, 0, 1, 1, 1, 0, 1], [0, 0, 0, 1, 1, 1, 1], [1, 0, 0, 0, 0, 1, 1], [0, 1, 1, 0, 0, 1, 1], [1, 0, 1, 1, 0, 0, 1], [0, 0, 1, 1, 1, 0, 1], [0, 0, 0, 1, 1, 1, 1], [0, 1, 0, 0, 0, 1, 1], [0, 1, 1, 0, 0, 1, 1], [1, 1, 1, 0, 0, 1]]\n",
            "Original message is: \t  [[0, 1, 0, 0, 0, 1, 1], [1, 1, 1, 0, 0, 1], [0, 0, 1, 1, 1, 0, 1], [0, 0, 0, 1, 1, 1, 1], [1, 0, 0, 1, 1, 1], [1, 0, 0, 0, 1, 1], [0, 1, 1, 0, 0, 1], [0, 0, 1, 1, 1, 0, 1], [0, 0, 0, 1, 1, 1, 1], [1, 0, 0, 1, 1, 1], [1, 0, 0, 0, 1, 1], [0, 0, 1, 1, 1, 0, 1], [0, 0, 0, 1, 1, 1, 1], [0, 0, 1, 0, 0, 1, 1], [1, 0, 1, 0, 1, 1], [0, 0, 1, 1, 1, 0, 1], [0, 0, 0, 1, 1, 1, 1], [0, 1, 1, 0, 0, 1, 1], [1, 0, 0, 1, 1, 1], [1, 0, 1, 0, 1, 1, 1], [0, 1, 0, 1, 1, 1], [0, 0, 1, 1, 1, 0, 1], [0, 0, 0, 1, 1, 1, 1], [1, 0, 0, 0, 0, 1, 1], [0, 0, 1, 0, 0, 1, 1], [1, 1, 0, 1, 1, 1, 1], [0, 0, 1, 1, 1, 0, 1], [0, 0, 0, 1, 1, 1, 1], [0, 1, 1, 0, 0, 1, 1], [1, 0, 1, 0, 0, 1, 1], [0, 0, 1, 1, 1, 0, 1], [0, 0, 0, 1, 1, 1, 1], [0, 1, 1, 0, 0, 1, 1], [1, 0, 1, 0, 1, 1], [0, 0, 1, 1, 1, 0, 1], [0, 0, 0, 1, 1, 1, 1], [0, 0, 1, 0, 0, 1, 1], [1, 0, 0, 0, 0, 1, 1], [0, 0, 1, 1, 1, 0, 1], [0, 0, 0, 1, 1, 1, 1], [1, 0, 0, 0, 1, 1], [0, 0, 0, 0, 1, 1], [0, 0, 1, 1, 1, 0, 1], [0, 0, 0, 1, 1, 1, 1], [0, 1, 1, 0, 0, 1, 1], [1, 0, 0, 1, 1, 1], [0, 0, 1, 1, 1, 0, 1], [0, 0, 0, 1, 1, 1, 1], [1, 1, 0, 0, 0, 1, 1], [0, 1, 0, 0, 0, 1, 1], [0, 0, 1, 1, 1, 0, 1], [0, 0, 0, 1, 1, 1, 1], [1, 0, 1, 0, 0, 1, 1], [0, 0, 1, 0, 1, 1], [0, 1, 0, 1, 1, 1, 1], [0, 0, 1, 1, 1, 0, 1], [0, 0, 0, 1, 1, 1, 1], [1, 0, 0, 0, 0, 1, 1], [0, 1, 1, 0, 0, 1, 1], [1, 0, 1, 1, 0, 0, 1], [0, 0, 1, 1, 1, 0, 1], [0, 0, 0, 1, 1, 1, 1], [0, 1, 0, 0, 0, 1, 1], [0, 1, 1, 0, 0, 1, 1], [1, 1, 1, 0, 0, 1]]\n",
            "Original message is: \t  [[0, 1, 0, 0, 0, 1, 1], [1, 1, 1, 0, 0, 1], [0, 0, 1, 1, 1, 0, 1], [0, 0, 0, 1, 1, 1, 1], [1, 0, 0, 1, 1, 1], [1, 0, 0, 0, 1, 1], [0, 1, 1, 0, 0, 1], [0, 0, 1, 1, 1, 0, 1], [0, 0, 0, 1, 1, 1, 1], [1, 0, 0, 1, 1, 1], [1, 0, 0, 0, 1, 1], [0, 0, 1, 1, 1, 0, 1], [0, 0, 0, 1, 1, 1, 1], [0, 0, 1, 0, 0, 1, 1], [1, 0, 1, 0, 1, 1], [0, 0, 1, 1, 1, 0, 1], [0, 0, 0, 1, 1, 1, 1], [0, 1, 1, 0, 0, 1, 1], [1, 0, 0, 1, 1, 1], [1, 0, 1, 0, 1, 1, 1], [0, 1, 0, 1, 1, 1], [0, 0, 1, 1, 1, 0, 1], [0, 0, 0, 1, 1, 1, 1], [1, 0, 0, 0, 0, 1, 1], [0, 0, 1, 0, 0, 1, 1], [1, 1, 0, 1, 1, 1, 1], [0, 0, 1, 1, 1, 0, 1], [0, 0, 0, 1, 1, 1, 1], [0, 1, 1, 0, 0, 1, 1], [1, 0, 1, 0, 0, 1, 1], [0, 0, 1, 1, 1, 0, 1], [0, 0, 0, 1, 1, 1, 1], [0, 1, 1, 0, 0, 1, 1], [1, 0, 1, 0, 1, 1], [0, 0, 1, 1, 1, 0, 1], [0, 0, 0, 1, 1, 1, 1], [0, 0, 1, 0, 0, 1, 1], [1, 0, 0, 0, 0, 1, 1], [0, 0, 1, 1, 1, 0, 1], [0, 0, 0, 1, 1, 1, 1], [1, 0, 0, 0, 1, 1], [0, 0, 0, 0, 1, 1], [0, 0, 1, 1, 1, 0, 1], [0, 0, 0, 1, 1, 1, 1], [0, 1, 1, 0, 0, 1, 1], [1, 0, 0, 1, 1, 1], [0, 0, 1, 1, 1, 0, 1], [0, 0, 0, 1, 1, 1, 1], [1, 1, 0, 0, 0, 1, 1], [0, 1, 0, 0, 0, 1, 1], [0, 0, 1, 1, 1, 0, 1], [0, 0, 0, 1, 1, 1, 1], [1, 0, 1, 0, 0, 1, 1], [0, 0, 1, 0, 1, 1], [0, 1, 0, 1, 1, 1, 1], [0, 0, 1, 1, 1, 0, 1], [0, 0, 0, 1, 1, 1, 1], [1, 0, 0, 0, 0, 1, 1], [0, 1, 1, 0, 0, 1, 1], [1, 0, 1, 1, 0, 0, 1], [0, 0, 1, 1, 1, 0, 1], [0, 0, 0, 1, 1, 1, 1], [0, 1, 0, 0, 0, 1, 1], [0, 1, 1, 0, 0, 1, 1], [1, 1, 1, 0, 0, 1]]\n",
            "Original message is: \t  [[0, 1, 0, 0, 0, 1, 1], [1, 1, 1, 0, 0, 1], [0, 0, 1, 1, 1, 0, 1], [0, 0, 0, 1, 1, 1, 1], [1, 0, 0, 1, 1, 1], [1, 0, 0, 0, 1, 1], [0, 1, 1, 0, 0, 1], [0, 0, 1, 1, 1, 0, 1], [0, 0, 0, 1, 1, 1, 1], [1, 0, 0, 1, 1, 1], [1, 0, 0, 0, 1, 1], [0, 0, 1, 1, 1, 0, 1], [0, 0, 0, 1, 1, 1, 1], [0, 0, 1, 0, 0, 1, 1], [1, 0, 1, 0, 1, 1], [0, 0, 1, 1, 1, 0, 1], [0, 0, 0, 1, 1, 1, 1], [0, 1, 1, 0, 0, 1, 1], [1, 0, 0, 1, 1, 1], [1, 0, 1, 0, 1, 1, 1], [0, 1, 0, 1, 1, 1], [0, 0, 1, 1, 1, 0, 1], [0, 0, 0, 1, 1, 1, 1], [1, 0, 0, 0, 0, 1, 1], [0, 0, 1, 0, 0, 1, 1], [1, 1, 0, 1, 1, 1, 1], [0, 0, 1, 1, 1, 0, 1], [0, 0, 0, 1, 1, 1, 1], [0, 1, 1, 0, 0, 1, 1], [1, 0, 1, 0, 0, 1, 1], [0, 0, 1, 1, 1, 0, 1], [0, 0, 0, 1, 1, 1, 1], [0, 1, 1, 0, 0, 1, 1], [1, 0, 1, 0, 1, 1], [0, 0, 1, 1, 1, 0, 1], [0, 0, 0, 1, 1, 1, 1], [0, 0, 1, 0, 0, 1, 1], [1, 0, 0, 0, 0, 1, 1], [0, 0, 1, 1, 1, 0, 1], [0, 0, 0, 1, 1, 1, 1], [1, 0, 0, 0, 1, 1], [0, 0, 0, 0, 1, 1], [0, 0, 1, 1, 1, 0, 1], [0, 0, 0, 1, 1, 1, 1], [0, 1, 1, 0, 0, 1, 1], [1, 0, 0, 1, 1, 1], [0, 0, 1, 1, 1, 0, 1], [0, 0, 0, 1, 1, 1, 1], [1, 1, 0, 0, 0, 1, 1], [0, 1, 0, 0, 0, 1, 1], [0, 0, 1, 1, 1, 0, 1], [0, 0, 0, 1, 1, 1, 1], [1, 0, 1, 0, 0, 1, 1], [0, 0, 1, 0, 1, 1], [0, 1, 0, 1, 1, 1, 1], [0, 0, 1, 1, 1, 0, 1], [0, 0, 0, 1, 1, 1, 1], [1, 0, 0, 0, 0, 1, 1], [0, 1, 1, 0, 0, 1, 1], [1, 0, 1, 1, 0, 0, 1], [0, 0, 1, 1, 1, 0, 1], [0, 0, 0, 1, 1, 1, 1], [0, 1, 0, 0, 0, 1, 1], [0, 1, 1, 0, 0, 1, 1], [1, 1, 1, 0, 0, 1]]\n",
            "Original message is: \t  [[0, 1, 0, 0, 0, 1, 1], [1, 1, 1, 0, 0, 1], [0, 0, 1, 1, 1, 0, 1], [0, 0, 0, 1, 1, 1, 1], [1, 0, 0, 1, 1, 1], [1, 0, 0, 0, 1, 1], [0, 1, 1, 0, 0, 1], [0, 0, 1, 1, 1, 0, 1], [0, 0, 0, 1, 1, 1, 1], [1, 0, 0, 1, 1, 1], [1, 0, 0, 0, 1, 1], [0, 0, 1, 1, 1, 0, 1], [0, 0, 0, 1, 1, 1, 1], [0, 0, 1, 0, 0, 1, 1], [1, 0, 1, 0, 1, 1], [0, 0, 1, 1, 1, 0, 1], [0, 0, 0, 1, 1, 1, 1], [0, 1, 1, 0, 0, 1, 1], [1, 0, 0, 1, 1, 1], [1, 0, 1, 0, 1, 1, 1], [0, 1, 0, 1, 1, 1], [0, 0, 1, 1, 1, 0, 1], [0, 0, 0, 1, 1, 1, 1], [1, 0, 0, 0, 0, 1, 1], [0, 0, 1, 0, 0, 1, 1], [1, 1, 0, 1, 1, 1, 1], [0, 0, 1, 1, 1, 0, 1], [0, 0, 0, 1, 1, 1, 1], [0, 1, 1, 0, 0, 1, 1], [1, 0, 1, 0, 0, 1, 1], [0, 0, 1, 1, 1, 0, 1], [0, 0, 0, 1, 1, 1, 1], [0, 1, 1, 0, 0, 1, 1], [1, 0, 1, 0, 1, 1], [0, 0, 1, 1, 1, 0, 1], [0, 0, 0, 1, 1, 1, 1], [0, 0, 1, 0, 0, 1, 1], [1, 0, 0, 0, 0, 1, 1], [0, 0, 1, 1, 1, 0, 1], [0, 0, 0, 1, 1, 1, 1], [1, 0, 0, 0, 1, 1], [0, 0, 0, 0, 1, 1], [0, 0, 1, 1, 1, 0, 1], [0, 0, 0, 1, 1, 1, 1], [0, 1, 1, 0, 0, 1, 1], [1, 0, 0, 1, 1, 1], [0, 0, 1, 1, 1, 0, 1], [0, 0, 0, 1, 1, 1, 1], [1, 1, 0, 0, 0, 1, 1], [0, 1, 0, 0, 0, 1, 1], [0, 0, 1, 1, 1, 0, 1], [0, 0, 0, 1, 1, 1, 1], [1, 0, 1, 0, 0, 1, 1], [0, 0, 1, 0, 1, 1], [0, 1, 0, 1, 1, 1, 1], [0, 0, 1, 1, 1, 0, 1], [0, 0, 0, 1, 1, 1, 1], [1, 0, 0, 0, 0, 1, 1], [0, 1, 1, 0, 0, 1, 1], [1, 0, 1, 1, 0, 0, 1], [0, 0, 1, 1, 1, 0, 1], [0, 0, 0, 1, 1, 1, 1], [0, 1, 0, 0, 0, 1, 1], [0, 1, 1, 0, 0, 1, 1], [1, 1, 1, 0, 0, 1]]\n",
            "Original message is: \t  [[0, 1, 0, 0, 0, 1, 1], [1, 1, 1, 0, 0, 1], [0, 0, 1, 1, 1, 0, 1], [0, 0, 0, 1, 1, 1, 1], [1, 0, 0, 1, 1, 1], [1, 0, 0, 0, 1, 1], [0, 1, 1, 0, 0, 1], [0, 0, 1, 1, 1, 0, 1], [0, 0, 0, 1, 1, 1, 1], [1, 0, 0, 1, 1, 1], [1, 0, 0, 0, 1, 1], [0, 0, 1, 1, 1, 0, 1], [0, 0, 0, 1, 1, 1, 1], [0, 0, 1, 0, 0, 1, 1], [1, 0, 1, 0, 1, 1], [0, 0, 1, 1, 1, 0, 1], [0, 0, 0, 1, 1, 1, 1], [0, 1, 1, 0, 0, 1, 1], [1, 0, 0, 1, 1, 1], [1, 0, 1, 0, 1, 1, 1], [0, 1, 0, 1, 1, 1], [0, 0, 1, 1, 1, 0, 1], [0, 0, 0, 1, 1, 1, 1], [1, 0, 0, 0, 0, 1, 1], [0, 0, 1, 0, 0, 1, 1], [1, 1, 0, 1, 1, 1, 1], [0, 0, 1, 1, 1, 0, 1], [0, 0, 0, 1, 1, 1, 1], [0, 1, 1, 0, 0, 1, 1], [1, 0, 1, 0, 0, 1, 1], [0, 0, 1, 1, 1, 0, 1], [0, 0, 0, 1, 1, 1, 1], [0, 1, 1, 0, 0, 1, 1], [1, 0, 1, 0, 1, 1], [0, 0, 1, 1, 1, 0, 1], [0, 0, 0, 1, 1, 1, 1], [0, 0, 1, 0, 0, 1, 1], [1, 0, 0, 0, 0, 1, 1], [0, 0, 1, 1, 1, 0, 1], [0, 0, 0, 1, 1, 1, 1], [1, 0, 0, 0, 1, 1], [0, 0, 0, 0, 1, 1], [0, 0, 1, 1, 1, 0, 1], [0, 0, 0, 1, 1, 1, 1], [0, 1, 1, 0, 0, 1, 1], [1, 0, 0, 1, 1, 1], [0, 0, 1, 1, 1, 0, 1], [0, 0, 0, 1, 1, 1, 1], [1, 1, 0, 0, 0, 1, 1], [0, 1, 0, 0, 0, 1, 1], [0, 0, 1, 1, 1, 0, 1], [0, 0, 0, 1, 1, 1, 1], [1, 0, 1, 0, 0, 1, 1], [0, 0, 1, 0, 1, 1], [0, 1, 0, 1, 1, 1, 1], [0, 0, 1, 1, 1, 0, 1], [0, 0, 0, 1, 1, 1, 1], [1, 0, 0, 0, 0, 1, 1], [0, 1, 1, 0, 0, 1, 1], [1, 0, 1, 1, 0, 0, 1], [0, 0, 1, 1, 1, 0, 1], [0, 0, 0, 1, 1, 1, 1], [0, 1, 0, 0, 0, 1, 1], [0, 1, 1, 0, 0, 1, 1], [1, 1, 1, 0, 0, 1]]\n",
            "Original message is: \t  [[0, 1, 0, 0, 0, 1, 1], [1, 1, 1, 0, 0, 1], [0, 0, 1, 1, 1, 0, 1], [0, 0, 0, 1, 1, 1, 1], [1, 0, 0, 1, 1, 1], [1, 0, 0, 0, 1, 1], [0, 1, 1, 0, 0, 1], [0, 0, 1, 1, 1, 0, 1], [0, 0, 0, 1, 1, 1, 1], [1, 0, 0, 1, 1, 1], [1, 0, 0, 0, 1, 1], [0, 0, 1, 1, 1, 0, 1], [0, 0, 0, 1, 1, 1, 1], [0, 0, 1, 0, 0, 1, 1], [1, 0, 1, 0, 1, 1], [0, 0, 1, 1, 1, 0, 1], [0, 0, 0, 1, 1, 1, 1], [0, 1, 1, 0, 0, 1, 1], [1, 0, 0, 1, 1, 1], [1, 0, 1, 0, 1, 1, 1], [0, 1, 0, 1, 1, 1], [0, 0, 1, 1, 1, 0, 1], [0, 0, 0, 1, 1, 1, 1], [1, 0, 0, 0, 0, 1, 1], [0, 0, 1, 0, 0, 1, 1], [1, 1, 0, 1, 1, 1, 1], [0, 0, 1, 1, 1, 0, 1], [0, 0, 0, 1, 1, 1, 1], [0, 1, 1, 0, 0, 1, 1], [1, 0, 1, 0, 0, 1, 1], [0, 0, 1, 1, 1, 0, 1], [0, 0, 0, 1, 1, 1, 1], [0, 1, 1, 0, 0, 1, 1], [1, 0, 1, 0, 1, 1], [0, 0, 1, 1, 1, 0, 1], [0, 0, 0, 1, 1, 1, 1], [0, 0, 1, 0, 0, 1, 1], [1, 0, 0, 0, 0, 1, 1], [0, 0, 1, 1, 1, 0, 1], [0, 0, 0, 1, 1, 1, 1], [1, 0, 0, 0, 1, 1], [0, 0, 0, 0, 1, 1], [0, 0, 1, 1, 1, 0, 1], [0, 0, 0, 1, 1, 1, 1], [0, 1, 1, 0, 0, 1, 1], [1, 0, 0, 1, 1, 1], [0, 0, 1, 1, 1, 0, 1], [0, 0, 0, 1, 1, 1, 1], [1, 1, 0, 0, 0, 1, 1], [0, 1, 0, 0, 0, 1, 1], [0, 0, 1, 1, 1, 0, 1], [0, 0, 0, 1, 1, 1, 1], [1, 0, 1, 0, 0, 1, 1], [0, 0, 1, 0, 1, 1], [0, 1, 0, 1, 1, 1, 1], [0, 0, 1, 1, 1, 0, 1], [0, 0, 0, 1, 1, 1, 1], [1, 0, 0, 0, 0, 1, 1], [0, 1, 1, 0, 0, 1, 1], [1, 0, 1, 1, 0, 0, 1], [0, 0, 1, 1, 1, 0, 1], [0, 0, 0, 1, 1, 1, 1], [0, 1, 0, 0, 0, 1, 1], [0, 1, 1, 0, 0, 1, 1], [1, 1, 1, 0, 0, 1]]\n",
            "Original message is: \t  [[0, 1, 0, 0, 0, 1, 1], [1, 1, 1, 0, 0, 1], [0, 0, 1, 1, 1, 0, 1], [0, 0, 0, 1, 1, 1, 1], [1, 0, 0, 1, 1, 1], [1, 0, 0, 0, 1, 1], [0, 1, 1, 0, 0, 1], [0, 0, 1, 1, 1, 0, 1], [0, 0, 0, 1, 1, 1, 1], [1, 0, 0, 1, 1, 1], [1, 0, 0, 0, 1, 1], [0, 0, 1, 1, 1, 0, 1], [0, 0, 0, 1, 1, 1, 1], [0, 0, 1, 0, 0, 1, 1], [1, 0, 1, 0, 1, 1], [0, 0, 1, 1, 1, 0, 1], [0, 0, 0, 1, 1, 1, 1], [0, 1, 1, 0, 0, 1, 1], [1, 0, 0, 1, 1, 1], [1, 0, 1, 0, 1, 1, 1], [0, 1, 0, 1, 1, 1], [0, 0, 1, 1, 1, 0, 1], [0, 0, 0, 1, 1, 1, 1], [1, 0, 0, 0, 0, 1, 1], [0, 0, 1, 0, 0, 1, 1], [1, 1, 0, 1, 1, 1, 1], [0, 0, 1, 1, 1, 0, 1], [0, 0, 0, 1, 1, 1, 1], [0, 1, 1, 0, 0, 1, 1], [1, 0, 1, 0, 0, 1, 1], [0, 0, 1, 1, 1, 0, 1], [0, 0, 0, 1, 1, 1, 1], [0, 1, 1, 0, 0, 1, 1], [1, 0, 1, 0, 1, 1], [0, 0, 1, 1, 1, 0, 1], [0, 0, 0, 1, 1, 1, 1], [0, 0, 1, 0, 0, 1, 1], [1, 0, 0, 0, 0, 1, 1], [0, 0, 1, 1, 1, 0, 1], [0, 0, 0, 1, 1, 1, 1], [1, 0, 0, 0, 1, 1], [0, 0, 0, 0, 1, 1], [0, 0, 1, 1, 1, 0, 1], [0, 0, 0, 1, 1, 1, 1], [0, 1, 1, 0, 0, 1, 1], [1, 0, 0, 1, 1, 1], [0, 0, 1, 1, 1, 0, 1], [0, 0, 0, 1, 1, 1, 1], [1, 1, 0, 0, 0, 1, 1], [0, 1, 0, 0, 0, 1, 1], [0, 0, 1, 1, 1, 0, 1], [0, 0, 0, 1, 1, 1, 1], [1, 0, 1, 0, 0, 1, 1], [0, 0, 1, 0, 1, 1], [0, 1, 0, 1, 1, 1, 1], [0, 0, 1, 1, 1, 0, 1], [0, 0, 0, 1, 1, 1, 1], [1, 0, 0, 0, 0, 1, 1], [0, 1, 1, 0, 0, 1, 1], [1, 0, 1, 1, 0, 0, 1], [0, 0, 1, 1, 1, 0, 1], [0, 0, 0, 1, 1, 1, 1], [0, 1, 0, 0, 0, 1, 1], [0, 1, 1, 0, 0, 1, 1], [1, 1, 1, 0, 0, 1]]\n",
            "Original message is: \t  [[0, 1, 0, 0, 0, 1, 1], [1, 1, 1, 0, 0, 1], [0, 0, 1, 1, 1, 0, 1], [0, 0, 0, 1, 1, 1, 1], [1, 0, 0, 1, 1, 1], [1, 0, 0, 0, 1, 1], [0, 1, 1, 0, 0, 1], [0, 0, 1, 1, 1, 0, 1], [0, 0, 0, 1, 1, 1, 1], [1, 0, 0, 1, 1, 1], [1, 0, 0, 0, 1, 1], [0, 0, 1, 1, 1, 0, 1], [0, 0, 0, 1, 1, 1, 1], [0, 0, 1, 0, 0, 1, 1], [1, 0, 1, 0, 1, 1], [0, 0, 1, 1, 1, 0, 1], [0, 0, 0, 1, 1, 1, 1], [0, 1, 1, 0, 0, 1, 1], [1, 0, 0, 1, 1, 1], [1, 0, 1, 0, 1, 1, 1], [0, 1, 0, 1, 1, 1], [0, 0, 1, 1, 1, 0, 1], [0, 0, 0, 1, 1, 1, 1], [1, 0, 0, 0, 0, 1, 1], [0, 0, 1, 0, 0, 1, 1], [1, 1, 0, 1, 1, 1, 1], [0, 0, 1, 1, 1, 0, 1], [0, 0, 0, 1, 1, 1, 1], [0, 1, 1, 0, 0, 1, 1], [1, 0, 1, 0, 0, 1, 1], [0, 0, 1, 1, 1, 0, 1], [0, 0, 0, 1, 1, 1, 1], [0, 1, 1, 0, 0, 1, 1], [1, 0, 1, 0, 1, 1], [0, 0, 1, 1, 1, 0, 1], [0, 0, 0, 1, 1, 1, 1], [0, 0, 1, 0, 0, 1, 1], [1, 0, 0, 0, 0, 1, 1], [0, 0, 1, 1, 1, 0, 1], [0, 0, 0, 1, 1, 1, 1], [1, 0, 0, 0, 1, 1], [0, 0, 0, 0, 1, 1], [0, 0, 1, 1, 1, 0, 1], [0, 0, 0, 1, 1, 1, 1], [0, 1, 1, 0, 0, 1, 1], [1, 0, 0, 1, 1, 1], [0, 0, 1, 1, 1, 0, 1], [0, 0, 0, 1, 1, 1, 1], [1, 1, 0, 0, 0, 1, 1], [0, 1, 0, 0, 0, 1, 1], [0, 0, 1, 1, 1, 0, 1], [0, 0, 0, 1, 1, 1, 1], [1, 0, 1, 0, 0, 1, 1], [0, 0, 1, 0, 1, 1], [0, 1, 0, 1, 1, 1, 1], [0, 0, 1, 1, 1, 0, 1], [0, 0, 0, 1, 1, 1, 1], [1, 0, 0, 0, 0, 1, 1], [0, 1, 1, 0, 0, 1, 1], [1, 0, 1, 1, 0, 0, 1], [0, 0, 1, 1, 1, 0, 1], [0, 0, 0, 1, 1, 1, 1], [0, 1, 0, 0, 0, 1, 1], [0, 1, 1, 0, 0, 1, 1], [1, 1, 1, 0, 0, 1]]\n",
            "Original message is: \t  [[0, 1, 0, 0, 0, 1, 1], [1, 1, 1, 0, 0, 1], [0, 0, 1, 1, 1, 0, 1], [0, 0, 0, 1, 1, 1, 1], [1, 0, 0, 1, 1, 1], [1, 0, 0, 0, 1, 1], [0, 1, 1, 0, 0, 1], [0, 0, 1, 1, 1, 0, 1], [0, 0, 0, 1, 1, 1, 1], [1, 0, 0, 1, 1, 1], [1, 0, 0, 0, 1, 1], [0, 0, 1, 1, 1, 0, 1], [0, 0, 0, 1, 1, 1, 1], [0, 0, 1, 0, 0, 1, 1], [1, 0, 1, 0, 1, 1], [0, 0, 1, 1, 1, 0, 1], [0, 0, 0, 1, 1, 1, 1], [0, 1, 1, 0, 0, 1, 1], [1, 0, 0, 1, 1, 1], [1, 0, 1, 0, 1, 1, 1], [0, 1, 0, 1, 1, 1], [0, 0, 1, 1, 1, 0, 1], [0, 0, 0, 1, 1, 1, 1], [1, 0, 0, 0, 0, 1, 1], [0, 0, 1, 0, 0, 1, 1], [1, 1, 0, 1, 1, 1, 1], [0, 0, 1, 1, 1, 0, 1], [0, 0, 0, 1, 1, 1, 1], [0, 1, 1, 0, 0, 1, 1], [1, 0, 1, 0, 0, 1, 1], [0, 0, 1, 1, 1, 0, 1], [0, 0, 0, 1, 1, 1, 1], [0, 1, 1, 0, 0, 1, 1], [1, 0, 1, 0, 1, 1], [0, 0, 1, 1, 1, 0, 1], [0, 0, 0, 1, 1, 1, 1], [0, 0, 1, 0, 0, 1, 1], [1, 0, 0, 0, 0, 1, 1], [0, 0, 1, 1, 1, 0, 1], [0, 0, 0, 1, 1, 1, 1], [1, 0, 0, 0, 1, 1], [0, 0, 0, 0, 1, 1], [0, 0, 1, 1, 1, 0, 1], [0, 0, 0, 1, 1, 1, 1], [0, 1, 1, 0, 0, 1, 1], [1, 0, 0, 1, 1, 1], [0, 0, 1, 1, 1, 0, 1], [0, 0, 0, 1, 1, 1, 1], [1, 1, 0, 0, 0, 1, 1], [0, 1, 0, 0, 0, 1, 1], [0, 0, 1, 1, 1, 0, 1], [0, 0, 0, 1, 1, 1, 1], [1, 0, 1, 0, 0, 1, 1], [0, 0, 1, 0, 1, 1], [0, 1, 0, 1, 1, 1, 1], [0, 0, 1, 1, 1, 0, 1], [0, 0, 0, 1, 1, 1, 1], [1, 0, 0, 0, 0, 1, 1], [0, 1, 1, 0, 0, 1, 1], [1, 0, 1, 1, 0, 0, 1], [0, 0, 1, 1, 1, 0, 1], [0, 0, 0, 1, 1, 1, 1], [0, 1, 0, 0, 0, 1, 1], [0, 1, 1, 0, 0, 1, 1], [1, 1, 1, 0, 0, 1]]\n",
            "Original message is: \t  [[0, 1, 0, 0, 0, 1, 1], [1, 1, 1, 0, 0, 1], [0, 0, 1, 1, 1, 0, 1], [0, 0, 0, 1, 1, 1, 1], [1, 0, 0, 1, 1, 1], [1, 0, 0, 0, 1, 1], [0, 1, 1, 0, 0, 1], [0, 0, 1, 1, 1, 0, 1], [0, 0, 0, 1, 1, 1, 1], [1, 0, 0, 1, 1, 1], [1, 0, 0, 0, 1, 1], [0, 0, 1, 1, 1, 0, 1], [0, 0, 0, 1, 1, 1, 1], [0, 0, 1, 0, 0, 1, 1], [1, 0, 1, 0, 1, 1], [0, 0, 1, 1, 1, 0, 1], [0, 0, 0, 1, 1, 1, 1], [0, 1, 1, 0, 0, 1, 1], [1, 0, 0, 1, 1, 1], [1, 0, 1, 0, 1, 1, 1], [0, 1, 0, 1, 1, 1], [0, 0, 1, 1, 1, 0, 1], [0, 0, 0, 1, 1, 1, 1], [1, 0, 0, 0, 0, 1, 1], [0, 0, 1, 0, 0, 1, 1], [1, 1, 0, 1, 1, 1, 1], [0, 0, 1, 1, 1, 0, 1], [0, 0, 0, 1, 1, 1, 1], [0, 1, 1, 0, 0, 1, 1], [1, 0, 1, 0, 0, 1, 1], [0, 0, 1, 1, 1, 0, 1], [0, 0, 0, 1, 1, 1, 1], [0, 1, 1, 0, 0, 1, 1], [1, 0, 1, 0, 1, 1], [0, 0, 1, 1, 1, 0, 1], [0, 0, 0, 1, 1, 1, 1], [0, 0, 1, 0, 0, 1, 1], [1, 0, 0, 0, 0, 1, 1], [0, 0, 1, 1, 1, 0, 1], [0, 0, 0, 1, 1, 1, 1], [1, 0, 0, 0, 1, 1], [0, 0, 0, 0, 1, 1], [0, 0, 1, 1, 1, 0, 1], [0, 0, 0, 1, 1, 1, 1], [0, 1, 1, 0, 0, 1, 1], [1, 0, 0, 1, 1, 1], [0, 0, 1, 1, 1, 0, 1], [0, 0, 0, 1, 1, 1, 1], [1, 1, 0, 0, 0, 1, 1], [0, 1, 0, 0, 0, 1, 1], [0, 0, 1, 1, 1, 0, 1], [0, 0, 0, 1, 1, 1, 1], [1, 0, 1, 0, 0, 1, 1], [0, 0, 1, 0, 1, 1], [0, 1, 0, 1, 1, 1, 1], [0, 0, 1, 1, 1, 0, 1], [0, 0, 0, 1, 1, 1, 1], [1, 0, 0, 0, 0, 1, 1], [0, 1, 1, 0, 0, 1, 1], [1, 0, 1, 1, 0, 0, 1], [0, 0, 1, 1, 1, 0, 1], [0, 0, 0, 1, 1, 1, 1], [0, 1, 0, 0, 0, 1, 1], [0, 1, 1, 0, 0, 1, 1], [1, 1, 1, 0, 0, 1]]\n",
            "Original message is: \t  [[0, 1, 0, 0, 0, 1, 1], [1, 1, 1, 0, 0, 1], [0, 0, 1, 1, 1, 0, 1], [0, 0, 0, 1, 1, 1, 1], [1, 0, 0, 1, 1, 1], [1, 0, 0, 0, 1, 1], [0, 1, 1, 0, 0, 1], [0, 0, 1, 1, 1, 0, 1], [0, 0, 0, 1, 1, 1, 1], [1, 0, 0, 1, 1, 1], [1, 0, 0, 0, 1, 1], [0, 0, 1, 1, 1, 0, 1], [0, 0, 0, 1, 1, 1, 1], [0, 0, 1, 0, 0, 1, 1], [1, 0, 1, 0, 1, 1], [0, 0, 1, 1, 1, 0, 1], [0, 0, 0, 1, 1, 1, 1], [0, 1, 1, 0, 0, 1, 1], [1, 0, 0, 1, 1, 1], [1, 0, 1, 0, 1, 1, 1], [0, 1, 0, 1, 1, 1], [0, 0, 1, 1, 1, 0, 1], [0, 0, 0, 1, 1, 1, 1], [1, 0, 0, 0, 0, 1, 1], [0, 0, 1, 0, 0, 1, 1], [1, 1, 0, 1, 1, 1, 1], [0, 0, 1, 1, 1, 0, 1], [0, 0, 0, 1, 1, 1, 1], [0, 1, 1, 0, 0, 1, 1], [1, 0, 1, 0, 0, 1, 1], [0, 0, 1, 1, 1, 0, 1], [0, 0, 0, 1, 1, 1, 1], [0, 1, 1, 0, 0, 1, 1], [1, 0, 1, 0, 1, 1], [0, 0, 1, 1, 1, 0, 1], [0, 0, 0, 1, 1, 1, 1], [0, 0, 1, 0, 0, 1, 1], [1, 0, 0, 0, 0, 1, 1], [0, 0, 1, 1, 1, 0, 1], [0, 0, 0, 1, 1, 1, 1], [1, 0, 0, 0, 1, 1], [0, 0, 0, 0, 1, 1], [0, 0, 1, 1, 1, 0, 1], [0, 0, 0, 1, 1, 1, 1], [0, 1, 1, 0, 0, 1, 1], [1, 0, 0, 1, 1, 1], [0, 0, 1, 1, 1, 0, 1], [0, 0, 0, 1, 1, 1, 1], [1, 1, 0, 0, 0, 1, 1], [0, 1, 0, 0, 0, 1, 1], [0, 0, 1, 1, 1, 0, 1], [0, 0, 0, 1, 1, 1, 1], [1, 0, 1, 0, 0, 1, 1], [0, 0, 1, 0, 1, 1], [0, 1, 0, 1, 1, 1, 1], [0, 0, 1, 1, 1, 0, 1], [0, 0, 0, 1, 1, 1, 1], [1, 0, 0, 0, 0, 1, 1], [0, 1, 1, 0, 0, 1, 1], [1, 0, 1, 1, 0, 0, 1], [0, 0, 1, 1, 1, 0, 1], [0, 0, 0, 1, 1, 1, 1], [0, 1, 0, 0, 0, 1, 1], [0, 1, 1, 0, 0, 1, 1], [1, 1, 1, 0, 0, 1]]\n",
            "Original message is: \t  [[0, 1, 0, 0, 0, 1, 1], [1, 1, 1, 0, 0, 1], [0, 0, 1, 1, 1, 0, 1], [0, 0, 0, 1, 1, 1, 1], [1, 0, 0, 1, 1, 1], [1, 0, 0, 0, 1, 1], [0, 1, 1, 0, 0, 1], [0, 0, 1, 1, 1, 0, 1], [0, 0, 0, 1, 1, 1, 1], [1, 0, 0, 1, 1, 1], [1, 0, 0, 0, 1, 1], [0, 0, 1, 1, 1, 0, 1], [0, 0, 0, 1, 1, 1, 1], [0, 0, 1, 0, 0, 1, 1], [1, 0, 1, 0, 1, 1], [0, 0, 1, 1, 1, 0, 1], [0, 0, 0, 1, 1, 1, 1], [0, 1, 1, 0, 0, 1, 1], [1, 0, 0, 1, 1, 1], [1, 0, 1, 0, 1, 1, 1], [0, 1, 0, 1, 1, 1], [0, 0, 1, 1, 1, 0, 1], [0, 0, 0, 1, 1, 1, 1], [1, 0, 0, 0, 0, 1, 1], [0, 0, 1, 0, 0, 1, 1], [1, 1, 0, 1, 1, 1, 1], [0, 0, 1, 1, 1, 0, 1], [0, 0, 0, 1, 1, 1, 1], [0, 1, 1, 0, 0, 1, 1], [1, 0, 1, 0, 0, 1, 1], [0, 0, 1, 1, 1, 0, 1], [0, 0, 0, 1, 1, 1, 1], [0, 1, 1, 0, 0, 1, 1], [1, 0, 1, 0, 1, 1], [0, 0, 1, 1, 1, 0, 1], [0, 0, 0, 1, 1, 1, 1], [0, 0, 1, 0, 0, 1, 1], [1, 0, 0, 0, 0, 1, 1], [0, 0, 1, 1, 1, 0, 1], [0, 0, 0, 1, 1, 1, 1], [1, 0, 0, 0, 1, 1], [0, 0, 0, 0, 1, 1], [0, 0, 1, 1, 1, 0, 1], [0, 0, 0, 1, 1, 1, 1], [0, 1, 1, 0, 0, 1, 1], [1, 0, 0, 1, 1, 1], [0, 0, 1, 1, 1, 0, 1], [0, 0, 0, 1, 1, 1, 1], [1, 1, 0, 0, 0, 1, 1], [0, 1, 0, 0, 0, 1, 1], [0, 0, 1, 1, 1, 0, 1], [0, 0, 0, 1, 1, 1, 1], [1, 0, 1, 0, 0, 1, 1], [0, 0, 1, 0, 1, 1], [0, 1, 0, 1, 1, 1, 1], [0, 0, 1, 1, 1, 0, 1], [0, 0, 0, 1, 1, 1, 1], [1, 0, 0, 0, 0, 1, 1], [0, 1, 1, 0, 0, 1, 1], [1, 0, 1, 1, 0, 0, 1], [0, 0, 1, 1, 1, 0, 1], [0, 0, 0, 1, 1, 1, 1], [0, 1, 0, 0, 0, 1, 1], [0, 1, 1, 0, 0, 1, 1], [1, 1, 1, 0, 0, 1]]\n",
            "Original message is: \t  [[0, 1, 0, 0, 0, 1, 1], [1, 1, 1, 0, 0, 1], [0, 0, 1, 1, 1, 0, 1], [0, 0, 0, 1, 1, 1, 1], [1, 0, 0, 1, 1, 1], [1, 0, 0, 0, 1, 1], [0, 1, 1, 0, 0, 1], [0, 0, 1, 1, 1, 0, 1], [0, 0, 0, 1, 1, 1, 1], [1, 0, 0, 1, 1, 1], [1, 0, 0, 0, 1, 1], [0, 0, 1, 1, 1, 0, 1], [0, 0, 0, 1, 1, 1, 1], [0, 0, 1, 0, 0, 1, 1], [1, 0, 1, 0, 1, 1], [0, 0, 1, 1, 1, 0, 1], [0, 0, 0, 1, 1, 1, 1], [0, 1, 1, 0, 0, 1, 1], [1, 0, 0, 1, 1, 1], [1, 0, 1, 0, 1, 1, 1], [0, 1, 0, 1, 1, 1], [0, 0, 1, 1, 1, 0, 1], [0, 0, 0, 1, 1, 1, 1], [1, 0, 0, 0, 0, 1, 1], [0, 0, 1, 0, 0, 1, 1], [1, 1, 0, 1, 1, 1, 1], [0, 0, 1, 1, 1, 0, 1], [0, 0, 0, 1, 1, 1, 1], [0, 1, 1, 0, 0, 1, 1], [1, 0, 1, 0, 0, 1, 1], [0, 0, 1, 1, 1, 0, 1], [0, 0, 0, 1, 1, 1, 1], [0, 1, 1, 0, 0, 1, 1], [1, 0, 1, 0, 1, 1], [0, 0, 1, 1, 1, 0, 1], [0, 0, 0, 1, 1, 1, 1], [0, 0, 1, 0, 0, 1, 1], [1, 0, 0, 0, 0, 1, 1], [0, 0, 1, 1, 1, 0, 1], [0, 0, 0, 1, 1, 1, 1], [1, 0, 0, 0, 1, 1], [0, 0, 0, 0, 1, 1], [0, 0, 1, 1, 1, 0, 1], [0, 0, 0, 1, 1, 1, 1], [0, 1, 1, 0, 0, 1, 1], [1, 0, 0, 1, 1, 1], [0, 0, 1, 1, 1, 0, 1], [0, 0, 0, 1, 1, 1, 1], [1, 1, 0, 0, 0, 1, 1], [0, 1, 0, 0, 0, 1, 1], [0, 0, 1, 1, 1, 0, 1], [0, 0, 0, 1, 1, 1, 1], [1, 0, 1, 0, 0, 1, 1], [0, 0, 1, 0, 1, 1], [0, 1, 0, 1, 1, 1, 1], [0, 0, 1, 1, 1, 0, 1], [0, 0, 0, 1, 1, 1, 1], [1, 0, 0, 0, 0, 1, 1], [0, 1, 1, 0, 0, 1, 1], [1, 0, 1, 1, 0, 0, 1], [0, 0, 1, 1, 1, 0, 1], [0, 0, 0, 1, 1, 1, 1], [0, 1, 0, 0, 0, 1, 1], [0, 1, 1, 0, 0, 1, 1], [1, 1, 1, 0, 0, 1]]\n",
            "Original message is: \t  [[0, 1, 0, 0, 0, 1, 1], [1, 1, 1, 0, 0, 1], [0, 0, 1, 1, 1, 0, 1], [0, 0, 0, 1, 1, 1, 1], [1, 0, 0, 1, 1, 1], [1, 0, 0, 0, 1, 1], [0, 1, 1, 0, 0, 1], [0, 0, 1, 1, 1, 0, 1], [0, 0, 0, 1, 1, 1, 1], [1, 0, 0, 1, 1, 1], [1, 0, 0, 0, 1, 1], [0, 0, 1, 1, 1, 0, 1], [0, 0, 0, 1, 1, 1, 1], [0, 0, 1, 0, 0, 1, 1], [1, 0, 1, 0, 1, 1], [0, 0, 1, 1, 1, 0, 1], [0, 0, 0, 1, 1, 1, 1], [0, 1, 1, 0, 0, 1, 1], [1, 0, 0, 1, 1, 1], [1, 0, 1, 0, 1, 1, 1], [0, 1, 0, 1, 1, 1], [0, 0, 1, 1, 1, 0, 1], [0, 0, 0, 1, 1, 1, 1], [1, 0, 0, 0, 0, 1, 1], [0, 0, 1, 0, 0, 1, 1], [1, 1, 0, 1, 1, 1, 1], [0, 0, 1, 1, 1, 0, 1], [0, 0, 0, 1, 1, 1, 1], [0, 1, 1, 0, 0, 1, 1], [1, 0, 1, 0, 0, 1, 1], [0, 0, 1, 1, 1, 0, 1], [0, 0, 0, 1, 1, 1, 1], [0, 1, 1, 0, 0, 1, 1], [1, 0, 1, 0, 1, 1], [0, 0, 1, 1, 1, 0, 1], [0, 0, 0, 1, 1, 1, 1], [0, 0, 1, 0, 0, 1, 1], [1, 0, 0, 0, 0, 1, 1], [0, 0, 1, 1, 1, 0, 1], [0, 0, 0, 1, 1, 1, 1], [1, 0, 0, 0, 1, 1], [0, 0, 0, 0, 1, 1], [0, 0, 1, 1, 1, 0, 1], [0, 0, 0, 1, 1, 1, 1], [0, 1, 1, 0, 0, 1, 1], [1, 0, 0, 1, 1, 1], [0, 0, 1, 1, 1, 0, 1], [0, 0, 0, 1, 1, 1, 1], [1, 1, 0, 0, 0, 1, 1], [0, 1, 0, 0, 0, 1, 1], [0, 0, 1, 1, 1, 0, 1], [0, 0, 0, 1, 1, 1, 1], [1, 0, 1, 0, 0, 1, 1], [0, 0, 1, 0, 1, 1], [0, 1, 0, 1, 1, 1, 1], [0, 0, 1, 1, 1, 0, 1], [0, 0, 0, 1, 1, 1, 1], [1, 0, 0, 0, 0, 1, 1], [0, 1, 1, 0, 0, 1, 1], [1, 0, 1, 1, 0, 0, 1], [0, 0, 1, 1, 1, 0, 1], [0, 0, 0, 1, 1, 1, 1], [0, 1, 0, 0, 0, 1, 1], [0, 1, 1, 0, 0, 1, 1], [1, 1, 1, 0, 0, 1]]\n",
            "Original message is: \t  [[0, 1, 0, 0, 0, 1, 1], [1, 1, 1, 0, 0, 1], [0, 0, 1, 1, 1, 0, 1], [0, 0, 0, 1, 1, 1, 1], [1, 0, 0, 1, 1, 1], [1, 0, 0, 0, 1, 1], [0, 1, 1, 0, 0, 1], [0, 0, 1, 1, 1, 0, 1], [0, 0, 0, 1, 1, 1, 1], [1, 0, 0, 1, 1, 1], [1, 0, 0, 0, 1, 1], [0, 0, 1, 1, 1, 0, 1], [0, 0, 0, 1, 1, 1, 1], [0, 0, 1, 0, 0, 1, 1], [1, 0, 1, 0, 1, 1], [0, 0, 1, 1, 1, 0, 1], [0, 0, 0, 1, 1, 1, 1], [0, 1, 1, 0, 0, 1, 1], [1, 0, 0, 1, 1, 1], [1, 0, 1, 0, 1, 1, 1], [0, 1, 0, 1, 1, 1], [0, 0, 1, 1, 1, 0, 1], [0, 0, 0, 1, 1, 1, 1], [1, 0, 0, 0, 0, 1, 1], [0, 0, 1, 0, 0, 1, 1], [1, 1, 0, 1, 1, 1, 1], [0, 0, 1, 1, 1, 0, 1], [0, 0, 0, 1, 1, 1, 1], [0, 1, 1, 0, 0, 1, 1], [1, 0, 1, 0, 0, 1, 1], [0, 0, 1, 1, 1, 0, 1], [0, 0, 0, 1, 1, 1, 1], [0, 1, 1, 0, 0, 1, 1], [1, 0, 1, 0, 1, 1], [0, 0, 1, 1, 1, 0, 1], [0, 0, 0, 1, 1, 1, 1], [0, 0, 1, 0, 0, 1, 1], [1, 0, 0, 0, 0, 1, 1], [0, 0, 1, 1, 1, 0, 1], [0, 0, 0, 1, 1, 1, 1], [1, 0, 0, 0, 1, 1], [0, 0, 0, 0, 1, 1], [0, 0, 1, 1, 1, 0, 1], [0, 0, 0, 1, 1, 1, 1], [0, 1, 1, 0, 0, 1, 1], [1, 0, 0, 1, 1, 1], [0, 0, 1, 1, 1, 0, 1], [0, 0, 0, 1, 1, 1, 1], [1, 1, 0, 0, 0, 1, 1], [0, 1, 0, 0, 0, 1, 1], [0, 0, 1, 1, 1, 0, 1], [0, 0, 0, 1, 1, 1, 1], [1, 0, 1, 0, 0, 1, 1], [0, 0, 1, 0, 1, 1], [0, 1, 0, 1, 1, 1, 1], [0, 0, 1, 1, 1, 0, 1], [0, 0, 0, 1, 1, 1, 1], [1, 0, 0, 0, 0, 1, 1], [0, 1, 1, 0, 0, 1, 1], [1, 0, 1, 1, 0, 0, 1], [0, 0, 1, 1, 1, 0, 1], [0, 0, 0, 1, 1, 1, 1], [0, 1, 0, 0, 0, 1, 1], [0, 1, 1, 0, 0, 1, 1], [1, 1, 1, 0, 0, 1]]\n",
            "Original message is: \t  [[0, 1, 0, 0, 0, 1, 1], [1, 1, 1, 0, 0, 1], [0, 0, 1, 1, 1, 0, 1], [0, 0, 0, 1, 1, 1, 1], [1, 0, 0, 1, 1, 1], [1, 0, 0, 0, 1, 1], [0, 1, 1, 0, 0, 1], [0, 0, 1, 1, 1, 0, 1], [0, 0, 0, 1, 1, 1, 1], [1, 0, 0, 1, 1, 1], [1, 0, 0, 0, 1, 1], [0, 0, 1, 1, 1, 0, 1], [0, 0, 0, 1, 1, 1, 1], [0, 0, 1, 0, 0, 1, 1], [1, 0, 1, 0, 1, 1], [0, 0, 1, 1, 1, 0, 1], [0, 0, 0, 1, 1, 1, 1], [0, 1, 1, 0, 0, 1, 1], [1, 0, 0, 1, 1, 1], [1, 0, 1, 0, 1, 1, 1], [0, 1, 0, 1, 1, 1], [0, 0, 1, 1, 1, 0, 1], [0, 0, 0, 1, 1, 1, 1], [1, 0, 0, 0, 0, 1, 1], [0, 0, 1, 0, 0, 1, 1], [1, 1, 0, 1, 1, 1, 1], [0, 0, 1, 1, 1, 0, 1], [0, 0, 0, 1, 1, 1, 1], [0, 1, 1, 0, 0, 1, 1], [1, 0, 1, 0, 0, 1, 1], [0, 0, 1, 1, 1, 0, 1], [0, 0, 0, 1, 1, 1, 1], [0, 1, 1, 0, 0, 1, 1], [1, 0, 1, 0, 1, 1], [0, 0, 1, 1, 1, 0, 1], [0, 0, 0, 1, 1, 1, 1], [0, 0, 1, 0, 0, 1, 1], [1, 0, 0, 0, 0, 1, 1], [0, 0, 1, 1, 1, 0, 1], [0, 0, 0, 1, 1, 1, 1], [1, 0, 0, 0, 1, 1], [0, 0, 0, 0, 1, 1], [0, 0, 1, 1, 1, 0, 1], [0, 0, 0, 1, 1, 1, 1], [0, 1, 1, 0, 0, 1, 1], [1, 0, 0, 1, 1, 1], [0, 0, 1, 1, 1, 0, 1], [0, 0, 0, 1, 1, 1, 1], [1, 1, 0, 0, 0, 1, 1], [0, 1, 0, 0, 0, 1, 1], [0, 0, 1, 1, 1, 0, 1], [0, 0, 0, 1, 1, 1, 1], [1, 0, 1, 0, 0, 1, 1], [0, 0, 1, 0, 1, 1], [0, 1, 0, 1, 1, 1, 1], [0, 0, 1, 1, 1, 0, 1], [0, 0, 0, 1, 1, 1, 1], [1, 0, 0, 0, 0, 1, 1], [0, 1, 1, 0, 0, 1, 1], [1, 0, 1, 1, 0, 0, 1], [0, 0, 1, 1, 1, 0, 1], [0, 0, 0, 1, 1, 1, 1], [0, 1, 0, 0, 0, 1, 1], [0, 1, 1, 0, 0, 1, 1], [1, 1, 1, 0, 0, 1]]\n",
            "Original message is: \t  [[0, 1, 0, 0, 0, 1, 1], [1, 1, 1, 0, 0, 1], [0, 0, 1, 1, 1, 0, 1], [0, 0, 0, 1, 1, 1, 1], [1, 0, 0, 1, 1, 1], [1, 0, 0, 0, 1, 1], [0, 1, 1, 0, 0, 1], [0, 0, 1, 1, 1, 0, 1], [0, 0, 0, 1, 1, 1, 1], [1, 0, 0, 1, 1, 1], [1, 0, 0, 0, 1, 1], [0, 0, 1, 1, 1, 0, 1], [0, 0, 0, 1, 1, 1, 1], [0, 0, 1, 0, 0, 1, 1], [1, 0, 1, 0, 1, 1], [0, 0, 1, 1, 1, 0, 1], [0, 0, 0, 1, 1, 1, 1], [0, 1, 1, 0, 0, 1, 1], [1, 0, 0, 1, 1, 1], [1, 0, 1, 0, 1, 1, 1], [0, 1, 0, 1, 1, 1], [0, 0, 1, 1, 1, 0, 1], [0, 0, 0, 1, 1, 1, 1], [1, 0, 0, 0, 0, 1, 1], [0, 0, 1, 0, 0, 1, 1], [1, 1, 0, 1, 1, 1, 1], [0, 0, 1, 1, 1, 0, 1], [0, 0, 0, 1, 1, 1, 1], [0, 1, 1, 0, 0, 1, 1], [1, 0, 1, 0, 0, 1, 1], [0, 0, 1, 1, 1, 0, 1], [0, 0, 0, 1, 1, 1, 1], [0, 1, 1, 0, 0, 1, 1], [1, 0, 1, 0, 1, 1], [0, 0, 1, 1, 1, 0, 1], [0, 0, 0, 1, 1, 1, 1], [0, 0, 1, 0, 0, 1, 1], [1, 0, 0, 0, 0, 1, 1], [0, 0, 1, 1, 1, 0, 1], [0, 0, 0, 1, 1, 1, 1], [1, 0, 0, 0, 1, 1], [0, 0, 0, 0, 1, 1], [0, 0, 1, 1, 1, 0, 1], [0, 0, 0, 1, 1, 1, 1], [0, 1, 1, 0, 0, 1, 1], [1, 0, 0, 1, 1, 1], [0, 0, 1, 1, 1, 0, 1], [0, 0, 0, 1, 1, 1, 1], [1, 1, 0, 0, 0, 1, 1], [0, 1, 0, 0, 0, 1, 1], [0, 0, 1, 1, 1, 0, 1], [0, 0, 0, 1, 1, 1, 1], [1, 0, 1, 0, 0, 1, 1], [0, 0, 1, 0, 1, 1], [0, 1, 0, 1, 1, 1, 1], [0, 0, 1, 1, 1, 0, 1], [0, 0, 0, 1, 1, 1, 1], [1, 0, 0, 0, 0, 1, 1], [0, 1, 1, 0, 0, 1, 1], [1, 0, 1, 1, 0, 0, 1], [0, 0, 1, 1, 1, 0, 1], [0, 0, 0, 1, 1, 1, 1], [0, 1, 0, 0, 0, 1, 1], [0, 1, 1, 0, 0, 1, 1], [1, 1, 1, 0, 0, 1]]\n",
            "Original message is: \t  [[0, 1, 0, 0, 0, 1, 1], [1, 1, 1, 0, 0, 1], [0, 0, 1, 1, 1, 0, 1], [0, 0, 0, 1, 1, 1, 1], [1, 0, 0, 1, 1, 1], [1, 0, 0, 0, 1, 1], [0, 1, 1, 0, 0, 1], [0, 0, 1, 1, 1, 0, 1], [0, 0, 0, 1, 1, 1, 1], [1, 0, 0, 1, 1, 1], [1, 0, 0, 0, 1, 1], [0, 0, 1, 1, 1, 0, 1], [0, 0, 0, 1, 1, 1, 1], [0, 0, 1, 0, 0, 1, 1], [1, 0, 1, 0, 1, 1], [0, 0, 1, 1, 1, 0, 1], [0, 0, 0, 1, 1, 1, 1], [0, 1, 1, 0, 0, 1, 1], [1, 0, 0, 1, 1, 1], [1, 0, 1, 0, 1, 1, 1], [0, 1, 0, 1, 1, 1], [0, 0, 1, 1, 1, 0, 1], [0, 0, 0, 1, 1, 1, 1], [1, 0, 0, 0, 0, 1, 1], [0, 0, 1, 0, 0, 1, 1], [1, 1, 0, 1, 1, 1, 1], [0, 0, 1, 1, 1, 0, 1], [0, 0, 0, 1, 1, 1, 1], [0, 1, 1, 0, 0, 1, 1], [1, 0, 1, 0, 0, 1, 1], [0, 0, 1, 1, 1, 0, 1], [0, 0, 0, 1, 1, 1, 1], [0, 1, 1, 0, 0, 1, 1], [1, 0, 1, 0, 1, 1], [0, 0, 1, 1, 1, 0, 1], [0, 0, 0, 1, 1, 1, 1], [0, 0, 1, 0, 0, 1, 1], [1, 0, 0, 0, 0, 1, 1], [0, 0, 1, 1, 1, 0, 1], [0, 0, 0, 1, 1, 1, 1], [1, 0, 0, 0, 1, 1], [0, 0, 0, 0, 1, 1], [0, 0, 1, 1, 1, 0, 1], [0, 0, 0, 1, 1, 1, 1], [0, 1, 1, 0, 0, 1, 1], [1, 0, 0, 1, 1, 1], [0, 0, 1, 1, 1, 0, 1], [0, 0, 0, 1, 1, 1, 1], [1, 1, 0, 0, 0, 1, 1], [0, 1, 0, 0, 0, 1, 1], [0, 0, 1, 1, 1, 0, 1], [0, 0, 0, 1, 1, 1, 1], [1, 0, 1, 0, 0, 1, 1], [0, 0, 1, 0, 1, 1], [0, 1, 0, 1, 1, 1, 1], [0, 0, 1, 1, 1, 0, 1], [0, 0, 0, 1, 1, 1, 1], [1, 0, 0, 0, 0, 1, 1], [0, 1, 1, 0, 0, 1, 1], [1, 0, 1, 1, 0, 0, 1], [0, 0, 1, 1, 1, 0, 1], [0, 0, 0, 1, 1, 1, 1], [0, 1, 0, 0, 0, 1, 1], [0, 1, 1, 0, 0, 1, 1], [1, 1, 1, 0, 0, 1]]\n",
            "Original message is: \t  [[0, 1, 0, 0, 0, 1, 1], [1, 1, 1, 0, 0, 1], [0, 0, 1, 1, 1, 0, 1], [0, 0, 0, 1, 1, 1, 1], [1, 0, 0, 1, 1, 1], [1, 0, 0, 0, 1, 1], [0, 1, 1, 0, 0, 1], [0, 0, 1, 1, 1, 0, 1], [0, 0, 0, 1, 1, 1, 1], [1, 0, 0, 1, 1, 1], [1, 0, 0, 0, 1, 1], [0, 0, 1, 1, 1, 0, 1], [0, 0, 0, 1, 1, 1, 1], [0, 0, 1, 0, 0, 1, 1], [1, 0, 1, 0, 1, 1], [0, 0, 1, 1, 1, 0, 1], [0, 0, 0, 1, 1, 1, 1], [0, 1, 1, 0, 0, 1, 1], [1, 0, 0, 1, 1, 1], [1, 0, 1, 0, 1, 1, 1], [0, 1, 0, 1, 1, 1], [0, 0, 1, 1, 1, 0, 1], [0, 0, 0, 1, 1, 1, 1], [1, 0, 0, 0, 0, 1, 1], [0, 0, 1, 0, 0, 1, 1], [1, 1, 0, 1, 1, 1, 1], [0, 0, 1, 1, 1, 0, 1], [0, 0, 0, 1, 1, 1, 1], [0, 1, 1, 0, 0, 1, 1], [1, 0, 1, 0, 0, 1, 1], [0, 0, 1, 1, 1, 0, 1], [0, 0, 0, 1, 1, 1, 1], [0, 1, 1, 0, 0, 1, 1], [1, 0, 1, 0, 1, 1], [0, 0, 1, 1, 1, 0, 1], [0, 0, 0, 1, 1, 1, 1], [0, 0, 1, 0, 0, 1, 1], [1, 0, 0, 0, 0, 1, 1], [0, 0, 1, 1, 1, 0, 1], [0, 0, 0, 1, 1, 1, 1], [1, 0, 0, 0, 1, 1], [0, 0, 0, 0, 1, 1], [0, 0, 1, 1, 1, 0, 1], [0, 0, 0, 1, 1, 1, 1], [0, 1, 1, 0, 0, 1, 1], [1, 0, 0, 1, 1, 1], [0, 0, 1, 1, 1, 0, 1], [0, 0, 0, 1, 1, 1, 1], [1, 1, 0, 0, 0, 1, 1], [0, 1, 0, 0, 0, 1, 1], [0, 0, 1, 1, 1, 0, 1], [0, 0, 0, 1, 1, 1, 1], [1, 0, 1, 0, 0, 1, 1], [0, 0, 1, 0, 1, 1], [0, 1, 0, 1, 1, 1, 1], [0, 0, 1, 1, 1, 0, 1], [0, 0, 0, 1, 1, 1, 1], [1, 0, 0, 0, 0, 1, 1], [0, 1, 1, 0, 0, 1, 1], [1, 0, 1, 1, 0, 0, 1], [0, 0, 1, 1, 1, 0, 1], [0, 0, 0, 1, 1, 1, 1], [0, 1, 0, 0, 0, 1, 1], [0, 1, 1, 0, 0, 1, 1], [1, 1, 1, 0, 0, 1]]\n",
            "Original message is: \t  [[0, 1, 0, 0, 0, 1, 1], [1, 1, 1, 0, 0, 1], [0, 0, 1, 1, 1, 0, 1], [0, 0, 0, 1, 1, 1, 1], [1, 0, 0, 1, 1, 1], [1, 0, 0, 0, 1, 1], [0, 1, 1, 0, 0, 1], [0, 0, 1, 1, 1, 0, 1], [0, 0, 0, 1, 1, 1, 1], [1, 0, 0, 1, 1, 1], [1, 0, 0, 0, 1, 1], [0, 0, 1, 1, 1, 0, 1], [0, 0, 0, 1, 1, 1, 1], [0, 0, 1, 0, 0, 1, 1], [1, 0, 1, 0, 1, 1], [0, 0, 1, 1, 1, 0, 1], [0, 0, 0, 1, 1, 1, 1], [0, 1, 1, 0, 0, 1, 1], [1, 0, 0, 1, 1, 1], [1, 0, 1, 0, 1, 1, 1], [0, 1, 0, 1, 1, 1], [0, 0, 1, 1, 1, 0, 1], [0, 0, 0, 1, 1, 1, 1], [1, 0, 0, 0, 0, 1, 1], [0, 0, 1, 0, 0, 1, 1], [1, 1, 0, 1, 1, 1, 1], [0, 0, 1, 1, 1, 0, 1], [0, 0, 0, 1, 1, 1, 1], [0, 1, 1, 0, 0, 1, 1], [1, 0, 1, 0, 0, 1, 1], [0, 0, 1, 1, 1, 0, 1], [0, 0, 0, 1, 1, 1, 1], [0, 1, 1, 0, 0, 1, 1], [1, 0, 1, 0, 1, 1], [0, 0, 1, 1, 1, 0, 1], [0, 0, 0, 1, 1, 1, 1], [0, 0, 1, 0, 0, 1, 1], [1, 0, 0, 0, 0, 1, 1], [0, 0, 1, 1, 1, 0, 1], [0, 0, 0, 1, 1, 1, 1], [1, 0, 0, 0, 1, 1], [0, 0, 0, 0, 1, 1], [0, 0, 1, 1, 1, 0, 1], [0, 0, 0, 1, 1, 1, 1], [0, 1, 1, 0, 0, 1, 1], [1, 0, 0, 1, 1, 1], [0, 0, 1, 1, 1, 0, 1], [0, 0, 0, 1, 1, 1, 1], [1, 1, 0, 0, 0, 1, 1], [0, 1, 0, 0, 0, 1, 1], [0, 0, 1, 1, 1, 0, 1], [0, 0, 0, 1, 1, 1, 1], [1, 0, 1, 0, 0, 1, 1], [0, 0, 1, 0, 1, 1], [0, 1, 0, 1, 1, 1, 1], [0, 0, 1, 1, 1, 0, 1], [0, 0, 0, 1, 1, 1, 1], [1, 0, 0, 0, 0, 1, 1], [0, 1, 1, 0, 0, 1, 1], [1, 0, 1, 1, 0, 0, 1], [0, 0, 1, 1, 1, 0, 1], [0, 0, 0, 1, 1, 1, 1], [0, 1, 0, 0, 0, 1, 1], [0, 1, 1, 0, 0, 1, 1], [1, 1, 1, 0, 0, 1]]\n",
            "Original message is: \t  [[0, 1, 0, 0, 0, 1, 1], [1, 1, 1, 0, 0, 1], [0, 0, 1, 1, 1, 0, 1], [0, 0, 0, 1, 1, 1, 1], [1, 0, 0, 1, 1, 1], [1, 0, 0, 0, 1, 1], [0, 1, 1, 0, 0, 1], [0, 0, 1, 1, 1, 0, 1], [0, 0, 0, 1, 1, 1, 1], [1, 0, 0, 1, 1, 1], [1, 0, 0, 0, 1, 1], [0, 0, 1, 1, 1, 0, 1], [0, 0, 0, 1, 1, 1, 1], [0, 0, 1, 0, 0, 1, 1], [1, 0, 1, 0, 1, 1], [0, 0, 1, 1, 1, 0, 1], [0, 0, 0, 1, 1, 1, 1], [0, 1, 1, 0, 0, 1, 1], [1, 0, 0, 1, 1, 1], [1, 0, 1, 0, 1, 1, 1], [0, 1, 0, 1, 1, 1], [0, 0, 1, 1, 1, 0, 1], [0, 0, 0, 1, 1, 1, 1], [1, 0, 0, 0, 0, 1, 1], [0, 0, 1, 0, 0, 1, 1], [1, 1, 0, 1, 1, 1, 1], [0, 0, 1, 1, 1, 0, 1], [0, 0, 0, 1, 1, 1, 1], [0, 1, 1, 0, 0, 1, 1], [1, 0, 1, 0, 0, 1, 1], [0, 0, 1, 1, 1, 0, 1], [0, 0, 0, 1, 1, 1, 1], [0, 1, 1, 0, 0, 1, 1], [1, 0, 1, 0, 1, 1], [0, 0, 1, 1, 1, 0, 1], [0, 0, 0, 1, 1, 1, 1], [0, 0, 1, 0, 0, 1, 1], [1, 0, 0, 0, 0, 1, 1], [0, 0, 1, 1, 1, 0, 1], [0, 0, 0, 1, 1, 1, 1], [1, 0, 0, 0, 1, 1], [0, 0, 0, 0, 1, 1], [0, 0, 1, 1, 1, 0, 1], [0, 0, 0, 1, 1, 1, 1], [0, 1, 1, 0, 0, 1, 1], [1, 0, 0, 1, 1, 1], [0, 0, 1, 1, 1, 0, 1], [0, 0, 0, 1, 1, 1, 1], [1, 1, 0, 0, 0, 1, 1], [0, 1, 0, 0, 0, 1, 1], [0, 0, 1, 1, 1, 0, 1], [0, 0, 0, 1, 1, 1, 1], [1, 0, 1, 0, 0, 1, 1], [0, 0, 1, 0, 1, 1], [0, 1, 0, 1, 1, 1, 1], [0, 0, 1, 1, 1, 0, 1], [0, 0, 0, 1, 1, 1, 1], [1, 0, 0, 0, 0, 1, 1], [0, 1, 1, 0, 0, 1, 1], [1, 0, 1, 1, 0, 0, 1], [0, 0, 1, 1, 1, 0, 1], [0, 0, 0, 1, 1, 1, 1], [0, 1, 0, 0, 0, 1, 1], [0, 1, 1, 0, 0, 1, 1], [1, 1, 1, 0, 0, 1]]\n",
            "Original message is: \t  [[0, 1, 0, 0, 0, 1, 1], [1, 1, 1, 0, 0, 1], [0, 0, 1, 1, 1, 0, 1], [0, 0, 0, 1, 1, 1, 1], [1, 0, 0, 1, 1, 1], [1, 0, 0, 0, 1, 1], [0, 1, 1, 0, 0, 1], [0, 0, 1, 1, 1, 0, 1], [0, 0, 0, 1, 1, 1, 1], [1, 0, 0, 1, 1, 1], [1, 0, 0, 0, 1, 1], [0, 0, 1, 1, 1, 0, 1], [0, 0, 0, 1, 1, 1, 1], [0, 0, 1, 0, 0, 1, 1], [1, 0, 1, 0, 1, 1], [0, 0, 1, 1, 1, 0, 1], [0, 0, 0, 1, 1, 1, 1], [0, 1, 1, 0, 0, 1, 1], [1, 0, 0, 1, 1, 1], [1, 0, 1, 0, 1, 1, 1], [0, 1, 0, 1, 1, 1], [0, 0, 1, 1, 1, 0, 1], [0, 0, 0, 1, 1, 1, 1], [1, 0, 0, 0, 0, 1, 1], [0, 0, 1, 0, 0, 1, 1], [1, 1, 0, 1, 1, 1, 1], [0, 0, 1, 1, 1, 0, 1], [0, 0, 0, 1, 1, 1, 1], [0, 1, 1, 0, 0, 1, 1], [1, 0, 1, 0, 0, 1, 1], [0, 0, 1, 1, 1, 0, 1], [0, 0, 0, 1, 1, 1, 1], [0, 1, 1, 0, 0, 1, 1], [1, 0, 1, 0, 1, 1], [0, 0, 1, 1, 1, 0, 1], [0, 0, 0, 1, 1, 1, 1], [0, 0, 1, 0, 0, 1, 1], [1, 0, 0, 0, 0, 1, 1], [0, 0, 1, 1, 1, 0, 1], [0, 0, 0, 1, 1, 1, 1], [1, 0, 0, 0, 1, 1], [0, 0, 0, 0, 1, 1], [0, 0, 1, 1, 1, 0, 1], [0, 0, 0, 1, 1, 1, 1], [0, 1, 1, 0, 0, 1, 1], [1, 0, 0, 1, 1, 1], [0, 0, 1, 1, 1, 0, 1], [0, 0, 0, 1, 1, 1, 1], [1, 1, 0, 0, 0, 1, 1], [0, 1, 0, 0, 0, 1, 1], [0, 0, 1, 1, 1, 0, 1], [0, 0, 0, 1, 1, 1, 1], [1, 0, 1, 0, 0, 1, 1], [0, 0, 1, 0, 1, 1], [0, 1, 0, 1, 1, 1, 1], [0, 0, 1, 1, 1, 0, 1], [0, 0, 0, 1, 1, 1, 1], [1, 0, 0, 0, 0, 1, 1], [0, 1, 1, 0, 0, 1, 1], [1, 0, 1, 1, 0, 0, 1], [0, 0, 1, 1, 1, 0, 1], [0, 0, 0, 1, 1, 1, 1], [0, 1, 0, 0, 0, 1, 1], [0, 1, 1, 0, 0, 1, 1], [1, 1, 1, 0, 0, 1]]\n",
            "Original message is: \t  [[0, 1, 0, 0, 0, 1, 1], [1, 1, 1, 0, 0, 1], [0, 0, 1, 1, 1, 0, 1], [0, 0, 0, 1, 1, 1, 1], [1, 0, 0, 1, 1, 1], [1, 0, 0, 0, 1, 1], [0, 1, 1, 0, 0, 1], [0, 0, 1, 1, 1, 0, 1], [0, 0, 0, 1, 1, 1, 1], [1, 0, 0, 1, 1, 1], [1, 0, 0, 0, 1, 1], [0, 0, 1, 1, 1, 0, 1], [0, 0, 0, 1, 1, 1, 1], [0, 0, 1, 0, 0, 1, 1], [1, 0, 1, 0, 1, 1], [0, 0, 1, 1, 1, 0, 1], [0, 0, 0, 1, 1, 1, 1], [0, 1, 1, 0, 0, 1, 1], [1, 0, 0, 1, 1, 1], [1, 0, 1, 0, 1, 1, 1], [0, 1, 0, 1, 1, 1], [0, 0, 1, 1, 1, 0, 1], [0, 0, 0, 1, 1, 1, 1], [1, 0, 0, 0, 0, 1, 1], [0, 0, 1, 0, 0, 1, 1], [1, 1, 0, 1, 1, 1, 1], [0, 0, 1, 1, 1, 0, 1], [0, 0, 0, 1, 1, 1, 1], [0, 1, 1, 0, 0, 1, 1], [1, 0, 1, 0, 0, 1, 1], [0, 0, 1, 1, 1, 0, 1], [0, 0, 0, 1, 1, 1, 1], [0, 1, 1, 0, 0, 1, 1], [1, 0, 1, 0, 1, 1], [0, 0, 1, 1, 1, 0, 1], [0, 0, 0, 1, 1, 1, 1], [0, 0, 1, 0, 0, 1, 1], [1, 0, 0, 0, 0, 1, 1], [0, 0, 1, 1, 1, 0, 1], [0, 0, 0, 1, 1, 1, 1], [1, 0, 0, 0, 1, 1], [0, 0, 0, 0, 1, 1], [0, 0, 1, 1, 1, 0, 1], [0, 0, 0, 1, 1, 1, 1], [0, 1, 1, 0, 0, 1, 1], [1, 0, 0, 1, 1, 1], [0, 0, 1, 1, 1, 0, 1], [0, 0, 0, 1, 1, 1, 1], [1, 1, 0, 0, 0, 1, 1], [0, 1, 0, 0, 0, 1, 1], [0, 0, 1, 1, 1, 0, 1], [0, 0, 0, 1, 1, 1, 1], [1, 0, 1, 0, 0, 1, 1], [0, 0, 1, 0, 1, 1], [0, 1, 0, 1, 1, 1, 1], [0, 0, 1, 1, 1, 0, 1], [0, 0, 0, 1, 1, 1, 1], [1, 0, 0, 0, 0, 1, 1], [0, 1, 1, 0, 0, 1, 1], [1, 0, 1, 1, 0, 0, 1], [0, 0, 1, 1, 1, 0, 1], [0, 0, 0, 1, 1, 1, 1], [0, 1, 0, 0, 0, 1, 1], [0, 1, 1, 0, 0, 1, 1], [1, 1, 1, 0, 0, 1]]\n",
            "Original message is: \t  [[0, 1, 0, 0, 0, 1, 1], [1, 1, 1, 0, 0, 1], [0, 0, 1, 1, 1, 0, 1], [0, 0, 0, 1, 1, 1, 1], [1, 0, 0, 1, 1, 1], [1, 0, 0, 0, 1, 1], [0, 1, 1, 0, 0, 1], [0, 0, 1, 1, 1, 0, 1], [0, 0, 0, 1, 1, 1, 1], [1, 0, 0, 1, 1, 1], [1, 0, 0, 0, 1, 1], [0, 0, 1, 1, 1, 0, 1], [0, 0, 0, 1, 1, 1, 1], [0, 0, 1, 0, 0, 1, 1], [1, 0, 1, 0, 1, 1], [0, 0, 1, 1, 1, 0, 1], [0, 0, 0, 1, 1, 1, 1], [0, 1, 1, 0, 0, 1, 1], [1, 0, 0, 1, 1, 1], [1, 0, 1, 0, 1, 1, 1], [0, 1, 0, 1, 1, 1], [0, 0, 1, 1, 1, 0, 1], [0, 0, 0, 1, 1, 1, 1], [1, 0, 0, 0, 0, 1, 1], [0, 0, 1, 0, 0, 1, 1], [1, 1, 0, 1, 1, 1, 1], [0, 0, 1, 1, 1, 0, 1], [0, 0, 0, 1, 1, 1, 1], [0, 1, 1, 0, 0, 1, 1], [1, 0, 1, 0, 0, 1, 1], [0, 0, 1, 1, 1, 0, 1], [0, 0, 0, 1, 1, 1, 1], [0, 1, 1, 0, 0, 1, 1], [1, 0, 1, 0, 1, 1], [0, 0, 1, 1, 1, 0, 1], [0, 0, 0, 1, 1, 1, 1], [0, 0, 1, 0, 0, 1, 1], [1, 0, 0, 0, 0, 1, 1], [0, 0, 1, 1, 1, 0, 1], [0, 0, 0, 1, 1, 1, 1], [1, 0, 0, 0, 1, 1], [0, 0, 0, 0, 1, 1], [0, 0, 1, 1, 1, 0, 1], [0, 0, 0, 1, 1, 1, 1], [0, 1, 1, 0, 0, 1, 1], [1, 0, 0, 1, 1, 1], [0, 0, 1, 1, 1, 0, 1], [0, 0, 0, 1, 1, 1, 1], [1, 1, 0, 0, 0, 1, 1], [0, 1, 0, 0, 0, 1, 1], [0, 0, 1, 1, 1, 0, 1], [0, 0, 0, 1, 1, 1, 1], [1, 0, 1, 0, 0, 1, 1], [0, 0, 1, 0, 1, 1], [0, 1, 0, 1, 1, 1, 1], [0, 0, 1, 1, 1, 0, 1], [0, 0, 0, 1, 1, 1, 1], [1, 0, 0, 0, 0, 1, 1], [0, 1, 1, 0, 0, 1, 1], [1, 0, 1, 1, 0, 0, 1], [0, 0, 1, 1, 1, 0, 1], [0, 0, 0, 1, 1, 1, 1], [0, 1, 0, 0, 0, 1, 1], [0, 1, 1, 0, 0, 1, 1], [1, 1, 1, 0, 0, 1]]\n",
            "Original message is: \t  [[0, 1, 0, 0, 0, 1, 1], [1, 1, 1, 0, 0, 1], [0, 0, 1, 1, 1, 0, 1], [0, 0, 0, 1, 1, 1, 1], [1, 0, 0, 1, 1, 1], [1, 0, 0, 0, 1, 1], [0, 1, 1, 0, 0, 1], [0, 0, 1, 1, 1, 0, 1], [0, 0, 0, 1, 1, 1, 1], [1, 0, 0, 1, 1, 1], [1, 0, 0, 0, 1, 1], [0, 0, 1, 1, 1, 0, 1], [0, 0, 0, 1, 1, 1, 1], [0, 0, 1, 0, 0, 1, 1], [1, 0, 1, 0, 1, 1], [0, 0, 1, 1, 1, 0, 1], [0, 0, 0, 1, 1, 1, 1], [0, 1, 1, 0, 0, 1, 1], [1, 0, 0, 1, 1, 1], [1, 0, 1, 0, 1, 1, 1], [0, 1, 0, 1, 1, 1], [0, 0, 1, 1, 1, 0, 1], [0, 0, 0, 1, 1, 1, 1], [1, 0, 0, 0, 0, 1, 1], [0, 0, 1, 0, 0, 1, 1], [1, 1, 0, 1, 1, 1, 1], [0, 0, 1, 1, 1, 0, 1], [0, 0, 0, 1, 1, 1, 1], [0, 1, 1, 0, 0, 1, 1], [1, 0, 1, 0, 0, 1, 1], [0, 0, 1, 1, 1, 0, 1], [0, 0, 0, 1, 1, 1, 1], [0, 1, 1, 0, 0, 1, 1], [1, 0, 1, 0, 1, 1], [0, 0, 1, 1, 1, 0, 1], [0, 0, 0, 1, 1, 1, 1], [0, 0, 1, 0, 0, 1, 1], [1, 0, 0, 0, 0, 1, 1], [0, 0, 1, 1, 1, 0, 1], [0, 0, 0, 1, 1, 1, 1], [1, 0, 0, 0, 1, 1], [0, 0, 0, 0, 1, 1], [0, 0, 1, 1, 1, 0, 1], [0, 0, 0, 1, 1, 1, 1], [0, 1, 1, 0, 0, 1, 1], [1, 0, 0, 1, 1, 1], [0, 0, 1, 1, 1, 0, 1], [0, 0, 0, 1, 1, 1, 1], [1, 1, 0, 0, 0, 1, 1], [0, 1, 0, 0, 0, 1, 1], [0, 0, 1, 1, 1, 0, 1], [0, 0, 0, 1, 1, 1, 1], [1, 0, 1, 0, 0, 1, 1], [0, 0, 1, 0, 1, 1], [0, 1, 0, 1, 1, 1, 1], [0, 0, 1, 1, 1, 0, 1], [0, 0, 0, 1, 1, 1, 1], [1, 0, 0, 0, 0, 1, 1], [0, 1, 1, 0, 0, 1, 1], [1, 0, 1, 1, 0, 0, 1], [0, 0, 1, 1, 1, 0, 1], [0, 0, 0, 1, 1, 1, 1], [0, 1, 0, 0, 0, 1, 1], [0, 1, 1, 0, 0, 1, 1], [1, 1, 1, 0, 0, 1]]\n",
            "Original message is: \t  [[0, 1, 0, 0, 0, 1, 1], [1, 1, 1, 0, 0, 1], [0, 0, 1, 1, 1, 0, 1], [0, 0, 0, 1, 1, 1, 1], [1, 0, 0, 1, 1, 1], [1, 0, 0, 0, 1, 1], [0, 1, 1, 0, 0, 1], [0, 0, 1, 1, 1, 0, 1], [0, 0, 0, 1, 1, 1, 1], [1, 0, 0, 1, 1, 1], [1, 0, 0, 0, 1, 1], [0, 0, 1, 1, 1, 0, 1], [0, 0, 0, 1, 1, 1, 1], [0, 0, 1, 0, 0, 1, 1], [1, 0, 1, 0, 1, 1], [0, 0, 1, 1, 1, 0, 1], [0, 0, 0, 1, 1, 1, 1], [0, 1, 1, 0, 0, 1, 1], [1, 0, 0, 1, 1, 1], [1, 0, 1, 0, 1, 1, 1], [0, 1, 0, 1, 1, 1], [0, 0, 1, 1, 1, 0, 1], [0, 0, 0, 1, 1, 1, 1], [1, 0, 0, 0, 0, 1, 1], [0, 0, 1, 0, 0, 1, 1], [1, 1, 0, 1, 1, 1, 1], [0, 0, 1, 1, 1, 0, 1], [0, 0, 0, 1, 1, 1, 1], [0, 1, 1, 0, 0, 1, 1], [1, 0, 1, 0, 0, 1, 1], [0, 0, 1, 1, 1, 0, 1], [0, 0, 0, 1, 1, 1, 1], [0, 1, 1, 0, 0, 1, 1], [1, 0, 1, 0, 1, 1], [0, 0, 1, 1, 1, 0, 1], [0, 0, 0, 1, 1, 1, 1], [0, 0, 1, 0, 0, 1, 1], [1, 0, 0, 0, 0, 1, 1], [0, 0, 1, 1, 1, 0, 1], [0, 0, 0, 1, 1, 1, 1], [1, 0, 0, 0, 1, 1], [0, 0, 0, 0, 1, 1], [0, 0, 1, 1, 1, 0, 1], [0, 0, 0, 1, 1, 1, 1], [0, 1, 1, 0, 0, 1, 1], [1, 0, 0, 1, 1, 1], [0, 0, 1, 1, 1, 0, 1], [0, 0, 0, 1, 1, 1, 1], [1, 1, 0, 0, 0, 1, 1], [0, 1, 0, 0, 0, 1, 1], [0, 0, 1, 1, 1, 0, 1], [0, 0, 0, 1, 1, 1, 1], [1, 0, 1, 0, 0, 1, 1], [0, 0, 1, 0, 1, 1], [0, 1, 0, 1, 1, 1, 1], [0, 0, 1, 1, 1, 0, 1], [0, 0, 0, 1, 1, 1, 1], [1, 0, 0, 0, 0, 1, 1], [0, 1, 1, 0, 0, 1, 1], [1, 0, 1, 1, 0, 0, 1], [0, 0, 1, 1, 1, 0, 1], [0, 0, 0, 1, 1, 1, 1], [0, 1, 0, 0, 0, 1, 1], [0, 1, 1, 0, 0, 1, 1], [1, 1, 1, 0, 0, 1]]\n",
            "Original message is: \t  [[0, 1, 0, 0, 0, 1, 1], [1, 1, 1, 0, 0, 1], [0, 0, 1, 1, 1, 0, 1], [0, 0, 0, 1, 1, 1, 1], [1, 0, 0, 1, 1, 1], [1, 0, 0, 0, 1, 1], [0, 1, 1, 0, 0, 1], [0, 0, 1, 1, 1, 0, 1], [0, 0, 0, 1, 1, 1, 1], [1, 0, 0, 1, 1, 1], [1, 0, 0, 0, 1, 1], [0, 0, 1, 1, 1, 0, 1], [0, 0, 0, 1, 1, 1, 1], [0, 0, 1, 0, 0, 1, 1], [1, 0, 1, 0, 1, 1], [0, 0, 1, 1, 1, 0, 1], [0, 0, 0, 1, 1, 1, 1], [0, 1, 1, 0, 0, 1, 1], [1, 0, 0, 1, 1, 1], [1, 0, 1, 0, 1, 1, 1], [0, 1, 0, 1, 1, 1], [0, 0, 1, 1, 1, 0, 1], [0, 0, 0, 1, 1, 1, 1], [1, 0, 0, 0, 0, 1, 1], [0, 0, 1, 0, 0, 1, 1], [1, 1, 0, 1, 1, 1, 1], [0, 0, 1, 1, 1, 0, 1], [0, 0, 0, 1, 1, 1, 1], [0, 1, 1, 0, 0, 1, 1], [1, 0, 1, 0, 0, 1, 1], [0, 0, 1, 1, 1, 0, 1], [0, 0, 0, 1, 1, 1, 1], [0, 1, 1, 0, 0, 1, 1], [1, 0, 1, 0, 1, 1], [0, 0, 1, 1, 1, 0, 1], [0, 0, 0, 1, 1, 1, 1], [0, 0, 1, 0, 0, 1, 1], [1, 0, 0, 0, 0, 1, 1], [0, 0, 1, 1, 1, 0, 1], [0, 0, 0, 1, 1, 1, 1], [1, 0, 0, 0, 1, 1], [0, 0, 0, 0, 1, 1], [0, 0, 1, 1, 1, 0, 1], [0, 0, 0, 1, 1, 1, 1], [0, 1, 1, 0, 0, 1, 1], [1, 0, 0, 1, 1, 1], [0, 0, 1, 1, 1, 0, 1], [0, 0, 0, 1, 1, 1, 1], [1, 1, 0, 0, 0, 1, 1], [0, 1, 0, 0, 0, 1, 1], [0, 0, 1, 1, 1, 0, 1], [0, 0, 0, 1, 1, 1, 1], [1, 0, 1, 0, 0, 1, 1], [0, 0, 1, 0, 1, 1], [0, 1, 0, 1, 1, 1, 1], [0, 0, 1, 1, 1, 0, 1], [0, 0, 0, 1, 1, 1, 1], [1, 0, 0, 0, 0, 1, 1], [0, 1, 1, 0, 0, 1, 1], [1, 0, 1, 1, 0, 0, 1], [0, 0, 1, 1, 1, 0, 1], [0, 0, 0, 1, 1, 1, 1], [0, 1, 0, 0, 0, 1, 1], [0, 1, 1, 0, 0, 1, 1], [1, 1, 1, 0, 0, 1]]\n",
            "Original message is: \t  [[0, 1, 0, 0, 0, 1, 1], [1, 1, 1, 0, 0, 1], [0, 0, 1, 1, 1, 0, 1], [0, 0, 0, 1, 1, 1, 1], [1, 0, 0, 1, 1, 1], [1, 0, 0, 0, 1, 1], [0, 1, 1, 0, 0, 1], [0, 0, 1, 1, 1, 0, 1], [0, 0, 0, 1, 1, 1, 1], [1, 0, 0, 1, 1, 1], [1, 0, 0, 0, 1, 1], [0, 0, 1, 1, 1, 0, 1], [0, 0, 0, 1, 1, 1, 1], [0, 0, 1, 0, 0, 1, 1], [1, 0, 1, 0, 1, 1], [0, 0, 1, 1, 1, 0, 1], [0, 0, 0, 1, 1, 1, 1], [0, 1, 1, 0, 0, 1, 1], [1, 0, 0, 1, 1, 1], [1, 0, 1, 0, 1, 1, 1], [0, 1, 0, 1, 1, 1], [0, 0, 1, 1, 1, 0, 1], [0, 0, 0, 1, 1, 1, 1], [1, 0, 0, 0, 0, 1, 1], [0, 0, 1, 0, 0, 1, 1], [1, 1, 0, 1, 1, 1, 1], [0, 0, 1, 1, 1, 0, 1], [0, 0, 0, 1, 1, 1, 1], [0, 1, 1, 0, 0, 1, 1], [1, 0, 1, 0, 0, 1, 1], [0, 0, 1, 1, 1, 0, 1], [0, 0, 0, 1, 1, 1, 1], [0, 1, 1, 0, 0, 1, 1], [1, 0, 1, 0, 1, 1], [0, 0, 1, 1, 1, 0, 1], [0, 0, 0, 1, 1, 1, 1], [0, 0, 1, 0, 0, 1, 1], [1, 0, 0, 0, 0, 1, 1], [0, 0, 1, 1, 1, 0, 1], [0, 0, 0, 1, 1, 1, 1], [1, 0, 0, 0, 1, 1], [0, 0, 0, 0, 1, 1], [0, 0, 1, 1, 1, 0, 1], [0, 0, 0, 1, 1, 1, 1], [0, 1, 1, 0, 0, 1, 1], [1, 0, 0, 1, 1, 1], [0, 0, 1, 1, 1, 0, 1], [0, 0, 0, 1, 1, 1, 1], [1, 1, 0, 0, 0, 1, 1], [0, 1, 0, 0, 0, 1, 1], [0, 0, 1, 1, 1, 0, 1], [0, 0, 0, 1, 1, 1, 1], [1, 0, 1, 0, 0, 1, 1], [0, 0, 1, 0, 1, 1], [0, 1, 0, 1, 1, 1, 1], [0, 0, 1, 1, 1, 0, 1], [0, 0, 0, 1, 1, 1, 1], [1, 0, 0, 0, 0, 1, 1], [0, 1, 1, 0, 0, 1, 1], [1, 0, 1, 1, 0, 0, 1], [0, 0, 1, 1, 1, 0, 1], [0, 0, 0, 1, 1, 1, 1], [0, 1, 0, 0, 0, 1, 1], [0, 1, 1, 0, 0, 1, 1], [1, 1, 1, 0, 0, 1]]\n",
            "Original message is: \t  [[0, 1, 0, 0, 0, 1, 1], [1, 1, 1, 0, 0, 1], [0, 0, 1, 1, 1, 0, 1], [0, 0, 0, 1, 1, 1, 1], [1, 0, 0, 1, 1, 1], [1, 0, 0, 0, 1, 1], [0, 1, 1, 0, 0, 1], [0, 0, 1, 1, 1, 0, 1], [0, 0, 0, 1, 1, 1, 1], [1, 0, 0, 1, 1, 1], [1, 0, 0, 0, 1, 1], [0, 0, 1, 1, 1, 0, 1], [0, 0, 0, 1, 1, 1, 1], [0, 0, 1, 0, 0, 1, 1], [1, 0, 1, 0, 1, 1], [0, 0, 1, 1, 1, 0, 1], [0, 0, 0, 1, 1, 1, 1], [0, 1, 1, 0, 0, 1, 1], [1, 0, 0, 1, 1, 1], [1, 0, 1, 0, 1, 1, 1], [0, 1, 0, 1, 1, 1], [0, 0, 1, 1, 1, 0, 1], [0, 0, 0, 1, 1, 1, 1], [1, 0, 0, 0, 0, 1, 1], [0, 0, 1, 0, 0, 1, 1], [1, 1, 0, 1, 1, 1, 1], [0, 0, 1, 1, 1, 0, 1], [0, 0, 0, 1, 1, 1, 1], [0, 1, 1, 0, 0, 1, 1], [1, 0, 1, 0, 0, 1, 1], [0, 0, 1, 1, 1, 0, 1], [0, 0, 0, 1, 1, 1, 1], [0, 1, 1, 0, 0, 1, 1], [1, 0, 1, 0, 1, 1], [0, 0, 1, 1, 1, 0, 1], [0, 0, 0, 1, 1, 1, 1], [0, 0, 1, 0, 0, 1, 1], [1, 0, 0, 0, 0, 1, 1], [0, 0, 1, 1, 1, 0, 1], [0, 0, 0, 1, 1, 1, 1], [1, 0, 0, 0, 1, 1], [0, 0, 0, 0, 1, 1], [0, 0, 1, 1, 1, 0, 1], [0, 0, 0, 1, 1, 1, 1], [0, 1, 1, 0, 0, 1, 1], [1, 0, 0, 1, 1, 1], [0, 0, 1, 1, 1, 0, 1], [0, 0, 0, 1, 1, 1, 1], [1, 1, 0, 0, 0, 1, 1], [0, 1, 0, 0, 0, 1, 1], [0, 0, 1, 1, 1, 0, 1], [0, 0, 0, 1, 1, 1, 1], [1, 0, 1, 0, 0, 1, 1], [0, 0, 1, 0, 1, 1], [0, 1, 0, 1, 1, 1, 1], [0, 0, 1, 1, 1, 0, 1], [0, 0, 0, 1, 1, 1, 1], [1, 0, 0, 0, 0, 1, 1], [0, 1, 1, 0, 0, 1, 1], [1, 0, 1, 1, 0, 0, 1], [0, 0, 1, 1, 1, 0, 1], [0, 0, 0, 1, 1, 1, 1], [0, 1, 0, 0, 0, 1, 1], [0, 1, 1, 0, 0, 1, 1], [1, 1, 1, 0, 0, 1]]\n",
            "Original message is: \t  [[0, 1, 0, 0, 0, 1, 1], [1, 1, 1, 0, 0, 1], [0, 0, 1, 1, 1, 0, 1], [0, 0, 0, 1, 1, 1, 1], [1, 0, 0, 1, 1, 1], [1, 0, 0, 0, 1, 1], [0, 1, 1, 0, 0, 1], [0, 0, 1, 1, 1, 0, 1], [0, 0, 0, 1, 1, 1, 1], [1, 0, 0, 1, 1, 1], [1, 0, 0, 0, 1, 1], [0, 0, 1, 1, 1, 0, 1], [0, 0, 0, 1, 1, 1, 1], [0, 0, 1, 0, 0, 1, 1], [1, 0, 1, 0, 1, 1], [0, 0, 1, 1, 1, 0, 1], [0, 0, 0, 1, 1, 1, 1], [0, 1, 1, 0, 0, 1, 1], [1, 0, 0, 1, 1, 1], [1, 0, 1, 0, 1, 1, 1], [0, 1, 0, 1, 1, 1], [0, 0, 1, 1, 1, 0, 1], [0, 0, 0, 1, 1, 1, 1], [1, 0, 0, 0, 0, 1, 1], [0, 0, 1, 0, 0, 1, 1], [1, 1, 0, 1, 1, 1, 1], [0, 0, 1, 1, 1, 0, 1], [0, 0, 0, 1, 1, 1, 1], [0, 1, 1, 0, 0, 1, 1], [1, 0, 1, 0, 0, 1, 1], [0, 0, 1, 1, 1, 0, 1], [0, 0, 0, 1, 1, 1, 1], [0, 1, 1, 0, 0, 1, 1], [1, 0, 1, 0, 1, 1], [0, 0, 1, 1, 1, 0, 1], [0, 0, 0, 1, 1, 1, 1], [0, 0, 1, 0, 0, 1, 1], [1, 0, 0, 0, 0, 1, 1], [0, 0, 1, 1, 1, 0, 1], [0, 0, 0, 1, 1, 1, 1], [1, 0, 0, 0, 1, 1], [0, 0, 0, 0, 1, 1], [0, 0, 1, 1, 1, 0, 1], [0, 0, 0, 1, 1, 1, 1], [0, 1, 1, 0, 0, 1, 1], [1, 0, 0, 1, 1, 1], [0, 0, 1, 1, 1, 0, 1], [0, 0, 0, 1, 1, 1, 1], [1, 1, 0, 0, 0, 1, 1], [0, 1, 0, 0, 0, 1, 1], [0, 0, 1, 1, 1, 0, 1], [0, 0, 0, 1, 1, 1, 1], [1, 0, 1, 0, 0, 1, 1], [0, 0, 1, 0, 1, 1], [0, 1, 0, 1, 1, 1, 1], [0, 0, 1, 1, 1, 0, 1], [0, 0, 0, 1, 1, 1, 1], [1, 0, 0, 0, 0, 1, 1], [0, 1, 1, 0, 0, 1, 1], [1, 0, 1, 1, 0, 0, 1], [0, 0, 1, 1, 1, 0, 1], [0, 0, 0, 1, 1, 1, 1], [0, 1, 0, 0, 0, 1, 1], [0, 1, 1, 0, 0, 1, 1], [1, 1, 1, 0, 0, 1]]\n",
            "Original message is: \t  [[0, 1, 0, 0, 0, 1, 1], [1, 1, 1, 0, 0, 1], [0, 0, 1, 1, 1, 0, 1], [0, 0, 0, 1, 1, 1, 1], [1, 0, 0, 1, 1, 1], [1, 0, 0, 0, 1, 1], [0, 1, 1, 0, 0, 1], [0, 0, 1, 1, 1, 0, 1], [0, 0, 0, 1, 1, 1, 1], [1, 0, 0, 1, 1, 1], [1, 0, 0, 0, 1, 1], [0, 0, 1, 1, 1, 0, 1], [0, 0, 0, 1, 1, 1, 1], [0, 0, 1, 0, 0, 1, 1], [1, 0, 1, 0, 1, 1], [0, 0, 1, 1, 1, 0, 1], [0, 0, 0, 1, 1, 1, 1], [0, 1, 1, 0, 0, 1, 1], [1, 0, 0, 1, 1, 1], [1, 0, 1, 0, 1, 1, 1], [0, 1, 0, 1, 1, 1], [0, 0, 1, 1, 1, 0, 1], [0, 0, 0, 1, 1, 1, 1], [1, 0, 0, 0, 0, 1, 1], [0, 0, 1, 0, 0, 1, 1], [1, 1, 0, 1, 1, 1, 1], [0, 0, 1, 1, 1, 0, 1], [0, 0, 0, 1, 1, 1, 1], [0, 1, 1, 0, 0, 1, 1], [1, 0, 1, 0, 0, 1, 1], [0, 0, 1, 1, 1, 0, 1], [0, 0, 0, 1, 1, 1, 1], [0, 1, 1, 0, 0, 1, 1], [1, 0, 1, 0, 1, 1], [0, 0, 1, 1, 1, 0, 1], [0, 0, 0, 1, 1, 1, 1], [0, 0, 1, 0, 0, 1, 1], [1, 0, 0, 0, 0, 1, 1], [0, 0, 1, 1, 1, 0, 1], [0, 0, 0, 1, 1, 1, 1], [1, 0, 0, 0, 1, 1], [0, 0, 0, 0, 1, 1], [0, 0, 1, 1, 1, 0, 1], [0, 0, 0, 1, 1, 1, 1], [0, 1, 1, 0, 0, 1, 1], [1, 0, 0, 1, 1, 1], [0, 0, 1, 1, 1, 0, 1], [0, 0, 0, 1, 1, 1, 1], [1, 1, 0, 0, 0, 1, 1], [0, 1, 0, 0, 0, 1, 1], [0, 0, 1, 1, 1, 0, 1], [0, 0, 0, 1, 1, 1, 1], [1, 0, 1, 0, 0, 1, 1], [0, 0, 1, 0, 1, 1], [0, 1, 0, 1, 1, 1, 1], [0, 0, 1, 1, 1, 0, 1], [0, 0, 0, 1, 1, 1, 1], [1, 0, 0, 0, 0, 1, 1], [0, 1, 1, 0, 0, 1, 1], [1, 0, 1, 1, 0, 0, 1], [0, 0, 1, 1, 1, 0, 1], [0, 0, 0, 1, 1, 1, 1], [0, 1, 0, 0, 0, 1, 1], [0, 1, 1, 0, 0, 1, 1], [1, 1, 1, 0, 0, 1]]\n",
            "Original message is: \t  [[0, 1, 0, 0, 0, 1, 1], [1, 1, 1, 0, 0, 1], [0, 0, 1, 1, 1, 0, 1], [0, 0, 0, 1, 1, 1, 1], [1, 0, 0, 1, 1, 1], [1, 0, 0, 0, 1, 1], [0, 1, 1, 0, 0, 1], [0, 0, 1, 1, 1, 0, 1], [0, 0, 0, 1, 1, 1, 1], [1, 0, 0, 1, 1, 1], [1, 0, 0, 0, 1, 1], [0, 0, 1, 1, 1, 0, 1], [0, 0, 0, 1, 1, 1, 1], [0, 0, 1, 0, 0, 1, 1], [1, 0, 1, 0, 1, 1], [0, 0, 1, 1, 1, 0, 1], [0, 0, 0, 1, 1, 1, 1], [0, 1, 1, 0, 0, 1, 1], [1, 0, 0, 1, 1, 1], [1, 0, 1, 0, 1, 1, 1], [0, 1, 0, 1, 1, 1], [0, 0, 1, 1, 1, 0, 1], [0, 0, 0, 1, 1, 1, 1], [1, 0, 0, 0, 0, 1, 1], [0, 0, 1, 0, 0, 1, 1], [1, 1, 0, 1, 1, 1, 1], [0, 0, 1, 1, 1, 0, 1], [0, 0, 0, 1, 1, 1, 1], [0, 1, 1, 0, 0, 1, 1], [1, 0, 1, 0, 0, 1, 1], [0, 0, 1, 1, 1, 0, 1], [0, 0, 0, 1, 1, 1, 1], [0, 1, 1, 0, 0, 1, 1], [1, 0, 1, 0, 1, 1], [0, 0, 1, 1, 1, 0, 1], [0, 0, 0, 1, 1, 1, 1], [0, 0, 1, 0, 0, 1, 1], [1, 0, 0, 0, 0, 1, 1], [0, 0, 1, 1, 1, 0, 1], [0, 0, 0, 1, 1, 1, 1], [1, 0, 0, 0, 1, 1], [0, 0, 0, 0, 1, 1], [0, 0, 1, 1, 1, 0, 1], [0, 0, 0, 1, 1, 1, 1], [0, 1, 1, 0, 0, 1, 1], [1, 0, 0, 1, 1, 1], [0, 0, 1, 1, 1, 0, 1], [0, 0, 0, 1, 1, 1, 1], [1, 1, 0, 0, 0, 1, 1], [0, 1, 0, 0, 0, 1, 1], [0, 0, 1, 1, 1, 0, 1], [0, 0, 0, 1, 1, 1, 1], [1, 0, 1, 0, 0, 1, 1], [0, 0, 1, 0, 1, 1], [0, 1, 0, 1, 1, 1, 1], [0, 0, 1, 1, 1, 0, 1], [0, 0, 0, 1, 1, 1, 1], [1, 0, 0, 0, 0, 1, 1], [0, 1, 1, 0, 0, 1, 1], [1, 0, 1, 1, 0, 0, 1], [0, 0, 1, 1, 1, 0, 1], [0, 0, 0, 1, 1, 1, 1], [0, 1, 0, 0, 0, 1, 1], [0, 1, 1, 0, 0, 1, 1], [1, 1, 1, 0, 0, 1]]\n",
            "Original message is: \t  [[0, 1, 0, 0, 0, 1, 1], [1, 1, 1, 0, 0, 1], [0, 0, 1, 1, 1, 0, 1], [0, 0, 0, 1, 1, 1, 1], [1, 0, 0, 1, 1, 1], [1, 0, 0, 0, 1, 1], [0, 1, 1, 0, 0, 1], [0, 0, 1, 1, 1, 0, 1], [0, 0, 0, 1, 1, 1, 1], [1, 0, 0, 1, 1, 1], [1, 0, 0, 0, 1, 1], [0, 0, 1, 1, 1, 0, 1], [0, 0, 0, 1, 1, 1, 1], [0, 0, 1, 0, 0, 1, 1], [1, 0, 1, 0, 1, 1], [0, 0, 1, 1, 1, 0, 1], [0, 0, 0, 1, 1, 1, 1], [0, 1, 1, 0, 0, 1, 1], [1, 0, 0, 1, 1, 1], [1, 0, 1, 0, 1, 1, 1], [0, 1, 0, 1, 1, 1], [0, 0, 1, 1, 1, 0, 1], [0, 0, 0, 1, 1, 1, 1], [1, 0, 0, 0, 0, 1, 1], [0, 0, 1, 0, 0, 1, 1], [1, 1, 0, 1, 1, 1, 1], [0, 0, 1, 1, 1, 0, 1], [0, 0, 0, 1, 1, 1, 1], [0, 1, 1, 0, 0, 1, 1], [1, 0, 1, 0, 0, 1, 1], [0, 0, 1, 1, 1, 0, 1], [0, 0, 0, 1, 1, 1, 1], [0, 1, 1, 0, 0, 1, 1], [1, 0, 1, 0, 1, 1], [0, 0, 1, 1, 1, 0, 1], [0, 0, 0, 1, 1, 1, 1], [0, 0, 1, 0, 0, 1, 1], [1, 0, 0, 0, 0, 1, 1], [0, 0, 1, 1, 1, 0, 1], [0, 0, 0, 1, 1, 1, 1], [1, 0, 0, 0, 1, 1], [0, 0, 0, 0, 1, 1], [0, 0, 1, 1, 1, 0, 1], [0, 0, 0, 1, 1, 1, 1], [0, 1, 1, 0, 0, 1, 1], [1, 0, 0, 1, 1, 1], [0, 0, 1, 1, 1, 0, 1], [0, 0, 0, 1, 1, 1, 1], [1, 1, 0, 0, 0, 1, 1], [0, 1, 0, 0, 0, 1, 1], [0, 0, 1, 1, 1, 0, 1], [0, 0, 0, 1, 1, 1, 1], [1, 0, 1, 0, 0, 1, 1], [0, 0, 1, 0, 1, 1], [0, 1, 0, 1, 1, 1, 1], [0, 0, 1, 1, 1, 0, 1], [0, 0, 0, 1, 1, 1, 1], [1, 0, 0, 0, 0, 1, 1], [0, 1, 1, 0, 0, 1, 1], [1, 0, 1, 1, 0, 0, 1], [0, 0, 1, 1, 1, 0, 1], [0, 0, 0, 1, 1, 1, 1], [0, 1, 0, 0, 0, 1, 1], [0, 1, 1, 0, 0, 1, 1], [1, 1, 1, 0, 0, 1]]\n",
            "Original message is: \t  [[0, 1, 0, 0, 0, 1, 1], [1, 1, 1, 0, 0, 1], [0, 0, 1, 1, 1, 0, 1], [0, 0, 0, 1, 1, 1, 1], [1, 0, 0, 1, 1, 1], [1, 0, 0, 0, 1, 1], [0, 1, 1, 0, 0, 1], [0, 0, 1, 1, 1, 0, 1], [0, 0, 0, 1, 1, 1, 1], [1, 0, 0, 1, 1, 1], [1, 0, 0, 0, 1, 1], [0, 0, 1, 1, 1, 0, 1], [0, 0, 0, 1, 1, 1, 1], [0, 0, 1, 0, 0, 1, 1], [1, 0, 1, 0, 1, 1], [0, 0, 1, 1, 1, 0, 1], [0, 0, 0, 1, 1, 1, 1], [0, 1, 1, 0, 0, 1, 1], [1, 0, 0, 1, 1, 1], [1, 0, 1, 0, 1, 1, 1], [0, 1, 0, 1, 1, 1], [0, 0, 1, 1, 1, 0, 1], [0, 0, 0, 1, 1, 1, 1], [1, 0, 0, 0, 0, 1, 1], [0, 0, 1, 0, 0, 1, 1], [1, 1, 0, 1, 1, 1, 1], [0, 0, 1, 1, 1, 0, 1], [0, 0, 0, 1, 1, 1, 1], [0, 1, 1, 0, 0, 1, 1], [1, 0, 1, 0, 0, 1, 1], [0, 0, 1, 1, 1, 0, 1], [0, 0, 0, 1, 1, 1, 1], [0, 1, 1, 0, 0, 1, 1], [1, 0, 1, 0, 1, 1], [0, 0, 1, 1, 1, 0, 1], [0, 0, 0, 1, 1, 1, 1], [0, 0, 1, 0, 0, 1, 1], [1, 0, 0, 0, 0, 1, 1], [0, 0, 1, 1, 1, 0, 1], [0, 0, 0, 1, 1, 1, 1], [1, 0, 0, 0, 1, 1], [0, 0, 0, 0, 1, 1], [0, 0, 1, 1, 1, 0, 1], [0, 0, 0, 1, 1, 1, 1], [0, 1, 1, 0, 0, 1, 1], [1, 0, 0, 1, 1, 1], [0, 0, 1, 1, 1, 0, 1], [0, 0, 0, 1, 1, 1, 1], [1, 1, 0, 0, 0, 1, 1], [0, 1, 0, 0, 0, 1, 1], [0, 0, 1, 1, 1, 0, 1], [0, 0, 0, 1, 1, 1, 1], [1, 0, 1, 0, 0, 1, 1], [0, 0, 1, 0, 1, 1], [0, 1, 0, 1, 1, 1, 1], [0, 0, 1, 1, 1, 0, 1], [0, 0, 0, 1, 1, 1, 1], [1, 0, 0, 0, 0, 1, 1], [0, 1, 1, 0, 0, 1, 1], [1, 0, 1, 1, 0, 0, 1], [0, 0, 1, 1, 1, 0, 1], [0, 0, 0, 1, 1, 1, 1], [0, 1, 0, 0, 0, 1, 1], [0, 1, 1, 0, 0, 1, 1], [1, 1, 1, 0, 0, 1]]\n",
            "Original message is: \t  [[0, 1, 0, 0, 0, 1, 1], [1, 1, 1, 0, 0, 1], [0, 0, 1, 1, 1, 0, 1], [0, 0, 0, 1, 1, 1, 1], [1, 0, 0, 1, 1, 1], [1, 0, 0, 0, 1, 1], [0, 1, 1, 0, 0, 1], [0, 0, 1, 1, 1, 0, 1], [0, 0, 0, 1, 1, 1, 1], [1, 0, 0, 1, 1, 1], [1, 0, 0, 0, 1, 1], [0, 0, 1, 1, 1, 0, 1], [0, 0, 0, 1, 1, 1, 1], [0, 0, 1, 0, 0, 1, 1], [1, 0, 1, 0, 1, 1], [0, 0, 1, 1, 1, 0, 1], [0, 0, 0, 1, 1, 1, 1], [0, 1, 1, 0, 0, 1, 1], [1, 0, 0, 1, 1, 1], [1, 0, 1, 0, 1, 1, 1], [0, 1, 0, 1, 1, 1], [0, 0, 1, 1, 1, 0, 1], [0, 0, 0, 1, 1, 1, 1], [1, 0, 0, 0, 0, 1, 1], [0, 0, 1, 0, 0, 1, 1], [1, 1, 0, 1, 1, 1, 1], [0, 0, 1, 1, 1, 0, 1], [0, 0, 0, 1, 1, 1, 1], [0, 1, 1, 0, 0, 1, 1], [1, 0, 1, 0, 0, 1, 1], [0, 0, 1, 1, 1, 0, 1], [0, 0, 0, 1, 1, 1, 1], [0, 1, 1, 0, 0, 1, 1], [1, 0, 1, 0, 1, 1], [0, 0, 1, 1, 1, 0, 1], [0, 0, 0, 1, 1, 1, 1], [0, 0, 1, 0, 0, 1, 1], [1, 0, 0, 0, 0, 1, 1], [0, 0, 1, 1, 1, 0, 1], [0, 0, 0, 1, 1, 1, 1], [1, 0, 0, 0, 1, 1], [0, 0, 0, 0, 1, 1], [0, 0, 1, 1, 1, 0, 1], [0, 0, 0, 1, 1, 1, 1], [0, 1, 1, 0, 0, 1, 1], [1, 0, 0, 1, 1, 1], [0, 0, 1, 1, 1, 0, 1], [0, 0, 0, 1, 1, 1, 1], [1, 1, 0, 0, 0, 1, 1], [0, 1, 0, 0, 0, 1, 1], [0, 0, 1, 1, 1, 0, 1], [0, 0, 0, 1, 1, 1, 1], [1, 0, 1, 0, 0, 1, 1], [0, 0, 1, 0, 1, 1], [0, 1, 0, 1, 1, 1, 1], [0, 0, 1, 1, 1, 0, 1], [0, 0, 0, 1, 1, 1, 1], [1, 0, 0, 0, 0, 1, 1], [0, 1, 1, 0, 0, 1, 1], [1, 0, 1, 1, 0, 0, 1], [0, 0, 1, 1, 1, 0, 1], [0, 0, 0, 1, 1, 1, 1], [0, 1, 0, 0, 0, 1, 1], [0, 1, 1, 0, 0, 1, 1], [1, 1, 1, 0, 0, 1]]\n",
            "Original message is: \t  [[0, 1, 0, 0, 0, 1, 1], [1, 1, 1, 0, 0, 1], [0, 0, 1, 1, 1, 0, 1], [0, 0, 0, 1, 1, 1, 1], [1, 0, 0, 1, 1, 1], [1, 0, 0, 0, 1, 1], [0, 1, 1, 0, 0, 1], [0, 0, 1, 1, 1, 0, 1], [0, 0, 0, 1, 1, 1, 1], [1, 0, 0, 1, 1, 1], [1, 0, 0, 0, 1, 1], [0, 0, 1, 1, 1, 0, 1], [0, 0, 0, 1, 1, 1, 1], [0, 0, 1, 0, 0, 1, 1], [1, 0, 1, 0, 1, 1], [0, 0, 1, 1, 1, 0, 1], [0, 0, 0, 1, 1, 1, 1], [0, 1, 1, 0, 0, 1, 1], [1, 0, 0, 1, 1, 1], [1, 0, 1, 0, 1, 1, 1], [0, 1, 0, 1, 1, 1], [0, 0, 1, 1, 1, 0, 1], [0, 0, 0, 1, 1, 1, 1], [1, 0, 0, 0, 0, 1, 1], [0, 0, 1, 0, 0, 1, 1], [1, 1, 0, 1, 1, 1, 1], [0, 0, 1, 1, 1, 0, 1], [0, 0, 0, 1, 1, 1, 1], [0, 1, 1, 0, 0, 1, 1], [1, 0, 1, 0, 0, 1, 1], [0, 0, 1, 1, 1, 0, 1], [0, 0, 0, 1, 1, 1, 1], [0, 1, 1, 0, 0, 1, 1], [1, 0, 1, 0, 1, 1], [0, 0, 1, 1, 1, 0, 1], [0, 0, 0, 1, 1, 1, 1], [0, 0, 1, 0, 0, 1, 1], [1, 0, 0, 0, 0, 1, 1], [0, 0, 1, 1, 1, 0, 1], [0, 0, 0, 1, 1, 1, 1], [1, 0, 0, 0, 1, 1], [0, 0, 0, 0, 1, 1], [0, 0, 1, 1, 1, 0, 1], [0, 0, 0, 1, 1, 1, 1], [0, 1, 1, 0, 0, 1, 1], [1, 0, 0, 1, 1, 1], [0, 0, 1, 1, 1, 0, 1], [0, 0, 0, 1, 1, 1, 1], [1, 1, 0, 0, 0, 1, 1], [0, 1, 0, 0, 0, 1, 1], [0, 0, 1, 1, 1, 0, 1], [0, 0, 0, 1, 1, 1, 1], [1, 0, 1, 0, 0, 1, 1], [0, 0, 1, 0, 1, 1], [0, 1, 0, 1, 1, 1, 1], [0, 0, 1, 1, 1, 0, 1], [0, 0, 0, 1, 1, 1, 1], [1, 0, 0, 0, 0, 1, 1], [0, 1, 1, 0, 0, 1, 1], [1, 0, 1, 1, 0, 0, 1], [0, 0, 1, 1, 1, 0, 1], [0, 0, 0, 1, 1, 1, 1], [0, 1, 0, 0, 0, 1, 1], [0, 1, 1, 0, 0, 1, 1], [1, 1, 1, 0, 0, 1]]\n",
            "Original message is: \t  [[0, 1, 0, 0, 0, 1, 1], [1, 1, 1, 0, 0, 1], [0, 0, 1, 1, 1, 0, 1], [0, 0, 0, 1, 1, 1, 1], [1, 0, 0, 1, 1, 1], [1, 0, 0, 0, 1, 1], [0, 1, 1, 0, 0, 1], [0, 0, 1, 1, 1, 0, 1], [0, 0, 0, 1, 1, 1, 1], [1, 0, 0, 1, 1, 1], [1, 0, 0, 0, 1, 1], [0, 0, 1, 1, 1, 0, 1], [0, 0, 0, 1, 1, 1, 1], [0, 0, 1, 0, 0, 1, 1], [1, 0, 1, 0, 1, 1], [0, 0, 1, 1, 1, 0, 1], [0, 0, 0, 1, 1, 1, 1], [0, 1, 1, 0, 0, 1, 1], [1, 0, 0, 1, 1, 1], [1, 0, 1, 0, 1, 1, 1], [0, 1, 0, 1, 1, 1], [0, 0, 1, 1, 1, 0, 1], [0, 0, 0, 1, 1, 1, 1], [1, 0, 0, 0, 0, 1, 1], [0, 0, 1, 0, 0, 1, 1], [1, 1, 0, 1, 1, 1, 1], [0, 0, 1, 1, 1, 0, 1], [0, 0, 0, 1, 1, 1, 1], [0, 1, 1, 0, 0, 1, 1], [1, 0, 1, 0, 0, 1, 1], [0, 0, 1, 1, 1, 0, 1], [0, 0, 0, 1, 1, 1, 1], [0, 1, 1, 0, 0, 1, 1], [1, 0, 1, 0, 1, 1], [0, 0, 1, 1, 1, 0, 1], [0, 0, 0, 1, 1, 1, 1], [0, 0, 1, 0, 0, 1, 1], [1, 0, 0, 0, 0, 1, 1], [0, 0, 1, 1, 1, 0, 1], [0, 0, 0, 1, 1, 1, 1], [1, 0, 0, 0, 1, 1], [0, 0, 0, 0, 1, 1], [0, 0, 1, 1, 1, 0, 1], [0, 0, 0, 1, 1, 1, 1], [0, 1, 1, 0, 0, 1, 1], [1, 0, 0, 1, 1, 1], [0, 0, 1, 1, 1, 0, 1], [0, 0, 0, 1, 1, 1, 1], [1, 1, 0, 0, 0, 1, 1], [0, 1, 0, 0, 0, 1, 1], [0, 0, 1, 1, 1, 0, 1], [0, 0, 0, 1, 1, 1, 1], [1, 0, 1, 0, 0, 1, 1], [0, 0, 1, 0, 1, 1], [0, 1, 0, 1, 1, 1, 1], [0, 0, 1, 1, 1, 0, 1], [0, 0, 0, 1, 1, 1, 1], [1, 0, 0, 0, 0, 1, 1], [0, 1, 1, 0, 0, 1, 1], [1, 0, 1, 1, 0, 0, 1], [0, 0, 1, 1, 1, 0, 1], [0, 0, 0, 1, 1, 1, 1], [0, 1, 0, 0, 0, 1, 1], [0, 1, 1, 0, 0, 1, 1], [1, 1, 1, 0, 0, 1]]\n",
            "Original message is: \t  [[0, 1, 0, 0, 0, 1, 1], [1, 1, 1, 0, 0, 1], [0, 0, 1, 1, 1, 0, 1], [0, 0, 0, 1, 1, 1, 1], [1, 0, 0, 1, 1, 1], [1, 0, 0, 0, 1, 1], [0, 1, 1, 0, 0, 1], [0, 0, 1, 1, 1, 0, 1], [0, 0, 0, 1, 1, 1, 1], [1, 0, 0, 1, 1, 1], [1, 0, 0, 0, 1, 1], [0, 0, 1, 1, 1, 0, 1], [0, 0, 0, 1, 1, 1, 1], [0, 0, 1, 0, 0, 1, 1], [1, 0, 1, 0, 1, 1], [0, 0, 1, 1, 1, 0, 1], [0, 0, 0, 1, 1, 1, 1], [0, 1, 1, 0, 0, 1, 1], [1, 0, 0, 1, 1, 1], [1, 0, 1, 0, 1, 1, 1], [0, 1, 0, 1, 1, 1], [0, 0, 1, 1, 1, 0, 1], [0, 0, 0, 1, 1, 1, 1], [1, 0, 0, 0, 0, 1, 1], [0, 0, 1, 0, 0, 1, 1], [1, 1, 0, 1, 1, 1, 1], [0, 0, 1, 1, 1, 0, 1], [0, 0, 0, 1, 1, 1, 1], [0, 1, 1, 0, 0, 1, 1], [1, 0, 1, 0, 0, 1, 1], [0, 0, 1, 1, 1, 0, 1], [0, 0, 0, 1, 1, 1, 1], [0, 1, 1, 0, 0, 1, 1], [1, 0, 1, 0, 1, 1], [0, 0, 1, 1, 1, 0, 1], [0, 0, 0, 1, 1, 1, 1], [0, 0, 1, 0, 0, 1, 1], [1, 0, 0, 0, 0, 1, 1], [0, 0, 1, 1, 1, 0, 1], [0, 0, 0, 1, 1, 1, 1], [1, 0, 0, 0, 1, 1], [0, 0, 0, 0, 1, 1], [0, 0, 1, 1, 1, 0, 1], [0, 0, 0, 1, 1, 1, 1], [0, 1, 1, 0, 0, 1, 1], [1, 0, 0, 1, 1, 1], [0, 0, 1, 1, 1, 0, 1], [0, 0, 0, 1, 1, 1, 1], [1, 1, 0, 0, 0, 1, 1], [0, 1, 0, 0, 0, 1, 1], [0, 0, 1, 1, 1, 0, 1], [0, 0, 0, 1, 1, 1, 1], [1, 0, 1, 0, 0, 1, 1], [0, 0, 1, 0, 1, 1], [0, 1, 0, 1, 1, 1, 1], [0, 0, 1, 1, 1, 0, 1], [0, 0, 0, 1, 1, 1, 1], [1, 0, 0, 0, 0, 1, 1], [0, 1, 1, 0, 0, 1, 1], [1, 0, 1, 1, 0, 0, 1], [0, 0, 1, 1, 1, 0, 1], [0, 0, 0, 1, 1, 1, 1], [0, 1, 0, 0, 0, 1, 1], [0, 1, 1, 0, 0, 1, 1], [1, 1, 1, 0, 0, 1]]\n",
            "Original message is: \t  [[0, 1, 0, 0, 0, 1, 1], [1, 1, 1, 0, 0, 1], [0, 0, 1, 1, 1, 0, 1], [0, 0, 0, 1, 1, 1, 1], [1, 0, 0, 1, 1, 1], [1, 0, 0, 0, 1, 1], [0, 1, 1, 0, 0, 1], [0, 0, 1, 1, 1, 0, 1], [0, 0, 0, 1, 1, 1, 1], [1, 0, 0, 1, 1, 1], [1, 0, 0, 0, 1, 1], [0, 0, 1, 1, 1, 0, 1], [0, 0, 0, 1, 1, 1, 1], [0, 0, 1, 0, 0, 1, 1], [1, 0, 1, 0, 1, 1], [0, 0, 1, 1, 1, 0, 1], [0, 0, 0, 1, 1, 1, 1], [0, 1, 1, 0, 0, 1, 1], [1, 0, 0, 1, 1, 1], [1, 0, 1, 0, 1, 1, 1], [0, 1, 0, 1, 1, 1], [0, 0, 1, 1, 1, 0, 1], [0, 0, 0, 1, 1, 1, 1], [1, 0, 0, 0, 0, 1, 1], [0, 0, 1, 0, 0, 1, 1], [1, 1, 0, 1, 1, 1, 1], [0, 0, 1, 1, 1, 0, 1], [0, 0, 0, 1, 1, 1, 1], [0, 1, 1, 0, 0, 1, 1], [1, 0, 1, 0, 0, 1, 1], [0, 0, 1, 1, 1, 0, 1], [0, 0, 0, 1, 1, 1, 1], [0, 1, 1, 0, 0, 1, 1], [1, 0, 1, 0, 1, 1], [0, 0, 1, 1, 1, 0, 1], [0, 0, 0, 1, 1, 1, 1], [0, 0, 1, 0, 0, 1, 1], [1, 0, 0, 0, 0, 1, 1], [0, 0, 1, 1, 1, 0, 1], [0, 0, 0, 1, 1, 1, 1], [1, 0, 0, 0, 1, 1], [0, 0, 0, 0, 1, 1], [0, 0, 1, 1, 1, 0, 1], [0, 0, 0, 1, 1, 1, 1], [0, 1, 1, 0, 0, 1, 1], [1, 0, 0, 1, 1, 1], [0, 0, 1, 1, 1, 0, 1], [0, 0, 0, 1, 1, 1, 1], [1, 1, 0, 0, 0, 1, 1], [0, 1, 0, 0, 0, 1, 1], [0, 0, 1, 1, 1, 0, 1], [0, 0, 0, 1, 1, 1, 1], [1, 0, 1, 0, 0, 1, 1], [0, 0, 1, 0, 1, 1], [0, 1, 0, 1, 1, 1, 1], [0, 0, 1, 1, 1, 0, 1], [0, 0, 0, 1, 1, 1, 1], [1, 0, 0, 0, 0, 1, 1], [0, 1, 1, 0, 0, 1, 1], [1, 0, 1, 1, 0, 0, 1], [0, 0, 1, 1, 1, 0, 1], [0, 0, 0, 1, 1, 1, 1], [0, 1, 0, 0, 0, 1, 1], [0, 1, 1, 0, 0, 1, 1], [1, 1, 1, 0, 0, 1]]\n",
            "Original message is: \t  [[0, 1, 0, 0, 0, 1, 1], [1, 1, 1, 0, 0, 1], [0, 0, 1, 1, 1, 0, 1], [0, 0, 0, 1, 1, 1, 1], [1, 0, 0, 1, 1, 1], [1, 0, 0, 0, 1, 1], [0, 1, 1, 0, 0, 1], [0, 0, 1, 1, 1, 0, 1], [0, 0, 0, 1, 1, 1, 1], [1, 0, 0, 1, 1, 1], [1, 0, 0, 0, 1, 1], [0, 0, 1, 1, 1, 0, 1], [0, 0, 0, 1, 1, 1, 1], [0, 0, 1, 0, 0, 1, 1], [1, 0, 1, 0, 1, 1], [0, 0, 1, 1, 1, 0, 1], [0, 0, 0, 1, 1, 1, 1], [0, 1, 1, 0, 0, 1, 1], [1, 0, 0, 1, 1, 1], [1, 0, 1, 0, 1, 1, 1], [0, 1, 0, 1, 1, 1], [0, 0, 1, 1, 1, 0, 1], [0, 0, 0, 1, 1, 1, 1], [1, 0, 0, 0, 0, 1, 1], [0, 0, 1, 0, 0, 1, 1], [1, 1, 0, 1, 1, 1, 1], [0, 0, 1, 1, 1, 0, 1], [0, 0, 0, 1, 1, 1, 1], [0, 1, 1, 0, 0, 1, 1], [1, 0, 1, 0, 0, 1, 1], [0, 0, 1, 1, 1, 0, 1], [0, 0, 0, 1, 1, 1, 1], [0, 1, 1, 0, 0, 1, 1], [1, 0, 1, 0, 1, 1], [0, 0, 1, 1, 1, 0, 1], [0, 0, 0, 1, 1, 1, 1], [0, 0, 1, 0, 0, 1, 1], [1, 0, 0, 0, 0, 1, 1], [0, 0, 1, 1, 1, 0, 1], [0, 0, 0, 1, 1, 1, 1], [1, 0, 0, 0, 1, 1], [0, 0, 0, 0, 1, 1], [0, 0, 1, 1, 1, 0, 1], [0, 0, 0, 1, 1, 1, 1], [0, 1, 1, 0, 0, 1, 1], [1, 0, 0, 1, 1, 1], [0, 0, 1, 1, 1, 0, 1], [0, 0, 0, 1, 1, 1, 1], [1, 1, 0, 0, 0, 1, 1], [0, 1, 0, 0, 0, 1, 1], [0, 0, 1, 1, 1, 0, 1], [0, 0, 0, 1, 1, 1, 1], [1, 0, 1, 0, 0, 1, 1], [0, 0, 1, 0, 1, 1], [0, 1, 0, 1, 1, 1, 1], [0, 0, 1, 1, 1, 0, 1], [0, 0, 0, 1, 1, 1, 1], [1, 0, 0, 0, 0, 1, 1], [0, 1, 1, 0, 0, 1, 1], [1, 0, 1, 1, 0, 0, 1], [0, 0, 1, 1, 1, 0, 1], [0, 0, 0, 1, 1, 1, 1], [0, 1, 0, 0, 0, 1, 1], [0, 1, 1, 0, 0, 1, 1], [1, 1, 1, 0, 0, 1]]\n",
            "Original message is: \t  [[0, 1, 0, 0, 0, 1, 1], [1, 1, 1, 0, 0, 1], [0, 0, 1, 1, 1, 0, 1], [0, 0, 0, 1, 1, 1, 1], [1, 0, 0, 1, 1, 1], [1, 0, 0, 0, 1, 1], [0, 1, 1, 0, 0, 1], [0, 0, 1, 1, 1, 0, 1], [0, 0, 0, 1, 1, 1, 1], [1, 0, 0, 1, 1, 1], [1, 0, 0, 0, 1, 1], [0, 0, 1, 1, 1, 0, 1], [0, 0, 0, 1, 1, 1, 1], [0, 0, 1, 0, 0, 1, 1], [1, 0, 1, 0, 1, 1], [0, 0, 1, 1, 1, 0, 1], [0, 0, 0, 1, 1, 1, 1], [0, 1, 1, 0, 0, 1, 1], [1, 0, 0, 1, 1, 1], [1, 0, 1, 0, 1, 1, 1], [0, 1, 0, 1, 1, 1], [0, 0, 1, 1, 1, 0, 1], [0, 0, 0, 1, 1, 1, 1], [1, 0, 0, 0, 0, 1, 1], [0, 0, 1, 0, 0, 1, 1], [1, 1, 0, 1, 1, 1, 1], [0, 0, 1, 1, 1, 0, 1], [0, 0, 0, 1, 1, 1, 1], [0, 1, 1, 0, 0, 1, 1], [1, 0, 1, 0, 0, 1, 1], [0, 0, 1, 1, 1, 0, 1], [0, 0, 0, 1, 1, 1, 1], [0, 1, 1, 0, 0, 1, 1], [1, 0, 1, 0, 1, 1], [0, 0, 1, 1, 1, 0, 1], [0, 0, 0, 1, 1, 1, 1], [0, 0, 1, 0, 0, 1, 1], [1, 0, 0, 0, 0, 1, 1], [0, 0, 1, 1, 1, 0, 1], [0, 0, 0, 1, 1, 1, 1], [1, 0, 0, 0, 1, 1], [0, 0, 0, 0, 1, 1], [0, 0, 1, 1, 1, 0, 1], [0, 0, 0, 1, 1, 1, 1], [0, 1, 1, 0, 0, 1, 1], [1, 0, 0, 1, 1, 1], [0, 0, 1, 1, 1, 0, 1], [0, 0, 0, 1, 1, 1, 1], [1, 1, 0, 0, 0, 1, 1], [0, 1, 0, 0, 0, 1, 1], [0, 0, 1, 1, 1, 0, 1], [0, 0, 0, 1, 1, 1, 1], [1, 0, 1, 0, 0, 1, 1], [0, 0, 1, 0, 1, 1], [0, 1, 0, 1, 1, 1, 1], [0, 0, 1, 1, 1, 0, 1], [0, 0, 0, 1, 1, 1, 1], [1, 0, 0, 0, 0, 1, 1], [0, 1, 1, 0, 0, 1, 1], [1, 0, 1, 1, 0, 0, 1], [0, 0, 1, 1, 1, 0, 1], [0, 0, 0, 1, 1, 1, 1], [0, 1, 0, 0, 0, 1, 1], [0, 1, 1, 0, 0, 1, 1], [1, 1, 1, 0, 0, 1]]\n",
            "Original message is: \t  [[0, 1, 0, 0, 0, 1, 1], [1, 1, 1, 0, 0, 1], [0, 0, 1, 1, 1, 0, 1], [0, 0, 0, 1, 1, 1, 1], [1, 0, 0, 1, 1, 1], [1, 0, 0, 0, 1, 1], [0, 1, 1, 0, 0, 1], [0, 0, 1, 1, 1, 0, 1], [0, 0, 0, 1, 1, 1, 1], [1, 0, 0, 1, 1, 1], [1, 0, 0, 0, 1, 1], [0, 0, 1, 1, 1, 0, 1], [0, 0, 0, 1, 1, 1, 1], [0, 0, 1, 0, 0, 1, 1], [1, 0, 1, 0, 1, 1], [0, 0, 1, 1, 1, 0, 1], [0, 0, 0, 1, 1, 1, 1], [0, 1, 1, 0, 0, 1, 1], [1, 0, 0, 1, 1, 1], [1, 0, 1, 0, 1, 1, 1], [0, 1, 0, 1, 1, 1], [0, 0, 1, 1, 1, 0, 1], [0, 0, 0, 1, 1, 1, 1], [1, 0, 0, 0, 0, 1, 1], [0, 0, 1, 0, 0, 1, 1], [1, 1, 0, 1, 1, 1, 1], [0, 0, 1, 1, 1, 0, 1], [0, 0, 0, 1, 1, 1, 1], [0, 1, 1, 0, 0, 1, 1], [1, 0, 1, 0, 0, 1, 1], [0, 0, 1, 1, 1, 0, 1], [0, 0, 0, 1, 1, 1, 1], [0, 1, 1, 0, 0, 1, 1], [1, 0, 1, 0, 1, 1], [0, 0, 1, 1, 1, 0, 1], [0, 0, 0, 1, 1, 1, 1], [0, 0, 1, 0, 0, 1, 1], [1, 0, 0, 0, 0, 1, 1], [0, 0, 1, 1, 1, 0, 1], [0, 0, 0, 1, 1, 1, 1], [1, 0, 0, 0, 1, 1], [0, 0, 0, 0, 1, 1], [0, 0, 1, 1, 1, 0, 1], [0, 0, 0, 1, 1, 1, 1], [0, 1, 1, 0, 0, 1, 1], [1, 0, 0, 1, 1, 1], [0, 0, 1, 1, 1, 0, 1], [0, 0, 0, 1, 1, 1, 1], [1, 1, 0, 0, 0, 1, 1], [0, 1, 0, 0, 0, 1, 1], [0, 0, 1, 1, 1, 0, 1], [0, 0, 0, 1, 1, 1, 1], [1, 0, 1, 0, 0, 1, 1], [0, 0, 1, 0, 1, 1], [0, 1, 0, 1, 1, 1, 1], [0, 0, 1, 1, 1, 0, 1], [0, 0, 0, 1, 1, 1, 1], [1, 0, 0, 0, 0, 1, 1], [0, 1, 1, 0, 0, 1, 1], [1, 0, 1, 1, 0, 0, 1], [0, 0, 1, 1, 1, 0, 1], [0, 0, 0, 1, 1, 1, 1], [0, 1, 0, 0, 0, 1, 1], [0, 1, 1, 0, 0, 1, 1], [1, 1, 1, 0, 0, 1]]\n",
            "Original message is: \t  [[0, 1, 0, 0, 0, 1, 1], [1, 1, 1, 0, 0, 1], [0, 0, 1, 1, 1, 0, 1], [0, 0, 0, 1, 1, 1, 1], [1, 0, 0, 1, 1, 1], [1, 0, 0, 0, 1, 1], [0, 1, 1, 0, 0, 1], [0, 0, 1, 1, 1, 0, 1], [0, 0, 0, 1, 1, 1, 1], [1, 0, 0, 1, 1, 1], [1, 0, 0, 0, 1, 1], [0, 0, 1, 1, 1, 0, 1], [0, 0, 0, 1, 1, 1, 1], [0, 0, 1, 0, 0, 1, 1], [1, 0, 1, 0, 1, 1], [0, 0, 1, 1, 1, 0, 1], [0, 0, 0, 1, 1, 1, 1], [0, 1, 1, 0, 0, 1, 1], [1, 0, 0, 1, 1, 1], [1, 0, 1, 0, 1, 1, 1], [0, 1, 0, 1, 1, 1], [0, 0, 1, 1, 1, 0, 1], [0, 0, 0, 1, 1, 1, 1], [1, 0, 0, 0, 0, 1, 1], [0, 0, 1, 0, 0, 1, 1], [1, 1, 0, 1, 1, 1, 1], [0, 0, 1, 1, 1, 0, 1], [0, 0, 0, 1, 1, 1, 1], [0, 1, 1, 0, 0, 1, 1], [1, 0, 1, 0, 0, 1, 1], [0, 0, 1, 1, 1, 0, 1], [0, 0, 0, 1, 1, 1, 1], [0, 1, 1, 0, 0, 1, 1], [1, 0, 1, 0, 1, 1], [0, 0, 1, 1, 1, 0, 1], [0, 0, 0, 1, 1, 1, 1], [0, 0, 1, 0, 0, 1, 1], [1, 0, 0, 0, 0, 1, 1], [0, 0, 1, 1, 1, 0, 1], [0, 0, 0, 1, 1, 1, 1], [1, 0, 0, 0, 1, 1], [0, 0, 0, 0, 1, 1], [0, 0, 1, 1, 1, 0, 1], [0, 0, 0, 1, 1, 1, 1], [0, 1, 1, 0, 0, 1, 1], [1, 0, 0, 1, 1, 1], [0, 0, 1, 1, 1, 0, 1], [0, 0, 0, 1, 1, 1, 1], [1, 1, 0, 0, 0, 1, 1], [0, 1, 0, 0, 0, 1, 1], [0, 0, 1, 1, 1, 0, 1], [0, 0, 0, 1, 1, 1, 1], [1, 0, 1, 0, 0, 1, 1], [0, 0, 1, 0, 1, 1], [0, 1, 0, 1, 1, 1, 1], [0, 0, 1, 1, 1, 0, 1], [0, 0, 0, 1, 1, 1, 1], [1, 0, 0, 0, 0, 1, 1], [0, 1, 1, 0, 0, 1, 1], [1, 0, 1, 1, 0, 0, 1], [0, 0, 1, 1, 1, 0, 1], [0, 0, 0, 1, 1, 1, 1], [0, 1, 0, 0, 0, 1, 1], [0, 1, 1, 0, 0, 1, 1], [1, 1, 1, 0, 0, 1]]\n",
            "Original message is: \t  [[0, 1, 0, 0, 0, 1, 1], [1, 1, 1, 0, 0, 1], [0, 0, 1, 1, 1, 0, 1], [0, 0, 0, 1, 1, 1, 1], [1, 0, 0, 1, 1, 1], [1, 0, 0, 0, 1, 1], [0, 1, 1, 0, 0, 1], [0, 0, 1, 1, 1, 0, 1], [0, 0, 0, 1, 1, 1, 1], [1, 0, 0, 1, 1, 1], [1, 0, 0, 0, 1, 1], [0, 0, 1, 1, 1, 0, 1], [0, 0, 0, 1, 1, 1, 1], [0, 0, 1, 0, 0, 1, 1], [1, 0, 1, 0, 1, 1], [0, 0, 1, 1, 1, 0, 1], [0, 0, 0, 1, 1, 1, 1], [0, 1, 1, 0, 0, 1, 1], [1, 0, 0, 1, 1, 1], [1, 0, 1, 0, 1, 1, 1], [0, 1, 0, 1, 1, 1], [0, 0, 1, 1, 1, 0, 1], [0, 0, 0, 1, 1, 1, 1], [1, 0, 0, 0, 0, 1, 1], [0, 0, 1, 0, 0, 1, 1], [1, 1, 0, 1, 1, 1, 1], [0, 0, 1, 1, 1, 0, 1], [0, 0, 0, 1, 1, 1, 1], [0, 1, 1, 0, 0, 1, 1], [1, 0, 1, 0, 0, 1, 1], [0, 0, 1, 1, 1, 0, 1], [0, 0, 0, 1, 1, 1, 1], [0, 1, 1, 0, 0, 1, 1], [1, 0, 1, 0, 1, 1], [0, 0, 1, 1, 1, 0, 1], [0, 0, 0, 1, 1, 1, 1], [0, 0, 1, 0, 0, 1, 1], [1, 0, 0, 0, 0, 1, 1], [0, 0, 1, 1, 1, 0, 1], [0, 0, 0, 1, 1, 1, 1], [1, 0, 0, 0, 1, 1], [0, 0, 0, 0, 1, 1], [0, 0, 1, 1, 1, 0, 1], [0, 0, 0, 1, 1, 1, 1], [0, 1, 1, 0, 0, 1, 1], [1, 0, 0, 1, 1, 1], [0, 0, 1, 1, 1, 0, 1], [0, 0, 0, 1, 1, 1, 1], [1, 1, 0, 0, 0, 1, 1], [0, 1, 0, 0, 0, 1, 1], [0, 0, 1, 1, 1, 0, 1], [0, 0, 0, 1, 1, 1, 1], [1, 0, 1, 0, 0, 1, 1], [0, 0, 1, 0, 1, 1], [0, 1, 0, 1, 1, 1, 1], [0, 0, 1, 1, 1, 0, 1], [0, 0, 0, 1, 1, 1, 1], [1, 0, 0, 0, 0, 1, 1], [0, 1, 1, 0, 0, 1, 1], [1, 0, 1, 1, 0, 0, 1], [0, 0, 1, 1, 1, 0, 1], [0, 0, 0, 1, 1, 1, 1], [0, 1, 0, 0, 0, 1, 1], [0, 1, 1, 0, 0, 1, 1], [1, 1, 1, 0, 0, 1]]\n",
            "Original message is: \t  [[0, 1, 0, 0, 0, 1, 1], [1, 1, 1, 0, 0, 1], [0, 0, 1, 1, 1, 0, 1], [0, 0, 0, 1, 1, 1, 1], [1, 0, 0, 1, 1, 1], [1, 0, 0, 0, 1, 1], [0, 1, 1, 0, 0, 1], [0, 0, 1, 1, 1, 0, 1], [0, 0, 0, 1, 1, 1, 1], [1, 0, 0, 1, 1, 1], [1, 0, 0, 0, 1, 1], [0, 0, 1, 1, 1, 0, 1], [0, 0, 0, 1, 1, 1, 1], [0, 0, 1, 0, 0, 1, 1], [1, 0, 1, 0, 1, 1], [0, 0, 1, 1, 1, 0, 1], [0, 0, 0, 1, 1, 1, 1], [0, 1, 1, 0, 0, 1, 1], [1, 0, 0, 1, 1, 1], [1, 0, 1, 0, 1, 1, 1], [0, 1, 0, 1, 1, 1], [0, 0, 1, 1, 1, 0, 1], [0, 0, 0, 1, 1, 1, 1], [1, 0, 0, 0, 0, 1, 1], [0, 0, 1, 0, 0, 1, 1], [1, 1, 0, 1, 1, 1, 1], [0, 0, 1, 1, 1, 0, 1], [0, 0, 0, 1, 1, 1, 1], [0, 1, 1, 0, 0, 1, 1], [1, 0, 1, 0, 0, 1, 1], [0, 0, 1, 1, 1, 0, 1], [0, 0, 0, 1, 1, 1, 1], [0, 1, 1, 0, 0, 1, 1], [1, 0, 1, 0, 1, 1], [0, 0, 1, 1, 1, 0, 1], [0, 0, 0, 1, 1, 1, 1], [0, 0, 1, 0, 0, 1, 1], [1, 0, 0, 0, 0, 1, 1], [0, 0, 1, 1, 1, 0, 1], [0, 0, 0, 1, 1, 1, 1], [1, 0, 0, 0, 1, 1], [0, 0, 0, 0, 1, 1], [0, 0, 1, 1, 1, 0, 1], [0, 0, 0, 1, 1, 1, 1], [0, 1, 1, 0, 0, 1, 1], [1, 0, 0, 1, 1, 1], [0, 0, 1, 1, 1, 0, 1], [0, 0, 0, 1, 1, 1, 1], [1, 1, 0, 0, 0, 1, 1], [0, 1, 0, 0, 0, 1, 1], [0, 0, 1, 1, 1, 0, 1], [0, 0, 0, 1, 1, 1, 1], [1, 0, 1, 0, 0, 1, 1], [0, 0, 1, 0, 1, 1], [0, 1, 0, 1, 1, 1, 1], [0, 0, 1, 1, 1, 0, 1], [0, 0, 0, 1, 1, 1, 1], [1, 0, 0, 0, 0, 1, 1], [0, 1, 1, 0, 0, 1, 1], [1, 0, 1, 1, 0, 0, 1], [0, 0, 1, 1, 1, 0, 1], [0, 0, 0, 1, 1, 1, 1], [0, 1, 0, 0, 0, 1, 1], [0, 1, 1, 0, 0, 1, 1], [1, 1, 1, 0, 0, 1]]\n",
            "Original message is: \t  [[0, 1, 0, 0, 0, 1, 1], [1, 1, 1, 0, 0, 1], [0, 0, 1, 1, 1, 0, 1], [0, 0, 0, 1, 1, 1, 1], [1, 0, 0, 1, 1, 1], [1, 0, 0, 0, 1, 1], [0, 1, 1, 0, 0, 1], [0, 0, 1, 1, 1, 0, 1], [0, 0, 0, 1, 1, 1, 1], [1, 0, 0, 1, 1, 1], [1, 0, 0, 0, 1, 1], [0, 0, 1, 1, 1, 0, 1], [0, 0, 0, 1, 1, 1, 1], [0, 0, 1, 0, 0, 1, 1], [1, 0, 1, 0, 1, 1], [0, 0, 1, 1, 1, 0, 1], [0, 0, 0, 1, 1, 1, 1], [0, 1, 1, 0, 0, 1, 1], [1, 0, 0, 1, 1, 1], [1, 0, 1, 0, 1, 1, 1], [0, 1, 0, 1, 1, 1], [0, 0, 1, 1, 1, 0, 1], [0, 0, 0, 1, 1, 1, 1], [1, 0, 0, 0, 0, 1, 1], [0, 0, 1, 0, 0, 1, 1], [1, 1, 0, 1, 1, 1, 1], [0, 0, 1, 1, 1, 0, 1], [0, 0, 0, 1, 1, 1, 1], [0, 1, 1, 0, 0, 1, 1], [1, 0, 1, 0, 0, 1, 1], [0, 0, 1, 1, 1, 0, 1], [0, 0, 0, 1, 1, 1, 1], [0, 1, 1, 0, 0, 1, 1], [1, 0, 1, 0, 1, 1], [0, 0, 1, 1, 1, 0, 1], [0, 0, 0, 1, 1, 1, 1], [0, 0, 1, 0, 0, 1, 1], [1, 0, 0, 0, 0, 1, 1], [0, 0, 1, 1, 1, 0, 1], [0, 0, 0, 1, 1, 1, 1], [1, 0, 0, 0, 1, 1], [0, 0, 0, 0, 1, 1], [0, 0, 1, 1, 1, 0, 1], [0, 0, 0, 1, 1, 1, 1], [0, 1, 1, 0, 0, 1, 1], [1, 0, 0, 1, 1, 1], [0, 0, 1, 1, 1, 0, 1], [0, 0, 0, 1, 1, 1, 1], [1, 1, 0, 0, 0, 1, 1], [0, 1, 0, 0, 0, 1, 1], [0, 0, 1, 1, 1, 0, 1], [0, 0, 0, 1, 1, 1, 1], [1, 0, 1, 0, 0, 1, 1], [0, 0, 1, 0, 1, 1], [0, 1, 0, 1, 1, 1, 1], [0, 0, 1, 1, 1, 0, 1], [0, 0, 0, 1, 1, 1, 1], [1, 0, 0, 0, 0, 1, 1], [0, 1, 1, 0, 0, 1, 1], [1, 0, 1, 1, 0, 0, 1], [0, 0, 1, 1, 1, 0, 1], [0, 0, 0, 1, 1, 1, 1], [0, 1, 0, 0, 0, 1, 1], [0, 1, 1, 0, 0, 1, 1], [1, 1, 1, 0, 0, 1]]\n",
            "Original message is: \t  [[0, 1, 0, 0, 0, 1, 1], [1, 1, 1, 0, 0, 1], [0, 0, 1, 1, 1, 0, 1], [0, 0, 0, 1, 1, 1, 1], [1, 0, 0, 1, 1, 1], [1, 0, 0, 0, 1, 1], [0, 1, 1, 0, 0, 1], [0, 0, 1, 1, 1, 0, 1], [0, 0, 0, 1, 1, 1, 1], [1, 0, 0, 1, 1, 1], [1, 0, 0, 0, 1, 1], [0, 0, 1, 1, 1, 0, 1], [0, 0, 0, 1, 1, 1, 1], [0, 0, 1, 0, 0, 1, 1], [1, 0, 1, 0, 1, 1], [0, 0, 1, 1, 1, 0, 1], [0, 0, 0, 1, 1, 1, 1], [0, 1, 1, 0, 0, 1, 1], [1, 0, 0, 1, 1, 1], [1, 0, 1, 0, 1, 1, 1], [0, 1, 0, 1, 1, 1], [0, 0, 1, 1, 1, 0, 1], [0, 0, 0, 1, 1, 1, 1], [1, 0, 0, 0, 0, 1, 1], [0, 0, 1, 0, 0, 1, 1], [1, 1, 0, 1, 1, 1, 1], [0, 0, 1, 1, 1, 0, 1], [0, 0, 0, 1, 1, 1, 1], [0, 1, 1, 0, 0, 1, 1], [1, 0, 1, 0, 0, 1, 1], [0, 0, 1, 1, 1, 0, 1], [0, 0, 0, 1, 1, 1, 1], [0, 1, 1, 0, 0, 1, 1], [1, 0, 1, 0, 1, 1], [0, 0, 1, 1, 1, 0, 1], [0, 0, 0, 1, 1, 1, 1], [0, 0, 1, 0, 0, 1, 1], [1, 0, 0, 0, 0, 1, 1], [0, 0, 1, 1, 1, 0, 1], [0, 0, 0, 1, 1, 1, 1], [1, 0, 0, 0, 1, 1], [0, 0, 0, 0, 1, 1], [0, 0, 1, 1, 1, 0, 1], [0, 0, 0, 1, 1, 1, 1], [0, 1, 1, 0, 0, 1, 1], [1, 0, 0, 1, 1, 1], [0, 0, 1, 1, 1, 0, 1], [0, 0, 0, 1, 1, 1, 1], [1, 1, 0, 0, 0, 1, 1], [0, 1, 0, 0, 0, 1, 1], [0, 0, 1, 1, 1, 0, 1], [0, 0, 0, 1, 1, 1, 1], [1, 0, 1, 0, 0, 1, 1], [0, 0, 1, 0, 1, 1], [0, 1, 0, 1, 1, 1, 1], [0, 0, 1, 1, 1, 0, 1], [0, 0, 0, 1, 1, 1, 1], [1, 0, 0, 0, 0, 1, 1], [0, 1, 1, 0, 0, 1, 1], [1, 0, 1, 1, 0, 0, 1], [0, 0, 1, 1, 1, 0, 1], [0, 0, 0, 1, 1, 1, 1], [0, 1, 0, 0, 0, 1, 1], [0, 1, 1, 0, 0, 1, 1], [1, 1, 1, 0, 0, 1]]\n",
            "Original message is: \t  [[0, 1, 0, 0, 0, 1, 1], [1, 1, 1, 0, 0, 1], [0, 0, 1, 1, 1, 0, 1], [0, 0, 0, 1, 1, 1, 1], [1, 0, 0, 1, 1, 1], [1, 0, 0, 0, 1, 1], [0, 1, 1, 0, 0, 1], [0, 0, 1, 1, 1, 0, 1], [0, 0, 0, 1, 1, 1, 1], [1, 0, 0, 1, 1, 1], [1, 0, 0, 0, 1, 1], [0, 0, 1, 1, 1, 0, 1], [0, 0, 0, 1, 1, 1, 1], [0, 0, 1, 0, 0, 1, 1], [1, 0, 1, 0, 1, 1], [0, 0, 1, 1, 1, 0, 1], [0, 0, 0, 1, 1, 1, 1], [0, 1, 1, 0, 0, 1, 1], [1, 0, 0, 1, 1, 1], [1, 0, 1, 0, 1, 1, 1], [0, 1, 0, 1, 1, 1], [0, 0, 1, 1, 1, 0, 1], [0, 0, 0, 1, 1, 1, 1], [1, 0, 0, 0, 0, 1, 1], [0, 0, 1, 0, 0, 1, 1], [1, 1, 0, 1, 1, 1, 1], [0, 0, 1, 1, 1, 0, 1], [0, 0, 0, 1, 1, 1, 1], [0, 1, 1, 0, 0, 1, 1], [1, 0, 1, 0, 0, 1, 1], [0, 0, 1, 1, 1, 0, 1], [0, 0, 0, 1, 1, 1, 1], [0, 1, 1, 0, 0, 1, 1], [1, 0, 1, 0, 1, 1], [0, 0, 1, 1, 1, 0, 1], [0, 0, 0, 1, 1, 1, 1], [0, 0, 1, 0, 0, 1, 1], [1, 0, 0, 0, 0, 1, 1], [0, 0, 1, 1, 1, 0, 1], [0, 0, 0, 1, 1, 1, 1], [1, 0, 0, 0, 1, 1], [0, 0, 0, 0, 1, 1], [0, 0, 1, 1, 1, 0, 1], [0, 0, 0, 1, 1, 1, 1], [0, 1, 1, 0, 0, 1, 1], [1, 0, 0, 1, 1, 1], [0, 0, 1, 1, 1, 0, 1], [0, 0, 0, 1, 1, 1, 1], [1, 1, 0, 0, 0, 1, 1], [0, 1, 0, 0, 0, 1, 1], [0, 0, 1, 1, 1, 0, 1], [0, 0, 0, 1, 1, 1, 1], [1, 0, 1, 0, 0, 1, 1], [0, 0, 1, 0, 1, 1], [0, 1, 0, 1, 1, 1, 1], [0, 0, 1, 1, 1, 0, 1], [0, 0, 0, 1, 1, 1, 1], [1, 0, 0, 0, 0, 1, 1], [0, 1, 1, 0, 0, 1, 1], [1, 0, 1, 1, 0, 0, 1], [0, 0, 1, 1, 1, 0, 1], [0, 0, 0, 1, 1, 1, 1], [0, 1, 0, 0, 0, 1, 1], [0, 1, 1, 0, 0, 1, 1], [1, 1, 1, 0, 0, 1]]\n",
            "Original message is: \t  [[0, 1, 0, 0, 0, 1, 1], [1, 1, 1, 0, 0, 1], [0, 0, 1, 1, 1, 0, 1], [0, 0, 0, 1, 1, 1, 1], [1, 0, 0, 1, 1, 1], [1, 0, 0, 0, 1, 1], [0, 1, 1, 0, 0, 1], [0, 0, 1, 1, 1, 0, 1], [0, 0, 0, 1, 1, 1, 1], [1, 0, 0, 1, 1, 1], [1, 0, 0, 0, 1, 1], [0, 0, 1, 1, 1, 0, 1], [0, 0, 0, 1, 1, 1, 1], [0, 0, 1, 0, 0, 1, 1], [1, 0, 1, 0, 1, 1], [0, 0, 1, 1, 1, 0, 1], [0, 0, 0, 1, 1, 1, 1], [0, 1, 1, 0, 0, 1, 1], [1, 0, 0, 1, 1, 1], [1, 0, 1, 0, 1, 1, 1], [0, 1, 0, 1, 1, 1], [0, 0, 1, 1, 1, 0, 1], [0, 0, 0, 1, 1, 1, 1], [1, 0, 0, 0, 0, 1, 1], [0, 0, 1, 0, 0, 1, 1], [1, 1, 0, 1, 1, 1, 1], [0, 0, 1, 1, 1, 0, 1], [0, 0, 0, 1, 1, 1, 1], [0, 1, 1, 0, 0, 1, 1], [1, 0, 1, 0, 0, 1, 1], [0, 0, 1, 1, 1, 0, 1], [0, 0, 0, 1, 1, 1, 1], [0, 1, 1, 0, 0, 1, 1], [1, 0, 1, 0, 1, 1], [0, 0, 1, 1, 1, 0, 1], [0, 0, 0, 1, 1, 1, 1], [0, 0, 1, 0, 0, 1, 1], [1, 0, 0, 0, 0, 1, 1], [0, 0, 1, 1, 1, 0, 1], [0, 0, 0, 1, 1, 1, 1], [1, 0, 0, 0, 1, 1], [0, 0, 0, 0, 1, 1], [0, 0, 1, 1, 1, 0, 1], [0, 0, 0, 1, 1, 1, 1], [0, 1, 1, 0, 0, 1, 1], [1, 0, 0, 1, 1, 1], [0, 0, 1, 1, 1, 0, 1], [0, 0, 0, 1, 1, 1, 1], [1, 1, 0, 0, 0, 1, 1], [0, 1, 0, 0, 0, 1, 1], [0, 0, 1, 1, 1, 0, 1], [0, 0, 0, 1, 1, 1, 1], [1, 0, 1, 0, 0, 1, 1], [0, 0, 1, 0, 1, 1], [0, 1, 0, 1, 1, 1, 1], [0, 0, 1, 1, 1, 0, 1], [0, 0, 0, 1, 1, 1, 1], [1, 0, 0, 0, 0, 1, 1], [0, 1, 1, 0, 0, 1, 1], [1, 0, 1, 1, 0, 0, 1], [0, 0, 1, 1, 1, 0, 1], [0, 0, 0, 1, 1, 1, 1], [0, 1, 0, 0, 0, 1, 1], [0, 1, 1, 0, 0, 1, 1], [1, 1, 1, 0, 0, 1]]\n",
            "Original message is: \t  [[0, 1, 0, 0, 0, 1, 1], [1, 1, 1, 0, 0, 1], [0, 0, 1, 1, 1, 0, 1], [0, 0, 0, 1, 1, 1, 1], [1, 0, 0, 1, 1, 1], [1, 0, 0, 0, 1, 1], [0, 1, 1, 0, 0, 1], [0, 0, 1, 1, 1, 0, 1], [0, 0, 0, 1, 1, 1, 1], [1, 0, 0, 1, 1, 1], [1, 0, 0, 0, 1, 1], [0, 0, 1, 1, 1, 0, 1], [0, 0, 0, 1, 1, 1, 1], [0, 0, 1, 0, 0, 1, 1], [1, 0, 1, 0, 1, 1], [0, 0, 1, 1, 1, 0, 1], [0, 0, 0, 1, 1, 1, 1], [0, 1, 1, 0, 0, 1, 1], [1, 0, 0, 1, 1, 1], [1, 0, 1, 0, 1, 1, 1], [0, 1, 0, 1, 1, 1], [0, 0, 1, 1, 1, 0, 1], [0, 0, 0, 1, 1, 1, 1], [1, 0, 0, 0, 0, 1, 1], [0, 0, 1, 0, 0, 1, 1], [1, 1, 0, 1, 1, 1, 1], [0, 0, 1, 1, 1, 0, 1], [0, 0, 0, 1, 1, 1, 1], [0, 1, 1, 0, 0, 1, 1], [1, 0, 1, 0, 0, 1, 1], [0, 0, 1, 1, 1, 0, 1], [0, 0, 0, 1, 1, 1, 1], [0, 1, 1, 0, 0, 1, 1], [1, 0, 1, 0, 1, 1], [0, 0, 1, 1, 1, 0, 1], [0, 0, 0, 1, 1, 1, 1], [0, 0, 1, 0, 0, 1, 1], [1, 0, 0, 0, 0, 1, 1], [0, 0, 1, 1, 1, 0, 1], [0, 0, 0, 1, 1, 1, 1], [1, 0, 0, 0, 1, 1], [0, 0, 0, 0, 1, 1], [0, 0, 1, 1, 1, 0, 1], [0, 0, 0, 1, 1, 1, 1], [0, 1, 1, 0, 0, 1, 1], [1, 0, 0, 1, 1, 1], [0, 0, 1, 1, 1, 0, 1], [0, 0, 0, 1, 1, 1, 1], [1, 1, 0, 0, 0, 1, 1], [0, 1, 0, 0, 0, 1, 1], [0, 0, 1, 1, 1, 0, 1], [0, 0, 0, 1, 1, 1, 1], [1, 0, 1, 0, 0, 1, 1], [0, 0, 1, 0, 1, 1], [0, 1, 0, 1, 1, 1, 1], [0, 0, 1, 1, 1, 0, 1], [0, 0, 0, 1, 1, 1, 1], [1, 0, 0, 0, 0, 1, 1], [0, 1, 1, 0, 0, 1, 1], [1, 0, 1, 1, 0, 0, 1], [0, 0, 1, 1, 1, 0, 1], [0, 0, 0, 1, 1, 1, 1], [0, 1, 0, 0, 0, 1, 1], [0, 1, 1, 0, 0, 1, 1], [1, 1, 1, 0, 0, 1]]\n",
            "10 loops, best of 5: 28.8 ms per loop\n"
          ]
        }
      ],
      "source": [
        "t1 = Transaction(shiv, vishnu.identity , 15)\n",
        "%timeit signature_t1 = t1.sign_transaction()\n",
        "# print(signature_t1)\n",
        "\n",
        "t2 = Transaction(Azad, Ravi.identity , 15) #the t is new transaction\n",
        "%timeit signature_t2 = t2.sign_transactionECDSA()\n",
        "# print(signature_t2)\n",
        "\n",
        "t3 = Transaction(ram, shyam.identity , 15) #the t is new transaction\n",
        "%timeit signature_t3 = t3.sign_transactionNTRU()\n",
        "# print(signature_t3)\n",
        "\n"
      ]
    },
    {
      "cell_type": "markdown",
      "metadata": {
        "id": "S2m7ofRkBFj9"
      },
      "source": [
        " **inorder to display the transaction**"
      ]
    },
    {
      "cell_type": "code",
      "execution_count": null,
      "metadata": {
        "id": "i-j-SHUPAOtR"
      },
      "outputs": [],
      "source": [
        "def display_transaction(transaction):\n",
        "  for transaction in transactions:\n",
        "    dict = transaction.to_dict()\n",
        "    print(dict)\n",
        "\n",
        "transactions = []\n",
        "transactionsRSA = []\n",
        "transactionsEDCSA = []\n",
        "transactionsNTRU = []\n",
        "\n",
        "    "
      ]
    },
    {
      "cell_type": "code",
      "execution_count": null,
      "metadata": {
        "id": "kdO-9y1rC4f6"
      },
      "outputs": [],
      "source": [
        "\n",
        "#print(Ram.identity ,\"\\n\", Laxman.identity,\"\\n\",Bharath.identity,\"\\n\", Shatrughan.identity)"
      ]
    },
    {
      "cell_type": "code",
      "execution_count": null,
      "metadata": {
        "id": "QzQ9irmcIw1M"
      },
      "outputs": [],
      "source": [
        "#making to check RSA BAsed transactions\n",
        "\n",
        "def createClientAndTransactionsRSA():\n",
        "  Azad0 = Client()\n",
        "  Ravi0 = Client()\n",
        "  Dinesh0 = Client()\n",
        "  Ramesh0 = Client()\n",
        "  Seema0 = Client()\n",
        "  Vijay0 = Client()\n",
        "  t1 = Transaction(Azad0 , Ravi0.identity, 15)\n",
        "  t1.sign_transaction()\n",
        "  transactionsRSA.append(t1)\n",
        "\n",
        "  t2 = Transaction(\n",
        "    Dinesh0,\n",
        "    Seema0.identity,\n",
        "    6.0\n",
        "  )\n",
        "  t2.sign_transaction()\n",
        "  transactionsRSA.append(t2)\n",
        "  t3 = Transaction(\n",
        "    Ramesh0,\n",
        "    Vijay0.identity,\n",
        "    2.0\n",
        "  )\n",
        "  t3.sign_transaction()\n",
        "  transactionsRSA.append(t3)\n",
        "  t4 = Transaction(\n",
        "    Seema0,\n",
        "    Ramesh0.identity,\n",
        "    4.0\n",
        "  )\n",
        "  t4.sign_transaction()\n",
        "  transactionsRSA.append(t4)\n",
        "  t5 = Transaction(\n",
        "    Vijay0,\n",
        "    Seema0.identity,\n",
        "    7.0\n",
        "  )\n",
        "  t5.sign_transaction()\n",
        "  transactionsRSA.append(t5)\n",
        "  t6 = Transaction(\n",
        "    Ramesh0,\n",
        "    Seema0.identity,\n",
        "    3.0\n",
        "  )\n",
        "  t6.sign_transaction()\n",
        "  transactionsRSA.append(t6)\n",
        "  t7 = Transaction(\n",
        "    Seema0,\n",
        "    Dinesh0.identity,\n",
        "    8.0\n",
        "  )\n",
        "  t7.sign_transaction()\n",
        "  transactionsRSA.append(t7)\n",
        "  t8 = Transaction(\n",
        "    Seema0,\n",
        "    Ramesh0.identity,\n",
        "    1.0\n",
        "  )\n",
        "  t8.sign_transaction()\n",
        "  transactionsRSA.append(t8)\n",
        "  t9 = Transaction(\n",
        "    Vijay0,\n",
        "    Dinesh0.identity,\n",
        "    5.0\n",
        "  )\n",
        "  t9.sign_transaction()\n",
        "  transactionsRSA.append(t9)\n",
        "  t10 = Transaction(\n",
        "    Vijay0,\n",
        "    Ramesh0.identity,\n",
        "    3.0\n",
        "  )\n",
        "  t10.sign_transaction()\n",
        "  transactionsRSA.append(t10)\n",
        "\n"
      ]
    },
    {
      "cell_type": "code",
      "execution_count": null,
      "metadata": {
        "id": "AI-5k-OFN01J"
      },
      "outputs": [],
      "source": [
        "def createClientAndTransactionsEDCSA():\n",
        "  Azad = ClientECDSA()\n",
        "  Ravi = ClientECDSA()\n",
        "  Dinesh = ClientECDSA()\n",
        "  Ramesh = ClientECDSA()\n",
        "  Seema = ClientECDSA()\n",
        "  Vijay = ClientECDSA()\n",
        "  t1 = Transaction(Azad , Ravi.identity, 15)\n",
        "  t1.sign_transactionECDSA()\n",
        "  transactionsEDCSA.append(t1)\n",
        "\n",
        "  t2 = Transaction(\n",
        "    Dinesh,\n",
        "    Seema.identity,\n",
        "    6.0\n",
        "  )\n",
        "  t2.sign_transactionECDSA()\n",
        "  transactionsEDCSA.append(t2)\n",
        "  t3 = Transaction(\n",
        "    Ramesh,\n",
        "    Vijay.identity,\n",
        "    2.0\n",
        "  )\n",
        "  t3.sign_transactionECDSA()\n",
        "  transactionsEDCSA.append(t3)\n",
        "  t4 = Transaction(\n",
        "    Seema,\n",
        "    Ramesh.identity,\n",
        "    4.0\n",
        "  )\n",
        "  t4.sign_transactionECDSA()\n",
        "  transactionsEDCSA.append(t4)\n",
        "  t5 = Transaction(\n",
        "    Vijay,\n",
        "    Seema.identity,\n",
        "    7.0\n",
        "  )\n",
        "  t5.sign_transactionECDSA()\n",
        "  transactionsEDCSA.append(t5)\n",
        "  t6 = Transaction(\n",
        "    Ramesh,\n",
        "    Seema.identity,\n",
        "    3.0\n",
        "  )\n",
        "  t6.sign_transactionECDSA()\n",
        "  transactionsEDCSA.append(t6)\n",
        "  t7 = Transaction(\n",
        "    Seema,\n",
        "    Dinesh.identity,\n",
        "    8.0\n",
        "  )\n",
        "  t7.sign_transactionECDSA()\n",
        "  transactionsEDCSA.append(t7)\n",
        "  t8 = Transaction(\n",
        "    Seema,\n",
        "    Ramesh.identity,\n",
        "    1.0\n",
        "  )\n",
        "  t8.sign_transactionECDSA()\n",
        "  transactionsEDCSA.append(t8)\n",
        "  t9 = Transaction(\n",
        "    Vijay,\n",
        "    Dinesh.identity,\n",
        "    5.0\n",
        "  )\n",
        "  t9.sign_transactionECDSA()\n",
        "  transactionsEDCSA.append(t9)\n",
        "  t10 = Transaction(\n",
        "    Vijay,\n",
        "    Ramesh.identity,\n",
        "    3.0\n",
        "  )\n",
        "  t10.sign_transactionECDSA()\n",
        "  transactionsEDCSA.append(t10)"
      ]
    },
    {
      "cell_type": "code",
      "execution_count": null,
      "metadata": {
        "id": "toNAf87GL0MH"
      },
      "outputs": [],
      "source": [
        "def createClientAndTransactionsNTRU():\n",
        "  Azad1 = ClientNTRU()\n",
        "  Ravi1 = ClientNTRU()\n",
        "  Dinesh1 = ClientNTRU()\n",
        "  Ramesh1 = ClientNTRU()\n",
        "  Seema1 = ClientNTRU()\n",
        "  Vijay1 = ClientNTRU()\n",
        "  t1 = Transaction(Azad1 , Ravi1.identity, 15)\n",
        "  t1.sign_transactionNTRU()\n",
        "  transactionsNTRU.append(t1)\n",
        "\n",
        "  t2 = Transaction(\n",
        "    Dinesh1,\n",
        "    Seema1.identity,\n",
        "    6.0\n",
        "  )\n",
        "  t2.sign_transactionNTRU()\n",
        "  transactionsNTRU.append(t2)\n",
        "  t3 = Transaction(\n",
        "    Ramesh1,\n",
        "    Vijay1.identity,\n",
        "    2.0\n",
        "  )\n",
        "  t3.sign_transactionNTRU()\n",
        "  transactionsNTRU.append(t3)\n",
        "  t4 = Transaction(\n",
        "    Seema1,\n",
        "    Ramesh1.identity,\n",
        "    4.0\n",
        "  )\n",
        "  t4.sign_transactionNTRU()\n",
        "  transactionsNTRU.append(t4)\n",
        "  t5 = Transaction(\n",
        "    Vijay1,\n",
        "    Seema1.identity,\n",
        "    7.0\n",
        "  )\n",
        "  t5.sign_transactionNTRU()\n",
        "  transactionsNTRU.append(t5)\n",
        "  t6 = Transaction(\n",
        "    Ramesh1,\n",
        "    Seema1.identity,\n",
        "    3.0\n",
        "  )\n",
        "  t6.sign_transactionNTRU()\n",
        "  transactionsNTRU.append(t6)\n",
        "  t7 = Transaction(\n",
        "    Seema1,\n",
        "    Dinesh1.identity,\n",
        "    8.0\n",
        "  )\n",
        "  t7.sign_transactionNTRU()\n",
        "  transactionsNTRU.append(t7)\n",
        "  t8 = Transaction(\n",
        "    Seema1,\n",
        "    Ramesh1.identity,\n",
        "    1.0\n",
        "  )\n",
        "  t8.sign_transactionNTRU()\n",
        "  transactionsNTRU.append(t8)\n",
        "  t9 = Transaction(\n",
        "    Vijay1,\n",
        "    Dinesh1.identity,\n",
        "    5.0\n",
        "  )\n",
        "  t9.sign_transactionNTRU()\n",
        "  transactionsNTRU.append(t9)\n",
        "  t10 = Transaction(\n",
        "    Vijay1,\n",
        "    Ramesh1.identity,\n",
        "    3.0\n",
        "  )\n",
        "  t10.sign_transactionNTRU()\n",
        "  transactionsNTRU.append(t10)"
      ]
    },
    {
      "cell_type": "code",
      "execution_count": null,
      "metadata": {
        "colab": {
          "base_uri": "https://localhost:8080/"
        },
        "id": "JqgmBPgtEyXe",
        "outputId": "f4447b9d-c671-4e3d-9026-ea2e20efcb14"
      },
      "outputs": [
        {
          "name": "stdout",
          "output_type": "stream",
          "text": [
            "RSA\n",
            "1 loop, best of 5: 1.51 s per loop\n",
            "EDCSA\n",
            "10 loops, best of 5: 79.8 ms per loop\n",
            "NTRU\n",
            "Original message is: \t  [[0, 1, 0, 0, 0, 1, 1], [1, 1, 1, 0, 0, 1], [0, 0, 1, 1, 1, 0, 1], [0, 0, 0, 1, 1, 1, 1], [0, 1, 1, 0, 0, 1, 1], [1, 0, 0, 1, 1, 1], [0, 0, 1, 1, 1, 0, 1], [0, 0, 0, 1, 1, 1, 1], [1, 0, 0, 0, 0, 1, 1], [0, 1, 0, 0, 1, 1], [0, 0, 1, 1, 1, 0, 1], [0, 0, 0, 1, 1, 1, 1], [1, 0, 0, 0, 0, 1, 1], [1, 1, 0, 0, 1, 1], [0, 0, 1, 1, 1, 0, 1], [0, 0, 0, 1, 1, 1, 1], [1, 0, 1, 0, 0, 1, 1], [0, 0, 0, 0, 1, 1], [0, 0, 1, 1, 1, 0, 1], [0, 0, 0, 1, 1, 1, 1], [1, 0, 0, 0, 1, 1], [0, 0, 0, 1, 1, 1], [0, 0, 1, 1, 1, 0, 1], [0, 0, 0, 1, 1, 1, 1], [0, 1, 1, 0, 0, 1, 1], [1, 0, 0, 0, 1, 1], [0, 0, 1, 1, 1, 0, 1], [0, 0, 0, 1, 1, 1, 1], [0, 0, 0, 1, 1, 1], [0, 0, 1, 0, 0, 1, 1], [0, 0, 1, 1, 1, 1], [0, 0, 1, 1, 1, 0, 1], [0, 0, 0, 1, 1, 1, 1], [0, 1, 0, 0, 0, 1, 1], [0, 1, 1, 0, 1, 1], [0, 0, 1, 1, 1, 0, 1], [0, 0, 0, 1, 1, 1, 1], [0, 0, 1, 0, 0, 1, 1], [1, 0, 1, 0, 0, 1, 1], [1, 1, 0, 0, 1, 0, 1], [0, 0, 1, 1, 1, 0, 1], [0, 0, 0, 1, 1, 1, 1], [0, 0, 0, 0, 1, 1], [1, 0, 1, 0, 1, 1], [0, 0, 1, 1, 1, 0, 1], [0, 0, 0, 1, 1, 1, 1], [1, 0, 0, 1, 1, 1], [1, 1, 0, 0, 0, 1, 1], [0, 0, 1, 1, 1, 0, 1], [0, 0, 0, 1, 1, 1, 1], [0, 0, 1, 0, 0, 1, 1], [0, 1, 1, 0, 0, 1, 1], [1, 0, 1, 1, 0, 0, 1], [0, 0, 1, 1, 1, 0, 1], [0, 0, 0, 1, 1, 1, 1], [0, 1, 0, 0, 0, 1, 1], [0, 1, 0, 0, 0, 1, 1], [0, 1, 1, 0, 0, 0, 1], [0, 0, 1, 1, 1, 0, 1], [0, 0, 0, 1, 1, 1, 1], [0, 0, 0, 0, 1, 1], [1, 0, 1, 0, 0, 1, 1], [0, 0, 1, 1, 1, 0, 1], [0, 0, 0, 1, 1, 1, 1], [0, 0, 0, 1, 1, 1], [1, 1, 0, 0, 0, 1, 1], [0, 0, 1, 1, 1, 1], [1, 1, 1, 0, 0, 1]]\n",
            "Original message is: \t  [[0, 1, 0, 0, 0, 1, 1], [1, 1, 1, 0, 0, 1], [0, 0, 1, 1, 1, 0, 1], [0, 0, 0, 1, 1, 1, 1], [0, 0, 0, 0, 1, 1], [0, 1, 0, 0, 1, 1], [0, 0, 1, 1, 1, 0, 1], [0, 0, 0, 1, 1, 1, 1], [1, 0, 1, 0, 0, 1, 1], [0, 1, 1, 0, 0, 1, 1], [0, 0, 1, 1, 1, 1], [0, 0, 1, 0, 0, 0, 1], [1, 1, 0, 0, 1, 1], [1, 0, 1, 0, 0, 1], [1, 1, 0, 1, 1, 1, 1], [0, 0, 1, 1, 1, 0, 1], [0, 0, 0, 1, 1, 1, 1], [0, 0, 0, 1, 1, 1], [1, 1, 1, 0, 1, 1], [1, 1, 1, 0, 1, 1, 1], [0, 0, 1, 1, 1, 0, 1], [0, 0, 0, 1, 1, 1, 1], [0, 1, 0, 0, 0, 1, 1], [1, 0, 0, 0, 1, 1], [0, 0, 1, 1, 1, 0, 1], [0, 0, 0, 1, 1, 1, 1], [1, 0, 1, 0, 0, 1, 1], [1, 1, 0, 0, 1, 1], [0, 0, 1, 1, 1, 0, 1], [0, 0, 0, 1, 1, 1, 1], [1, 0, 0, 1, 1, 1], [0, 0, 1, 0, 0, 1, 1], [0, 0, 1, 1, 1, 0, 1], [0, 0, 0, 1, 1, 1, 1], [1, 0, 0, 0, 0, 1, 1], [0, 1, 1, 0, 0, 1, 1], [1, 0, 1, 0, 0, 1, 1], [0, 0, 1, 1, 1, 0, 1], [0, 0, 0, 1, 1, 1, 1], [0, 0, 1, 0, 0, 1, 1], [0, 1, 1, 0, 0, 1, 1], [0, 0, 1, 1, 1, 0, 1], [0, 0, 0, 1, 1, 1, 1], [1, 0, 0, 0, 1, 1], [0, 0, 1, 0, 0, 1, 1], [0, 0, 1, 1, 1, 0, 1], [0, 0, 0, 1, 1, 1, 1], [0, 1, 1, 0, 0, 1, 1], [0, 0, 0, 0, 1, 1], [0, 0, 1, 1, 1, 0, 1], [0, 0, 0, 1, 1, 1, 1], [1, 0, 0, 1, 1, 1], [1, 1, 1, 0, 1, 1], [0, 0, 1, 1, 1, 0, 1], [0, 0, 0, 1, 1, 1, 1], [0, 1, 1, 0, 0, 1, 1], [0, 0, 0, 1, 1, 1], [0, 0, 1, 1, 1, 0, 1], [0, 0, 0, 1, 1, 1, 1], [0, 0, 0, 0, 1, 1], [0, 0, 0, 0, 1, 1], [1, 1, 1, 0, 0, 1]]\n",
            "Original message is: \t  [[0, 1, 0, 0, 0, 1, 1], [1, 1, 1, 0, 0, 1], [0, 0, 1, 1, 1, 0, 1], [0, 0, 0, 1, 1, 1, 1], [1, 0, 0, 0, 0, 1, 1], [0, 0, 1, 0, 0, 1, 1], [0, 0, 1, 1, 1, 0, 1], [0, 0, 0, 1, 1, 1, 1], [0, 0, 1, 0, 0, 1, 1], [1, 1, 0, 0, 1, 1], [0, 0, 1, 1, 1, 0, 1], [0, 0, 0, 1, 1, 1, 1], [0, 1, 1, 0, 0, 1, 1], [0, 1, 1, 0, 1, 1], [0, 0, 0, 1, 0, 1], [0, 0, 1, 1, 1, 0, 1], [0, 0, 0, 1, 1, 1, 1], [1, 1, 0, 0, 0, 1, 1], [0, 1, 1, 0, 1, 1], [0, 1, 0, 0, 0, 1, 1], [0, 0, 1, 1, 1, 0, 1], [0, 0, 0, 1, 1, 1, 1], [0, 0, 0, 1, 1, 1], [0, 1, 0, 0, 0, 1, 1], [0, 1, 1, 0, 0, 1, 1], [0, 0, 1, 1, 1, 0, 1], [0, 0, 0, 1, 1, 1, 1], [1, 1, 0, 0, 0, 1, 1], [0, 1, 0, 0, 0, 1, 1], [0, 0, 1, 1, 1, 0, 1], [0, 0, 0, 1, 1, 1, 1], [0, 0, 0, 1, 1, 1], [0, 0, 0, 0, 1, 1], [0, 0, 1, 1, 1, 0, 1], [0, 0, 0, 1, 1, 1, 1], [1, 0, 0, 0, 1, 1], [1, 0, 0, 0, 1, 1], [0, 0, 1, 1, 1, 0, 1], [0, 0, 0, 1, 1, 1, 1], [0, 1, 1, 0, 0, 1, 1], [1, 0, 1, 0, 1, 1], [0, 0, 1, 1, 1, 0, 1], [0, 0, 0, 1, 1, 1, 1], [1, 0, 0, 1, 1, 1], [0, 1, 1, 0, 1, 1], [0, 0, 1, 1, 1, 0, 1], [0, 0, 0, 1, 1, 1, 1], [0, 0, 0, 1, 1, 1], [1, 1, 0, 0, 0, 1, 1], [0, 0, 1, 0, 0, 1], [0, 0, 1, 1, 1, 0, 1], [0, 0, 0, 1, 1, 1, 1], [1, 0, 0, 1, 1, 1], [1, 0, 1, 0, 1, 1], [0, 0, 1, 1, 1, 1], [0, 0, 1, 1, 1, 0, 1], [0, 0, 0, 1, 1, 1, 1], [0, 1, 0, 0, 0, 1, 1], [1, 1, 0, 0, 1, 1], [1, 1, 0, 0, 0, 0, 1], [1, 1, 1, 1, 1, 0, 1], [1, 1, 1, 0, 0, 1]]\n",
            "Original message is: \t  [[0, 1, 0, 0, 0, 1, 1], [1, 1, 1, 0, 0, 1], [0, 0, 0, 1, 1, 1], [0, 0, 1, 1, 1, 1, 1], [0, 1, 0, 1, 1, 1], [0, 0, 1, 1, 1, 0, 1], [0, 0, 0, 1, 1, 1, 1], [1, 0, 0, 0, 0, 1, 1], [0, 1, 1, 0, 0, 1, 1], [0, 1, 0, 0, 1, 1], [0, 0, 1, 1, 1, 0, 1], [0, 0, 0, 1, 1, 1, 1], [1, 0, 0, 1, 1, 1], [0, 0, 0, 1, 1, 1], [0, 0, 1, 1, 1, 0, 1], [0, 0, 0, 1, 1, 1, 1], [1, 0, 0, 0, 0, 1, 1], [1, 1, 0, 0, 0, 1, 1], [0, 0, 1, 1, 1, 0, 1], [0, 0, 0, 1, 1, 1, 1], [1, 0, 1, 0, 0, 1, 1], [0, 1, 1, 0, 0, 1, 1], [0, 0, 1, 1, 1, 0, 1], [0, 0, 0, 1, 1, 1, 1], [0, 1, 1, 0, 0, 1, 1], [0, 1, 0, 0, 1, 1], [0, 0, 1, 1, 1, 0, 1], [0, 0, 0, 1, 1, 1, 1], [1, 0, 1, 0, 0, 1, 1], [0, 0, 1, 0, 0, 1, 1], [1, 0, 1, 1, 1, 1], [1, 1, 0, 0, 0, 1], [0, 0, 1, 1, 1, 0, 1], [0, 0, 0, 1, 1, 1, 1], [1, 0, 0, 0, 0, 1, 1], [1, 0, 1, 0, 0, 1, 1], [0, 0, 1, 1, 1, 0, 1], [0, 0, 0, 1, 1, 1, 1], [1, 0, 1, 0, 0, 1, 1], [0, 0, 0, 0, 1, 1], [0, 0, 1, 1, 1, 0, 1], [0, 0, 0, 1, 1, 1, 1], [1, 0, 0, 0, 0, 1, 1], [0, 1, 1, 0, 1, 1], [1, 1, 0, 1, 0, 0, 1], [0, 0, 1, 1, 1, 0, 1], [0, 0, 0, 1, 1, 1, 1], [1, 1, 1, 0, 1, 1], [0, 1, 1, 0, 0, 1, 1], [1, 1, 1, 1, 0, 1], [0, 1, 1, 1, 0, 1], [0, 0, 1, 1, 1, 0, 1], [0, 0, 0, 1, 1, 1, 1], [0, 1, 0, 0, 0, 1, 1], [1, 0, 0, 0, 1, 1], [1, 1, 1, 0, 0, 1]]\n",
            "Original message is: \t  [[0, 1, 0, 0, 0, 1, 1], [1, 1, 1, 0, 0, 1], [0, 0, 1, 1, 1, 0, 1], [0, 0, 0, 1, 1, 1, 1], [1, 0, 0, 0, 1, 1], [1, 1, 0, 0, 0, 1, 1], [0, 0, 1, 1, 1, 1], [1, 0, 1, 1, 1, 0, 1], [0, 0, 1, 1, 1, 0, 1], [0, 0, 0, 1, 1, 1, 1], [1, 1, 0, 0, 0, 1, 1], [1, 1, 0, 0, 1, 1], [0, 0, 1, 0, 1, 1], [0, 0, 1, 1, 1, 0, 1], [0, 0, 0, 1, 1, 1, 1], [1, 0, 0, 0, 0, 1, 1], [1, 1, 1, 0, 1, 1], [1, 1, 1, 0, 0, 0, 1], [0, 0, 1, 1, 1, 0, 1], [0, 0, 0, 1, 1, 1, 1], [0, 1, 1, 0, 0, 1, 1], [0, 1, 1, 0, 1, 1], [0, 0, 1, 1, 1, 0, 1], [0, 0, 0, 1, 1, 1, 1], [1, 0, 1, 0, 0, 1, 1], [1, 1, 0, 0, 1, 1], [1, 1, 1, 0, 0, 0, 1], [0, 0, 1, 1, 1, 0, 1], [0, 0, 0, 1, 1, 1, 1], [0, 0, 0, 0, 1, 1], [1, 0, 0, 0, 1, 1], [0, 0, 1, 1, 1, 0, 1], [0, 0, 0, 1, 1, 1, 1], [1, 0, 1, 0, 0, 1, 1], [0, 1, 1, 0, 1, 1], [0, 0, 1, 1, 1, 0, 1], [0, 0, 0, 1, 1, 1, 1], [0, 0, 0, 1, 1, 1], [0, 0, 0, 0, 1, 1], [0, 0, 1, 1, 1, 0, 1], [0, 0, 0, 1, 1, 1, 1], [1, 0, 1, 0, 0, 1, 1], [0, 1, 0, 0, 1, 1], [0, 0, 1, 1, 1, 0, 1], [0, 0, 0, 1, 1, 1, 1], [0, 0, 0, 1, 1, 1], [1, 0, 0, 0, 1, 1], [0, 0, 1, 1, 1, 0, 1], [0, 0, 0, 1, 1, 1, 1], [1, 1, 0, 0, 0, 1, 1], [1, 0, 1, 0, 1, 1], [0, 0, 1, 1, 1, 0, 1], [0, 0, 0, 1, 1, 1, 1], [1, 0, 0, 0, 0, 1, 1], [0, 0, 1, 0, 0, 1, 1], [1, 0, 0, 1, 1, 0, 1], [0, 0, 1, 1, 1, 0, 1], [0, 0, 0, 1, 1, 1, 1], [0, 1, 0, 0, 0, 1, 1], [0, 0, 1, 0, 0, 1, 1], [1, 0, 0, 1, 1, 0, 1], [1, 1, 1, 0, 0, 1]]\n",
            "Original message is: \t  [[0, 1, 0, 0, 0, 1, 1], [1, 1, 1, 0, 0, 1], [0, 0, 1, 1, 1, 0, 1], [0, 0, 0, 1, 1, 1, 1], [0, 1, 0, 0, 0, 1, 1], [1, 0, 0, 1, 1, 1], [0, 0, 1, 1, 1, 0, 1], [0, 0, 0, 1, 1, 1, 1], [1, 0, 0, 0, 0, 1, 1], [1, 0, 0, 0, 0, 1, 1], [0, 0, 1, 1, 1, 0, 1], [0, 0, 0, 1, 1, 1, 1], [1, 0, 0, 0, 1, 1], [0, 0, 1, 0, 0, 1, 1], [0, 0, 1, 1, 1, 0, 1], [0, 0, 0, 1, 1, 1, 1], [0, 0, 0, 1, 1, 1], [1, 0, 1, 0, 1, 1], [1, 1, 0, 1, 1, 0, 1], [0, 1, 1, 1, 1, 1, 1], [1, 0, 1, 0, 0, 1], [0, 0, 1, 1, 1, 0, 1], [0, 0, 0, 1, 1, 1, 1], [1, 1, 0, 0, 0, 1, 1], [1, 0, 1, 0, 1, 1], [0, 0, 1, 1, 1, 0, 1], [0, 0, 0, 1, 1, 1, 1], [0, 0, 1, 0, 0, 1, 1], [0, 0, 0, 0, 1, 1], [0, 0, 1, 1, 1, 0, 1], [0, 0, 0, 1, 1, 1, 1], [1, 0, 1, 0, 0, 1, 1], [1, 0, 0, 0, 0, 1, 1], [1, 1, 0, 1, 1, 1, 1], [0, 1, 1, 1, 0, 1], [0, 0, 1, 1, 1, 0, 1], [0, 0, 0, 1, 1, 1, 1], [0, 0, 0, 0, 1, 1], [0, 0, 0, 0, 1, 1], [0, 0, 1, 1, 1, 0, 1], [0, 0, 0, 1, 1, 1, 1], [1, 0, 0, 1, 1, 1], [0, 1, 0, 0, 0, 1, 1], [0, 0, 1, 1, 1, 0, 1], [0, 0, 0, 1, 1, 1, 1], [1, 0, 0, 0, 1, 1], [1, 0, 0, 1, 1, 1], [0, 0, 1, 1, 1, 0, 1], [0, 0, 0, 1, 1, 1, 1], [0, 0, 1, 0, 0, 1, 1], [0, 0, 1, 0, 1, 1], [0, 0, 1, 1, 1, 0, 1], [0, 0, 0, 1, 1, 1, 1], [0, 1, 0, 0, 0, 1, 1], [1, 0, 1, 0, 0, 1, 1], [0, 0, 1, 1, 1, 0, 1], [0, 0, 0, 1, 1, 1, 1], [1, 1, 0, 0, 0, 1, 1], [1, 0, 0, 0, 1, 1], [0, 1, 1, 1, 1, 1, 1], [0, 0, 1, 1, 1, 0, 1], [0, 0, 0, 1, 1, 1, 1], [1, 0, 1, 0, 0, 1, 1], [0, 1, 0, 0, 0, 1, 1], [1, 1, 1, 0, 0, 1]]\n",
            "Original message is: \t  [[0, 1, 0, 0, 0, 1, 1], [1, 1, 1, 0, 0, 1], [1, 0, 1, 0, 0, 0, 1], [0, 0, 1, 1, 1, 0, 1], [0, 0, 0, 1, 1, 1, 1], [1, 1, 0, 0, 0, 1, 1], [1, 1, 1, 0, 1, 1], [0, 0, 1, 1, 1, 0, 1], [0, 0, 0, 1, 1, 1, 1], [0, 1, 1, 0, 0, 1, 1], [1, 0, 1, 0, 0, 1, 1], [0, 0, 1, 1, 1, 0, 1], [0, 0, 0, 1, 1, 1, 1], [1, 1, 0, 0, 0, 1, 1], [1, 0, 0, 1, 1, 1], [1, 1, 1, 0, 0, 1, 1], [0, 0, 1, 1, 1, 0, 1], [0, 0, 0, 1, 1, 1, 1], [1, 0, 0, 1, 1, 1], [1, 0, 0, 0, 0, 1, 1], [1, 0, 1, 1, 0, 1, 1], [0, 0, 1, 1, 0, 1], [0, 0, 1, 1, 1, 0, 1], [0, 0, 0, 1, 1, 1, 1], [1, 0, 0, 0, 0, 1, 1], [0, 1, 0, 0, 0, 1, 1], [0, 0, 1, 1, 1, 0, 1], [0, 0, 0, 1, 1, 1, 1], [1, 0, 1, 0, 0, 1, 1], [1, 0, 0, 0, 0, 1, 1], [0, 0, 1, 1, 1, 0, 1], [0, 0, 0, 1, 1, 1, 1], [0, 0, 0, 0, 1, 1], [1, 1, 1, 0, 1, 1], [0, 0, 0, 0, 1, 1], [0, 0, 1, 1, 1, 0, 1], [0, 0, 0, 1, 1, 1, 1], [1, 0, 0, 0, 0, 1, 1], [1, 1, 1, 0, 1, 1], [1, 1, 0, 1, 0, 0, 1], [0, 0, 1, 0, 0, 1, 1], [1, 1, 0, 0, 1, 1, 1], [1, 1, 1, 0, 1, 1, 1], [0, 0, 1, 1, 1, 0, 1], [0, 0, 0, 1, 1, 1, 1], [0, 1, 1, 0, 0, 1, 1], [0, 0, 1, 0, 0, 1, 1], [0, 0, 1, 1, 1, 0, 1], [0, 0, 0, 1, 1, 1, 1], [0, 1, 0, 0, 0, 1, 1], [1, 0, 1, 0, 1, 1], [0, 0, 1, 1, 1, 0, 1], [0, 0, 0, 1, 1, 1, 1], [0, 0, 0, 1, 1, 1], [1, 1, 0, 0, 0, 1, 1], [1, 1, 1, 0, 0, 1]]\n",
            "Original message is: \t  [[0, 1, 0, 0, 0, 1, 1], [1, 1, 1, 0, 0, 1], [0, 0, 1, 0, 1, 0, 1], [0, 0, 1, 1, 1, 0, 1], [0, 0, 0, 1, 1, 1, 1], [1, 0, 0, 0, 1, 1], [1, 0, 1, 0, 1, 1], [1, 1, 0, 1, 0, 0, 1], [0, 1, 1, 0, 0, 1, 1], [0, 0, 1, 1, 1, 0, 1], [0, 0, 0, 1, 1, 1, 1], [0, 0, 0, 1, 1, 1], [0, 0, 0, 1, 1, 1], [1, 0, 0, 0, 1, 1, 1], [0, 1, 0, 0, 1, 1, 1], [0, 0, 0, 0, 1, 1], [0, 0, 0, 1, 1, 0, 1], [0, 0, 1, 1, 1, 0, 1], [0, 0, 0, 1, 1, 1, 1], [1, 1, 0, 0, 0, 1, 1], [1, 1, 1, 0, 1, 1], [0, 0, 1, 1, 1, 0, 1], [0, 0, 0, 1, 1, 1, 1], [0, 0, 1, 0, 0, 1, 1], [1, 0, 0, 0, 1, 1], [1, 0, 1, 0, 1, 0, 1], [0, 0, 1, 1, 1, 0, 1], [0, 0, 0, 1, 1, 1, 1], [1, 0, 1, 0, 0, 1, 1], [1, 1, 0, 0, 0, 1, 1], [0, 0, 1, 1, 1, 0, 1], [0, 0, 0, 1, 1, 1, 1], [0, 0, 0, 1, 1, 1], [0, 1, 0, 0, 0, 1, 1], [0, 0, 1, 1, 1, 0, 1], [0, 0, 0, 1, 1, 1, 1], [1, 1, 0, 0, 0, 1, 1], [1, 0, 0, 0, 0, 1, 1], [0, 0, 1, 1, 1, 0, 1], [0, 0, 0, 1, 1, 1, 1], [0, 0, 0, 0, 1, 1], [1, 0, 1, 0, 1, 1], [0, 0, 1, 1, 1, 0, 1], [0, 0, 0, 1, 1, 1, 1], [1, 0, 0, 0, 0, 1, 1], [1, 0, 1, 0, 1, 1], [0, 0, 1, 1, 1, 0, 1], [0, 0, 0, 1, 1, 1, 1], [0, 0, 0, 0, 1, 1], [0, 1, 0, 0, 0, 1, 1], [1, 0, 0, 1, 0, 0, 1], [0, 0, 1, 1, 1, 0, 1], [0, 0, 0, 1, 1, 1, 1], [1, 0, 0, 0, 0, 1, 1], [1, 0, 0, 0, 1, 1], [1, 1, 1, 0, 0, 1]]\n",
            "Original message is: \t  [[0, 1, 0, 0, 0, 1, 1], [1, 1, 1, 0, 0, 1], [0, 0, 1, 1, 1, 0, 1], [0, 0, 0, 1, 1, 1, 1], [0, 0, 1, 0, 0, 1, 1], [1, 1, 0, 0, 0, 1, 1], [0, 0, 1, 1, 1, 0, 1], [0, 0, 0, 1, 1, 1, 1], [0, 1, 1, 0, 0, 1, 1], [1, 0, 1, 0, 0, 1, 1], [1, 1, 0, 0, 0, 0, 1], [0, 0, 1, 1, 1, 0, 1], [0, 0, 0, 1, 1, 1, 1], [0, 0, 0, 0, 1, 1], [0, 1, 0, 0, 1, 1], [0, 0, 1, 1, 1, 0, 1], [0, 0, 0, 1, 1, 1, 1], [1, 1, 0, 0, 0, 1, 1], [0, 1, 0, 0, 0, 1, 1], [0, 0, 1, 1, 1, 0, 1], [0, 0, 0, 1, 1, 1, 1], [0, 0, 1, 0, 0, 1, 1], [1, 0, 0, 1, 1, 1], [0, 0, 1, 1, 1, 0, 1], [0, 0, 0, 1, 1, 1, 1], [1, 0, 1, 0, 0, 1, 1], [0, 0, 0, 0, 1, 1], [0, 1, 0, 1, 0, 0, 1], [0, 1, 1, 1, 0, 1, 1], [0, 0, 1, 1, 1, 0, 1], [0, 0, 0, 1, 1, 1, 1], [0, 1, 0, 0, 0, 1, 1], [0, 1, 0, 0, 1, 1], [0, 0, 1, 1, 1, 1], [0, 0, 1, 1, 1, 0, 1], [0, 0, 0, 1, 1, 1, 1], [1, 0, 0, 0, 1, 1], [0, 1, 0, 0, 1, 1], [0, 0, 1, 1, 0, 0, 1], [0, 0, 1, 1, 1, 0, 1], [0, 0, 0, 1, 1, 1, 1], [0, 1, 1, 0, 0, 1, 1], [0, 1, 1, 0, 1, 1], [1, 1, 1, 0, 1, 1, 1], [0, 0, 1, 1, 1, 0, 1], [0, 0, 0, 1, 1, 1, 1], [0, 0, 0, 0, 1, 1], [0, 1, 1, 0, 0, 1, 1], [1, 1, 0, 1, 0, 1, 1], [0, 0, 1, 1, 1, 0, 1], [0, 0, 0, 1, 1, 1, 1], [1, 1, 0, 0, 0, 1, 1], [0, 1, 1, 0, 1, 1], [1, 1, 0, 0, 1, 0, 1], [0, 0, 1, 0, 0, 0, 1], [1, 1, 1, 0, 0, 1]]\n",
            "Original message is: \t  [[0, 1, 0, 0, 0, 1, 1], [1, 1, 1, 0, 0, 1], [0, 0, 1, 1, 1, 0, 1], [0, 0, 0, 1, 1, 1, 1], [0, 0, 0, 1, 1, 1], [0, 0, 1, 0, 1, 1], [0, 0, 1, 1, 1, 0, 1], [0, 0, 0, 1, 1, 1, 1], [0, 1, 1, 0, 0, 1, 1], [0, 1, 1, 0, 1, 1], [0, 1, 1, 1, 0, 1], [0, 1, 0, 1, 1, 1], [0, 1, 0, 1, 1, 1, 1], [0, 0, 1, 1, 1, 0, 1], [0, 0, 0, 1, 1, 1, 1], [0, 1, 0, 0, 0, 1, 1], [1, 0, 1, 0, 0, 1, 1], [0, 0, 1, 1, 1, 0, 1], [0, 0, 0, 1, 1, 1, 1], [1, 0, 1, 0, 0, 1, 1], [1, 1, 1, 0, 1, 1], [0, 0, 1, 1, 1, 0, 1], [0, 0, 0, 1, 1, 1, 1], [1, 0, 0, 0, 0, 1, 1], [1, 0, 1, 0, 1, 1], [1, 0, 0, 1, 1, 1], [0, 0, 1, 1, 1, 0, 1], [0, 0, 0, 1, 1, 1, 1], [1, 0, 0, 0, 1, 1], [1, 0, 1, 0, 1, 1], [0, 1, 1, 1, 1, 1], [0, 0, 1, 1, 1, 0, 1], [0, 1, 1, 1, 0, 1, 1], [1, 0, 1, 1, 0, 1, 1], [0, 0, 1, 1, 1, 0, 1], [0, 0, 1, 1, 1, 0, 1], [0, 0, 1, 1, 1, 0, 1], [0, 0, 0, 1, 1, 1, 1], [1, 0, 0, 0, 0, 1, 1], [1, 0, 1, 0, 1, 1], [1, 1, 0, 1, 1, 1, 1], [0, 0, 1, 1, 1, 0, 1], [0, 0, 0, 1, 1, 1, 1], [1, 0, 0, 0, 0, 1, 1], [1, 0, 0, 1, 1, 1], [0, 0, 1, 1, 1, 0, 1], [0, 0, 0, 1, 1, 1, 1], [1, 1, 0, 0, 0, 1, 1], [1, 0, 1, 0, 0, 1, 1], [0, 0, 1, 1, 1, 0, 1], [0, 0, 0, 1, 1, 1, 1], [0, 0, 0, 1, 1, 1], [1, 1, 0, 0, 1, 1], [0, 0, 1, 1, 1, 0, 1], [0, 0, 0, 1, 1, 1, 1], [0, 0, 0, 0, 1, 1], [1, 0, 1, 0, 0, 1, 1], [1, 1, 1, 0, 0, 1]]\n",
            "Original message is: \t  [[0, 1, 0, 0, 0, 1, 1], [1, 1, 1, 0, 0, 1], [0, 0, 1, 1, 1, 0, 1], [0, 0, 0, 1, 1, 1, 1], [1, 1, 0, 0, 0, 1, 1], [1, 0, 0, 1, 1, 1], [0, 0, 1, 1, 1, 0, 1], [0, 0, 0, 1, 1, 1, 1], [0, 0, 0, 0, 1, 1], [0, 1, 1, 0, 0, 1, 1], [0, 0, 1, 1, 1, 0, 1], [0, 0, 0, 1, 1, 1, 1], [1, 0, 0, 0, 1, 1], [1, 0, 0, 1, 1, 1], [1, 1, 1, 1, 0, 0, 1], [0, 0, 0, 0, 1, 1, 1], [0, 0, 1, 1, 1, 0, 1], [0, 0, 0, 1, 1, 1, 1], [1, 1, 0, 0, 0, 1, 1], [1, 0, 1, 0, 0, 1, 1], [0, 0, 1, 1, 1, 0, 1], [0, 0, 0, 1, 1, 1, 1], [1, 0, 0, 1, 1, 1], [1, 0, 1, 0, 1, 1], [0, 0, 1, 1, 1, 0, 1], [0, 0, 0, 1, 1, 1, 1], [1, 1, 0, 0, 0, 1, 1], [0, 0, 1, 0, 0, 1, 1], [0, 0, 1, 1, 1, 0, 1], [0, 0, 0, 1, 1, 1, 1], [0, 0, 0, 1, 1, 1], [0, 1, 1, 0, 1, 1], [0, 0, 1, 1, 1, 0, 1], [0, 0, 0, 1, 1, 1, 1], [1, 0, 1, 0, 0, 1, 1], [0, 1, 1, 0, 1, 1], [0, 0, 1, 1, 1, 0, 1], [0, 0, 0, 1, 1, 1, 1], [0, 0, 1, 0, 0, 1, 1], [0, 0, 1, 0, 1, 1], [0, 0, 1, 1, 1, 0, 1], [0, 0, 0, 1, 1, 1, 1], [0, 0, 1, 0, 0, 1, 1], [0, 1, 0, 0, 0, 1, 1], [0, 0, 1, 1, 1, 0, 1], [0, 0, 0, 1, 1, 1, 1], [0, 1, 0, 0, 0, 1, 1], [1, 0, 0, 0, 0, 1, 1], [0, 1, 1, 0, 1, 1, 1], [0, 0, 1, 1, 1, 0, 1], [0, 0, 0, 1, 1, 1, 1], [0, 0, 1, 0, 0, 1, 1], [1, 0, 0, 0, 0, 1, 1], [0, 0, 0, 0, 1, 1, 1], [1, 1, 0, 0, 1, 1], [0, 0, 0, 0, 0, 0, 1], [0, 1, 0, 0, 0, 0, 1], [0, 0, 1, 1, 1, 0, 1], [0, 0, 0, 1, 1, 1, 1], [1, 0, 0, 0, 1, 1], [0, 1, 1, 0, 1, 1], [1, 1, 1, 0, 0, 1]]\n",
            "Original message is: \t  [[0, 1, 0, 0, 0, 1, 1], [1, 1, 1, 0, 0, 1], [0, 1, 0, 1, 0, 1], [0, 0, 1, 1, 1, 0, 1], [0, 0, 0, 1, 1, 1, 1], [1, 0, 1, 0, 0, 1, 1], [0, 1, 1, 0, 1, 1], [1, 0, 0, 1, 0, 1, 1], [0, 0, 1, 1, 1, 0, 1], [0, 0, 0, 1, 1, 1, 1], [1, 0, 0, 1, 1, 1], [1, 1, 0, 0, 0, 1, 1], [0, 0, 1, 1, 1, 0, 1], [0, 0, 0, 1, 1, 1, 1], [0, 1, 0, 0, 0, 1, 1], [1, 1, 1, 0, 1, 1], [0, 0, 1, 0, 0, 1, 1], [0, 1, 1, 0, 1, 1], [0, 0, 0, 1, 1, 0, 1], [0, 0, 1, 1, 0, 1, 1], [0, 1, 0, 1, 1, 1], [0, 0, 1, 1, 0, 1, 1], [0, 0, 1, 1, 1, 0, 1], [0, 0, 0, 1, 1, 1, 1], [0, 1, 0, 0, 0, 1, 1], [1, 0, 1, 0, 1, 1], [0, 0, 1, 1, 1, 0, 1], [0, 0, 0, 1, 1, 1, 1], [0, 0, 1, 0, 0, 1, 1], [0, 0, 1, 0, 0, 1, 1], [0, 0, 1, 0, 0, 1], [1, 0, 0, 0, 1, 0, 1], [1, 1, 1, 1, 0, 1], [0, 0, 1, 1, 1, 0, 1], [0, 0, 0, 1, 1, 1, 1], [1, 0, 1, 0, 0, 1, 1], [1, 1, 0, 0, 0, 1, 1], [0, 0, 1, 1, 1, 0, 1], [0, 0, 0, 1, 1, 1, 1], [1, 0, 0, 0, 1, 1], [1, 0, 0, 1, 1, 1], [1, 0, 1, 0, 1, 1, 1], [1, 0, 1, 0, 0, 1], [1, 1, 1, 0, 0, 1]]\n",
            "Original message is: \t  [[0, 1, 0, 0, 0, 1, 1], [1, 1, 1, 0, 0, 1], [1, 0, 0, 0, 1, 0, 1], [0, 1, 0, 1, 0, 0, 1], [1, 1, 0, 0, 1, 1], [0, 0, 1, 1, 1, 0, 1], [0, 0, 0, 1, 1, 1, 1], [0, 1, 0, 0, 0, 1, 1], [1, 1, 1, 0, 1, 1], [0, 0, 1, 1, 1, 0, 1], [0, 0, 0, 1, 1, 1, 1], [0, 0, 0, 0, 1, 1], [0, 1, 0, 0, 0, 1, 1], [0, 0, 1, 1, 1, 0, 1], [0, 0, 0, 1, 1, 1, 1], [1, 0, 0, 0, 1, 1], [1, 1, 0, 0, 0, 1, 1], [0, 0, 1, 1, 1, 0, 1], [0, 0, 0, 1, 1, 1, 1], [0, 0, 0, 1, 1, 1], [1, 0, 1, 0, 1, 1], [0, 0, 1, 1, 1, 0, 1], [0, 0, 0, 1, 1, 1, 1], [1, 0, 0, 0, 1, 1], [1, 0, 0, 1, 1, 1], [1, 1, 0, 0, 0, 1, 1], [0, 0, 1, 1, 1, 0, 1], [0, 0, 0, 1, 1, 1, 1], [1, 0, 0, 0, 0, 1, 1], [0, 1, 1, 0, 1, 1], [0, 0, 1, 1, 1, 0, 1], [0, 0, 0, 1, 1, 1, 1], [0, 0, 1, 0, 0, 1, 1], [0, 0, 0, 1, 1, 1], [1, 1, 1, 0, 0, 1, 1], [0, 0, 1, 1, 1, 0, 1], [0, 0, 0, 1, 1, 1, 1], [1, 0, 0, 0, 0, 1, 1], [1, 1, 1, 0, 1, 1], [0, 0, 1, 1, 1, 0, 1], [0, 0, 0, 1, 1, 1, 1], [1, 0, 0, 0, 0, 1, 1], [0, 1, 0, 0, 1, 1], [0, 0, 1, 1, 1, 0, 1], [0, 0, 0, 1, 1, 1, 1], [1, 1, 0, 0, 0, 1, 1], [1, 0, 0, 0, 0, 1, 1], [0, 0, 1, 1, 1, 0, 1], [0, 0, 0, 1, 1, 1, 1], [0, 0, 0, 0, 1, 1], [1, 1, 0, 0, 0, 1, 1], [0, 0, 1, 1, 1, 0, 1], [0, 0, 0, 1, 1, 1, 1], [1, 1, 0, 0, 0, 1, 1], [1, 1, 0, 0, 0, 1, 1], [0, 0, 1, 1, 0, 0, 1], [0, 0, 1, 1, 1, 0, 1], [0, 0, 0, 1, 1, 1, 1], [0, 0, 0, 0, 1, 1], [0, 1, 1, 0, 0, 1, 1], [0, 0, 1, 1, 1, 0, 1], [0, 0, 1, 0, 1, 1, 1], [1, 1, 1, 0, 0, 1]]\n",
            "Original message is: \t  [[0, 1, 0, 0, 0, 1, 1], [1, 1, 1, 0, 0, 1], [1, 1, 1, 1, 0, 1, 1], [0, 0, 1, 1, 1, 0, 1], [0, 0, 0, 1, 1, 1, 1], [0, 0, 0, 1, 1, 1], [0, 1, 1, 0, 1, 1], [0, 0, 1, 1, 1, 0, 1], [0, 0, 0, 1, 1, 1, 1], [1, 0, 0, 1, 1, 1], [1, 1, 0, 0, 1, 1], [0, 0, 1, 1, 1, 0, 1], [0, 0, 0, 1, 1, 1, 1], [0, 0, 0, 1, 1, 1], [1, 1, 0, 0, 1, 1], [0, 0, 1, 1, 1, 0, 1], [0, 0, 0, 1, 1, 1, 1], [1, 0, 0, 1, 1, 1], [1, 1, 0, 0, 0, 1, 1], [0, 0, 1, 1, 1, 0, 1], [0, 0, 0, 1, 1, 1, 1], [0, 0, 0, 0, 1, 1], [0, 1, 0, 0, 1, 1], [0, 0, 1, 1, 1, 0, 1], [0, 0, 0, 1, 1, 1, 1], [1, 0, 0, 1, 1, 1], [1, 1, 0, 0, 0, 1, 1], [0, 0, 1, 1, 0, 1, 1], [0, 0, 1, 1, 1, 0, 1], [0, 0, 0, 1, 1, 1, 1], [0, 1, 1, 0, 0, 1, 1], [0, 0, 0, 0, 1, 1], [0, 1, 1, 0, 0, 0, 1], [0, 1, 1, 0, 0, 1, 1], [0, 0, 1, 1, 1, 0, 1], [0, 0, 0, 1, 1, 1, 1], [1, 0, 1, 0, 0, 1, 1], [1, 1, 0, 0, 0, 1, 1], [0, 0, 1, 1, 1, 0, 1], [0, 0, 0, 1, 1, 1, 1], [0, 1, 0, 0, 0, 1, 1], [0, 1, 1, 0, 1, 1], [0, 1, 1, 1, 1, 1], [1, 0, 0, 0, 0, 1], [0, 0, 1, 1, 1, 0, 1], [0, 0, 0, 1, 1, 1, 1], [0, 1, 0, 0, 0, 1, 1], [0, 1, 0, 0, 1, 1], [0, 0, 1, 1, 1, 0, 1], [0, 0, 0, 1, 1, 1, 1], [0, 0, 1, 0, 0, 1, 1], [0, 1, 1, 0, 0, 1, 1], [0, 0, 1, 1, 1, 0, 1], [0, 0, 0, 1, 1, 1, 1], [1, 0, 0, 1, 1, 1], [1, 0, 0, 0, 0, 1, 1], [1, 1, 0, 1, 0, 0, 1], [0, 1, 0, 1, 0, 1, 1], [1, 1, 1, 0, 0, 1]]\n",
            "Original message is: \t  [[0, 1, 0, 0, 0, 1, 1], [1, 1, 1, 0, 0, 1], [0, 0, 1, 0, 0, 1], [0, 0, 1, 1, 1, 0, 1], [0, 0, 0, 1, 1, 1, 1], [1, 0, 1, 0, 0, 1, 1], [1, 1, 1, 0, 1, 1], [0, 0, 1, 1, 1, 0, 1], [0, 0, 0, 1, 1, 1, 1], [1, 0, 0, 1, 1, 1], [0, 1, 1, 0, 1, 1], [1, 0, 0, 1, 0, 1], [0, 0, 1, 1, 1, 0, 1], [0, 0, 1, 0, 1, 1, 1], [0, 0, 1, 1, 1, 0, 1], [0, 0, 0, 1, 1, 1, 1], [0, 0, 0, 1, 1, 1], [1, 0, 0, 0, 0, 1, 1], [0, 0, 1, 1, 1, 0, 1], [0, 0, 0, 1, 1, 1, 1], [0, 1, 0, 0, 0, 1, 1], [1, 0, 0, 0, 0, 1, 1], [1, 1, 1, 0, 1, 1, 1], [0, 1, 0, 1, 1, 1], [0, 0, 1, 1, 1, 0, 1], [0, 1, 1, 1, 0, 1, 1], [0, 0, 1, 1, 1, 0, 1], [0, 0, 0, 1, 1, 1, 1], [1, 0, 0, 0, 1, 1], [1, 0, 0, 1, 1, 1], [0, 0, 1, 1, 1, 0, 1], [0, 0, 0, 1, 1, 1, 1], [0, 0, 1, 0, 0, 1, 1], [0, 1, 1, 0, 1, 1], [0, 0, 1, 1, 1, 0, 1], [0, 0, 0, 1, 1, 1, 1], [1, 0, 1, 0, 0, 1, 1], [1, 0, 1, 0, 1, 1], [1, 1, 0, 0, 1, 0, 1], [0, 0, 1, 1, 1, 0, 1], [0, 0, 0, 1, 1, 1, 1], [0, 1, 1, 0, 0, 1, 1], [0, 1, 1, 0, 1, 1], [0, 0, 1, 1, 1, 0, 1], [0, 0, 0, 1, 1, 1, 1], [1, 1, 0, 0, 0, 1, 1], [0, 1, 1, 0, 1, 1], [0, 0, 1, 1, 1, 0, 1], [0, 0, 0, 1, 1, 1, 1], [0, 0, 0, 1, 1, 1], [1, 1, 0, 0, 0, 1, 1], [1, 0, 1, 0, 1, 0, 1], [1, 0, 1, 0, 0, 1], [0, 0, 1, 1, 1, 0, 1], [0, 0, 0, 1, 1, 1, 1], [1, 1, 0, 0, 0, 1, 1], [0, 0, 0, 0, 1, 1], [1, 1, 1, 0, 0, 1]]\n",
            "Original message is: \t  [[0, 1, 0, 0, 0, 1, 1], [1, 1, 1, 0, 0, 1], [0, 0, 1, 1, 1, 0, 1], [0, 0, 0, 1, 1, 1, 1], [1, 1, 0, 0, 0, 1, 1], [0, 1, 1, 0, 1, 1], [1, 1, 0, 0, 1, 1, 1], [0, 0, 1, 1, 1, 0, 1], [0, 0, 0, 1, 1, 1, 1], [1, 1, 0, 0, 0, 1, 1], [0, 1, 0, 0, 0, 1, 1], [0, 0, 1, 1, 1, 0, 1], [0, 0, 0, 1, 1, 1, 1], [1, 0, 1, 0, 0, 1, 1], [1, 0, 0, 0, 1, 1], [0, 0, 1, 0, 1, 0, 1], [0, 0, 1, 1, 1, 0, 1], [0, 0, 0, 1, 1, 1, 1], [0, 0, 1, 0, 0, 1, 1], [0, 0, 0, 0, 1, 1], [0, 0, 1, 1, 1, 0, 1], [0, 0, 0, 1, 1, 1, 1], [0, 1, 0, 0, 0, 1, 1], [0, 1, 1, 0, 1, 1], [0, 0, 1, 1, 1, 0, 1], [0, 0, 0, 1, 1, 1, 1], [0, 0, 0, 1, 1, 1], [0, 0, 0, 1, 1, 1], [1, 0, 1, 0, 0, 1], [1, 0, 0, 1, 0, 1], [0, 0, 1, 1, 1, 0, 1], [0, 0, 0, 1, 1, 1, 1], [0, 1, 0, 0, 0, 1, 1], [1, 1, 0, 0, 1, 1], [0, 0, 1, 1, 0, 0, 1], [0, 0, 1, 1, 1, 0, 1], [0, 0, 0, 1, 1, 1, 1], [1, 0, 0, 0, 1, 1], [1, 0, 0, 0, 0, 1, 1], [0, 0, 1, 1, 1, 0, 1], [0, 0, 0, 1, 1, 1, 1], [0, 0, 1, 0, 0, 1, 1], [1, 1, 0, 0, 0, 1, 1], [0, 0, 1, 1, 1, 0, 1], [0, 0, 0, 1, 1, 1, 1], [1, 0, 0, 0, 0, 1, 1], [0, 1, 1, 0, 1, 1], [0, 0, 0, 1, 0, 0, 1], [0, 0, 0, 0, 1, 1], [1, 0, 0, 0, 0, 0, 1], [0, 0, 1, 1, 1, 0, 1], [0, 0, 0, 1, 1, 1, 1], [1, 0, 0, 1, 1, 1], [0, 0, 0, 1, 1, 1], [1, 0, 0, 1, 1, 1], [1, 1, 1, 0, 0, 1]]\n",
            "Original message is: \t  [[0, 1, 0, 0, 0, 1, 1], [1, 1, 1, 0, 0, 1], [1, 1, 1, 0, 1, 1], [0, 0, 1, 1, 1, 0, 1], [0, 0, 0, 1, 1, 1, 1], [0, 1, 0, 0, 0, 1, 1], [0, 0, 0, 0, 1, 1], [0, 1, 1, 0, 1, 0, 1], [0, 1, 1, 0, 0, 1, 1], [0, 0, 1, 1, 1, 0, 1], [0, 0, 0, 1, 1, 1, 1], [0, 1, 0, 0, 0, 1, 1], [0, 0, 1, 0, 0, 1, 1], [0, 0, 1, 1, 1, 0, 1], [0, 0, 0, 1, 1, 1, 1], [0, 1, 0, 0, 0, 1, 1], [1, 0, 0, 0, 0, 1, 1], [0, 0, 0, 0, 1, 1], [0, 0, 1, 1, 1, 0, 1], [0, 0, 0, 1, 1, 1, 1], [0, 0, 0, 1, 1, 1], [1, 0, 1, 0, 0, 1, 1], [0, 0, 1, 1, 1, 0, 1], [0, 0, 0, 1, 1, 1, 1], [1, 0, 0, 1, 1, 1], [0, 1, 0, 0, 0, 1, 1], [0, 0, 1, 1, 1, 1, 1], [0, 0, 1, 1, 1, 0, 1], [0, 0, 0, 1, 1, 1, 1], [0, 0, 0, 1, 1, 1], [0, 1, 0, 0, 1, 1], [1, 0, 0, 0, 0, 1, 1], [0, 0, 0, 1, 1, 0, 1], [0, 0, 1, 1, 1, 0, 1], [0, 0, 0, 1, 1, 1, 1], [0, 0, 1, 0, 0, 1, 1], [1, 1, 0, 0, 0, 1, 1], [0, 1, 0, 1, 0, 1], [0, 1, 1, 0, 1, 1, 1], [0, 0, 0, 0, 0, 0, 1], [1, 1, 0, 0, 1, 1], [0, 0, 1, 1, 1, 0, 1], [0, 0, 0, 1, 1, 1, 1], [0, 0, 0, 1, 1, 1], [1, 1, 1, 0, 1, 1], [0, 0, 1, 1, 1, 0, 1], [0, 0, 0, 1, 1, 1, 1], [1, 1, 0, 0, 0, 1, 1], [0, 1, 0, 0, 0, 1, 1], [1, 1, 1, 0, 0, 1]]\n",
            "Original message is: \t  [[0, 1, 0, 0, 0, 1, 1], [1, 1, 1, 0, 0, 1], [0, 1, 1, 0, 0, 1, 1], [0, 1, 1, 0, 1, 0, 1], [0, 0, 1, 1, 1, 0, 1], [0, 0, 0, 1, 1, 1, 1], [0, 1, 0, 0, 0, 1, 1], [0, 0, 0, 1, 1, 1], [0, 0, 1, 1, 1, 0, 1], [0, 0, 0, 1, 1, 1, 1], [0, 0, 1, 0, 0, 1, 1], [0, 0, 0, 1, 1, 1], [1, 1, 0, 0, 0, 1, 1], [1, 1, 0, 0, 1, 0, 1], [0, 0, 1, 1, 1, 0, 1], [0, 0, 0, 1, 1, 1, 1], [1, 0, 0, 1, 1, 1], [0, 1, 0, 0, 1, 1], [0, 1, 1, 1, 0, 1], [1, 0, 1, 1, 1, 1], [0, 1, 0, 0, 0, 0, 1], [1, 1, 0, 0, 1, 0, 1], [0, 0, 0, 0, 0, 0, 1], [0, 0, 1, 1, 1, 0, 1], [0, 0, 0, 1, 1, 1, 1], [0, 0, 1, 0, 0, 1, 1], [0, 1, 1, 0, 1, 1], [0, 0, 0, 0, 1, 1, 1], [0, 0, 1, 1, 1, 0, 1], [0, 0, 0, 1, 1, 1, 1], [1, 0, 0, 1, 1, 1], [0, 1, 0, 0, 1, 1], [1, 1, 0, 1, 0, 0, 1], [0, 0, 1, 1, 1, 0, 1], [0, 0, 0, 1, 1, 1, 1], [1, 0, 0, 0, 1, 1], [0, 0, 1, 0, 1, 1], [0, 0, 1, 1, 1, 0, 1], [0, 0, 0, 1, 1, 1, 1], [0, 1, 1, 0, 0, 1, 1], [1, 0, 0, 0, 1, 1], [0, 1, 1, 0, 0, 0, 1], [0, 0, 1, 1, 1, 0, 1], [0, 0, 0, 1, 1, 1, 1], [0, 1, 1, 0, 0, 1, 1], [0, 1, 0, 0, 1, 1], [1, 1, 1, 0, 0, 1]]\n",
            "Original message is: \t  [[0, 1, 0, 0, 0, 1, 1], [1, 1, 1, 0, 0, 1], [0, 0, 1, 1, 1, 0, 1], [0, 0, 0, 1, 1, 1, 1], [1, 1, 0, 0, 0, 1, 1], [0, 1, 1, 0, 0, 1, 1], [0, 0, 1, 1, 0, 0, 1], [0, 0, 1, 1, 1, 0, 1], [0, 0, 0, 1, 1, 1, 1], [0, 0, 1, 0, 0, 1, 1], [0, 0, 1, 0, 1, 1], [0, 0, 1, 1, 1, 0, 1], [0, 0, 0, 1, 1, 1, 1], [1, 0, 0, 0, 1, 1], [1, 0, 1, 0, 0, 1, 1], [0, 0, 1, 1, 1, 0, 1], [0, 0, 0, 1, 1, 1, 1], [0, 0, 1, 0, 0, 1, 1], [1, 0, 1, 0, 0, 1, 1], [0, 0, 1, 1, 1, 0, 1], [0, 0, 0, 1, 1, 1, 1], [1, 1, 0, 0, 0, 1, 1], [1, 1, 1, 0, 1, 1], [0, 0, 1, 1, 1, 0, 1], [0, 0, 0, 1, 1, 1, 1], [1, 0, 0, 0, 1, 1], [1, 0, 1, 0, 0, 1, 1], [0, 0, 1, 1, 1, 0, 1], [0, 0, 0, 1, 1, 1, 1], [0, 0, 0, 0, 1, 1], [1, 0, 1, 0, 1, 1], [0, 0, 1, 1, 1, 0, 1], [0, 0, 0, 1, 1, 1, 1], [1, 0, 1, 0, 0, 1, 1], [1, 1, 0, 0, 0, 1, 1], [0, 0, 1, 1, 1, 0, 1], [0, 0, 0, 1, 1, 1, 1], [0, 0, 1, 0, 0, 1, 1], [0, 0, 0, 1, 1, 1], [0, 0, 1, 1, 1, 0, 1], [0, 0, 0, 1, 1, 1, 1], [0, 1, 0, 0, 0, 1, 1], [1, 1, 0, 0, 0, 1, 1], [0, 0, 1, 0, 1, 0, 1], [0, 0, 1, 1, 1, 0, 1], [0, 0, 0, 1, 1, 1, 1], [1, 1, 0, 0, 0, 1, 1], [0, 1, 1, 0, 0, 1, 1], [0, 0, 1, 1, 1, 0, 1], [0, 0, 0, 1, 1, 1, 1], [0, 0, 0, 0, 1, 1], [0, 1, 1, 0, 1, 1], [0, 0, 1, 1, 1, 0, 1], [0, 0, 0, 1, 1, 1, 1], [1, 0, 0, 0, 0, 1, 1], [1, 0, 0, 1, 1, 1], [0, 0, 1, 1, 1, 0, 1], [0, 0, 0, 1, 1, 1, 1], [1, 0, 1, 0, 0, 1, 1], [1, 0, 1, 0, 1, 1], [0, 0, 1, 1, 1, 0, 1], [0, 0, 0, 1, 1, 1, 1], [1, 1, 0, 0, 0, 1, 1], [1, 1, 1, 0, 1, 1], [1, 1, 0, 0, 0, 1, 1], [0, 0, 1, 1, 1, 0, 1], [0, 0, 0, 1, 1, 1, 1], [0, 1, 1, 0, 0, 1, 1], [1, 0, 0, 1, 1, 1], [1, 0, 1, 1, 1, 1, 1], [1, 1, 1, 0, 0, 1]]\n",
            "Original message is: \t  [[0, 1, 0, 0, 0, 1, 1], [1, 1, 1, 0, 0, 1], [0, 0, 1, 1, 1, 0, 1], [0, 0, 0, 1, 1, 1, 1], [0, 0, 0, 1, 1, 1], [0, 0, 0, 0, 1, 1], [1, 1, 1, 0, 1, 0, 1], [0, 0, 1, 1, 1, 0, 1], [0, 0, 0, 1, 1, 1, 1], [1, 0, 0, 0, 0, 1, 1], [1, 0, 0, 0, 0, 1, 1], [0, 0, 1, 1, 1, 0, 1], [0, 0, 0, 1, 1, 1, 1], [1, 0, 0, 1, 1, 1], [0, 0, 0, 1, 1, 1], [0, 0, 1, 1, 1, 0, 1], [0, 1, 0, 0, 1, 1, 1], [0, 0, 1, 0, 1, 1, 1], [0, 0, 1, 1, 1, 0, 1], [0, 0, 0, 1, 1, 1, 1], [1, 0, 1, 0, 0, 1, 1], [1, 0, 1, 0, 1, 1], [0, 0, 1, 1, 1, 0, 1], [0, 0, 0, 1, 1, 1, 1], [1, 0, 0, 0, 1, 1], [0, 0, 0, 1, 1, 1], [0, 0, 1, 1, 1, 0, 1], [0, 0, 0, 1, 1, 1, 1], [0, 1, 0, 0, 0, 1, 1], [0, 1, 0, 0, 1, 1], [1, 1, 0, 0, 1, 1], [0, 0, 1, 1, 1, 0, 1], [0, 0, 0, 1, 1, 1, 1], [1, 0, 1, 0, 0, 1, 1], [0, 0, 1, 0, 1, 1], [0, 1, 0, 0, 0, 1, 1], [0, 0, 1, 1, 1, 0, 1], [0, 0, 0, 1, 1, 1, 1], [0, 0, 0, 1, 1, 1], [0, 1, 0, 0, 0, 1, 1], [1, 0, 1, 1, 1, 1, 1], [1, 1, 0, 0, 1, 1, 1], [0, 1, 1, 0, 1, 1, 1], [1, 0, 0, 1, 1, 0, 1], [0, 1, 1, 0, 0, 1], [1, 0, 1, 1, 1, 1], [1, 0, 1, 0, 1, 1, 1], [1, 1, 1, 0, 0, 1]]\n",
            "Original message is: \t  [[0, 1, 0, 0, 0, 1, 1], [1, 1, 1, 0, 0, 1], [1, 0, 1, 1, 0, 0, 1], [0, 0, 1, 1, 1, 0, 1], [0, 0, 1, 0, 1, 1, 1], [0, 0, 1, 1, 1, 0, 1], [0, 0, 0, 1, 1, 1, 1], [1, 0, 0, 0, 0, 1, 1], [1, 0, 0, 0, 1, 1], [0, 0, 1, 1, 1, 0, 1], [0, 0, 0, 1, 1, 1, 1], [0, 1, 0, 0, 0, 1, 1], [0, 0, 0, 0, 1, 1], [0, 0, 1, 1, 1, 0, 1], [0, 0, 0, 1, 1, 1, 1], [1, 0, 1, 0, 0, 1, 1], [0, 0, 0, 0, 1, 1], [0, 0, 1, 1, 0, 1, 1], [0, 0, 1, 1, 1, 0, 1], [0, 0, 0, 1, 1, 1, 1], [1, 0, 0, 1, 1, 1], [0, 1, 1, 0, 0, 1, 1], [0, 0, 1, 1, 1, 0, 1], [0, 0, 0, 1, 1, 1, 1], [0, 0, 1, 0, 0, 1, 1], [0, 0, 1, 0, 0, 1, 1], [0, 0, 1, 1, 1, 0, 1], [0, 0, 0, 1, 1, 1, 1], [0, 0, 1, 0, 0, 1, 1], [0, 1, 1, 0, 0, 1, 1], [0, 0, 1, 1, 1, 0, 1], [0, 0, 0, 1, 1, 1, 1], [1, 0, 1, 0, 0, 1, 1], [1, 0, 0, 1, 1, 1], [0, 0, 1, 1, 1, 0, 1], [0, 0, 0, 1, 1, 1, 1], [1, 0, 0, 0, 0, 1, 1], [1, 0, 0, 1, 1, 1], [0, 0, 1, 1, 1, 0, 1], [0, 0, 0, 1, 1, 1, 1], [0, 1, 1, 0, 0, 1, 1], [0, 1, 1, 0, 0, 1, 1], [0, 0, 1, 1, 1, 0, 1], [0, 0, 0, 1, 1, 1, 1], [1, 0, 0, 0, 0, 1, 1], [0, 0, 1, 0, 0, 1, 1], [0, 1, 1, 0, 1, 1], [1, 1, 0, 0, 0, 1], [0, 0, 1, 1, 1, 0, 1], [0, 0, 0, 1, 1, 1, 1], [1, 0, 0, 0, 0, 1, 1], [0, 0, 0, 0, 1, 1], [0, 0, 1, 1, 1, 0, 1], [0, 0, 0, 1, 1, 1, 1], [1, 0, 1, 0, 0, 1, 1], [0, 0, 1, 0, 0, 1, 1], [0, 0, 1, 1, 1, 0, 1], [0, 0, 0, 1, 1, 1, 1], [1, 0, 1, 0, 0, 1, 1], [0, 1, 1, 0, 0, 1, 1], [0, 1, 1, 1, 0, 1, 1], [1, 0, 0, 0, 0, 0, 1], [1, 1, 1, 0, 0, 1]]\n",
            "Original message is: \t  [[0, 1, 0, 0, 0, 1, 1], [1, 1, 1, 0, 0, 1], [1, 0, 0, 0, 1, 0, 1], [1, 0, 1, 1, 0, 0, 1], [0, 0, 1, 1, 1, 0, 1], [0, 0, 0, 1, 1, 1, 1], [1, 0, 1, 0, 0, 1, 1], [0, 0, 0, 1, 1, 1], [0, 0, 1, 1, 1, 0, 1], [0, 0, 0, 1, 1, 1, 1], [1, 0, 0, 0, 1, 1], [1, 0, 0, 0, 0, 1, 1], [1, 1, 0, 1, 1, 1], [0, 0, 1, 1, 1, 0, 1], [0, 0, 0, 1, 1, 1, 1], [0, 0, 0, 1, 1, 1], [1, 0, 1, 0, 0, 1, 1], [0, 0, 1, 1, 1, 0, 1], [0, 0, 0, 1, 1, 1, 1], [1, 0, 1, 0, 0, 1, 1], [1, 0, 1, 0, 0, 1, 1], [0, 0, 1, 1, 1, 0, 1], [0, 0, 0, 1, 1, 1, 1], [1, 0, 0, 0, 1, 1], [0, 1, 1, 0, 1, 1], [1, 0, 0, 1, 0, 1, 1], [0, 0, 1, 1, 1, 0, 1], [0, 0, 0, 1, 1, 1, 1], [1, 0, 1, 0, 0, 1, 1], [1, 1, 0, 0, 1, 1], [0, 0, 1, 1, 1, 0, 1], [0, 0, 0, 1, 1, 1, 1], [1, 0, 1, 0, 0, 1, 1], [0, 1, 0, 0, 1, 1], [0, 0, 1, 1, 1, 0, 1], [0, 0, 0, 1, 1, 1, 1], [0, 1, 0, 0, 0, 1, 1], [1, 1, 0, 0, 0, 1, 1], [1, 0, 1, 1, 0, 1], [0, 0, 1, 1, 1, 0, 1], [0, 0, 0, 1, 1, 1, 1], [1, 0, 0, 1, 1, 1], [0, 0, 0, 1, 1, 1], [0, 0, 1, 1, 1, 0, 1], [0, 0, 0, 1, 1, 1, 1], [0, 0, 0, 0, 1, 1], [1, 0, 1, 0, 0, 1, 1], [0, 0, 1, 1, 1, 0, 1], [0, 0, 0, 1, 1, 1, 1], [0, 0, 0, 1, 1, 1], [1, 0, 1, 0, 1, 1], [1, 1, 0, 1, 1, 1], [0, 1, 0, 1, 0, 1, 1], [0, 0, 1, 1, 1, 0, 1], [0, 0, 0, 1, 1, 1, 1], [0, 0, 0, 1, 1, 1], [1, 0, 0, 0, 1, 1], [0, 0, 1, 1, 1, 0, 1], [0, 0, 0, 1, 1, 1, 1], [1, 0, 0, 1, 1, 1], [0, 1, 0, 0, 0, 1, 1], [1, 1, 1, 0, 0, 1]]\n",
            "Original message is: \t  [[0, 1, 0, 0, 0, 1, 1], [1, 1, 1, 0, 0, 1], [1, 0, 0, 0, 0, 0, 1], [0, 0, 1, 1, 1, 0, 1], [0, 0, 0, 1, 1, 1, 1], [1, 0, 1, 0, 0, 1, 1], [1, 0, 1, 0, 0, 1, 1], [0, 0, 1, 1, 1, 0, 1], [0, 0, 0, 1, 1, 1, 1], [0, 0, 0, 1, 1, 1], [0, 0, 0, 1, 1, 1], [0, 1, 0, 0, 0, 0, 1], [0, 0, 1, 1, 1, 0, 1], [0, 0, 0, 1, 1, 1, 1], [0, 0, 0, 1, 1, 1], [0, 0, 0, 0, 1, 1], [0, 0, 1, 1, 1, 0, 1], [0, 0, 0, 1, 1, 1, 1], [1, 0, 0, 1, 1, 1], [1, 0, 1, 0, 0, 1, 1], [0, 0, 1, 1, 1, 0, 1], [0, 0, 0, 1, 1, 1, 1], [0, 1, 1, 0, 0, 1, 1], [1, 0, 1, 0, 1, 1], [0, 0, 1, 1, 1, 0, 1], [0, 0, 0, 1, 1, 1, 1], [1, 1, 0, 0, 0, 1, 1], [1, 0, 1, 0, 0, 1, 1], [0, 0, 1, 1, 1, 0, 1], [0, 0, 0, 1, 1, 1, 1], [0, 1, 1, 0, 0, 1, 1], [1, 0, 0, 1, 1, 1], [0, 0, 1, 1, 1, 0, 1], [0, 0, 0, 1, 1, 1, 1], [1, 1, 0, 0, 0, 1, 1], [0, 1, 1, 0, 0, 1, 1], [0, 1, 0, 1, 0, 1], [0, 0, 1, 1, 1, 0, 1], [0, 0, 0, 1, 1, 1, 1], [1, 0, 1, 0, 0, 1, 1], [0, 1, 0, 0, 1, 1], [0, 0, 0, 0, 0, 0, 1], [0, 0, 1, 0, 1, 1, 1], [0, 1, 1, 1, 0, 1], [0, 0, 1, 1, 1, 0, 1], [0, 0, 0, 1, 1, 1, 1], [0, 0, 0, 0, 1, 1], [1, 1, 0, 0, 0, 1, 1], [1, 1, 0, 0, 0, 1], [0, 0, 1, 1, 1, 0, 1], [0, 0, 0, 1, 1, 1, 1], [1, 1, 1, 0, 1, 1], [0, 1, 1, 0, 0, 1, 1], [0, 0, 1, 1, 1, 0, 1], [0, 0, 0, 1, 1, 1, 1], [0, 0, 0, 1, 1, 1], [0, 1, 0, 0, 0, 1, 1], [0, 0, 1, 0, 1, 0, 1], [1, 1, 1, 0, 0, 1]]\n",
            "Original message is: \t  [[0, 1, 0, 0, 0, 1, 1], [1, 1, 1, 0, 0, 1], [1, 0, 0, 0, 1, 0, 1], [0, 0, 0, 1, 0, 0, 1], [0, 0, 1, 1, 1, 0, 1], [0, 0, 0, 1, 1, 1, 1], [1, 0, 0, 1, 1, 1], [1, 1, 1, 0, 1, 1], [0, 0, 1, 1, 1, 0, 1], [0, 0, 0, 1, 1, 1, 1], [0, 1, 0, 0, 0, 1, 1], [0, 0, 1, 0, 1, 1], [1, 1, 0, 0, 1, 1, 1], [1, 0, 0, 1, 0, 1, 1], [0, 0, 1, 1, 1, 0, 1], [0, 0, 0, 1, 1, 1, 1], [0, 1, 1, 0, 0, 1, 1], [1, 1, 0, 0, 1, 1], [1, 1, 1, 1, 1, 0, 1], [0, 0, 1, 1, 1, 0, 1], [0, 0, 0, 1, 1, 1, 1], [1, 0, 1, 0, 0, 1, 1], [0, 1, 1, 0, 1, 1], [0, 0, 1, 1, 1, 0, 1], [0, 0, 0, 1, 1, 1, 1], [0, 1, 1, 0, 0, 1, 1], [0, 1, 0, 0, 0, 1, 1], [0, 1, 1, 1, 0, 0, 1], [0, 0, 1, 1, 1, 0, 1], [0, 0, 0, 1, 1, 1, 1], [1, 0, 1, 0, 0, 1, 1], [0, 1, 0, 0, 1, 1], [1, 1, 1, 0, 1, 1, 1], [0, 0, 1, 1, 1, 0, 1], [0, 0, 0, 1, 1, 1, 1], [1, 0, 0, 0, 0, 1, 1], [0, 1, 1, 0, 0, 1, 1], [0, 0, 1, 1, 1, 0, 1], [0, 0, 0, 1, 1, 1, 1], [1, 0, 0, 0, 0, 1, 1], [0, 0, 0, 0, 1, 1], [0, 0, 1, 1, 1, 0, 1], [0, 0, 0, 1, 1, 1, 1], [0, 0, 0, 1, 1, 1], [0, 1, 1, 0, 0, 1, 1], [1, 0, 1, 0, 0, 1, 1], [1, 0, 1, 0, 0, 0, 1], [0, 0, 1, 1, 1, 0, 1], [0, 0, 0, 1, 1, 1, 1], [0, 0, 1, 0, 0, 1, 1], [0, 1, 1, 0, 1, 1], [0, 0, 1, 1, 1, 0, 1], [0, 0, 0, 1, 1, 1, 1], [0, 0, 0, 1, 1, 1], [1, 0, 1, 0, 1, 1], [1, 1, 1, 0, 0, 1]]\n",
            "Original message is: \t  [[0, 1, 0, 0, 0, 1, 1], [1, 1, 1, 0, 0, 1], [0, 0, 1, 1, 1, 0, 1], [0, 0, 0, 1, 1, 1, 1], [0, 0, 0, 0, 1, 1], [0, 1, 1, 0, 1, 1], [1, 1, 1, 1, 0, 1, 1], [0, 0, 1, 1, 1, 0, 1], [0, 0, 0, 1, 1, 1, 1], [1, 0, 0, 0, 1, 1], [1, 0, 1, 0, 0, 1, 1], [1, 0, 0, 0, 1, 1], [1, 1, 0, 1, 0, 0, 1], [1, 0, 1, 0, 0, 0, 1], [1, 0, 0, 1, 0, 1], [0, 0, 1, 1, 1, 0, 1], [0, 0, 0, 1, 1, 1, 1], [0, 1, 0, 0, 0, 1, 1], [0, 1, 1, 0, 1, 1], [0, 0, 1, 1, 1, 1], [0, 0, 1, 1, 1, 0, 1], [0, 0, 0, 1, 1, 1, 1], [1, 0, 0, 0, 0, 1, 1], [0, 1, 1, 0, 0, 1, 1], [0, 0, 0, 0, 1, 0, 1], [0, 0, 1, 1, 1, 0, 1], [0, 0, 0, 1, 1, 1, 1], [0, 1, 1, 0, 0, 1, 1], [1, 0, 0, 0, 1, 1], [0, 0, 1, 1, 1, 0, 1], [0, 0, 0, 1, 1, 1, 1], [0, 1, 1, 0, 0, 1, 1], [1, 1, 1, 0, 1, 1], [1, 0, 1, 1, 1, 1, 1], [1, 0, 0, 0, 0, 1, 1], [0, 0, 1, 1, 1, 0, 1], [0, 0, 0, 1, 1, 1, 1], [1, 1, 0, 0, 0, 1, 1], [0, 1, 0, 0, 1, 1], [0, 0, 0, 1, 1, 1], [0, 0, 1, 1, 1, 0, 1], [0, 0, 0, 1, 1, 1, 1], [0, 0, 1, 0, 0, 1, 1], [0, 1, 1, 0, 0, 1, 1], [0, 1, 1, 1, 1, 1], [0, 0, 1, 0, 0, 1, 1], [1, 1, 1, 0, 0, 1]]\n",
            "Original message is: \t  [[0, 1, 0, 0, 0, 1, 1], [1, 1, 1, 0, 0, 1], [0, 0, 1, 1, 1, 0, 1], [0, 1, 1, 1, 0, 1, 1], [0, 0, 1, 1, 1, 0, 1], [0, 0, 0, 1, 1, 1, 1], [0, 0, 0, 1, 1, 1], [1, 0, 0, 0, 0, 1, 1], [0, 0, 1, 1, 1, 0, 1], [0, 0, 0, 1, 1, 1, 1], [0, 1, 1, 0, 0, 1, 1], [0, 1, 1, 0, 0, 1, 1], [0, 0, 1, 1, 1, 0, 1], [0, 0, 0, 1, 1, 1, 1], [0, 0, 0, 1, 1, 1], [0, 1, 1, 0, 0, 1, 1], [1, 0, 0, 0, 0, 1], [1, 1, 1, 1, 1, 1], [0, 0, 1, 1, 1, 0, 1], [0, 0, 0, 1, 1, 1, 1], [0, 1, 1, 0, 0, 1, 1], [0, 1, 0, 0, 1, 1], [0, 0, 1, 1, 1, 0, 1], [0, 0, 0, 1, 1, 1, 1], [1, 0, 0, 1, 1, 1], [1, 1, 0, 0, 1, 1], [0, 0, 1, 1, 1, 0, 1], [0, 0, 0, 1, 1, 1, 1], [0, 0, 0, 1, 1, 1], [0, 1, 0, 0, 1, 1], [0, 0, 1, 1, 1, 0, 1], [0, 0, 0, 1, 1, 1, 1], [0, 0, 0, 1, 1, 1], [0, 0, 1, 0, 0, 1, 1], [0, 0, 1, 1, 1, 0, 1], [0, 0, 0, 1, 1, 1, 1], [1, 0, 0, 0, 1, 1], [0, 1, 0, 0, 0, 1, 1], [0, 0, 1, 0, 1, 0, 1], [1, 1, 0, 1, 0, 0, 1], [0, 0, 1, 1, 1, 0, 1], [0, 0, 0, 1, 1, 1, 1], [1, 0, 1, 0, 0, 1, 1], [0, 1, 1, 0, 0, 1, 1], [0, 0, 1, 1, 1, 0, 1], [0, 0, 0, 1, 1, 1, 1], [1, 0, 0, 0, 1, 1], [1, 1, 1, 0, 1, 1], [0, 0, 1, 1, 1, 0, 1], [0, 0, 0, 1, 1, 1, 1], [1, 1, 0, 0, 0, 1, 1], [1, 1, 0, 0, 1, 1], [0, 0, 1, 1, 1, 0, 1], [0, 0, 0, 1, 1, 1, 1], [1, 0, 0, 1, 1, 1], [1, 1, 0, 0, 0, 1, 1], [0, 1, 0, 0, 1, 0, 1], [0, 0, 1, 1, 1, 0, 1], [0, 0, 0, 1, 1, 1, 1], [1, 0, 1, 0, 0, 1, 1], [0, 1, 1, 0, 0, 1, 1], [0, 0, 1, 1, 1, 0, 1], [0, 0, 0, 1, 1, 1, 1], [1, 1, 0, 0, 0, 1, 1], [1, 1, 0, 0, 0, 1, 1], [1, 1, 1, 0, 0, 1]]\n",
            "Original message is: \t  [[0, 1, 0, 0, 0, 1, 1], [1, 1, 1, 0, 0, 1], [1, 0, 0, 1, 0, 1, 1], [0, 0, 1, 1, 1, 0, 1], [0, 0, 0, 1, 1, 1, 1], [0, 0, 0, 1, 1, 1], [1, 1, 1, 0, 1, 1], [0, 0, 1, 1, 1, 0, 1], [0, 0, 0, 1, 1, 1, 1], [1, 0, 0, 1, 1, 1], [0, 0, 1, 0, 0, 1, 1], [0, 0, 1, 1, 1, 0, 1], [0, 0, 0, 1, 1, 1, 1], [1, 0, 0, 0, 1, 1], [0, 1, 1, 0, 1, 1], [0, 0, 0, 1, 0, 0, 1], [0, 0, 1, 1, 1, 0, 1], [0, 0, 0, 1, 1, 1, 1], [0, 1, 1, 0, 0, 1, 1], [0, 0, 0, 1, 1, 1], [0, 0, 1, 1, 1, 0, 1], [0, 0, 0, 1, 1, 1, 1], [1, 0, 0, 1, 1, 1], [0, 1, 1, 0, 0, 1, 1], [1, 0, 1, 0, 0, 1, 1], [0, 0, 1, 1, 1, 0, 1], [0, 0, 0, 1, 1, 1, 1], [0, 0, 0, 1, 1, 1], [0, 1, 0, 0, 0, 1, 1], [0, 0, 1, 1, 1, 0, 1], [0, 0, 0, 1, 1, 1, 1], [0, 0, 0, 0, 1, 1], [0, 0, 0, 0, 1, 1], [1, 0, 0, 1, 0, 0, 1], [0, 1, 1, 1, 0, 1], [0, 0, 1, 1, 1, 0, 1], [0, 0, 0, 1, 1, 1, 1], [1, 0, 1, 0, 0, 1, 1], [0, 1, 1, 0, 0, 1, 1], [1, 1, 1, 1, 0, 0, 1], [0, 0, 1, 1, 1, 0, 1], [0, 0, 0, 1, 1, 1, 1], [1, 0, 0, 0, 1, 1], [0, 1, 0, 0, 1, 1], [0, 1, 1, 1, 1, 0, 1], [0, 0, 1, 1, 1, 0, 1], [0, 0, 0, 1, 1, 1, 1], [0, 0, 1, 0, 0, 1, 1], [1, 0, 0, 0, 1, 1], [0, 1, 0, 1, 1, 1], [0, 0, 1, 1, 1, 0, 1], [0, 0, 0, 1, 1, 1, 1], [0, 0, 0, 0, 1, 1], [1, 1, 1, 0, 1, 1], [0, 0, 1, 1, 1, 0, 1], [0, 0, 0, 1, 1, 1, 1], [1, 0, 0, 0, 1, 1], [0, 0, 1, 0, 0, 1, 1], [1, 1, 1, 0, 0, 1]]\n",
            "Original message is: \t  [[0, 1, 0, 0, 0, 1, 1], [1, 1, 1, 0, 0, 1], [0, 0, 1, 1, 1, 0, 1], [0, 0, 0, 1, 1, 1, 1], [0, 1, 1, 0, 0, 1, 1], [1, 1, 0, 0, 0, 1, 1], [0, 0, 1, 1, 1, 0, 1], [0, 0, 0, 1, 1, 1, 1], [1, 0, 0, 0, 1, 1], [1, 1, 0, 0, 0, 1, 1], [1, 1, 1, 1, 0, 0, 1], [0, 0, 1, 1, 1, 0, 1], [0, 0, 0, 1, 1, 1, 1], [1, 0, 0, 0, 1, 1], [0, 0, 0, 1, 1, 1], [1, 0, 0, 0, 0, 0, 1], [0, 0, 1, 1, 1, 0, 1], [0, 0, 0, 1, 1, 1, 1], [1, 1, 0, 0, 0, 1, 1], [0, 1, 0, 0, 0, 1, 1], [0, 0, 1, 1, 1, 0, 1], [0, 0, 0, 1, 1, 1, 1], [0, 0, 0, 0, 1, 1], [0, 0, 0, 1, 1, 1], [0, 0, 1, 1, 1, 0, 1], [0, 0, 0, 1, 1, 1, 1], [1, 0, 0, 0, 1, 1], [1, 0, 1, 0, 0, 1, 1], [0, 0, 1, 1, 1, 0, 1], [0, 0, 0, 1, 1, 1, 1], [1, 0, 1, 0, 0, 1, 1], [0, 0, 0, 0, 1, 1], [0, 0, 1, 1, 1, 0, 1], [0, 0, 0, 1, 1, 1, 1], [0, 1, 1, 0, 0, 1, 1], [1, 1, 0, 0, 0, 1, 1], [0, 0, 1, 1, 1, 0, 1], [0, 0, 0, 1, 1, 1, 1], [0, 1, 1, 0, 0, 1, 1], [1, 1, 0, 0, 1, 1], [0, 0, 1, 1, 1, 0, 1], [0, 0, 0, 1, 1, 1, 1], [1, 1, 0, 0, 0, 1, 1], [1, 1, 0, 0, 1, 1], [1, 1, 1, 1, 1, 1], [0, 0, 1, 1, 1, 0, 1], [0, 0, 0, 1, 1, 1, 1], [0, 0, 0, 0, 1, 1], [1, 0, 1, 0, 0, 1, 1], [0, 0, 1, 1, 1, 0, 1], [0, 0, 0, 1, 1, 1, 1], [0, 1, 0, 0, 0, 1, 1], [1, 1, 0, 0, 1, 1], [1, 0, 0, 0, 0, 1, 1], [0, 0, 0, 0, 1, 1], [0, 0, 1, 1, 1, 0, 1], [0, 0, 0, 1, 1, 1, 1], [0, 1, 0, 0, 0, 1, 1], [0, 1, 1, 0, 0, 1, 1], [0, 0, 1, 1, 1, 0, 1], [0, 0, 0, 1, 1, 1, 1], [0, 0, 1, 0, 0, 1, 1], [0, 1, 0, 0, 1, 1], [0, 1, 1, 1, 1, 1, 1], [1, 1, 1, 0, 0, 1]]\n",
            "Original message is: \t  [[0, 1, 0, 0, 0, 1, 1], [1, 1, 1, 0, 0, 1], [0, 0, 1, 1, 1, 0, 1], [0, 0, 0, 1, 1, 1, 1], [1, 1, 0, 0, 0, 1, 1], [1, 0, 1, 0, 1, 1], [0, 0, 1, 1, 1, 0, 1], [0, 0, 0, 1, 1, 1, 1], [0, 1, 1, 0, 0, 1, 1], [1, 0, 1, 0, 0, 1, 1], [0, 0, 1, 1, 1, 0, 1], [0, 0, 0, 1, 1, 1, 1], [0, 0, 0, 0, 1, 1], [0, 1, 0, 0, 1, 1], [0, 0, 1, 1, 1, 0, 1], [0, 0, 0, 1, 1, 1, 1], [1, 0, 0, 0, 0, 1, 1], [1, 0, 0, 1, 1, 1], [0, 0, 1, 1, 1, 0, 1], [0, 0, 0, 1, 1, 1, 1], [0, 1, 1, 0, 0, 1, 1], [0, 0, 0, 0, 1, 1], [0, 0, 0, 0, 1, 1], [0, 0, 1, 1, 1, 0, 1], [0, 0, 0, 1, 1, 1, 1], [1, 0, 0, 0, 0, 1, 1], [1, 0, 0, 1, 1, 1], [1, 1, 1, 1, 0, 0, 1], [0, 0, 1, 1, 1, 0, 1], [0, 0, 0, 1, 1, 1, 1], [1, 0, 0, 1, 1, 1], [0, 0, 1, 0, 1, 1], [0, 0, 1, 1, 1, 0, 1], [0, 0, 0, 1, 1, 1, 1], [1, 0, 0, 0, 1, 1], [0, 0, 0, 1, 1, 1], [1, 0, 1, 0, 0, 1], [0, 0, 0, 0, 1, 0, 1], [0, 0, 1, 1, 1, 0, 1], [0, 0, 0, 1, 1, 1, 1], [1, 0, 1, 0, 0, 1, 1], [1, 0, 1, 0, 1, 1], [0, 0, 1, 1, 1, 0, 1], [0, 0, 0, 1, 1, 1, 1], [0, 0, 0, 1, 1, 1], [0, 0, 0, 0, 1, 1], [1, 1, 0, 1, 0, 0, 1], [0, 0, 1, 1, 1, 0, 1], [0, 0, 0, 1, 1, 1, 1], [0, 1, 0, 0, 0, 1, 1], [0, 1, 0, 0, 1, 1], [0, 0, 1, 1, 1, 0, 1], [0, 0, 1, 0, 1, 1, 1], [0, 0, 1, 1, 1, 0, 1], [0, 0, 0, 1, 1, 1, 1], [1, 0, 0, 0, 1, 1], [1, 1, 0, 0, 0, 1, 1], [0, 0, 1, 1, 1, 0, 1], [0, 0, 0, 1, 1, 1, 1], [1, 0, 1, 0, 0, 1, 1], [1, 1, 0, 0, 1, 1], [0, 0, 1, 1, 1, 0, 1], [0, 0, 0, 1, 1, 1, 1], [1, 0, 1, 0, 0, 1, 1], [1, 0, 0, 0, 1, 1], [1, 1, 1, 0, 0, 1]]\n",
            "Original message is: \t  [[0, 1, 0, 0, 0, 1, 1], [1, 1, 1, 0, 0, 1], [0, 0, 1, 1, 1, 0, 1], [0, 0, 0, 1, 1, 1, 1], [0, 1, 1, 0, 0, 1, 1], [0, 1, 1, 0, 1, 1], [1, 1, 1, 1, 1, 0, 1], [0, 1, 1, 1, 0, 1, 1], [0, 0, 1, 1, 1, 0, 1], [0, 0, 0, 1, 1, 1, 1], [0, 1, 1, 0, 0, 1, 1], [1, 1, 0, 0, 0, 1, 1], [0, 0, 1, 1, 1, 0, 1], [0, 0, 0, 1, 1, 1, 1], [0, 1, 0, 0, 0, 1, 1], [0, 0, 0, 0, 1, 1], [0, 0, 1, 1, 1, 0, 1], [0, 0, 0, 1, 1, 1, 1], [0, 1, 1, 0, 0, 1, 1], [0, 0, 1, 0, 0, 1, 1], [0, 0, 1, 1, 1, 0, 1], [0, 0, 0, 1, 1, 1, 1], [1, 1, 0, 0, 0, 1, 1], [1, 0, 1, 0, 1, 1], [0, 0, 1, 1, 1, 0, 1], [0, 0, 0, 1, 1, 1, 1], [0, 1, 0, 0, 0, 1, 1], [0, 1, 1, 0, 1, 1], [0, 0, 1, 1, 1, 0, 1], [0, 0, 0, 1, 1, 1, 1], [0, 0, 1, 0, 0, 1, 1], [1, 0, 1, 0, 0, 1, 1], [0, 0, 1, 1, 1, 0, 1], [0, 0, 0, 1, 1, 1, 1], [1, 0, 1, 0, 0, 1, 1], [0, 0, 0, 1, 1, 1], [1, 1, 1, 0, 1, 1, 1], [1, 1, 0, 0, 1, 0, 1], [1, 0, 0, 1, 1, 1], [1, 1, 0, 1, 1, 1], [0, 0, 1, 1, 1, 0, 1], [0, 0, 0, 1, 1, 1, 1], [1, 0, 0, 1, 1, 1], [1, 1, 0, 0, 0, 1, 1], [0, 0, 1, 1, 1, 0, 1], [0, 0, 0, 1, 1, 1, 1], [0, 1, 1, 0, 0, 1, 1], [1, 1, 0, 0, 0, 1, 1], [0, 1, 0, 0, 0, 1, 1], [0, 0, 1, 1, 1, 0, 1], [0, 0, 0, 1, 1, 1, 1], [1, 0, 0, 0, 1, 1], [1, 0, 1, 0, 0, 1, 1], [0, 0, 1, 1, 1, 0, 1], [0, 0, 0, 1, 1, 1, 1], [1, 0, 1, 0, 0, 1, 1], [1, 0, 1, 0, 1, 1], [0, 1, 1, 0, 0, 1], [1, 1, 1, 0, 0, 1]]\n",
            "Original message is: \t  [[0, 1, 0, 0, 0, 1, 1], [1, 1, 1, 0, 0, 1], [0, 0, 1, 1, 1, 0, 1], [0, 0, 0, 1, 1, 1, 1], [1, 0, 0, 0, 1, 1], [0, 1, 0, 0, 1, 1], [0, 1, 0, 1, 1, 1], [0, 0, 1, 1, 1, 0, 1], [0, 0, 0, 1, 1, 1, 1], [1, 0, 1, 0, 0, 1, 1], [1, 0, 1, 0, 1, 1], [0, 0, 1, 1, 1, 0, 1], [0, 0, 0, 1, 1, 1, 1], [0, 0, 0, 1, 1, 1], [0, 1, 0, 0, 1, 1], [0, 1, 1, 0, 0, 1], [0, 0, 1, 1, 1, 0, 1], [0, 0, 0, 1, 1, 1, 1], [1, 0, 0, 1, 1, 1], [0, 0, 0, 1, 1, 1], [0, 0, 1, 1, 1, 0, 1], [0, 0, 0, 1, 1, 1, 1], [1, 0, 0, 0, 1, 1], [0, 1, 1, 0, 0, 1, 1], [0, 0, 1, 1, 1, 0, 1], [0, 0, 0, 1, 1, 1, 1], [1, 0, 0, 0, 1, 1], [0, 1, 1, 0, 1, 1], [1, 1, 1, 0, 1, 1], [0, 0, 1, 1, 1, 0, 1], [0, 0, 0, 1, 1, 1, 1], [1, 1, 0, 0, 0, 1, 1], [1, 0, 0, 0, 1, 1], [0, 0, 1, 1, 1, 0, 1], [0, 0, 0, 1, 1, 1, 1], [1, 0, 0, 1, 1, 1], [1, 1, 0, 0, 1, 1], [0, 1, 1, 1, 0, 1, 1], [0, 1, 0, 1, 0, 0, 1], [0, 0, 1, 1, 1, 0, 1], [0, 0, 0, 1, 1, 1, 1], [1, 0, 0, 0, 1, 1], [0, 1, 1, 0, 1, 1], [1, 1, 1, 1, 1, 0, 1], [0, 0, 1, 1, 1, 0, 1], [0, 0, 0, 1, 1, 1, 1], [1, 0, 0, 0, 0, 1, 1], [1, 0, 1, 0, 0, 1, 1], [0, 0, 1, 1, 1, 0, 1], [0, 0, 0, 1, 1, 1, 1], [1, 0, 1, 0, 0, 1, 1], [1, 1, 1, 0, 1, 1], [0, 0, 1, 1, 1, 0, 1], [0, 0, 0, 1, 1, 1, 1], [1, 0, 0, 0, 1, 1], [1, 1, 0, 0, 0, 1, 1], [0, 0, 1, 1, 1, 0, 1], [0, 0, 0, 1, 1, 1, 1], [1, 0, 0, 1, 1, 1], [0, 0, 0, 1, 1, 1], [1, 1, 0, 1, 1, 1], [1, 1, 1, 0, 0, 1]]\n",
            "Original message is: \t  [[0, 1, 0, 0, 0, 1, 1], [1, 1, 1, 0, 0, 1], [1, 0, 0, 1, 0, 1, 1], [0, 0, 1, 1, 1, 0, 1], [0, 0, 0, 1, 1, 1, 1], [1, 1, 0, 0, 0, 1, 1], [1, 0, 0, 0, 1, 1], [0, 0, 1, 1, 1, 0, 1], [0, 0, 0, 1, 1, 1, 1], [1, 0, 1, 0, 0, 1, 1], [1, 1, 0, 0, 1, 1], [0, 0, 1, 1, 1, 0, 1], [0, 0, 0, 1, 1, 1, 1], [0, 0, 0, 1, 1, 1], [0, 0, 0, 0, 1, 1], [0, 0, 1, 1, 1, 0, 1], [0, 0, 0, 1, 1, 1, 1], [0, 0, 1, 0, 0, 1, 1], [1, 0, 0, 1, 1, 1], [0, 1, 1, 0, 1, 0, 1], [0, 0, 1, 1, 1, 0, 1], [0, 0, 0, 1, 1, 1, 1], [1, 0, 0, 1, 1, 1], [1, 0, 0, 0, 0, 1, 1], [0, 0, 1, 1, 1, 0, 1], [0, 0, 0, 1, 1, 1, 1], [0, 0, 0, 1, 1, 1], [1, 1, 0, 0, 0, 1, 1], [1, 1, 0, 0, 0, 0, 1], [0, 0, 1, 1, 1, 0, 1], [0, 0, 0, 1, 1, 1, 1], [0, 1, 1, 0, 0, 1, 1], [1, 0, 0, 0, 1, 1], [0, 0, 1, 1, 1, 0, 1], [0, 0, 0, 1, 1, 1, 1], [0, 0, 0, 0, 1, 1], [1, 1, 0, 0, 1, 1], [0, 0, 1, 1, 1, 0, 1], [0, 0, 0, 1, 1, 1, 1], [1, 0, 1, 0, 0, 1, 1], [1, 1, 0, 0, 0, 1, 1], [0, 1, 0, 1, 1, 1], [0, 0, 1, 1, 1, 0, 1], [0, 0, 0, 1, 1, 1, 1], [0, 1, 1, 0, 0, 1, 1], [0, 1, 0, 0, 1, 1], [1, 0, 1, 0, 0, 1, 1], [0, 0, 1, 1, 1, 0, 1], [0, 0, 1, 0, 1, 1, 1], [0, 0, 1, 1, 1, 0, 1], [0, 0, 0, 1, 1, 1, 1], [0, 1, 1, 0, 0, 1, 1], [0, 1, 0, 0, 1, 1], [0, 0, 1, 1, 1, 0, 1], [0, 0, 0, 1, 1, 1, 1], [0, 1, 0, 0, 0, 1, 1], [0, 1, 0, 0, 0, 1, 1], [0, 0, 1, 1, 1, 0, 1], [0, 0, 0, 1, 1, 1, 1], [0, 1, 1, 0, 0, 1, 1], [0, 1, 0, 0, 1, 1], [0, 0, 1, 1, 1, 0, 1], [0, 0, 0, 1, 1, 1, 1], [1, 0, 0, 0, 0, 1, 1], [0, 0, 1, 0, 0, 1, 1], [1, 1, 1, 0, 0, 1]]\n",
            "Original message is: \t  [[0, 1, 0, 0, 0, 1, 1], [1, 1, 1, 0, 0, 1], [0, 0, 1, 0, 1, 1, 1], [1, 0, 1, 0, 0, 0, 1], [0, 0, 1, 1, 1, 0, 1], [0, 0, 0, 1, 1, 1, 1], [0, 0, 0, 1, 1, 1], [0, 1, 0, 0, 1, 1], [0, 1, 1, 0, 1, 1, 1], [0, 0, 1, 1, 1, 0, 1], [0, 0, 0, 1, 1, 1, 1], [1, 0, 0, 0, 1, 1], [1, 0, 1, 0, 0, 1, 1], [0, 0, 1, 1, 1, 0, 1], [0, 0, 0, 1, 1, 1, 1], [1, 1, 0, 0, 0, 1, 1], [0, 1, 0, 0, 1, 1], [0, 0, 1, 1, 1, 0, 1], [0, 0, 0, 1, 1, 1, 1], [0, 0, 0, 1, 1, 1], [0, 0, 1, 0, 1, 1], [0, 1, 0, 1, 1, 1, 1], [0, 0, 1, 1, 1, 0, 1], [0, 0, 0, 1, 1, 1, 1], [1, 0, 0, 1, 1, 1], [0, 1, 0, 0, 1, 1], [1, 1, 1, 0, 1, 1, 1], [0, 0, 1, 1, 1, 0, 1], [0, 0, 0, 1, 1, 1, 1], [1, 0, 0, 1, 1, 1], [1, 1, 0, 0, 0, 1, 1], [0, 1, 0, 0, 0, 1], [0, 0, 1, 1, 1, 0, 1], [0, 0, 0, 1, 1, 1, 1], [1, 1, 0, 0, 0, 1, 1], [1, 1, 1, 0, 1, 1], [0, 0, 1, 1, 1, 0, 1], [0, 0, 0, 1, 1, 1, 1], [0, 1, 0, 0, 0, 1, 1], [0, 0, 0, 1, 1, 1], [0, 0, 1, 1, 1, 0, 1], [0, 0, 0, 1, 1, 1, 1], [1, 1, 0, 0, 0, 1, 1], [0, 1, 0, 0, 1, 1], [0, 0, 1, 1, 1, 0, 1], [0, 0, 0, 1, 1, 1, 1], [0, 1, 0, 0, 0, 1, 1], [0, 1, 0, 0, 0, 1, 1], [0, 0, 1, 1, 1, 0, 1], [0, 0, 0, 1, 1, 1, 1], [0, 0, 1, 0, 0, 1, 1], [0, 0, 0, 1, 1, 1], [0, 0, 1, 1, 1, 0, 1], [0, 0, 0, 1, 1, 1, 1], [1, 0, 1, 0, 0, 1, 1], [1, 0, 0, 1, 1, 1], [1, 1, 1, 1, 0, 1, 1], [0, 0, 1, 1, 1, 0, 1], [0, 0, 0, 1, 1, 1, 1], [1, 0, 1, 0, 0, 1, 1], [0, 0, 0, 1, 1, 1], [1, 1, 1, 0, 0, 1]]\n",
            "Original message is: \t  [[0, 1, 0, 0, 0, 1, 1], [1, 1, 1, 0, 0, 1], [0, 0, 1, 1, 1, 0, 1], [0, 0, 0, 1, 1, 1, 1], [1, 0, 0, 1, 1, 1], [1, 0, 0, 0, 0, 1, 1], [0, 0, 1, 1, 1, 0, 1], [0, 0, 0, 1, 1, 1, 1], [0, 0, 1, 0, 0, 1, 1], [0, 1, 1, 0, 0, 1, 1], [0, 0, 1, 1, 1, 0, 1], [0, 0, 0, 1, 1, 1, 1], [1, 0, 1, 0, 0, 1, 1], [1, 0, 0, 0, 1, 1], [0, 0, 1, 1, 1, 0, 1], [0, 0, 0, 1, 1, 1, 1], [0, 0, 0, 1, 1, 1], [0, 0, 0, 0, 1, 1], [0, 0, 1, 0, 1, 1, 1], [1, 1, 0, 0, 0, 1, 1], [1, 0, 1, 0, 0, 1], [0, 0, 1, 1, 1, 0, 1], [0, 0, 0, 1, 1, 1, 1], [1, 1, 0, 0, 0, 1, 1], [0, 0, 1, 0, 0, 1, 1], [0, 1, 1, 1, 0, 1], [0, 0, 1, 1, 1, 0, 1], [0, 0, 0, 1, 1, 1, 1], [0, 0, 0, 0, 1, 1], [1, 0, 1, 0, 0, 1, 1], [0, 0, 1, 1, 1, 0, 1], [0, 0, 0, 1, 1, 1, 1], [0, 1, 1, 0, 0, 1, 1], [1, 1, 0, 0, 1, 1], [0, 1, 1, 0, 0, 1, 1], [0, 0, 1, 1, 1, 0, 1], [0, 0, 0, 1, 1, 1, 1], [0, 0, 0, 0, 1, 1], [0, 0, 1, 0, 1, 1], [0, 1, 1, 1, 0, 1], [0, 0, 1, 1, 1, 0, 1], [0, 0, 0, 1, 1, 1, 1], [0, 0, 1, 0, 0, 1, 1], [0, 1, 1, 0, 1, 1], [0, 0, 1, 1, 1, 0, 1], [0, 0, 0, 1, 1, 1, 1], [0, 1, 1, 0, 0, 1, 1], [1, 0, 1, 0, 1, 1], [0, 0, 1, 1, 1, 0, 1], [0, 0, 0, 1, 1, 1, 1], [1, 0, 0, 1, 1, 1], [1, 0, 0, 1, 1, 1], [0, 0, 1, 1, 1, 0, 1], [0, 0, 0, 1, 1, 1, 1], [1, 1, 0, 0, 0, 1, 1], [0, 0, 1, 0, 0, 1, 1], [1, 0, 0, 0, 0, 1, 1], [0, 0, 1, 1, 1, 0, 1], [0, 0, 0, 1, 1, 1, 1], [0, 1, 0, 0, 0, 1, 1], [1, 0, 0, 0, 1, 1], [1, 1, 1, 0, 0, 1]]\n",
            "Original message is: \t  [[0, 1, 0, 0, 0, 1, 1], [1, 1, 1, 0, 0, 1], [1, 1, 1, 1, 0, 1], [0, 0, 1, 1, 1, 0, 1], [0, 0, 0, 1, 1, 1, 1], [0, 0, 0, 1, 1, 1], [0, 0, 1, 0, 0, 1, 1], [0, 0, 1, 1, 1, 0, 1], [0, 0, 0, 1, 1, 1, 1], [1, 0, 1, 0, 0, 1, 1], [1, 1, 1, 0, 1, 1], [0, 0, 1, 1, 1, 0, 1], [0, 0, 0, 1, 1, 1, 1], [1, 0, 0, 0, 1, 1], [1, 0, 1, 0, 1, 1], [1, 0, 1, 1, 1, 1], [0, 0, 1, 1, 1, 0, 1], [0, 0, 0, 1, 1, 1, 1], [0, 0, 0, 1, 1, 1], [1, 0, 0, 1, 1, 1], [0, 0, 1, 1, 1, 0, 1], [0, 0, 0, 1, 1, 1, 1], [0, 1, 0, 0, 0, 1, 1], [0, 1, 0, 0, 0, 1, 1], [0, 0, 0, 1, 0, 1], [0, 1, 1, 0, 0, 1, 1], [0, 0, 1, 1, 1, 0, 1], [0, 0, 0, 1, 1, 1, 1], [1, 0, 0, 0, 0, 1, 1], [0, 1, 0, 0, 0, 1, 1], [0, 0, 1, 1, 1, 0, 1], [0, 0, 0, 1, 1, 1, 1], [1, 0, 1, 0, 0, 1, 1], [1, 0, 1, 0, 0, 1, 1], [0, 0, 1, 1, 1, 0, 1], [0, 0, 0, 1, 1, 1, 1], [1, 0, 0, 0, 0, 1, 1], [1, 1, 0, 0, 0, 1, 1], [0, 1, 1, 1, 0, 1, 1], [0, 0, 1, 0, 0, 1, 1], [1, 0, 1, 0, 0, 1], [0, 1, 1, 1, 1, 1], [0, 0, 1, 1, 1, 0, 1], [0, 0, 0, 1, 1, 1, 1], [1, 1, 0, 0, 0, 1, 1], [0, 1, 0, 0, 0, 1, 1], [1, 0, 1, 1, 0, 0, 1], [0, 0, 1, 1, 1, 0, 1], [0, 0, 0, 1, 1, 1, 1], [0, 0, 0, 1, 1, 1], [1, 1, 0, 0, 0, 1, 1], [0, 0, 1, 1, 1, 0, 1], [0, 0, 0, 1, 1, 1, 1], [0, 0, 1, 0, 0, 1, 1], [0, 0, 1, 0, 0, 1, 1], [1, 1, 1, 0, 0, 1]]\n",
            "Original message is: \t  [[0, 1, 0, 0, 0, 1, 1], [0, 1, 0, 0, 0, 1], [0, 0, 1, 1, 1, 0, 1], [0, 0, 0, 1, 1, 1, 1], [1, 0, 0, 1, 1, 1], [1, 0, 0, 1, 1, 1], [0, 1, 0, 0, 1, 0, 1], [0, 0, 1, 1, 1, 0, 1], [0, 0, 0, 1, 1, 1, 1], [0, 0, 1, 0, 0, 1, 1], [0, 0, 0, 1, 1, 1], [0, 0, 1, 1, 1, 0, 1], [0, 0, 0, 1, 1, 1, 1], [0, 0, 0, 0, 1, 1], [1, 1, 0, 0, 0, 1, 1], [0, 0, 0, 0, 0, 1, 1], [0, 0, 1, 1, 1, 0, 1], [0, 0, 0, 1, 1, 1, 1], [1, 0, 0, 0, 1, 1], [1, 1, 0, 0, 1, 1], [0, 0, 1, 1, 1, 0, 1], [0, 0, 0, 1, 1, 1, 1], [0, 0, 0, 0, 1, 1], [1, 1, 1, 0, 1, 1], [1, 1, 1, 0, 0, 1], [0, 1, 0, 1, 0, 1, 1], [0, 0, 1, 1, 1, 0, 1], [0, 0, 0, 1, 1, 1, 1], [1, 0, 0, 0, 1, 1], [0, 0, 1, 0, 1, 1], [0, 0, 1, 1, 1, 0, 1], [0, 0, 0, 1, 1, 1, 1], [0, 0, 0, 1, 1, 1], [0, 0, 0, 1, 1, 1], [0, 1, 0, 1, 0, 0, 1], [0, 0, 1, 1, 0, 1], [0, 0, 1, 1, 1, 0, 1], [0, 0, 0, 1, 1, 1, 1], [1, 0, 0, 0, 0, 1, 1], [0, 0, 0, 1, 1, 1], [0, 0, 1, 1, 1, 0, 1], [0, 0, 0, 1, 1, 1, 1], [0, 0, 0, 1, 1, 1], [0, 0, 0, 0, 1, 1], [0, 0, 1, 1, 1, 0, 1], [0, 0, 0, 1, 1, 1, 1], [0, 1, 1, 0, 0, 1, 1], [1, 0, 0, 0, 1, 1], [0, 0, 1, 1, 1, 0, 1], [0, 0, 0, 1, 1, 1, 1], [1, 0, 0, 1, 1, 1], [1, 0, 1, 0, 1, 1], [0, 0, 1, 1, 0, 1], [0, 0, 1, 1, 1, 0, 1], [0, 0, 0, 1, 1, 1, 1], [1, 0, 0, 1, 1, 1], [0, 1, 1, 0, 0, 1, 1], [1, 1, 1, 1, 1, 0, 1], [0, 1, 0, 0, 0, 1]]\n",
            "Original message is: \t  [[0, 1, 0, 0, 0, 1, 1], [1, 1, 1, 0, 0, 1], [0, 1, 1, 0, 0, 1, 1], [0, 0, 1, 1, 1, 0, 1], [0, 0, 0, 1, 1, 1, 1], [1, 1, 0, 0, 0, 1, 1], [0, 1, 1, 0, 1, 1], [0, 0, 1, 1, 1, 0, 1], [0, 0, 0, 1, 1, 1, 1], [1, 0, 0, 0, 1, 1], [0, 1, 0, 0, 1, 1], [0, 0, 1, 1, 1, 0, 1], [0, 0, 0, 1, 1, 1, 1], [0, 1, 1, 0, 0, 1, 1], [1, 0, 1, 0, 0, 1, 1], [1, 1, 0, 1, 1, 1], [1, 0, 0, 0, 1, 1], [0, 0, 1, 1, 1, 0, 1], [0, 0, 0, 1, 1, 1, 1], [1, 0, 0, 0, 0, 1, 1], [1, 1, 1, 0, 1, 1], [0, 0, 1, 1, 1, 0, 1], [0, 0, 0, 1, 1, 1, 1], [1, 0, 1, 0, 0, 1, 1], [1, 0, 0, 1, 1, 1], [0, 0, 1, 1, 1, 0, 1], [0, 0, 0, 1, 1, 1, 1], [0, 1, 0, 0, 0, 1, 1], [0, 1, 0, 0, 1, 1], [0, 0, 1, 1, 1, 0, 1], [0, 0, 0, 1, 1, 1, 1], [1, 0, 0, 0, 1, 1], [0, 0, 0, 1, 1, 1], [0, 0, 1, 1, 1, 0, 1], [0, 0, 0, 1, 1, 1, 1], [1, 0, 0, 0, 1, 1], [1, 0, 0, 0, 0, 1, 1], [1, 0, 0, 1, 0, 0, 1], [0, 0, 1, 1, 1, 0, 1], [0, 0, 0, 1, 1, 1, 1], [1, 0, 0, 0, 1, 1], [0, 1, 1, 0, 1, 1], [1, 0, 1, 0, 1, 1], [0, 0, 1, 1, 1, 0, 1], [0, 0, 0, 1, 1, 1, 1], [0, 0, 0, 1, 1, 1], [0, 0, 1, 0, 1, 1], [0, 0, 1, 1, 1, 0, 1], [0, 0, 0, 1, 1, 1, 1], [1, 1, 0, 0, 0, 1, 1], [0, 1, 0, 0, 1, 1], [1, 1, 0, 1, 1, 1], [0, 0, 1, 1, 1, 0, 1], [0, 0, 0, 1, 1, 1, 1], [1, 0, 0, 0, 1, 1], [1, 0, 1, 0, 0, 1, 1], [1, 0, 1, 0, 1, 1, 1], [0, 0, 1, 1, 1, 0, 1], [0, 0, 0, 1, 1, 1, 1], [1, 0, 0, 0, 1, 1], [0, 0, 0, 1, 1, 1], [1, 1, 1, 0, 0, 1]]\n",
            "Original message is: \t  [[0, 1, 0, 0, 0, 1, 1], [1, 1, 1, 0, 0, 1], [0, 0, 1, 1, 1, 0, 1], [0, 0, 0, 1, 1, 1, 1], [1, 0, 0, 0, 0, 1, 1], [0, 0, 1, 0, 0, 1, 1], [0, 0, 1, 1, 1, 0, 1], [0, 0, 0, 1, 1, 1, 1], [0, 1, 1, 0, 0, 1, 1], [0, 0, 1, 0, 1, 1], [0, 1, 0, 1, 0, 0, 1], [0, 1, 0, 1, 0, 1, 1], [0, 0, 1, 0, 1, 0, 1], [0, 1, 0, 0, 1, 1], [1, 1, 1, 1, 0, 0, 1], [0, 0, 1, 1, 1, 0, 1], [0, 0, 0, 1, 1, 1, 1], [0, 0, 1, 0, 0, 1, 1], [1, 1, 1, 0, 1, 1], [0, 0, 1, 1, 1, 0, 1], [0, 0, 0, 1, 1, 1, 1], [1, 1, 0, 0, 0, 1, 1], [0, 0, 0, 0, 1, 1], [1, 0, 1, 0, 1, 1], [0, 0, 1, 0, 0, 0, 1], [0, 1, 1, 1, 0, 1], [0, 1, 1, 1, 1, 1], [0, 0, 1, 1, 1, 0, 1], [0, 0, 0, 1, 1, 1, 1], [0, 0, 0, 0, 1, 1], [1, 0, 0, 0, 1, 1], [0, 0, 1, 1, 1, 0, 1], [0, 0, 0, 1, 1, 1, 1], [1, 0, 0, 0, 1, 1], [1, 0, 1, 0, 0, 1, 1], [1, 1, 0, 1, 0, 0, 1], [1, 1, 0, 1, 0, 1, 1], [0, 0, 1, 1, 1, 0, 1], [0, 0, 0, 1, 1, 1, 1], [1, 0, 1, 0, 0, 1, 1], [0, 0, 0, 1, 1, 1], [0, 0, 1, 1, 1, 0, 1], [0, 0, 0, 1, 1, 1, 1], [0, 0, 0, 1, 1, 1], [1, 1, 0, 0, 0, 1, 1], [0, 0, 1, 1, 1, 0, 1], [0, 0, 0, 1, 1, 1, 1], [0, 0, 1, 0, 0, 1, 1], [1, 1, 0, 0, 0, 1, 1], [1, 1, 1, 0, 0, 1]]\n",
            "Original message is: \t  [[0, 1, 0, 0, 0, 1, 1], [0, 1, 0, 0, 0, 1], [0, 0, 1, 1, 1, 0, 1], [0, 0, 0, 1, 1, 1, 1], [1, 0, 0, 0, 1, 1], [0, 1, 1, 0, 0, 1, 1], [0, 0, 1, 1, 1, 0, 1], [0, 0, 0, 1, 1, 1, 1], [1, 0, 0, 1, 1, 1], [0, 0, 0, 1, 1, 1], [0, 1, 1, 1, 1, 1], [0, 0, 1, 1, 1, 0, 1], [0, 0, 0, 1, 1, 1, 1], [1, 0, 0, 0, 0, 1, 1], [1, 1, 0, 0, 1, 1], [0, 0, 1, 1, 1, 0, 1], [0, 0, 0, 1, 1, 1, 1], [0, 0, 1, 0, 0, 1, 1], [0, 1, 0, 0, 0, 1, 1], [0, 0, 1, 1, 1, 0, 1], [0, 0, 0, 1, 1, 1, 1], [1, 0, 0, 0, 0, 1, 1], [1, 0, 1, 0, 1, 1], [0, 0, 1, 1, 1, 0, 1], [0, 0, 0, 1, 1, 1, 1], [1, 1, 0, 0, 0, 1, 1], [0, 1, 0, 0, 1, 1], [0, 0, 1, 1, 1, 0, 1], [0, 0, 0, 1, 1, 1, 1], [0, 1, 1, 0, 0, 1, 1], [1, 0, 0, 1, 1, 1], [0, 0, 1, 1, 1, 0, 1], [0, 0, 0, 1, 1, 1, 1], [1, 0, 1, 0, 0, 1, 1], [1, 0, 0, 0, 1, 1], [1, 0, 0, 1, 0, 1], [0, 0, 1, 1, 1, 0, 1], [0, 0, 0, 1, 1, 1, 1], [0, 1, 0, 0, 0, 1, 1], [1, 0, 0, 1, 1, 1], [1, 1, 1, 0, 0, 1], [0, 0, 1, 1, 1, 0, 1], [0, 0, 0, 1, 1, 1, 1], [1, 0, 0, 0, 0, 1, 1], [1, 0, 0, 1, 1, 1], [1, 1, 0, 1, 0, 1], [0, 1, 1, 0, 0, 1], [0, 0, 1, 0, 1, 1, 1], [0, 0, 1, 1, 1, 0, 1], [0, 0, 0, 1, 1, 1, 1], [1, 1, 1, 0, 1, 1], [0, 1, 1, 0, 0, 1, 1], [0, 0, 1, 1, 1, 0, 1], [0, 0, 0, 1, 1, 1, 1], [1, 0, 0, 1, 1, 1], [1, 0, 0, 0, 1, 1], [0, 0, 1, 1, 1, 0, 1], [0, 0, 0, 1, 1, 1, 1], [1, 0, 0, 0, 1, 1], [1, 0, 0, 0, 0, 1, 1], [0, 0, 0, 0, 0, 1, 1], [0, 1, 0, 0, 0, 1]]\n",
            "Original message is: \t  [[0, 1, 0, 0, 0, 1, 1], [1, 1, 1, 0, 0, 1], [1, 1, 1, 1, 1, 1], [0, 0, 1, 1, 1, 0, 1], [0, 0, 0, 1, 1, 1, 1], [0, 0, 0, 0, 1, 1], [1, 1, 0, 0, 1, 1], [1, 0, 0, 1, 0, 1], [0, 0, 1, 1, 1, 0, 1], [0, 0, 0, 1, 1, 1, 1], [1, 0, 0, 1, 1, 1], [0, 0, 0, 1, 1, 1], [0, 0, 1, 1, 1, 0, 1], [0, 0, 0, 1, 1, 1, 1], [0, 1, 1, 0, 0, 1, 1], [1, 0, 1, 0, 0, 1, 1], [0, 0, 1, 1, 1, 0, 1], [0, 0, 0, 1, 1, 1, 1], [0, 1, 0, 0, 0, 1, 1], [1, 0, 1, 0, 0, 1, 1], [0, 0, 0, 0, 0, 1], [0, 0, 1, 1, 1, 0, 1], [0, 0, 0, 1, 1, 1, 1], [0, 1, 0, 0, 0, 1, 1], [0, 1, 0, 0, 1, 1], [0, 0, 1, 1, 1, 0, 1], [0, 0, 0, 1, 1, 1, 1], [1, 1, 0, 0, 0, 1, 1], [0, 0, 0, 1, 1, 1], [0, 1, 0, 0, 0, 1, 1], [1, 0, 0, 1, 1, 0, 1], [0, 0, 1, 1, 1, 0, 1], [0, 0, 0, 1, 1, 1, 1], [0, 0, 0, 1, 1, 1], [1, 0, 0, 1, 1, 1], [0, 0, 1, 1, 1, 0, 1], [0, 0, 0, 1, 1, 1, 1], [1, 0, 1, 0, 0, 1, 1], [0, 1, 0, 0, 0, 1, 1], [0, 0, 1, 1, 1, 0, 1], [0, 0, 0, 1, 1, 1, 1], [0, 0, 1, 0, 0, 1, 1], [1, 0, 1, 0, 1, 1], [0, 0, 1, 1, 1, 0, 1], [0, 0, 0, 1, 1, 1, 1], [1, 1, 1, 0, 1, 1], [0, 1, 1, 0, 0, 1, 1], [0, 0, 1, 1, 1, 0, 1], [0, 0, 0, 1, 1, 1, 1], [0, 0, 1, 0, 0, 1, 1], [0, 1, 1, 0, 0, 1, 1], [0, 0, 1, 1, 1, 0, 1], [0, 0, 0, 1, 1, 1, 1], [0, 1, 1, 0, 0, 1, 1], [0, 1, 0, 0, 0, 1, 1], [0, 0, 0, 0, 0, 1, 1], [0, 0, 1, 1, 1, 0, 1], [0, 0, 0, 1, 1, 1, 1], [0, 0, 0, 0, 1, 1], [1, 1, 0, 0, 1, 1], [0, 0, 1, 1, 1, 0, 1], [0, 0, 0, 1, 1, 1, 1], [1, 0, 0, 0, 1, 1], [1, 1, 1, 0, 1, 1], [1, 1, 1, 0, 0, 1]]\n",
            "Original message is: \t  [[0, 1, 0, 0, 0, 1, 1], [1, 1, 1, 0, 0, 1], [0, 0, 1, 1, 1, 0, 1], [0, 0, 0, 1, 1, 1, 1], [1, 0, 0, 1, 1, 1], [0, 0, 1, 0, 0, 1, 1], [0, 1, 0, 0, 0, 0, 1], [1, 0, 1, 0, 1, 1, 1], [1, 0, 0, 1, 0, 0, 1], [0, 0, 1, 1, 1, 0, 1], [0, 0, 0, 1, 1, 1, 1], [1, 0, 1, 0, 0, 1, 1], [1, 0, 1, 0, 0, 1, 1], [1, 0, 0, 0, 1, 1, 1], [0, 0, 1, 1, 1, 0, 1], [0, 0, 0, 1, 1, 1, 1], [1, 0, 0, 1, 1, 1], [1, 0, 0, 0, 1, 1], [0, 0, 1, 1, 1, 0, 1], [0, 0, 0, 1, 1, 1, 1], [1, 0, 1, 0, 0, 1, 1], [0, 1, 0, 0, 0, 1, 1], [1, 1, 1, 1, 1, 1], [0, 0, 1, 1, 1, 0, 1], [0, 0, 0, 1, 1, 1, 1], [0, 0, 1, 0, 0, 1, 1], [1, 0, 1, 0, 0, 1, 1], [0, 0, 1, 1, 1, 0, 1], [0, 0, 0, 1, 1, 1, 1], [0, 1, 0, 0, 0, 1, 1], [0, 0, 0, 1, 1, 1], [0, 0, 1, 1, 1, 0, 1], [0, 0, 0, 1, 1, 1, 1], [1, 0, 1, 0, 0, 1, 1], [0, 1, 1, 0, 1, 1], [0, 0, 1, 1, 0, 1], [1, 1, 1, 0, 0, 0, 1], [0, 0, 1, 1, 0, 0, 1], [0, 1, 1, 0, 0, 1], [0, 0, 1, 0, 1, 0, 1], [1, 0, 1, 1, 1, 1, 1], [0, 0, 1, 1, 1, 0, 1], [0, 0, 0, 1, 1, 1, 1], [1, 0, 1, 0, 0, 1, 1], [1, 0, 0, 0, 1, 1], [0, 0, 1, 1, 1, 0, 1], [0, 0, 0, 1, 1, 1, 1], [1, 0, 0, 1, 1, 1], [1, 0, 0, 1, 1, 1], [1, 1, 1, 0, 0, 1]]\n",
            "Original message is: \t  [[0, 1, 0, 0, 0, 1, 1], [1, 1, 1, 0, 0, 1], [0, 0, 1, 1, 1, 0, 1], [0, 0, 0, 1, 1, 1, 1], [1, 0, 0, 0, 1, 1], [1, 0, 0, 1, 1, 1], [0, 0, 1, 1, 1, 0, 1], [0, 0, 0, 1, 1, 1, 1], [1, 1, 0, 0, 0, 1, 1], [1, 0, 0, 1, 1, 1], [0, 0, 1, 1, 1, 0, 1], [0, 0, 0, 1, 1, 1, 1], [1, 0, 0, 0, 1, 1], [0, 0, 0, 1, 1, 1], [0, 0, 1, 1, 1, 0, 1], [0, 0, 0, 1, 1, 1, 1], [1, 0, 0, 0, 1, 1], [0, 0, 0, 1, 1, 1], [0, 0, 1, 0, 0, 1, 1], [0, 0, 1, 0, 0, 1], [1, 0, 1, 0, 1, 1], [0, 1, 0, 0, 1, 1, 1], [0, 1, 0, 1, 0, 0, 1], [1, 1, 0, 1, 0, 1], [0, 0, 1, 1, 1, 0, 1], [0, 0, 0, 1, 1, 1, 1], [0, 0, 0, 1, 1, 1], [1, 1, 1, 0, 1, 1], [0, 0, 1, 1, 1, 0, 1], [0, 0, 0, 1, 1, 1, 1], [0, 1, 0, 0, 0, 1, 1], [0, 0, 1, 0, 1, 1], [0, 0, 1, 1, 1, 0, 1], [0, 0, 0, 1, 1, 1, 1], [1, 0, 0, 1, 1, 1], [0, 1, 1, 0, 0, 1, 1], [0, 0, 1, 1, 1, 0, 1], [0, 0, 0, 1, 1, 1, 1], [0, 0, 1, 0, 0, 1, 1], [1, 1, 0, 0, 0, 1, 1], [0, 0, 1, 1, 1, 0, 1], [0, 0, 0, 1, 1, 1, 1], [0, 0, 0, 0, 1, 1], [0, 0, 0, 0, 1, 1], [0, 0, 1, 1, 1, 0, 1], [0, 0, 0, 1, 1, 1, 1], [0, 0, 0, 1, 1, 1], [1, 0, 0, 0, 1, 1], [0, 0, 1, 1, 1, 0, 1], [0, 0, 0, 1, 1, 1, 1], [0, 0, 0, 0, 1, 1], [0, 0, 0, 1, 1, 1], [0, 0, 1, 1, 1, 0, 1], [0, 0, 0, 1, 1, 1, 1], [1, 1, 0, 0, 0, 1, 1], [1, 0, 1, 0, 0, 1, 1], [0, 1, 0, 1, 0, 1], [1, 0, 1, 1, 1, 1], [1, 1, 1, 0, 0, 1]]\n",
            "Original message is: \t  [[0, 1, 0, 0, 0, 1, 1], [1, 1, 1, 0, 0, 1], [0, 0, 1, 1, 1, 0, 1], [0, 0, 0, 1, 1, 1, 1], [0, 1, 0, 0, 0, 1, 1], [1, 1, 0, 0, 0, 1, 1], [0, 0, 1, 1, 1, 0, 1], [0, 0, 0, 1, 1, 1, 1], [0, 1, 0, 0, 0, 1, 1], [0, 0, 1, 0, 1, 1], [0, 0, 1, 1, 1, 0, 1], [0, 0, 0, 1, 1, 1, 1], [0, 0, 0, 1, 1, 1], [0, 1, 1, 0, 1, 1], [0, 1, 1, 1, 1, 1, 1], [0, 0, 1, 1, 1, 0, 1], [0, 0, 0, 1, 1, 1, 1], [1, 0, 0, 1, 1, 1], [1, 1, 0, 0, 1, 1], [0, 1, 1, 1, 0, 0, 1], [0, 0, 1, 1, 1, 0, 1], [0, 0, 0, 1, 1, 1, 1], [0, 1, 1, 0, 0, 1, 1], [1, 1, 0, 0, 0, 1, 1], [0, 0, 1, 1, 1, 0, 1], [0, 0, 0, 1, 1, 1, 1], [1, 1, 0, 0, 0, 1, 1], [1, 0, 1, 0, 1, 1], [0, 0, 1, 1, 1, 0, 1], [0, 0, 0, 1, 1, 1, 1], [1, 0, 0, 0, 1, 1], [1, 0, 1, 0, 0, 1, 1], [0, 0, 1, 1, 1, 0, 1], [0, 0, 0, 1, 1, 1, 1], [0, 1, 0, 0, 0, 1, 1], [1, 0, 0, 1, 1, 1], [0, 0, 1, 1, 1, 0, 1], [0, 0, 0, 1, 1, 1, 1], [1, 0, 0, 0, 0, 1, 1], [0, 1, 0, 0, 0, 1, 1], [0, 0, 1, 0, 1, 1, 1], [0, 0, 1, 1, 1, 0, 1], [0, 0, 0, 1, 1, 1, 1], [0, 1, 0, 0, 0, 1, 1], [0, 0, 1, 0, 0, 1, 1], [0, 0, 1, 1, 1, 0, 1], [0, 0, 0, 1, 1, 1, 1], [1, 0, 0, 0, 0, 1, 1], [1, 0, 0, 0, 0, 1, 1], [0, 0, 1, 1, 1, 0, 1], [0, 0, 0, 1, 1, 1, 1], [0, 0, 0, 1, 1, 1], [0, 0, 0, 0, 1, 1], [0, 0, 1, 1, 1, 0, 1], [0, 0, 1, 0, 1, 1, 1], [0, 0, 1, 1, 1, 0, 1], [0, 0, 0, 1, 1, 1, 1], [1, 0, 0, 0, 0, 1, 1], [1, 0, 0, 0, 0, 1, 1], [0, 0, 1, 1, 1, 0, 1], [0, 0, 0, 1, 1, 1, 1], [1, 0, 0, 0, 0, 1, 1], [1, 0, 1, 0, 1, 1], [0, 0, 1, 1, 1, 0, 1], [0, 0, 0, 1, 1, 1, 1], [0, 0, 0, 1, 1, 1], [0, 1, 1, 0, 1, 1], [0, 0, 1, 1, 1, 0, 1], [0, 0, 0, 1, 1, 1, 1], [1, 1, 1, 0, 1, 1], [0, 1, 1, 0, 0, 1, 1], [1, 1, 1, 0, 0, 1]]\n",
            "Original message is: \t  [[0, 1, 0, 0, 0, 1, 1], [1, 1, 1, 0, 0, 1], [0, 0, 1, 1, 1, 0, 1], [0, 0, 0, 1, 1, 1, 1], [1, 0, 1, 0, 0, 1, 1], [1, 0, 1, 0, 1, 1], [0, 0, 1, 1, 1, 0, 1], [0, 0, 0, 1, 1, 1, 1], [1, 0, 0, 0, 0, 1, 1], [0, 1, 1, 0, 0, 1, 1], [0, 0, 1, 1, 1, 0, 1], [0, 0, 0, 1, 1, 1, 1], [0, 0, 0, 0, 1, 1], [1, 0, 0, 0, 1, 1], [0, 1, 0, 0, 1, 1], [0, 0, 1, 1, 1, 0, 1], [0, 0, 1, 0, 1, 1, 1], [0, 0, 1, 1, 1, 0, 1], [0, 0, 0, 1, 1, 1, 1], [0, 0, 0, 0, 1, 1], [1, 1, 0, 0, 1, 1], [0, 0, 1, 1, 1, 0, 1], [0, 0, 0, 1, 1, 1, 1], [1, 1, 1, 0, 1, 1], [0, 1, 1, 0, 0, 1, 1], [0, 0, 1, 1, 1, 0, 1], [0, 0, 0, 1, 1, 1, 1], [1, 0, 0, 1, 1, 1], [1, 0, 0, 1, 1, 1], [0, 0, 1, 1, 1, 0, 1], [0, 0, 0, 1, 1, 1, 1], [0, 1, 1, 0, 0, 1, 1], [0, 0, 1, 0, 0, 1, 1], [0, 0, 1, 1, 1, 0, 1], [0, 0, 0, 1, 1, 1, 1], [1, 0, 0, 1, 1, 1], [0, 0, 0, 1, 1, 1], [0, 0, 1, 1, 1, 0, 1], [0, 0, 0, 1, 1, 1, 1], [0, 0, 0, 1, 1, 1], [0, 0, 1, 0, 0, 1, 1], [0, 0, 1, 1, 1, 0, 1], [0, 0, 0, 1, 1, 1, 1], [1, 0, 0, 1, 1, 1], [1, 1, 0, 0, 1, 1], [0, 0, 1, 1, 1, 0, 1], [0, 0, 0, 1, 1, 1, 1], [1, 0, 0, 0, 0, 1, 1], [0, 1, 0, 0, 1, 1], [1, 1, 0, 0, 0, 0, 1], [0, 0, 1, 1, 1, 0, 1], [0, 0, 1, 1, 1, 0, 1], [0, 0, 1, 1, 1, 0, 1], [0, 0, 0, 1, 1, 1, 1], [1, 0, 1, 0, 0, 1, 1], [0, 0, 1, 0, 0, 1, 1], [0, 0, 1, 1, 1, 0, 1], [0, 0, 0, 1, 1, 1, 1], [0, 0, 1, 0, 0, 1, 1], [0, 0, 0, 1, 1, 1], [0, 0, 1, 1, 1, 0, 1], [0, 0, 0, 1, 1, 1, 1], [0, 1, 1, 0, 0, 1, 1], [1, 0, 0, 0, 1, 1], [0, 0, 1, 1, 1, 0, 1], [0, 0, 0, 1, 1, 1, 1], [1, 0, 0, 0, 1, 1], [0, 1, 0, 0, 0, 1, 1], [1, 0, 1, 1, 1, 0, 1], [1, 1, 1, 0, 0, 1]]\n",
            "Original message is: \t  [[0, 1, 0, 0, 0, 1, 1], [1, 1, 1, 0, 0, 1], [0, 0, 1, 1, 1, 0, 1], [0, 0, 0, 1, 1, 1, 1], [1, 0, 1, 0, 0, 1, 1], [0, 0, 1, 0, 0, 1, 1], [1, 1, 0, 1, 1, 1, 1], [0, 0, 1, 1, 1, 0, 1], [0, 0, 0, 1, 1, 1, 1], [0, 0, 1, 0, 0, 1, 1], [0, 1, 0, 0, 0, 1, 1], [0, 0, 1, 1, 1, 0, 1], [0, 0, 0, 1, 1, 1, 1], [0, 0, 0, 0, 1, 1], [1, 0, 1, 0, 1, 1], [0, 0, 1, 1, 1, 0, 1], [0, 0, 0, 1, 1, 1, 1], [0, 0, 0, 1, 1, 1], [1, 0, 0, 1, 1, 1], [0, 0, 1, 0, 1, 1, 1], [0, 0, 1, 1, 1, 1], [0, 0, 1, 1, 1, 0, 1], [0, 0, 0, 1, 1, 1, 1], [1, 0, 1, 0, 0, 1, 1], [0, 0, 1, 0, 1, 1], [0, 0, 1, 1, 1, 0, 1], [0, 0, 0, 1, 1, 1, 1], [1, 0, 1, 0, 0, 1, 1], [0, 1, 0, 0, 1, 1], [0, 0, 1, 1, 1, 0, 1], [0, 0, 0, 1, 1, 1, 1], [1, 0, 0, 0, 0, 1, 1], [1, 1, 0, 0, 0, 1, 1], [0, 0, 1, 1, 1, 0, 1], [0, 0, 0, 1, 1, 1, 1], [1, 0, 0, 0, 1, 1], [0, 1, 1, 0, 0, 1, 1], [0, 0, 1, 1, 1, 0, 1], [0, 0, 0, 1, 1, 1, 1], [1, 0, 1, 0, 0, 1, 1], [1, 0, 0, 0, 0, 1, 1], [0, 0, 1, 1, 1, 0, 1], [0, 0, 0, 1, 1, 1, 1], [0, 0, 0, 0, 1, 1], [0, 1, 1, 0, 1, 1], [0, 0, 1, 1, 1, 0, 1], [0, 0, 0, 1, 1, 1, 1], [0, 0, 1, 0, 0, 1, 1], [0, 1, 0, 0, 1, 1], [0, 0, 1, 1, 1, 0, 1], [0, 0, 0, 1, 1, 1, 1], [1, 1, 0, 0, 0, 1, 1], [0, 0, 0, 0, 1, 1], [0, 0, 1, 1, 1, 0, 1], [0, 0, 0, 1, 1, 1, 1], [1, 0, 0, 1, 1, 1], [1, 0, 0, 0, 1, 1], [0, 1, 0, 1, 1, 0, 1], [0, 0, 1, 1, 1, 0, 1], [0, 0, 0, 1, 1, 1, 1], [0, 0, 0, 1, 1, 1], [0, 0, 0, 1, 1, 1], [0, 0, 1, 1, 1, 0, 1], [0, 0, 0, 1, 1, 1, 1], [0, 0, 0, 0, 1, 1], [1, 1, 0, 0, 1, 1], [0, 0, 1, 1, 1, 0, 1], [0, 0, 0, 1, 1, 1, 1], [0, 1, 0, 0, 0, 1, 1], [1, 0, 0, 0, 1, 1], [1, 1, 1, 0, 0, 1]]\n",
            "Original message is: \t  [[0, 1, 0, 0, 0, 1, 1], [1, 1, 1, 0, 0, 1], [0, 1, 0, 1, 1, 1], [0, 0, 1, 1, 1, 0, 1], [0, 0, 0, 1, 1, 1, 1], [0, 1, 0, 0, 0, 1, 1], [0, 1, 0, 0, 0, 1, 1], [0, 0, 1, 1, 1, 0, 1], [0, 0, 0, 1, 1, 1, 1], [0, 1, 1, 0, 0, 1, 1], [1, 0, 1, 0, 0, 1, 1], [0, 1, 1, 1, 1, 1, 1], [0, 0, 1, 1, 1, 0, 1], [0, 0, 0, 1, 1, 1, 1], [0, 0, 1, 0, 0, 1, 1], [1, 0, 1, 0, 0, 1, 1], [0, 0, 1, 1, 1, 0, 1], [0, 0, 0, 1, 1, 1, 1], [1, 1, 0, 0, 0, 1, 1], [0, 0, 0, 1, 1, 1], [0, 0, 1, 1, 1, 0, 1], [0, 0, 0, 1, 1, 1, 1], [1, 0, 0, 1, 1, 1], [0, 0, 0, 0, 1, 1], [0, 0, 1, 1, 1, 0, 1], [0, 0, 0, 1, 1, 1, 1], [1, 0, 0, 0, 1, 1], [0, 0, 0, 0, 1, 1], [0, 0, 1, 1, 1, 0, 1], [0, 0, 0, 1, 1, 1, 1], [1, 0, 0, 0, 1, 1], [0, 0, 1, 0, 0, 1, 1], [0, 0, 1, 1, 1, 0, 1], [0, 0, 0, 1, 1, 1, 1], [0, 0, 0, 0, 1, 1], [0, 1, 1, 0, 1, 1], [0, 0, 1, 1, 1, 0, 1], [0, 0, 0, 1, 1, 1, 1], [0, 0, 0, 1, 1, 1], [1, 1, 0, 0, 1, 1], [0, 0, 1, 1, 1, 0, 1], [0, 0, 0, 1, 1, 1, 1], [0, 0, 0, 0, 1, 1], [1, 0, 1, 0, 1, 1], [0, 0, 1, 1, 1, 0, 1], [0, 0, 0, 1, 1, 1, 1], [1, 0, 0, 0, 0, 1, 1], [0, 0, 1, 0, 1, 1], [0, 0, 1, 1, 1, 0, 1], [0, 0, 0, 1, 1, 1, 1], [0, 0, 0, 1, 1, 1], [1, 0, 0, 0, 0, 1, 1], [0, 0, 1, 1, 1, 0, 1], [0, 0, 0, 1, 1, 1, 1], [0, 0, 1, 0, 0, 1, 1], [1, 0, 1, 0, 0, 1, 1], [1, 1, 1, 0, 1, 1], [1, 0, 1, 0, 0, 1, 1], [0, 0, 1, 1, 1, 0, 1], [0, 0, 0, 1, 1, 1, 1], [1, 0, 0, 1, 1, 1], [1, 0, 1, 0, 0, 1, 1], [0, 0, 1, 0, 1, 0, 1], [0, 0, 1, 1, 1, 0, 1], [0, 0, 0, 1, 1, 1, 1], [0, 1, 0, 0, 0, 1, 1], [1, 0, 0, 0, 1, 1], [1, 1, 1, 0, 0, 1]]\n",
            "Original message is: \t  [[0, 1, 0, 0, 0, 1, 1], [1, 1, 1, 0, 0, 1], [0, 0, 1, 1, 1, 0, 1], [0, 0, 0, 1, 1, 1, 1], [0, 1, 0, 0, 0, 1, 1], [1, 0, 1, 0, 1, 1], [0, 0, 1, 1, 1, 0, 1], [0, 0, 0, 1, 1, 1, 1], [0, 0, 0, 0, 1, 1], [1, 0, 1, 0, 1, 1], [0, 0, 1, 1, 1, 0, 1], [0, 0, 0, 1, 1, 1, 1], [1, 0, 1, 0, 0, 1, 1], [1, 1, 1, 0, 1, 1], [0, 0, 1, 1, 1, 0, 1], [0, 0, 0, 1, 1, 1, 1], [0, 1, 1, 0, 0, 1, 1], [1, 1, 1, 0, 1, 1], [0, 1, 0, 0, 0, 1, 1], [0, 0, 1, 1, 1, 0, 1], [0, 0, 0, 1, 1, 1, 1], [0, 1, 0, 0, 0, 1, 1], [0, 0, 0, 0, 1, 1], [0, 0, 1, 1, 1, 0, 1], [0, 0, 0, 1, 1, 1, 1], [1, 0, 0, 1, 1, 1], [1, 0, 1, 0, 0, 1, 1], [0, 0, 1, 1, 1, 0, 1], [0, 0, 0, 1, 1, 1, 1], [0, 0, 1, 0, 0, 1, 1], [1, 1, 1, 0, 1, 1], [0, 0, 1, 1, 1, 0, 1], [0, 0, 0, 1, 1, 1, 1], [1, 0, 0, 1, 1, 1], [0, 1, 0, 0, 0, 1, 1], [1, 1, 1, 0, 1, 1], [0, 0, 1, 1, 1, 0, 1], [0, 0, 0, 1, 1, 1, 1], [1, 1, 0, 0, 0, 1, 1], [1, 0, 0, 0, 0, 1, 1], [0, 0, 1, 1, 1, 0, 1], [0, 0, 0, 1, 1, 1, 1], [0, 0, 0, 0, 1, 1], [1, 1, 0, 0, 1, 1], [0, 0, 1, 1, 1, 0, 1], [0, 0, 0, 1, 1, 1, 1], [1, 0, 0, 0, 0, 1, 1], [0, 0, 1, 0, 0, 1, 1], [0, 0, 1, 1, 1, 0, 1], [0, 0, 0, 1, 1, 1, 1], [0, 0, 1, 0, 0, 1, 1], [0, 0, 0, 1, 1, 1], [0, 0, 1, 1, 1, 0, 1], [0, 0, 0, 1, 1, 1, 1], [1, 1, 0, 0, 0, 1, 1], [1, 1, 1, 0, 1, 1], [0, 0, 1, 1, 1, 0, 1], [0, 0, 0, 1, 1, 1, 1], [1, 0, 0, 1, 1, 1], [1, 0, 1, 0, 1, 1], [0, 0, 1, 1, 1, 0, 1], [0, 0, 0, 1, 1, 1, 1], [1, 1, 0, 0, 0, 1, 1], [0, 0, 1, 0, 0, 1, 1], [0, 0, 1, 1, 1, 0, 1], [0, 0, 0, 1, 1, 1, 1], [0, 0, 0, 1, 1, 1], [0, 1, 1, 0, 0, 1, 1], [0, 0, 1, 1, 1, 0, 1], [0, 0, 0, 1, 1, 1, 1], [0, 0, 0, 1, 1, 1], [0, 1, 0, 0, 1, 1], [0, 0, 1, 1, 1, 0, 1], [0, 0, 0, 1, 1, 1, 1], [1, 0, 1, 0, 0, 1, 1], [1, 1, 0, 0, 0, 1, 1], [1, 1, 1, 0, 0, 1]]\n",
            "Original message is: \t  [[0, 1, 0, 0, 0, 1, 1], [1, 1, 1, 0, 0, 1], [0, 1, 1, 1, 1, 1, 1], [0, 0, 1, 1, 0, 1], [0, 0, 1, 1, 1, 0, 1], [0, 0, 0, 1, 1, 1, 1], [0, 0, 0, 0, 1, 1], [1, 1, 0, 0, 1, 1], [0, 0, 1, 1, 1, 0, 1], [0, 0, 0, 1, 1, 1, 1], [0, 0, 0, 0, 1, 1], [1, 1, 1, 0, 1, 1], [0, 0, 1, 1, 1, 0, 1], [0, 0, 0, 1, 1, 1, 1], [0, 0, 0, 1, 1, 1], [0, 1, 1, 0, 0, 1, 1], [0, 0, 1, 1, 1, 0, 1], [0, 0, 0, 1, 1, 1, 1], [1, 0, 1, 0, 0, 1, 1], [0, 1, 0, 0, 1, 1], [0, 0, 1, 1, 1, 0, 1], [0, 0, 0, 1, 1, 1, 1], [1, 0, 0, 0, 0, 1, 1], [0, 1, 1, 0, 1, 1], [0, 0, 1, 1, 1, 0, 1], [0, 0, 0, 1, 1, 1, 1], [1, 0, 0, 0, 1, 1], [0, 1, 0, 0, 1, 1], [0, 1, 1, 0, 0, 1, 1], [0, 0, 1, 1, 1, 0, 1], [0, 0, 0, 1, 1, 1, 1], [1, 0, 1, 0, 0, 1, 1], [0, 0, 0, 1, 1, 1], [0, 0, 1, 1, 1, 0, 1], [0, 0, 0, 1, 1, 1, 1], [0, 1, 1, 0, 0, 1, 1], [0, 1, 0, 0, 0, 1, 1], [0, 0, 1, 1, 1, 0, 1], [0, 0, 0, 1, 1, 1, 1], [0, 0, 0, 0, 1, 1], [1, 0, 1, 0, 0, 1, 1], [0, 0, 1, 1, 1, 0, 1], [0, 0, 0, 1, 1, 1, 1], [1, 1, 0, 0, 0, 1, 1], [0, 1, 1, 0, 0, 1, 1], [1, 1, 1, 1, 1, 0, 1], [0, 0, 1, 1, 1, 0, 1], [0, 0, 0, 1, 1, 1, 1], [0, 0, 1, 0, 0, 1, 1], [1, 0, 0, 0, 1, 1], [0, 0, 1, 1, 1, 0, 1], [0, 0, 0, 1, 1, 1, 1], [1, 0, 0, 1, 1, 1], [1, 0, 0, 0, 1, 1], [0, 0, 0, 1, 1, 1], [0, 0, 1, 1, 1, 0, 1], [0, 0, 0, 1, 1, 1, 1], [0, 1, 1, 0, 0, 1, 1], [0, 0, 0, 0, 1, 1], [0, 0, 1, 1, 1, 1], [0, 0, 1, 1, 1, 0, 1], [0, 0, 0, 1, 1, 1, 1], [0, 1, 1, 0, 0, 1, 1], [0, 0, 1, 0, 0, 1, 1], [1, 1, 1, 0, 0, 1]]\n",
            "Original message is: \t  [[0, 1, 0, 0, 0, 1, 1], [1, 1, 1, 0, 0, 1], [0, 0, 1, 1, 0, 0, 1], [0, 0, 1, 1, 1, 0, 1], [0, 0, 0, 1, 1, 1, 1], [0, 1, 0, 0, 0, 1, 1], [0, 0, 1, 0, 0, 1, 1], [0, 0, 1, 1, 1, 0, 1], [0, 0, 0, 1, 1, 1, 1], [1, 1, 0, 0, 0, 1, 1], [0, 1, 0, 0, 1, 1], [0, 0, 1, 1, 1, 0, 1], [0, 0, 0, 1, 1, 1, 1], [1, 0, 0, 1, 1, 1], [1, 0, 1, 0, 1, 1], [0, 1, 1, 1, 1, 0, 1], [0, 0, 1, 1, 1, 0, 1], [0, 0, 0, 1, 1, 1, 1], [1, 0, 0, 1, 1, 1], [0, 1, 0, 0, 1, 1], [0, 0, 1, 1, 1, 0, 1], [0, 0, 0, 1, 1, 1, 1], [0, 0, 1, 0, 0, 1, 1], [0, 1, 1, 0, 0, 1, 1], [0, 0, 1, 1, 1, 0, 1], [0, 0, 0, 1, 1, 1, 1], [1, 0, 1, 0, 0, 1, 1], [0, 1, 1, 0, 1, 1], [0, 0, 1, 1, 1, 0, 1], [0, 0, 0, 1, 1, 1, 1], [0, 0, 0, 1, 1, 1], [1, 1, 1, 0, 1, 1], [0, 0, 1, 1, 1, 0, 1], [0, 0, 0, 1, 1, 1, 1], [1, 0, 0, 0, 0, 1, 1], [1, 0, 0, 0, 1, 1], [0, 0, 1, 1, 1, 0, 1], [0, 0, 0, 1, 1, 1, 1], [1, 0, 0, 0, 0, 1, 1], [1, 1, 1, 0, 1, 1], [0, 0, 1, 1, 1, 0, 1], [0, 0, 0, 1, 1, 1, 1], [0, 0, 1, 0, 0, 1, 1], [0, 1, 0, 0, 1, 1], [0, 0, 1, 1, 1, 0, 1], [0, 0, 0, 1, 1, 1, 1], [1, 1, 1, 0, 1, 1], [0, 1, 1, 0, 0, 1, 1], [0, 0, 1, 1, 1, 1, 1], [0, 0, 1, 1, 1, 0, 1], [0, 0, 0, 1, 1, 1, 1], [0, 1, 0, 0, 0, 1, 1], [1, 0, 1, 0, 1, 1], [0, 0, 1, 1, 1, 0, 1], [0, 0, 0, 1, 1, 1, 1], [0, 0, 1, 0, 0, 1, 1], [1, 1, 0, 0, 0, 1, 1], [1, 1, 0, 1, 0, 1], [0, 0, 1, 1, 1, 0, 1], [0, 0, 0, 1, 1, 1, 1], [1, 1, 0, 0, 0, 1, 1], [1, 0, 0, 0, 0, 1, 1], [0, 0, 1, 1, 1, 0, 1], [0, 0, 0, 1, 1, 1, 1], [1, 0, 0, 1, 1, 1], [1, 1, 0, 0, 0, 1, 1], [1, 0, 1, 0, 0, 1, 1], [1, 1, 1, 0, 0, 1]]\n",
            "Original message is: \t  [[0, 1, 0, 0, 0, 1, 1], [1, 1, 1, 0, 0, 1], [0, 1, 0, 0, 1, 1], [0, 1, 1, 1, 0, 1, 1], [0, 0, 1, 1, 1, 0, 1], [0, 0, 0, 1, 1, 1, 1], [0, 1, 1, 0, 0, 1, 1], [0, 0, 1, 0, 1, 1], [0, 0, 1, 1, 1, 0, 1], [0, 0, 0, 1, 1, 1, 1], [0, 0, 0, 0, 1, 1], [1, 0, 0, 0, 1, 1], [0, 0, 1, 1, 1, 0, 1], [0, 0, 0, 1, 1, 1, 1], [1, 0, 0, 0, 1, 1], [1, 0, 0, 0, 0, 1, 1], [0, 0, 1, 1, 1, 0, 1], [0, 0, 0, 1, 1, 1, 1], [1, 1, 0, 0, 0, 1, 1], [1, 0, 1, 0, 0, 1, 1], [1, 1, 0, 1, 0, 1], [1, 0, 0, 1, 1, 1, 1], [1, 0, 0, 1, 1, 1], [0, 1, 0, 1, 0, 1], [0, 1, 1, 1, 1, 1], [0, 0, 1, 1, 1, 0, 1], [0, 0, 0, 1, 1, 1, 1], [1, 1, 0, 0, 0, 1, 1], [0, 0, 0, 0, 1, 1], [1, 0, 0, 1, 0, 1, 1], [0, 0, 1, 1, 1, 0, 1], [0, 0, 0, 1, 1, 1, 1], [1, 1, 0, 0, 0, 1, 1], [0, 0, 1, 0, 1, 1], [0, 0, 1, 1, 1, 0, 1], [0, 0, 0, 1, 1, 1, 1], [0, 1, 0, 0, 0, 1, 1], [1, 0, 0, 0, 0, 1, 1], [0, 0, 1, 1, 1, 0, 1], [0, 0, 0, 1, 1, 1, 1], [0, 1, 0, 0, 0, 1, 1], [0, 0, 1, 0, 1, 1], [0, 0, 1, 1, 1, 0, 1], [0, 0, 0, 1, 1, 1, 1], [0, 1, 1, 0, 0, 1, 1], [0, 0, 0, 1, 1, 1], [0, 0, 1, 1, 1, 0, 1], [0, 0, 0, 1, 1, 1, 1], [0, 0, 1, 0, 0, 1, 1], [1, 0, 1, 0, 0, 1, 1], [0, 0, 1, 1, 1, 0, 1], [0, 0, 0, 1, 1, 1, 1], [1, 0, 0, 1, 1, 1], [0, 1, 1, 0, 0, 1, 1], [0, 0, 1, 1, 1, 0, 1], [0, 0, 0, 1, 1, 1, 1], [1, 0, 1, 0, 0, 1, 1], [1, 0, 0, 1, 1, 1], [1, 1, 1, 0, 0, 1]]\n",
            "Original message is: \t  [[0, 1, 0, 0, 0, 1, 1], [0, 1, 0, 0, 0, 1], [0, 0, 1, 1, 1, 0, 1], [0, 0, 0, 1, 1, 1, 1], [0, 0, 0, 0, 1, 1], [0, 1, 0, 0, 0, 1, 1], [0, 0, 1, 1, 1, 0, 1], [0, 0, 0, 1, 1, 1, 1], [1, 0, 0, 0, 0, 1, 1], [0, 1, 1, 0, 1, 1], [0, 0, 1, 1, 1, 0, 1], [0, 0, 0, 1, 1, 1, 1], [1, 1, 0, 0, 0, 1, 1], [1, 1, 0, 0, 1, 1], [1, 1, 1, 0, 1, 1, 1], [0, 0, 1, 1, 1, 0, 1], [0, 0, 0, 1, 1, 1, 1], [1, 0, 1, 0, 0, 1, 1], [0, 0, 1, 0, 0, 1, 1], [0, 0, 1, 1, 1, 0, 1], [0, 0, 0, 1, 1, 1, 1], [1, 0, 0, 1, 1, 1], [0, 0, 1, 0, 1, 1], [0, 0, 1, 1, 1, 0, 1], [0, 0, 0, 1, 1, 1, 1], [1, 0, 0, 1, 1, 1], [1, 1, 0, 0, 1, 1], [0, 1, 0, 1, 0, 1, 1], [0, 0, 1, 1, 1, 1], [1, 1, 1, 0, 0, 1], [1, 0, 1, 0, 1, 0, 1], [0, 0, 1, 1, 1, 0, 1], [0, 0, 0, 1, 1, 1, 1], [0, 0, 1, 0, 0, 1, 1], [0, 1, 1, 0, 1, 1], [1, 0, 0, 1, 1, 0, 1], [0, 0, 0, 0, 0, 0, 1], [0, 0, 1, 1, 1, 0, 1], [0, 0, 0, 1, 1, 1, 1], [0, 0, 0, 0, 1, 1], [0, 1, 1, 0, 1, 1], [1, 0, 0, 0, 1, 0, 1], [1, 0, 0, 0, 1, 0, 1], [0, 1, 0, 1, 0, 1], [0, 1, 1, 0, 1, 0, 1], [0, 0, 1, 1, 1, 0, 1], [0, 0, 0, 1, 1, 1, 1], [0, 0, 1, 0, 0, 1, 1], [1, 0, 0, 0, 0, 1, 1], [0, 1, 0, 0, 0, 1]]\n",
            "Original message is: \t  [[0, 1, 0, 0, 0, 1, 1], [1, 1, 1, 0, 0, 1], [0, 0, 1, 1, 1, 0, 1], [0, 0, 0, 1, 1, 1, 1], [0, 0, 0, 1, 1, 1], [0, 0, 1, 0, 1, 1], [0, 0, 1, 1, 1, 0, 1], [0, 0, 0, 1, 1, 1, 1], [0, 0, 0, 0, 1, 1], [0, 0, 0, 0, 1, 1], [0, 0, 1, 1, 1, 0, 1], [0, 0, 0, 1, 1, 1, 1], [0, 0, 1, 0, 0, 1, 1], [1, 0, 1, 0, 1, 1], [1, 1, 1, 1, 0, 1], [1, 0, 0, 1, 0, 1, 1], [1, 1, 1, 0, 1, 1, 1], [0, 1, 1, 1, 0, 1, 1], [0, 0, 1, 1, 1, 0, 1], [0, 0, 0, 1, 1, 1, 1], [0, 1, 0, 0, 0, 1, 1], [0, 0, 1, 0, 1, 1], [0, 0, 1, 1, 1, 0, 1], [0, 0, 0, 1, 1, 1, 1], [1, 0, 0, 0, 1, 1], [1, 1, 0, 0, 0, 1, 1], [0, 0, 1, 1, 1, 0, 1], [0, 0, 0, 1, 1, 1, 1], [0, 1, 0, 0, 0, 1, 1], [0, 1, 0, 0, 1, 1], [0, 0, 1, 1, 1, 0, 1], [0, 0, 0, 1, 1, 1, 1], [1, 1, 0, 0, 0, 1, 1], [0, 1, 0, 0, 1, 1], [0, 0, 1, 1, 1, 0, 1], [0, 0, 0, 1, 1, 1, 1], [1, 0, 1, 0, 0, 1, 1], [0, 0, 0, 1, 1, 1], [0, 0, 1, 1, 1, 0, 1], [0, 0, 0, 1, 1, 1, 1], [0, 1, 1, 0, 0, 1, 1], [1, 0, 1, 0, 1, 1], [1, 0, 0, 1, 0, 1], [0, 0, 1, 1, 1, 0, 1], [0, 0, 0, 1, 1, 1, 1], [0, 0, 0, 1, 1, 1], [1, 0, 0, 1, 1, 1], [0, 0, 1, 1, 1, 0, 1], [0, 0, 0, 1, 1, 1, 1], [1, 0, 0, 0, 0, 1, 1], [0, 0, 1, 0, 1, 1], [1, 1, 0, 0, 0, 1, 1], [0, 0, 1, 1, 1, 0, 1], [0, 0, 0, 1, 1, 1, 1], [0, 0, 0, 0, 1, 1], [0, 1, 1, 0, 0, 1, 1], [0, 1, 1, 0, 0, 1, 1], [1, 0, 1, 0, 0, 1, 1], [1, 1, 1, 0, 0, 1]]\n",
            "Original message is: \t  [[0, 1, 0, 0, 0, 1, 1], [1, 1, 1, 0, 0, 1], [1, 1, 1, 1, 1, 0, 1], [0, 0, 1, 1, 1, 1], [0, 0, 1, 1, 1, 0, 1], [0, 0, 0, 1, 1, 1, 1], [0, 1, 0, 0, 0, 1, 1], [0, 1, 0, 0, 0, 1, 1], [0, 0, 1, 1, 1, 0, 1], [0, 0, 0, 1, 1, 1, 1], [1, 0, 0, 1, 1, 1], [0, 0, 0, 1, 1, 1], [0, 0, 1, 1, 1, 0, 1], [0, 0, 0, 1, 1, 1, 1], [0, 0, 1, 0, 0, 1, 1], [0, 0, 1, 0, 1, 1], [0, 0, 1, 1, 1, 0, 1], [0, 0, 0, 1, 1, 1, 1], [1, 0, 0, 1, 1, 1], [1, 0, 1, 0, 0, 1, 1], [1, 0, 1, 1, 0, 1, 1], [0, 0, 1, 1, 1, 0, 1], [0, 0, 0, 1, 1, 1, 1], [0, 0, 0, 0, 1, 1], [0, 0, 1, 0, 1, 1], [0, 0, 1, 1, 1, 0, 1], [0, 0, 0, 1, 1, 1, 1], [1, 1, 0, 0, 0, 1, 1], [0, 0, 0, 0, 1, 1], [0, 1, 1, 1, 1, 1], [0, 0, 1, 1, 1, 0, 1], [0, 0, 0, 1, 1, 1, 1], [0, 0, 1, 0, 0, 1, 1], [0, 1, 1, 0, 1, 1], [1, 0, 0, 0, 0, 1, 1], [0, 0, 1, 1, 1, 0, 1], [0, 0, 0, 1, 1, 1, 1], [1, 0, 0, 1, 1, 1], [0, 1, 0, 0, 0, 1, 1], [0, 1, 0, 0, 0, 0, 1], [0, 0, 1, 1, 1, 1, 1], [1, 0, 1, 0, 1, 0, 1], [0, 0, 1, 1, 1, 0, 1], [0, 0, 0, 1, 1, 1, 1], [0, 0, 1, 0, 0, 1, 1], [1, 1, 0, 0, 1, 1], [0, 0, 1, 1, 1, 0, 1], [0, 0, 0, 1, 1, 1, 1], [1, 0, 0, 0, 1, 1], [1, 0, 0, 0, 0, 1, 1], [0, 0, 1, 1, 1, 0, 1], [0, 0, 0, 1, 1, 1, 1], [0, 1, 1, 0, 0, 1, 1], [1, 0, 1, 0, 1, 1], [0, 0, 1, 1, 1, 0, 1], [0, 0, 0, 1, 1, 1, 1], [1, 0, 0, 0, 1, 1], [1, 0, 0, 0, 0, 1, 1], [1, 1, 1, 0, 0, 1]]\n",
            "Original message is: \t  [[0, 1, 0, 0, 0, 1, 1], [1, 1, 1, 0, 0, 1], [0, 0, 1, 1, 1, 0, 1], [0, 0, 0, 1, 1, 1, 1], [0, 1, 0, 0, 0, 1, 1], [1, 0, 0, 0, 1, 1], [0, 0, 1, 1, 1, 0, 1], [0, 0, 0, 1, 1, 1, 1], [0, 1, 0, 0, 0, 1, 1], [0, 1, 0, 0, 1, 1], [0, 0, 1, 1, 1, 0, 1], [0, 0, 0, 1, 1, 1, 1], [0, 0, 1, 0, 0, 1, 1], [0, 1, 1, 0, 1, 1], [0, 0, 1, 1, 1, 0, 1], [0, 0, 0, 1, 1, 1, 1], [0, 1, 0, 0, 0, 1, 1], [1, 0, 0, 1, 1, 1], [0, 0, 1, 1, 1, 0, 1], [0, 0, 0, 1, 1, 1, 1], [0, 0, 0, 1, 1, 1], [0, 0, 0, 0, 1, 1], [0, 0, 1, 1, 1, 0, 1], [0, 0, 0, 1, 1, 1, 1], [1, 0, 0, 1, 1, 1], [0, 0, 1, 0, 1, 1], [0, 1, 0, 1, 0, 0, 1], [1, 1, 0, 1, 0, 1, 1], [0, 0, 1, 1, 1, 0, 1], [0, 0, 0, 1, 1, 1, 1], [1, 0, 0, 1, 1, 1], [1, 1, 0, 0, 1, 1], [0, 0, 1, 1, 1, 0, 1], [0, 0, 0, 1, 1, 1, 1], [0, 1, 0, 0, 0, 1, 1], [1, 1, 0, 0, 0, 1, 1], [0, 0, 1, 1, 1, 0, 1], [0, 0, 0, 1, 1, 1, 1], [1, 0, 0, 0, 1, 1], [0, 0, 0, 0, 1, 1], [1, 0, 1, 1, 0, 1], [1, 1, 0, 0, 1, 0, 1], [0, 0, 1, 1, 1, 0, 1], [0, 0, 0, 1, 1, 1, 1], [0, 0, 0, 1, 1, 1], [1, 1, 1, 0, 1, 1], [0, 0, 1, 1, 1, 0, 1], [0, 0, 0, 1, 1, 1, 1], [1, 1, 0, 0, 0, 1, 1], [0, 1, 0, 0, 0, 1, 1], [0, 0, 0, 1, 0, 1], [1, 0, 1, 0, 1, 0, 1], [0, 0, 1, 1, 1, 0, 1], [0, 0, 0, 1, 1, 1, 1], [1, 0, 1, 0, 0, 1, 1], [1, 0, 1, 0, 1, 1], [0, 0, 1, 1, 1, 0, 1], [0, 0, 0, 1, 1, 1, 1], [0, 0, 1, 0, 0, 1, 1], [0, 1, 1, 0, 1, 1], [0, 1, 0, 1, 0, 1, 1], [1, 1, 1, 0, 0, 1]]\n",
            "Original message is: \t  [[0, 1, 0, 0, 0, 1, 1], [1, 1, 1, 0, 0, 1], [0, 0, 1, 0, 0, 1], [0, 0, 1, 1, 1, 0, 1], [0, 0, 0, 1, 1, 1, 1], [1, 0, 0, 0, 1, 1], [0, 1, 0, 0, 1, 1], [0, 0, 1, 1, 1, 0, 1], [0, 0, 0, 1, 1, 1, 1], [0, 0, 1, 0, 0, 1, 1], [0, 1, 1, 0, 1, 1], [0, 0, 1, 1, 1, 0, 1], [0, 0, 0, 1, 1, 1, 1], [0, 1, 0, 0, 0, 1, 1], [0, 1, 1, 0, 1, 1], [0, 0, 1, 0, 0, 1], [0, 1, 0, 1, 0, 0, 1], [0, 0, 1, 1, 1, 0, 1], [0, 0, 0, 1, 1, 1, 1], [1, 1, 0, 0, 0, 1, 1], [1, 1, 1, 0, 1, 1], [0, 0, 1, 1, 1, 0, 1], [0, 0, 0, 1, 1, 1, 1], [1, 0, 1, 0, 0, 1, 1], [1, 0, 1, 0, 0, 1, 1], [0, 0, 1, 1, 1, 0, 1], [0, 0, 1, 1, 1, 0, 1], [0, 0, 1, 1, 1, 0, 1], [0, 0, 0, 1, 1, 1, 1], [0, 0, 0, 0, 1, 1], [1, 1, 0, 0, 1, 1], [0, 0, 1, 1, 1, 0, 1], [0, 0, 0, 1, 1, 1, 1], [1, 1, 0, 0, 0, 1, 1], [0, 0, 1, 0, 1, 1], [0, 0, 1, 1, 1, 0, 1], [0, 0, 0, 1, 1, 1, 1], [0, 0, 1, 0, 0, 1, 1], [0, 0, 0, 0, 1, 1], [0, 0, 1, 1, 1, 0, 1], [0, 0, 0, 1, 1, 1, 1], [1, 0, 0, 0, 0, 1, 1], [0, 1, 1, 0, 1, 1], [0, 1, 1, 1, 1, 0, 1], [0, 0, 1, 1, 1, 0, 1], [0, 0, 0, 1, 1, 1, 1], [1, 0, 0, 0, 0, 1, 1], [1, 0, 0, 0, 0, 1, 1], [0, 0, 1, 1, 1, 0, 1], [0, 0, 0, 1, 1, 1, 1], [0, 0, 0, 1, 1, 1], [1, 0, 0, 0, 0, 1, 1], [0, 0, 1, 1, 1, 0, 1], [0, 0, 0, 1, 1, 1, 1], [1, 0, 0, 0, 1, 1], [0, 1, 0, 0, 1, 1], [0, 0, 1, 1, 1, 0, 1], [0, 0, 0, 1, 1, 1, 1], [0, 0, 0, 0, 1, 1], [1, 1, 1, 0, 1, 1], [0, 0, 1, 1, 1, 0, 1], [0, 0, 0, 1, 1, 1, 1], [0, 0, 0, 1, 1, 1], [0, 0, 0, 1, 1, 1], [0, 0, 0, 0, 0, 1], [1, 1, 1, 0, 0, 1]]\n",
            "Original message is: \t  [[0, 1, 0, 0, 0, 1, 1], [1, 1, 1, 0, 0, 1], [1, 0, 0, 1, 0, 1], [0, 0, 1, 1, 1, 0, 1], [0, 0, 0, 1, 1, 1, 1], [0, 0, 0, 0, 1, 1], [1, 0, 0, 0, 1, 1], [0, 0, 1, 1, 1, 0, 1], [0, 0, 0, 1, 1, 1, 1], [0, 1, 1, 0, 0, 1, 1], [1, 1, 1, 0, 1, 1], [0, 0, 1, 1, 1, 0, 1], [0, 0, 0, 1, 1, 1, 1], [0, 0, 0, 0, 1, 1], [0, 1, 0, 0, 1, 1], [0, 0, 1, 1, 1, 0, 1], [0, 0, 0, 1, 1, 1, 1], [1, 1, 0, 0, 0, 1, 1], [1, 1, 0, 0, 0, 1, 1], [0, 1, 1, 0, 1, 0, 1], [0, 0, 1, 1, 1, 0, 1], [0, 0, 0, 1, 1, 1, 1], [1, 0, 0, 0, 1, 1], [0, 1, 1, 0, 0, 1, 1], [0, 1, 1, 1, 1, 1], [0, 0, 1, 1, 1, 0, 1], [0, 0, 0, 1, 1, 1, 1], [1, 0, 0, 0, 0, 1, 1], [0, 1, 1, 0, 1, 1], [0, 1, 1, 1, 1, 1], [0, 1, 0, 1, 0, 1], [0, 0, 1, 1, 1, 0, 1], [0, 0, 0, 1, 1, 1, 1], [1, 0, 0, 0, 0, 1, 1], [0, 1, 1, 0, 0, 1, 1], [0, 0, 1, 1, 1, 0, 1], [0, 0, 0, 1, 1, 1, 1], [0, 0, 1, 0, 0, 1, 1], [0, 1, 1, 0, 1, 1], [0, 1, 1, 1, 0, 1], [0, 0, 1, 1, 1, 0, 1], [0, 0, 0, 1, 1, 1, 1], [1, 0, 0, 0, 1, 1], [1, 1, 1, 0, 1, 1], [0, 1, 0, 0, 1, 1, 1], [0, 1, 1, 1, 0, 1], [1, 0, 1, 0, 0, 1], [0, 0, 0, 0, 1, 1], [0, 0, 1, 1, 1, 0, 1], [0, 0, 0, 1, 1, 1, 1], [0, 0, 0, 1, 1, 1], [0, 0, 1, 0, 0, 1, 1], [1, 1, 1, 0, 0, 1]]\n",
            "Original message is: \t  [[0, 1, 0, 0, 0, 1, 1], [1, 1, 1, 0, 0, 1], [0, 0, 1, 1, 1, 0, 1], [0, 0, 0, 1, 1, 1, 1], [1, 0, 1, 0, 0, 1, 1], [0, 1, 1, 0, 0, 1, 1], [0, 0, 1, 1, 1, 0, 1], [0, 0, 0, 1, 1, 1, 1], [0, 0, 0, 0, 1, 1], [1, 0, 0, 0, 1, 1], [1, 0, 1, 1, 0, 1, 1], [0, 0, 1, 1, 1, 0, 1], [0, 0, 0, 1, 1, 1, 1], [0, 1, 1, 0, 0, 1, 1], [0, 0, 1, 0, 1, 1], [0, 0, 1, 1, 1, 0, 1], [0, 0, 0, 1, 1, 1, 1], [0, 0, 0, 1, 1, 1], [0, 1, 1, 0, 1, 1], [0, 0, 1, 1, 1, 0, 1], [0, 0, 0, 1, 1, 1, 1], [0, 1, 1, 0, 0, 1, 1], [0, 0, 1, 0, 1, 1], [0, 0, 1, 1, 1, 0, 1], [0, 0, 0, 1, 1, 1, 1], [1, 0, 0, 0, 0, 1, 1], [0, 1, 0, 0, 1, 1], [1, 1, 0, 0, 0, 1], [0, 0, 1, 1, 1, 0, 1], [0, 0, 0, 1, 1, 1, 1], [1, 0, 0, 0, 1, 1], [0, 0, 0, 0, 1, 1], [0, 0, 1, 1, 1, 0, 1], [0, 0, 0, 1, 1, 1, 1], [1, 0, 0, 0, 0, 1, 1], [0, 1, 0, 0, 0, 1, 1], [1, 1, 1, 1, 0, 0, 1], [1, 0, 1, 0, 0, 0, 1], [0, 0, 1, 1, 1, 0, 1], [0, 0, 0, 1, 1, 1, 1], [1, 1, 0, 0, 0, 1, 1], [1, 0, 0, 1, 1, 1], [0, 0, 1, 1, 1, 0, 1], [0, 0, 0, 1, 1, 1, 1], [1, 1, 0, 0, 0, 1, 1], [0, 1, 1, 0, 1, 1], [0, 0, 1, 1, 1, 0, 1], [0, 0, 0, 1, 1, 1, 1], [0, 0, 0, 0, 1, 1], [0, 0, 0, 1, 1, 1], [0, 0, 1, 1, 1, 0, 1], [0, 0, 0, 1, 1, 1, 1], [1, 0, 0, 1, 1, 1], [0, 0, 0, 1, 1, 1], [0, 1, 0, 1, 0, 1], [1, 1, 1, 0, 1, 1], [0, 0, 1, 1, 1, 0, 1], [0, 0, 0, 1, 1, 1, 1], [0, 1, 0, 0, 0, 1, 1], [1, 0, 0, 1, 1, 1], [0, 0, 1, 1, 1, 0, 1], [0, 0, 0, 1, 1, 1, 1], [1, 1, 0, 0, 0, 1, 1], [1, 1, 0, 0, 0, 1, 1], [1, 1, 1, 0, 0, 1]]\n",
            "Original message is: \t  [[0, 1, 0, 0, 0, 1, 1], [1, 1, 1, 0, 0, 1], [1, 0, 1, 0, 0, 0, 1], [0, 0, 1, 1, 0, 1, 1], [0, 0, 1, 1, 1, 0, 1], [0, 0, 0, 1, 1, 1, 1], [0, 1, 0, 0, 0, 1, 1], [0, 0, 0, 1, 1, 1], [1, 1, 1, 1, 1, 0, 1], [0, 0, 1, 1, 1, 0, 1], [0, 0, 0, 1, 1, 1, 1], [0, 0, 0, 1, 1, 1], [1, 0, 1, 0, 1, 1], [0, 1, 1, 0, 1, 1, 1], [0, 0, 1, 1, 1, 0, 1], [0, 0, 0, 1, 1, 1, 1], [0, 0, 0, 1, 1, 1], [0, 1, 1, 0, 0, 1, 1], [0, 1, 1, 0, 0, 1, 1], [0, 0, 1, 1, 1, 0, 1], [0, 0, 0, 1, 1, 1, 1], [0, 0, 1, 0, 0, 1, 1], [0, 0, 0, 1, 1, 1], [0, 0, 1, 1, 1, 0, 1], [0, 0, 0, 1, 1, 1, 1], [1, 0, 0, 0, 1, 1], [0, 0, 0, 1, 1, 1], [0, 0, 1, 1, 1, 0, 1], [0, 0, 0, 1, 1, 1, 1], [0, 1, 1, 0, 0, 1, 1], [1, 1, 0, 0, 1, 1], [0, 0, 1, 1, 1, 0, 1], [0, 0, 0, 1, 1, 1, 1], [1, 0, 0, 0, 0, 1, 1], [0, 1, 1, 0, 0, 1, 1], [0, 0, 1, 1, 1, 0, 1], [0, 0, 0, 1, 1, 1, 1], [0, 1, 1, 0, 0, 1, 1], [0, 0, 1, 0, 1, 1], [0, 0, 1, 1, 1, 0, 1], [0, 0, 0, 1, 1, 1, 1], [0, 0, 0, 0, 1, 1], [1, 0, 1, 0, 0, 1, 1], [0, 0, 1, 1, 1, 0, 1], [0, 0, 0, 1, 1, 1, 1], [1, 0, 0, 0, 0, 1, 1], [0, 1, 1, 0, 1, 1], [1, 0, 1, 1, 0, 0, 1], [0, 0, 1, 1, 1, 0, 1], [0, 0, 0, 1, 1, 1, 1], [1, 0, 1, 0, 0, 1, 1], [1, 0, 0, 0, 1, 1], [0, 0, 1, 1, 1, 0, 1], [0, 0, 0, 1, 1, 1, 1], [0, 1, 1, 0, 0, 1, 1], [1, 1, 1, 0, 1, 1], [1, 0, 1, 1, 1, 1], [0, 0, 1, 1, 1, 0, 1], [0, 0, 0, 1, 1, 1, 1], [1, 0, 1, 0, 0, 1, 1], [1, 0, 1, 0, 1, 1], [1, 1, 1, 0, 0, 1]]\n",
            "Original message is: \t  [[0, 1, 0, 0, 0, 1, 1], [1, 1, 1, 0, 0, 1], [1, 0, 0, 0, 1, 1], [1, 1, 0, 1, 1, 1, 1], [0, 0, 1, 1, 1, 0, 1], [0, 0, 0, 1, 1, 1, 1], [1, 1, 0, 0, 0, 1, 1], [0, 0, 0, 0, 1, 1], [0, 0, 1, 1, 1, 0, 1], [0, 0, 0, 1, 1, 1, 1], [1, 1, 0, 0, 0, 1, 1], [1, 0, 0, 1, 1, 1], [0, 0, 1, 1, 1, 0, 1], [0, 0, 0, 1, 1, 1, 1], [1, 1, 0, 0, 0, 1, 1], [1, 0, 1, 0, 0, 1, 1], [0, 0, 1, 1, 1, 0, 1], [0, 0, 0, 1, 1, 1, 1], [1, 0, 0, 0, 0, 1, 1], [1, 0, 1, 0, 0, 1, 1], [0, 0, 1, 1, 1, 0, 1], [0, 0, 0, 1, 1, 1, 1], [1, 0, 0, 1, 1, 1], [1, 0, 1, 0, 1, 1], [1, 1, 1, 0, 1, 1], [0, 0, 1, 1, 1, 0, 1], [0, 0, 0, 1, 1, 1, 1], [0, 1, 0, 0, 0, 1, 1], [0, 1, 1, 0, 0, 1, 1], [0, 0, 1, 1, 1, 0, 1], [0, 0, 0, 1, 1, 1, 1], [0, 1, 0, 0, 0, 1, 1], [0, 1, 1, 0, 0, 1, 1], [1, 1, 1, 1, 0, 0, 1], [0, 0, 1, 1, 1, 0, 1], [0, 0, 0, 1, 1, 1, 1], [0, 0, 1, 0, 0, 1, 1], [0, 1, 0, 0, 0, 1, 1], [0, 0, 1, 1, 1, 0, 1], [0, 0, 0, 1, 1, 1, 1], [1, 1, 0, 0, 0, 1, 1], [1, 0, 0, 0, 1, 1], [0, 0, 1, 1, 1, 0, 1], [0, 0, 0, 1, 1, 1, 1], [1, 0, 0, 1, 1, 1], [1, 0, 0, 0, 1, 1], [0, 0, 1, 1, 0, 0, 1], [0, 0, 1, 1, 1, 0, 1], [0, 0, 0, 1, 1, 1, 1], [1, 0, 0, 1, 1, 1], [1, 1, 0, 0, 0, 1, 1], [0, 0, 1, 1, 1, 0, 1], [0, 0, 0, 1, 1, 1, 1], [1, 0, 0, 0, 0, 1, 1], [0, 1, 0, 0, 1, 1], [0, 0, 1, 1, 1, 0, 1], [0, 0, 0, 1, 1, 1, 1], [1, 0, 0, 0, 0, 1, 1], [0, 1, 0, 0, 0, 1, 1], [0, 0, 1, 1, 1, 0, 1], [0, 0, 0, 1, 1, 1, 1], [0, 1, 1, 0, 0, 1, 1], [0, 0, 0, 0, 1, 1], [0, 0, 1, 1, 1, 0, 1], [0, 0, 0, 1, 1, 1, 1], [0, 0, 1, 0, 0, 1, 1], [0, 1, 1, 0, 1, 1], [1, 1, 1, 0, 0, 1]]\n",
            "Original message is: \t  [[0, 1, 0, 0, 0, 1, 1], [1, 1, 1, 0, 0, 1], [0, 0, 1, 1, 1, 0, 1], [0, 0, 0, 1, 1, 1, 1], [0, 0, 0, 0, 1, 1], [0, 0, 1, 0, 1, 1], [0, 0, 0, 1, 1, 1], [0, 0, 1, 1, 1, 0, 1], [0, 0, 0, 1, 1, 1, 1], [0, 0, 1, 0, 0, 1, 1], [1, 0, 1, 0, 0, 1, 1], [1, 0, 0, 0, 0, 1, 1], [0, 0, 1, 1, 1, 0, 1], [0, 0, 0, 1, 1, 1, 1], [1, 1, 0, 0, 0, 1, 1], [0, 0, 0, 1, 1, 1], [1, 1, 1, 1, 0, 1, 1], [0, 1, 0, 0, 1, 0, 1], [1, 1, 1, 0, 1, 0, 1], [0, 0, 1, 1, 1, 0, 1], [0, 0, 0, 1, 1, 1, 1], [0, 0, 1, 0, 0, 1, 1], [0, 1, 1, 0, 0, 1, 1], [0, 0, 1, 1, 1, 0, 1], [0, 0, 0, 1, 1, 1, 1], [1, 1, 0, 0, 0, 1, 1], [0, 0, 1, 0, 0, 1, 1], [0, 0, 1, 1, 1, 0, 1], [0, 0, 0, 1, 1, 1, 1], [1, 0, 0, 0, 1, 1], [0, 0, 0, 0, 1, 1], [0, 0, 1, 0, 0, 1], [0, 0, 1, 1, 1, 0, 1], [0, 0, 0, 1, 1, 1, 1], [0, 1, 0, 0, 0, 1, 1], [1, 1, 0, 0, 0, 1, 1], [0, 0, 1, 1, 1, 0, 1], [0, 0, 0, 1, 1, 1, 1], [1, 0, 0, 0, 0, 1, 1], [0, 0, 1, 0, 0, 1, 1], [0, 0, 1, 1, 1, 0, 1], [0, 0, 1, 0, 1, 1, 1], [0, 0, 1, 1, 1, 0, 1], [0, 0, 0, 1, 1, 1, 1], [1, 0, 0, 0, 0, 1, 1], [1, 1, 0, 0, 0, 1, 1], [0, 0, 1, 1, 1, 0, 1], [0, 0, 0, 1, 1, 1, 1], [0, 1, 1, 0, 0, 1, 1], [0, 1, 0, 0, 1, 1], [0, 0, 1, 1, 1, 0, 1], [0, 0, 0, 1, 1, 1, 1], [0, 1, 1, 0, 0, 1, 1], [0, 1, 1, 0, 1, 1], [0, 0, 1, 1, 1, 0, 1], [0, 0, 0, 1, 1, 1, 1], [0, 0, 0, 1, 1, 1], [1, 0, 0, 1, 1, 1], [0, 0, 1, 0, 0, 0, 1], [1, 1, 1, 0, 0, 1]]\n",
            "1 loop, best of 5: 290 ms per loop\n"
          ]
        }
      ],
      "source": [
        " print(\"RSA\")\n",
        " %timeit createClientAndTransactionsRSA()\n",
        " print(\"EDCSA\")\n",
        " %timeit createClientAndTransactionsEDCSA()\n",
        " print(\"NTRU\")\n",
        " %timeit createClientAndTransactionsNTRU()\n"
      ]
    },
    {
      "cell_type": "markdown",
      "metadata": {
        "id": "0AMpjGUVFjL_"
      },
      "source": [
        "###In order to add the verifiability of the blocks then adding into the blockchain"
      ]
    },
    {
      "cell_type": "code",
      "execution_count": null,
      "metadata": {
        "id": "jLcngFIYLCaB"
      },
      "outputs": [],
      "source": [
        ""
      ]
    },
    {
      "cell_type": "code",
      "execution_count": null,
      "metadata": {
        "id": "ZL5bHtDdFV5h"
      },
      "outputs": [],
      "source": [
        "class Block:\n",
        "    def __init__(self, index, transactions, timestamp, previous_hash, nonce=0):\n",
        "        self.index = index\n",
        "        self.verified_transactions = transactions\n",
        "        self.timestamp = timestamp\n",
        "        self.previous_hash = previous_hash\n",
        "        self.nonce = nonce\n",
        "\n",
        "    def compute_hash(self):\n",
        "        block_string = json.dumps(self.__dict__, sort_keys=True)\n",
        "        return sha256(block_string.encode()).hexdigest()"
      ]
    },
    {
      "cell_type": "code",
      "execution_count": null,
      "metadata": {
        "colab": {
          "base_uri": "https://localhost:8080/"
        },
        "id": "tuyT177MLLdA",
        "outputId": "111ee87d-e4f1-4027-bfde-eea91d23db65"
      },
      "outputs": [
        {
          "data": {
            "text/plain": [
              "<bound method Block.compute_hash of <__main__.Block object at 0x7f510776a450>>"
            ]
          },
          "execution_count": 58,
          "metadata": {
            "tags": []
          },
          "output_type": "execute_result"
        }
      ],
      "source": [
        "newblock = Block(1, transactionsNTRU, 23, None)\n",
        "newblock.compute_hash"
      ]
    },
    {
      "cell_type": "code",
      "execution_count": null,
      "metadata": {
        "id": "B2voCsIFGImW"
      },
      "outputs": [],
      "source": [
        "last_block_hash = \"\"\n",
        "Dinesh = ClientECDSA()\n",
        "\n",
        "t0 = Transaction (\n",
        "   \"Genesis\",\n",
        "   Dinesh.identity,\n",
        "   500.0\n",
        ")\n",
        "\n",
        "\n",
        "block0 = Block(0, [], 23, None)\n",
        "\n",
        "block0.previous_block_hash = None\n",
        "Nonce = None\n",
        "\n",
        "block0.verified_transactions.append (t0)"
      ]
    },
    {
      "cell_type": "code",
      "execution_count": null,
      "metadata": {
        "id": "msnETP08YTQ7"
      },
      "outputs": [],
      "source": [
        "digest = hash (block0)\n",
        "last_block_hash = digest\n",
        "\n",
        "NITWCoins = []\n",
        "\n",
        "def dump_blockchain (self):\n",
        "   print (\"Number of blocks in the chain: \" + str(len (self)))\n",
        "   for x in range (len(NITWCoins)):\n",
        "      block_temp = NITWCoins[x]\n",
        "      print (\"block # \" + str(x))\n",
        "      for transaction in block_temp.verified_transactions:\n",
        "         display_transaction (transaction)\n",
        "         print ('--------------')\n",
        "      print ('=====================================')"
      ]
    },
    {
      "cell_type": "code",
      "execution_count": null,
      "metadata": {
        "colab": {
          "base_uri": "https://localhost:8080/"
        },
        "id": "cPTTdPimYbkQ",
        "outputId": "d566a073-7e30-4bf6-ddd4-9bb574f828ba"
      },
      "outputs": [
        {
          "name": "stdout",
          "output_type": "stream",
          "text": [
            "Number of blocks in the chain: 1\n",
            "block # 0\n",
            "--------------\n",
            "=====================================\n"
          ]
        }
      ],
      "source": [
        "NITWCoins.append (block0)\n",
        "\n",
        "dump_blockchain(NITWCoins)"
      ]
    },
    {
      "cell_type": "code",
      "execution_count": null,
      "metadata": {
        "id": "RjO6LqiyYk9L"
      },
      "outputs": [],
      "source": [
        "def sha256(message):\n",
        "  return hashlib.sha256(message.encode('ascii')).hexdigest()\n",
        "def mine(message, difficulty=1):\n",
        "   assert difficulty >= 1\n",
        "   prefix = '1' * difficulty\n",
        "   i = 0\n",
        "   while(True):\n",
        "      digest = sha256(str(hash(message)) + str(i))\n",
        "      if digest.startswith(prefix):\n",
        "        msg = \"after \" + str(i) + \" iterations found nonce: \"+ digest\n",
        "        print(msg)\n",
        "        return digest\n",
        "      else:\n",
        "        i += 1\n"
      ]
    },
    {
      "cell_type": "code",
      "execution_count": null,
      "metadata": {
        "colab": {
          "base_uri": "https://localhost:8080/",
          "height": 52
        },
        "id": "3jcRwnVIKZgi",
        "outputId": "64993fb1-c4e2-4a58-c2b4-5cd57944fc1e"
      },
      "outputs": [
        {
          "name": "stdout",
          "output_type": "stream",
          "text": [
            "after 1 iterations found nonce: 1ea9409a32ef11c3b6e3410e905e76a0e6f67a7a81a76470e131c9181648b302\n"
          ]
        },
        {
          "data": {
            "application/vnd.google.colaboratory.intrinsic+json": {
              "type": "string"
            },
            "text/plain": [
              "'1ea9409a32ef11c3b6e3410e905e76a0e6f67a7a81a76470e131c9181648b302'"
            ]
          },
          "execution_count": 64,
          "metadata": {
            "tags": []
          },
          "output_type": "execute_result"
        }
      ],
      "source": [
        "mine(\"test message \",1)"
      ]
    },
    {
      "cell_type": "code",
      "execution_count": null,
      "metadata": {
        "colab": {
          "background_save": true,
          "base_uri": "https://localhost:8080/"
        },
        "id": "aZcFCxMlYr_f",
        "outputId": "204a3eaf-65e8-4942-f1e1-a81376364b62"
      },
      "outputs": [
        {
          "name": "stdout",
          "output_type": "stream",
          "text": [
            "after 1185 iterations found nonce: 1111d78698c75e514d94e8cd86f4821911704d360d82f6481aff1fb31184f606\n"
          ]
        }
      ],
      "source": [
        "mine(\"test message\", 4)\n",
        "mine(\"test message\", 10)\n",
        "mine(\"test message\", 2)"
      ]
    },
    {
      "cell_type": "code",
      "execution_count": null,
      "metadata": {
        "id": "fka5UOavKb5B"
      },
      "outputs": [],
      "source": [
        "class Blockchain:\n",
        "    difficulty = 2\n",
        "\n",
        "    def __init__(self):\n",
        "        self.unconfirmed_transactions = []\n",
        "        self.chain = []\n",
        "\n",
        "    def create_genesis_block(self):\n",
        "        genesis_block = Block(0, [], 0, \"0\")\n",
        "        genesis_block.hash = genesis_block.compute_hash()\n",
        "        self.chain.append(genesis_block)\n",
        "\n",
        "    @property\n",
        "    def last_block(self):\n",
        "        return self.chain[-1]\n",
        "\n",
        "    def add_block(self, block, proof):\n",
        "\n",
        "        previous_hash = self.last_block.hash\n",
        "\n",
        "        if previous_hash != block.previous_hash:\n",
        "            return False\n",
        "\n",
        "        if not Blockchain.is_valid_proof(block, proof):\n",
        "            return False\n",
        "\n",
        "        block.hash = proof\n",
        "        self.chain.append(block)\n",
        "        return True\n",
        "\n",
        "    @staticmethod\n",
        "    def proof_of_work(block):\n",
        "\n",
        "        block.nonce = 0\n",
        "\n",
        "        computed_hash = block.compute_hash()\n",
        "        while not computed_hash.startswith('0' * Blockchain.difficulty):\n",
        "            block.nonce += 1\n",
        "            computed_hash = block.compute_hash()\n",
        "\n",
        "        return computed_hash\n",
        "\n",
        "    def add_new_transaction(self, transaction):\n",
        "        self.unconfirmed_transactions.append(transaction)\n",
        "\n",
        "    @classmethod\n",
        "    def is_valid_proof(cls, block, block_hash):\n",
        "\n",
        "        return (block_hash.startswith('0' * Blockchain.difficulty) and\n",
        "                block_hash == block.compute_hash())\n",
        "\n",
        "    @classmethod\n",
        "    def check_chain_validity(cls, chain):\n",
        "        result = True\n",
        "        previous_hash = \"0\"\n",
        "\n",
        "        for block in chain:\n",
        "            block_hash = block.hash\n",
        "            \n",
        "            delattr(block, \"hash\")\n",
        "\n",
        "            if not cls.is_valid_proof(block, block_hash) or \\\n",
        "                    previous_hash != block.previous_hash:\n",
        "                result = False\n",
        "                break\n",
        "\n",
        "            block.hash, previous_hash = block_hash, block_hash\n",
        "\n",
        "        return result\n",
        "\n",
        "    def mine(self):\n",
        "\n",
        "        if not self.unconfirmed_transactions:\n",
        "            return False\n",
        "\n",
        "        last_block = self.last_block\n",
        "\n",
        "        new_block = Block(index=last_block.index + 1,\n",
        "                          transactions=self.unconfirmed_transactions,\n",
        "                          timestamp=time.time(),\n",
        "                          previous_hash=last_block.hash)\n",
        "\n",
        "        proof = self.proof_of_work(new_block)\n",
        "        self.add_block(new_block, proof)\n",
        "\n",
        "        self.unconfirmed_transactions = []\n",
        "\n",
        "        return True\n"
      ]
    },
    {
      "cell_type": "code",
      "execution_count": null,
      "metadata": {
        "id": "bra9H7cbVUxu"
      },
      "outputs": [],
      "source": [
        "def BlockchainRSA():\n",
        "  transactions = transactionsRSA\n",
        "  last_block_hash = None\n",
        "  last_transaction_index = 0\n",
        "  block = Block(last_transaction_index, [], 67, None)\n",
        "  for i in range(3):\n",
        "    temp_transaction = transactions[i]\n",
        "    # validate transaction\n",
        "    # if valid\n",
        "    block.verified_transactions.append (temp_transaction)\n",
        "    last_transaction_index += 1\n",
        "\n",
        "  block.previous_block_hash = last_block_hash\n",
        "  block.Nonce = mine (block, 2)\n",
        "  digest = hash (block)\n",
        "  NITWCoins.append (block)\n",
        "  last_block_hash = digest\n",
        "\n",
        "  # Miner 2 adds a block\n",
        "  block = Block(last_transaction_index, [], 69, None)\n",
        "\n",
        "  for i in range(3):\n",
        "    temp_transaction = transactions[last_transaction_index]\n",
        "    # validate transaction\n",
        "    # if valid\n",
        "    block.verified_transactions.append (temp_transaction)\n",
        "    last_transaction_index += 1\n",
        "  block.previous_block_hash = last_block_hash\n",
        "  block.Nonce = mine (block, 2)\n",
        "  digest = hash (block)\n",
        "  NITWCoins.append (block)\n",
        "  last_block_hash = digest\n",
        "  # Miner 3 adds a block\n",
        "\n",
        "\n",
        "  block = Block(last_transaction_index, [], 69, None)\n",
        "\n",
        "  for i in range(3):\n",
        "    temp_transaction = transactions[last_transaction_index]\n",
        "    #display_transaction (temp_transaction)\n",
        "    # validate transaction\n",
        "    # if valid\n",
        "    block.verified_transactions.append (temp_transaction)\n",
        "    last_transaction_index += 1\n",
        "\n",
        "  block.previous_block_hash = last_block_hash\n",
        "  block.Nonce = mine (block, 2)\n",
        "  digest = hash (block)\n",
        "\n",
        "  NITWCoins.append (block)\n",
        "  last_block_hash = digest"
      ]
    },
    {
      "cell_type": "code",
      "execution_count": null,
      "metadata": {
        "id": "JM4UDw_tVSyW"
      },
      "outputs": [],
      "source": [
        "def BlockchainEDCSA():\n",
        "  transactions = transactionsEDCSA\n",
        "  last_block_hash = None\n",
        "  last_transaction_index = 0\n",
        "  block = Block(last_transaction_index, [], 67, None)\n",
        "  for i in range(3):\n",
        "    temp_transaction = transactions[i]\n",
        "    # validate transaction\n",
        "    # if valid\n",
        "    block.verified_transactions.append (temp_transaction)\n",
        "    last_transaction_index += 1\n",
        "\n",
        "  block.previous_block_hash = last_block_hash\n",
        "  block.Nonce = mine (block, 2)\n",
        "  digest = hash (block)\n",
        "  NITWCoins.append (block)\n",
        "  last_block_hash = digest\n",
        "\n",
        "  # Miner 2 adds a block\n",
        "  block = Block(last_transaction_index, [], 69, None)\n",
        "\n",
        "  for i in range(3):\n",
        "    temp_transaction = transactions[last_transaction_index]\n",
        "    # validate transaction\n",
        "    # if valid\n",
        "    block.verified_transactions.append (temp_transaction)\n",
        "    last_transaction_index += 1\n",
        "  block.previous_block_hash = last_block_hash\n",
        "  block.Nonce = mine (block, 2)\n",
        "  digest = hash (block)\n",
        "  NITWCoins.append (block)\n",
        "  last_block_hash = digest\n",
        "  # Miner 3 adds a block\n",
        "\n",
        "\n",
        "  block = Block(last_transaction_index, [], 69, None)\n",
        "\n",
        "  for i in range(3):\n",
        "    temp_transaction = transactions[last_transaction_index]\n",
        "    #display_transaction (temp_transaction)\n",
        "    # validate transaction\n",
        "    # if valid\n",
        "    block.verified_transactions.append (temp_transaction)\n",
        "    last_transaction_index += 1\n",
        "\n",
        "  block.previous_block_hash = last_block_hash\n",
        "  block.Nonce = mine (block, 2)\n",
        "  digest = hash (block)\n",
        "\n",
        "  NITWCoins.append (block)\n",
        "  last_block_hash = digest"
      ]
    },
    {
      "cell_type": "code",
      "execution_count": null,
      "metadata": {
        "id": "XcQrxZ2CZFcD"
      },
      "outputs": [],
      "source": [
        "def BlockchainNTRU():\n",
        "  transactions = transactionsNTRU\n",
        "  last_block_hash = None\n",
        "  last_transaction_index = 0\n",
        "  block = Block(last_transaction_index, [], 67, None)\n",
        "  for i in range(3):\n",
        "    temp_transaction = transactions[i]\n",
        "    # validate transaction\n",
        "    # if valid\n",
        "    block.verified_transactions.append (temp_transaction)\n",
        "    last_transaction_index += 1\n",
        "\n",
        "  block.previous_block_hash = last_block_hash\n",
        "  block.Nonce = mine (block, 2)\n",
        "  digest = hash (block)\n",
        "  NITWCoins.append (block)\n",
        "  last_block_hash = digest\n",
        "\n",
        "  # Miner 2 adds a block\n",
        "  block = Block(last_transaction_index, [], 69, None)\n",
        "\n",
        "  for i in range(3):\n",
        "    temp_transaction = transactions[last_transaction_index]\n",
        "    # validate transaction\n",
        "    # if valid\n",
        "    block.verified_transactions.append (temp_transaction)\n",
        "    last_transaction_index += 1\n",
        "  block.previous_block_hash = last_block_hash\n",
        "  block.Nonce = mine (block, 2)\n",
        "  digest = hash (block)\n",
        "  NITWCoins.append (block)\n",
        "  last_block_hash = digest\n",
        "  # Miner 3 adds a block\n",
        "\n",
        "\n",
        "  block = Block(last_transaction_index, [], 69, None)\n",
        "\n",
        "  for i in range(3):\n",
        "    temp_transaction = transactions[last_transaction_index]\n",
        "    #display_transaction (temp_transaction)\n",
        "    # validate transaction\n",
        "    # if valid\n",
        "    block.verified_transactions.append (temp_transaction)\n",
        "    last_transaction_index += 1\n",
        "\n",
        "  block.previous_block_hash = last_block_hash\n",
        "  block.Nonce = mine (block, 2)\n",
        "  digest = hash (block)\n",
        "\n",
        "  NITWCoins.append (block)\n",
        "  last_block_hash = digest"
      ]
    },
    {
      "cell_type": "code",
      "execution_count": null,
      "metadata": {
        "id": "GGMD8TicV0ti"
      },
      "outputs": [],
      "source": [
        "print(\"RSA\")\n",
        "%timeit BlockchainRSA()\n",
        "\n",
        "print(\"EDCSA\")\n",
        "%timeit BlockchainEDCSA()\n",
        "\n",
        "print(\"NTRU\")\n",
        "%timeit BlockchainNTRU()\n"
      ]
    },
    {
      "cell_type": "code",
      "execution_count": null,
      "metadata": {
        "id": "cUWBcxRxZIfY"
      },
      "outputs": [],
      "source": [
        "dump_blockchain(NITWCoins)"
      ]
    }
  ],
  "metadata": {
    "colab": {
      "collapsed_sections": [],
      "name": "Azad_Final_Project_Implementation.ipynb",
      "provenance": [],
      "toc_visible": true,
      "include_colab_link": true
    },
    "kernelspec": {
      "display_name": "Python 3",
      "name": "python3"
    },
    "language_info": {
      "name": "python"
    }
  },
  "nbformat": 4,
  "nbformat_minor": 0
}